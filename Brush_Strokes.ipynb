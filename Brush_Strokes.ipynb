{
 "cells": [
  {
   "cell_type": "code",
   "execution_count": 1,
   "metadata": {},
   "outputs": [],
   "source": [
    "import numpy as np\n",
    "import tensorflow as tf\n",
    "import os\n",
    "\n",
    "from tensorflow.keras.datasets import mnist\n",
    "from tensorflow.keras import layers, models\n",
    "from matplotlib import pyplot as plt"
   ]
  },
  {
   "cell_type": "code",
   "execution_count": 2,
   "metadata": {},
   "outputs": [
    {
     "name": "stdout",
     "output_type": "stream",
     "text": [
      "Train: X=(60000, 28, 28), y=(60000,)\n",
      "Test: X=(10000, 28, 28), y=(10000,)\n"
     ]
    }
   ],
   "source": [
    "# load dataset\n",
    "(train_images, train_labels), (test_images, test_labels) = mnist.load_data()\n",
    "# summarize loaded dataset\n",
    "print('Train: X=%s, y=%s' % (train_images.shape, train_labels.shape))\n",
    "print('Test: X=%s, y=%s' % (test_images.shape, test_labels.shape))"
   ]
  },
  {
   "cell_type": "code",
   "execution_count": 3,
   "metadata": {},
   "outputs": [
    {
     "name": "stdout",
     "output_type": "stream",
     "text": [
      "5\n"
     ]
    },
    {
     "data": {
      "image/png": "[encoded data removed]",
      "text/plain": [
       "<Figure size 640x480 with 1 Axes>"
      ]
     },
     "metadata": {},
     "output_type": "display_data"
    }
   ],
   "source": [
    "# plot first few images\n",
    "for i in range(1):\n",
    "    # define subplot\n",
    "    plt.subplot(330 + 1 + i)\n",
    "    # plot raw pixel data\n",
    "    plt.imshow(train_images[i], cmap=plt.get_cmap('gray'))\n",
    "    print(train_labels[i])\n",
    "# show the figure\n",
    "plt.show()"
   ]
  },
  {
   "cell_type": "code",
   "execution_count": 4,
   "metadata": {},
   "outputs": [
    {
     "data": {
      "text/plain": [
       "(28, 28)"
      ]
     },
     "execution_count": 4,
     "metadata": {},
     "output_type": "execute_result"
    }
   ],
   "source": [
    "train_images[0].shape"
   ]
  },
  {
   "cell_type": "code",
   "execution_count": 5,
   "metadata": {},
   "outputs": [],
   "source": [
    "# Normalize pixel values to be between 0 and 1\n",
    "train_images, test_images = train_images / 255.0, test_images / 255.0"
   ]
  },
  {
   "cell_type": "markdown",
   "metadata": {},
   "source": [
    "### Angel Test Model"
   ]
  },
  {
   "cell_type": "code",
   "execution_count": 6,
   "metadata": {},
   "outputs": [],
   "source": [
    "angel_model = models.Sequential()\n",
    "angel_model.add(layers.Conv2D(32, (3, 3), activation='relu', input_shape=(28, 28, 1)))\n",
    "angel_model.add(layers.Conv2D(64, (3, 3), activation='relu'))\n",
    "angel_model.add(layers.AveragePooling2D((2, 2)))\n",
    "angel_model.add(layers.Conv2D(64, (3, 3), activation='relu'))\n",
    "angel_model.add(layers.Flatten())\n",
    "angel_model.add(layers.Dense(64, activation='relu'))\n",
    "angel_model.add(layers.Dense(10))"
   ]
  },
  {
   "cell_type": "code",
   "execution_count": 7,
   "metadata": {},
   "outputs": [
    {
     "name": "stdout",
     "output_type": "stream",
     "text": [
      "Model: \"sequential\"\n",
      "_________________________________________________________________\n",
      " Layer (type)                Output Shape              Param #   \n",
      "=================================================================\n",
      " conv2d (Conv2D)             (None, 26, 26, 32)        320       \n",
      "                                                                 \n",
      " conv2d_1 (Conv2D)           (None, 24, 24, 64)        18496     \n",
      "                                                                 \n",
      " average_pooling2d (AverageP  (None, 12, 12, 64)       0         \n",
      " ooling2D)                                                       \n",
      "                                                                 \n",
      " conv2d_2 (Conv2D)           (None, 10, 10, 64)        36928     \n",
      "                                                                 \n",
      " flatten (Flatten)           (None, 6400)              0         \n",
      "                                                                 \n",
      " dense (Dense)               (None, 64)                409664    \n",
      "                                                                 \n",
      " dense_1 (Dense)             (None, 10)                650       \n",
      "                                                                 \n",
      "=================================================================\n",
      "Total params: 466,058\n",
      "Trainable params: 466,058\n",
      "Non-trainable params: 0\n",
      "_________________________________________________________________\n"
     ]
    }
   ],
   "source": [
    "angel_model.summary()"
   ]
  },
  {
   "cell_type": "code",
   "execution_count": 8,
   "metadata": {},
   "outputs": [
    {
     "name": "stdout",
     "output_type": "stream",
     "text": [
      "Epoch 1/15\n",
      "1875/1875 [==============================] - 20s 5ms/step - loss: 0.1189 - accuracy: 0.9641 - val_loss: 0.0459 - val_accuracy: 0.9842\n",
      "Epoch 2/15\n",
      "1875/1875 [==============================] - 9s 5ms/step - loss: 0.0402 - accuracy: 0.9879 - val_loss: 0.0389 - val_accuracy: 0.9875\n",
      "Epoch 3/15\n",
      "1875/1875 [==============================] - 9s 5ms/step - loss: 0.0269 - accuracy: 0.9914 - val_loss: 0.0355 - val_accuracy: 0.9888\n",
      "Epoch 4/15\n",
      "1875/1875 [==============================] - 9s 5ms/step - loss: 0.0186 - accuracy: 0.9942 - val_loss: 0.0293 - val_accuracy: 0.9904\n",
      "Epoch 5/15\n",
      "1875/1875 [==============================] - 9s 5ms/step - loss: 0.0146 - accuracy: 0.9952 - val_loss: 0.0472 - val_accuracy: 0.9878\n",
      "Epoch 6/15\n",
      "1875/1875 [==============================] - 10s 5ms/step - loss: 0.0122 - accuracy: 0.9960 - val_loss: 0.0324 - val_accuracy: 0.9909\n",
      "Epoch 7/15\n",
      "1875/1875 [==============================] - 9s 5ms/step - loss: 0.0079 - accuracy: 0.9974 - val_loss: 0.0319 - val_accuracy: 0.9908\n"
     ]
    }
   ],
   "source": [
    "angel_model.compile(optimizer='adam',\n",
    "              loss=tf.keras.losses.SparseCategoricalCrossentropy(from_logits=True),\n",
    "              metrics=['accuracy'])\n",
    "\n",
    "callback = tf.keras.callbacks.EarlyStopping(monitor='val_loss', patience=3)\n",
    "\n",
    "angel_history = angel_model.fit(train_images, train_labels, batch_size=32, epochs=15,\n",
    "                    callbacks=callback, validation_data=(test_images, test_labels))"
   ]
  },
  {
   "cell_type": "markdown",
   "metadata": {},
   "source": [
    "#### Evaluate Angel's Model"
   ]
  },
  {
   "cell_type": "code",
   "execution_count": 10,
   "metadata": {},
   "outputs": [
    {
     "name": "stdout",
     "output_type": "stream",
     "text": [
      "313/313 - 1s - loss: 0.0319 - accuracy: 0.9908 - 1s/epoch - 4ms/step\n"
     ]
    },
    {
     "data": {
      "image/png": "[encoded data removed]",
      "text/plain": [
       "<Figure size 640x480 with 1 Axes>"
      ]
     },
     "metadata": {},
     "output_type": "display_data"
    }
   ],
   "source": [
    "plt.plot(angel_history.history['accuracy'], label='accuracy')\n",
    "plt.plot(angel_history.history['val_accuracy'], label = 'val_accuracy')\n",
    "plt.xlabel('Epoch')\n",
    "plt.ylabel('Accuracy')\n",
    "plt.ylim([0.96, 1])\n",
    "plt.legend(loc='lower right')\n",
    "\n",
    "test_loss, test_acc = angel_model.evaluate(test_images,  test_labels, verbose=2)"
   ]
  },
  {
   "cell_type": "code",
   "execution_count": 9,
   "metadata": {},
   "outputs": [
    {
     "name": "stdout",
     "output_type": "stream",
     "text": [
      "INFO:tensorflow:Assets written to: angel_model\\assets\n"
     ]
    }
   ],
   "source": [
    "# Save model\n",
    "angel_model.save('angel_model')"
   ]
  },
  {
   "cell_type": "markdown",
   "metadata": {},
   "source": [
    "### John Test Model"
   ]
  },
  {
   "cell_type": "code",
   "execution_count": null,
   "metadata": {},
   "outputs": [],
   "source": [
    "john_model = models.Sequential()\n",
    "john_model.add(layers.Conv2D(32, (3, 3), activation='relu', input_shape=(28, 28, 1)))\n",
    "john_model.add(layers.AveragePooling2D((2, 2)))\n",
    "john_model.add(layers.Conv2D(64, (3, 3), activation='relu'))\n",
    "john_model.add(layers.AveragePooling2D((2, 2)))\n",
    "john_model.add(layers.Flatten())\n",
    "john_model.add(layers.Dense(64, activation='relu'))\n",
    "john_model.add(layers.Dense(10))"
   ]
  },
  {
   "cell_type": "code",
   "execution_count": null,
   "metadata": {},
   "outputs": [],
   "source": [
    "john_model.summary()"
   ]
  },
  {
   "cell_type": "code",
   "execution_count": null,
   "metadata": {},
   "outputs": [],
   "source": [
    "john_model.compile(optimizer='adam',\n",
    "              loss=tf.keras.losses.SparseCategoricalCrossentropy(from_logits=True),\n",
    "              metrics=['accuracy'])\n",
    "\n",
    "callback = tf.keras.callbacks.EarlyStopping(monitor='val_loss', patience=3)\n",
    "\n",
    "john_history = john_model.fit(train_images, train_labels, batch_size=32, epochs=15,\n",
    "                    callbacks=callback, validation_data=(test_images, test_labels))"
   ]
  },
  {
   "cell_type": "markdown",
   "metadata": {},
   "source": [
    "#### Evaluate John's Model"
   ]
  },
  {
   "cell_type": "code",
   "execution_count": null,
   "metadata": {},
   "outputs": [],
   "source": [
    "plt.plot(john_history.history['accuracy'], label='accuracy')\n",
    "plt.plot(john_history.history['val_accuracy'], label = 'val_accuracy')\n",
    "plt.xlabel('Epoch')\n",
    "plt.ylabel('Accuracy')\n",
    "plt.ylim([0.96, 1])\n",
    "plt.legend(loc='lower right')\n",
    "\n",
    "test_loss, test_acc = john_model.evaluate(test_images,  test_labels, verbose=2)"
   ]
  },
  {
   "cell_type": "code",
   "execution_count": null,
   "metadata": {},
   "outputs": [],
   "source": [
    "john_model.save('john_model')"
   ]
  },
  {
   "cell_type": "markdown",
   "metadata": {},
   "source": [
    "### Justin Test Model"
   ]
  },
  {
   "cell_type": "code",
   "execution_count": null,
   "metadata": {},
   "outputs": [],
   "source": [
    "justin_model = models.Sequential()\n",
    "justin_model.add(layers.Conv2D(32, (3, 3), activation='relu', input_shape=(28, 28, 1)))\n",
    "justin_model.add(layers.Dropout(0.2))\n",
    "justin_model.add(layers.Conv2D(64, (3, 3), activation='relu'))\n",
    "justin_model.add(layers.AveragePooling2D((2, 2)))\n",
    "justin_model.add(layers.Flatten())\n",
    "justin_model.add(layers.Dense(64, activation='relu'))\n",
    "justin_model.add(layers.Dense(10))"
   ]
  },
  {
   "cell_type": "code",
   "execution_count": null,
   "metadata": {},
   "outputs": [],
   "source": [
    "justin_model.summary()"
   ]
  },
  {
   "cell_type": "code",
   "execution_count": null,
   "metadata": {},
   "outputs": [],
   "source": [
    "justin_model.compile(optimizer='adam',\n",
    "              loss=tf.keras.losses.SparseCategoricalCrossentropy(from_logits=True),\n",
    "              metrics=['accuracy'])\n",
    "\n",
    "callback = tf.keras.callbacks.EarlyStopping(monitor='val_loss', patience=3)\n",
    "\n",
    "justin_history = justin_model.fit(train_images, train_labels, batch_size=32, epochs=15,\n",
    "                    callbacks=callback, validation_data=(test_images, test_labels))"
   ]
  },
  {
   "cell_type": "code",
   "execution_count": null,
   "metadata": {},
   "outputs": [],
   "source": [
    "plt.plot(justin_history.history['accuracy'], label='accuracy')\n",
    "plt.plot(justin_history.history['val_accuracy'], label = 'val_accuracy')\n",
    "plt.xlabel('Epoch')\n",
    "plt.ylabel('Accuracy')\n",
    "plt.ylim([0.96, 1])\n",
    "plt.legend(loc='lower right')\n",
    "\n",
    "test_loss, test_acc = justin_model.evaluate(test_images,  test_labels, verbose=2)"
   ]
  },
  {
   "cell_type": "code",
   "execution_count": null,
   "metadata": {},
   "outputs": [],
   "source": [
    "justin_model.save('justin_model')"
   ]
  },
  {
   "cell_type": "markdown",
   "metadata": {},
   "source": [
    "### Load Models\n",
    "\n",
    "Here we load models into single ensemble model as list of tuples"
   ]
  },
  {
   "cell_type": "code",
   "execution_count": null,
   "metadata": {},
   "outputs": [],
   "source": [
    "import random\n",
    "import os"
   ]
  },
  {
   "cell_type": "code",
   "execution_count": null,
   "metadata": {},
   "outputs": [],
   "source": [
    "model_names = ['angel_model', 'john_model', 'justin_model']\n",
    "trained_models = {}\n",
    "\n",
    "for name in model_names:\n",
    "    if os.path.isdir(name):\n",
    "        trained_models[name] = models.load_model(name)\n",
    "    else:\n",
    "        print(f\"Invalid model name {name}\")\n"
   ]
  },
  {
   "cell_type": "code",
   "execution_count": null,
   "metadata": {},
   "outputs": [],
   "source": [
    "runs = 5\n",
    "for _ in range(runs):\n",
    "\n",
    "    random_index = random.randint(0, len(test_images) -1)\n",
    "    random_image = test_images[random_index]\n",
    "    image_label = test_labels[random_index]\n",
    "    model_predictions = [None] * len(trained_models.keys())\n",
    "    ensemble_predictions = {}\n",
    "\n",
    "    # Use each individual model to predict\n",
    "    for i, (name, model) in enumerate(trained_models.items()):\n",
    "        model_predictions[i] = np.argmax(model.predict(tf.reshape(random_image, shape=[1, 28, 28, 1])))\n",
    "\n",
    "    # Vote on final output\n",
    "    for pred in model_predictions:\n",
    "        if pred in ensemble_predictions.keys():\n",
    "            ensemble_predictions[pred] += 1\n",
    "        else:\n",
    "            ensemble_predictions[pred] = 1\n",
    "    \n",
    "    print(f'True label:\\t\\t{image_label}')\n",
    "\n",
    "    # All models agree\n",
    "    if len(ensemble_predictions) == 1:\n",
    "        print(f'Ensemble pred. label:\\t{list(ensemble_predictions.keys())[0]}')\n",
    "    \n",
    "    # 1 model disagrees\n",
    "    elif len(ensemble_predictions) == 2:\n",
    "        print(f'Ensemble pred. label:\\t{max(ensemble_predictions, key=ensemble_predictions.get)}')\n",
    "\n",
    "    # all models disagree\n",
    "    # need to return model with best track record\n",
    "    else:\n",
    "        random_pick = random.choice(list(ensemble_predictions.keys()))\n",
    "        print(f'Ensemble pred. label:\\t{random_pick}')\n"
   ]
  },
  {
   "cell_type": "markdown",
   "metadata": {},
   "source": [
    "## Creating KKanji Datasets (Midterm)"
   ]
  },
  {
   "cell_type": "markdown",
   "metadata": {},
   "source": [
    "#### Load datasets into training and validation sets"
   ]
  },
  {
   "cell_type": "code",
   "execution_count": 27,
   "metadata": {},
   "outputs": [
    {
     "name": "stdout",
     "output_type": "stream",
     "text": [
      "Found 40857 files belonging to 50 classes.\n",
      "Using 28600 files for training.\n"
     ]
    }
   ],
   "source": [
    "new_kkanji_midterm_dataset_train = tf.keras.utils.image_dataset_from_directory(\n",
    "                                        './midterm_dataset/',\n",
    "                                        validation_split=0.3,\n",
    "                                        subset=\"training\",\n",
    "                                        seed=132,\n",
    "                                        image_size=(64, 64),\n",
    "                                        batch_size=32)"
   ]
  },
  {
   "cell_type": "code",
   "execution_count": 28,
   "metadata": {},
   "outputs": [
    {
     "name": "stdout",
     "output_type": "stream",
     "text": [
      "Found 40857 files belonging to 50 classes.\n",
      "Using 12257 files for validation.\n"
     ]
    }
   ],
   "source": [
    "new_kkanji_midterm_dataset_val = tf.keras.utils.image_dataset_from_directory(\n",
    "                                        './midterm_dataset/',\n",
    "                                        validation_split=0.3,\n",
    "                                        subset=\"validation\",\n",
    "                                        seed=132,\n",
    "                                        image_size=(64, 64),\n",
    "                                        batch_size=32)"
   ]
  },
  {
   "cell_type": "code",
   "execution_count": null,
   "metadata": {},
   "outputs": [],
   "source": [
    "import matplotlib.pyplot as plt\n",
    "\n",
    "class_names = new_kkanji_midterm_dataset_train.class_names\n",
    "\n",
    "plt.figure(figsize=(10, 10))\n",
    "for images, labels in new_kkanji_midterm_dataset_train.take(1):\n",
    "  for i in range(9):\n",
    "    ax = plt.subplot(3, 3, i + 1)\n",
    "    plt.imshow(images[i].numpy().astype(\"uint8\"))\n",
    "    plt.title(class_names[labels[i]])\n",
    "    plt.axis(\"off\")"
   ]
  },
  {
   "cell_type": "code",
   "execution_count": null,
   "metadata": {},
   "outputs": [],
   "source": [
    "for image_batch, labels_batch in new_kkanji_midterm_dataset_train:\n",
    "  print(image_batch.shape)\n",
    "  print(labels_batch.shape)\n",
    "  break"
   ]
  },
  {
   "cell_type": "markdown",
   "metadata": {},
   "source": [
    "#### Data rescaling "
   ]
  },
  {
   "cell_type": "code",
   "execution_count": 29,
   "metadata": {},
   "outputs": [],
   "source": [
    "normalization_layer = tf.keras.layers.Rescaling(1./255)"
   ]
  },
  {
   "cell_type": "code",
   "execution_count": 30,
   "metadata": {},
   "outputs": [
    {
     "name": "stdout",
     "output_type": "stream",
     "text": [
      "0.0 1.0\n"
     ]
    }
   ],
   "source": [
    "normalized_ds = new_kkanji_midterm_dataset_train.map(lambda x, y: (normalization_layer(x), y))\n",
    "image_batch, labels_batch = next(iter(normalized_ds))\n",
    "first_image = image_batch[0]\n",
    "# Notice the pixel values are now in `[0,1]`.\n",
    "print(np.min(first_image), np.max(first_image))"
   ]
  },
  {
   "cell_type": "markdown",
   "metadata": {},
   "source": [
    "#### Training Performance Optimizations"
   ]
  },
  {
   "cell_type": "code",
   "execution_count": 31,
   "metadata": {},
   "outputs": [],
   "source": [
    "AUTOTUNE = tf.data.AUTOTUNE\n",
    "\n",
    "train_ds = new_kkanji_midterm_dataset_train.cache().prefetch(buffer_size=AUTOTUNE)\n",
    "val_ds = new_kkanji_midterm_dataset_train.cache().prefetch(buffer_size=AUTOTUNE)"
   ]
  },
  {
   "cell_type": "markdown",
   "metadata": {},
   "source": [
    "#### NOTE the change in input/output dimensions from the MNIST dataset"
   ]
  },
  {
   "cell_type": "code",
   "execution_count": 36,
   "metadata": {},
   "outputs": [],
   "source": [
    "angel_new_model = models.Sequential()\n",
    "angel_new_model.add(layers.Conv2D(32, (3, 3), activation='relu', input_shape=(64, 64, 3)))\n",
    "angel_new_model.add(layers.Conv2D(64, (3, 3), activation='relu'))\n",
    "angel_new_model.add(layers.AveragePooling2D((2, 2)))\n",
    "angel_new_model.add(layers.Conv2D(64, (3, 3), activation='relu'))\n",
    "angel_new_model.add(layers.Flatten())\n",
    "angel_new_model.add(layers.Dense(64, activation='relu'))\n",
    "angel_new_model.add(layers.Dense(50))"
   ]
  },
  {
   "cell_type": "code",
   "execution_count": 37,
   "metadata": {},
   "outputs": [
    {
     "name": "stdout",
     "output_type": "stream",
     "text": [
      "Model: \"sequential_2\"\n",
      "_________________________________________________________________\n",
      " Layer (type)                Output Shape              Param #   \n",
      "=================================================================\n",
      " conv2d_6 (Conv2D)           (None, 62, 62, 32)        896       \n",
      "                                                                 \n",
      " conv2d_7 (Conv2D)           (None, 60, 60, 64)        18496     \n",
      "                                                                 \n",
      " average_pooling2d_2 (Averag  (None, 30, 30, 64)       0         \n",
      " ePooling2D)                                                     \n",
      "                                                                 \n",
      " conv2d_8 (Conv2D)           (None, 28, 28, 64)        36928     \n",
      "                                                                 \n",
      " flatten_2 (Flatten)         (None, 50176)             0         \n",
      "                                                                 \n",
      " dense_4 (Dense)             (None, 64)                3211328   \n",
      "                                                                 \n",
      " dense_5 (Dense)             (None, 50)                3250      \n",
      "                                                                 \n",
      "=================================================================\n",
      "Total params: 3,270,898\n",
      "Trainable params: 3,270,898\n",
      "Non-trainable params: 0\n",
      "_________________________________________________________________\n"
     ]
    }
   ],
   "source": [
    "angel_new_model.summary()"
   ]
  },
  {
   "cell_type": "code",
   "execution_count": 38,
   "metadata": {},
   "outputs": [
    {
     "name": "stdout",
     "output_type": "stream",
     "text": [
      "Epoch 1/15\n",
      "894/894 [==============================] - 22s 24ms/step - loss: 1.4103 - accuracy: 0.7534 - val_loss: 0.3912 - val_accuracy: 0.9012\n",
      "Epoch 2/15\n",
      "894/894 [==============================] - 22s 24ms/step - loss: 0.2185 - accuracy: 0.9428 - val_loss: 0.3459 - val_accuracy: 0.9163\n",
      "Epoch 3/15\n",
      "894/894 [==============================] - 22s 24ms/step - loss: 0.0998 - accuracy: 0.9695 - val_loss: 0.4069 - val_accuracy: 0.9062\n",
      "Epoch 4/15\n",
      "894/894 [==============================] - 22s 24ms/step - loss: 0.0766 - accuracy: 0.9751 - val_loss: 0.4247 - val_accuracy: 0.9088\n",
      "Epoch 5/15\n",
      "894/894 [==============================] - 22s 24ms/step - loss: 0.0581 - accuracy: 0.9813 - val_loss: 0.4683 - val_accuracy: 0.9145\n"
     ]
    }
   ],
   "source": [
    "angel_new_model.compile(optimizer='adam',\n",
    "              loss=tf.keras.losses.SparseCategoricalCrossentropy(from_logits=True),\n",
    "              metrics=['accuracy'])\n",
    "\n",
    "callback = tf.keras.callbacks.EarlyStopping(monitor='val_loss', patience=3)\n",
    "\n",
    "angel_history = angel_new_model.fit(new_kkanji_midterm_dataset_train, epochs=15,\n",
    "                    callbacks=callback, validation_data=new_kkanji_midterm_dataset_val)"
   ]
  },
  {
   "cell_type": "code",
   "execution_count": 39,
   "metadata": {},
   "outputs": [
    {
     "name": "stdout",
     "output_type": "stream",
     "text": [
      "384/384 - 4s - loss: 0.4683 - accuracy: 0.9145 - 4s/epoch - 11ms/step\n"
     ]
    },
    {
     "data": {
      "image/png": "[encoded data removed]",
      "text/plain": [
       "<Figure size 640x480 with 1 Axes>"
      ]
     },
     "metadata": {},
     "output_type": "display_data"
    }
   ],
   "source": [
    "plt.plot(angel_history.history['accuracy'], label='accuracy')\n",
    "plt.plot(angel_history.history['val_accuracy'], label = 'val_accuracy')\n",
    "plt.xlabel('Epoch')\n",
    "plt.ylabel('Accuracy')\n",
    "plt.ylim([0.75, 1])\n",
    "plt.legend(loc='lower right')\n",
    "\n",
    "test_loss, test_acc = angel_new_model.evaluate(new_kkanji_midterm_dataset_val, verbose=2)"
   ]
  },
  {
   "cell_type": "code",
   "execution_count": null,
   "metadata": {},
   "outputs": [],
   "source": [
    "angel_new_model.save('ange_kanji_model')"
   ]
  },
  {
   "cell_type": "markdown",
   "metadata": {},
   "source": [
    "#### John Test Kanji Model"
   ]
  },
  {
   "cell_type": "code",
   "execution_count": null,
   "metadata": {},
   "outputs": [],
   "source": [
    "john_kanji_model = models.Sequential()\n",
    "john_kanji_model.add(layers.Conv2D(32, (3, 3), activation='relu', input_shape=(64, 64, 3)))\n",
    "john_kanji_model.add(layers.AveragePooling2D((2, 2)))\n",
    "john_kanji_model.add(layers.Conv2D(64, (3, 3), activation='relu'))\n",
    "john_kanji_model.add(layers.AveragePooling2D((2, 2)))\n",
    "john_kanji_model.add(layers.Flatten())\n",
    "john_kanji_model.add(layers.Dense(64, activation='relu'))\n",
    "john_kanji_model.add(layers.Dense(50))\n",
    "\n",
    "john_kanji_model.compile(optimizer='adam',\n",
    "              loss=tf.keras.losses.SparseCategoricalCrossentropy(from_logits=True),\n",
    "              metrics=['accuracy'])\n",
    "\n",
    "callback = tf.keras.callbacks.EarlyStopping(monitor='val_loss', patience=3)\n",
    "\n",
    "justin_history = john_kanji_model.fit(new_kkanji_midterm_dataset_train, epochs=15,\n",
    "                    callbacks=callback, validation_data=new_kkanji_midterm_dataset_val)\n",
    "\n",
    "john_kanji_model.save('john_kanji_model')"
   ]
  },
  {
   "cell_type": "markdown",
   "metadata": {},
   "source": [
    "#### Justin Test Kanji Model"
   ]
  },
  {
   "cell_type": "code",
   "execution_count": null,
   "metadata": {},
   "outputs": [],
   "source": [
    "justin_kanji_model = models.Sequential()\n",
    "justin_kanji_model.add(layers.Conv2D(32, (3, 3), activation='relu', input_shape=(64, 64, 3)))\n",
    "justin_kanji_model.add(layers.Dropout(0.2))\n",
    "justin_kanji_model.add(layers.Conv2D(64, (3, 3), activation='relu'))\n",
    "justin_kanji_model.add(layers.AveragePooling2D((2, 2)))\n",
    "justin_kanji_model.add(layers.Flatten())\n",
    "justin_kanji_model.add(layers.Dense(64, activation='relu'))\n",
    "justin_kanji_model.add(layers.Dense(50))\n",
    "\n",
    "justin_kanji_model.compile(optimizer='adam',\n",
    "              loss=tf.keras.losses.SparseCategoricalCrossentropy(from_logits=True),\n",
    "              metrics=['accuracy'])\n",
    "\n",
    "callback = tf.keras.callbacks.EarlyStopping(monitor='val_loss', patience=3)\n",
    "\n",
    "justin_history = justin_kanji_model.fit(new_kkanji_midterm_dataset_train, epochs=15,\n",
    "                    callbacks=callback, validation_data=new_kkanji_midterm_dataset_val)\n",
    "\n",
    "justin_kanji_model.save('justin_kanji_model')"
   ]
  },
  {
   "cell_type": "markdown",
   "metadata": {},
   "source": [
    "## Midterm Demo"
   ]
  },
  {
   "cell_type": "markdown",
   "metadata": {},
   "source": [
    "#### Prepare Kanji Dataset"
   ]
  },
  {
   "cell_type": "code",
   "execution_count": 1,
   "metadata": {},
   "outputs": [],
   "source": [
    "import numpy as np\n",
    "import tensorflow as tf\n",
    "import os\n",
    "import random\n",
    "\n",
    "import matplotlib.pyplot as plt\n",
    "\n",
    "from tensorflow.keras import layers, models"
   ]
  },
  {
   "cell_type": "code",
   "execution_count": null,
   "metadata": {},
   "outputs": [],
   "source": [
    "new_kkanji_midterm_dataset_train = tf.keras.utils.image_dataset_from_directory(\n",
    "                                        './midterm_dataset/',\n",
    "                                        validation_split=0.3,\n",
    "                                        subset=\"training\",\n",
    "                                        seed=132,\n",
    "                                        image_size=(64, 64),\n",
    "                                        batch_size=32)"
   ]
  },
  {
   "cell_type": "code",
   "execution_count": null,
   "metadata": {},
   "outputs": [],
   "source": [
    "new_kkanji_midterm_dataset_val = tf.keras.utils.image_dataset_from_directory(\n",
    "                                        './midterm_dataset/',\n",
    "                                        validation_split=0.3,\n",
    "                                        subset=\"validation\",\n",
    "                                        seed=132,\n",
    "                                        image_size=(64, 64),\n",
    "                                        batch_size=1)"
   ]
  },
  {
   "cell_type": "code",
   "execution_count": null,
   "metadata": {},
   "outputs": [],
   "source": [
    "class_names = new_kkanji_midterm_dataset_train.class_names\n",
    "\n",
    "plt.figure(figsize=(8, 8))\n",
    "for images, labels in new_kkanji_midterm_dataset_train.take(1):\n",
    "  for i in range(9):\n",
    "    ax = plt.subplot(3, 3, i + 1)\n",
    "    plt.imshow(images[i].numpy().astype(\"uint8\"))\n",
    "    plt.title(class_names[labels[i]])\n",
    "    plt.axis(\"off\")"
   ]
  },
  {
   "cell_type": "code",
   "execution_count": null,
   "metadata": {},
   "outputs": [],
   "source": [
    "from angel_code.ensemble_classifier import EnsembleClassifier\n",
    "\n",
    "ensemble_model = EnsembleClassifier('.')"
   ]
  },
  {
   "cell_type": "code",
   "execution_count": null,
   "metadata": {},
   "outputs": [],
   "source": [
    "ensemble_model.demo(new_kkanji_midterm_dataset_val)"
   ]
  },
  {
   "cell_type": "code",
   "execution_count": null,
   "metadata": {},
   "outputs": [],
   "source": []
  }
 ],
 "metadata": {
  "kernelspec": {
   "display_name": "Python 3.9.13 ('brush_strokes')",
   "language": "python",
   "name": "python3"
  },
  "language_info": {
   "codemirror_mode": {
    "name": "ipython",
    "version": 3
   },
   "file_extension": ".py",
   "mimetype": "text/x-python",
   "name": "python",
   "nbconvert_exporter": "python",
   "pygments_lexer": "ipython3",
   "version": "3.9.13"
  },
  "orig_nbformat": 4,
  "vscode": {
   "interpreter": {
    "hash": "425c80cf2732746be3b317b687ca1852eb62c983ce48210a60c1f5072c461cc8"
   }
  }
 },
 "nbformat": 4,
 "nbformat_minor": 2
}
