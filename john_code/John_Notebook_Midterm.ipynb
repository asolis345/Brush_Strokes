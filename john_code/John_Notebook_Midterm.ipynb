{
 "cells": [
  {
   "cell_type": "code",
   "execution_count": 1,
   "metadata": {},
   "outputs": [],
   "source": [
    "import numpy as np\n",
    "import tensorflow as tf\n",
    "import os\n",
    "\n",
    "from tensorflow.keras.datasets import mnist\n",
    "from tensorflow.keras import layers, models\n",
    "from matplotlib import pyplot as plt"
   ]
  },
  {
   "cell_type": "markdown",
   "metadata": {},
   "source": [
    "# Setting up datasets"
   ]
  },
  {
   "cell_type": "code",
   "execution_count": 2,
   "metadata": {},
   "outputs": [
    {
     "data": {
      "text/plain": [
       "'\\nimport shutil\\nimport os\\n\\nnum_classes = 50  # Number of kuzushiji kanji folders to bring in.\\nfilename = \"50 kanji labeled.txt\"  # A txt file with folders labeled with their meaning.\\nfolder1 = \"full_dataset\"  # Folder where all kanji imgs and labels are.\\nfolder2 = \"midterm_dataset\"  # Folder to copy the top n classes\\n# \\'utf-8\\' is needed so Japanese can be inputted\\nwith open(filename, \\'r\\', encoding=\\'utf-8\\') as f:\\n    for i in range(num_classes):\\n        line = f.readline().split(\\',\\')\\n        foldername = line[0][:-1] # Folder name without the \\'/\\'\\n        kanji_meaning = line[3][:-1] # Removes newline character\\n        src_folder = os.path.join(folder1, foldername)\\n        dst_folder = os.path.join(folder2, kanji_meaning)\\n        shutil.copytree(src_folder, dst_folder)\\n        print(foldername, \"copied to:\", kanji_meaning)\\n'"
      ]
     },
     "execution_count": 2,
     "metadata": {},
     "output_type": "execute_result"
    }
   ],
   "source": [
    "# Easily get n-numbers of classes to use labeled correctly\n",
    "\"\"\"\n",
    "import shutil\n",
    "import os\n",
    "\n",
    "num_classes = 50  # Number of kuzushiji kanji folders to bring in.\n",
    "filename = \"50 kanji labeled.txt\"  # A txt file with folders labeled with their meaning.\n",
    "folder1 = \"full_dataset\"  # Folder where all kanji imgs and labels are.\n",
    "folder2 = \"midterm_dataset\"  # Folder to copy the top n classes\n",
    "# 'utf-8' is needed so Japanese can be inputted\n",
    "with open(filename, 'r', encoding='utf-8') as f:\n",
    "    for i in range(num_classes):\n",
    "        line = f.readline().split(',')\n",
    "        foldername = line[0][:-1] # Folder name without the '/'\n",
    "        kanji_meaning = line[3][:-1] # Removes newline character\n",
    "        src_folder = os.path.join(folder1, foldername)\n",
    "        dst_folder = os.path.join(folder2, kanji_meaning)\n",
    "        shutil.copytree(src_folder, dst_folder)\n",
    "        print(foldername, \"copied to:\", kanji_meaning)\n",
    "\"\"\""
   ]
  },
  {
   "cell_type": "code",
   "execution_count": 3,
   "metadata": {},
   "outputs": [
    {
     "name": "stdout",
     "output_type": "stream",
     "text": [
      "Found 40857 files belonging to 50 classes.\n",
      "Using 28600 files for training.\n"
     ]
    }
   ],
   "source": [
    "# Some starting code from Angel, mine required a 'seed' for training and eval datasets.\n",
    "# Datasets going to training is roughly 70%.\n",
    "new_kkanji_midterm_dataset_train = tf.keras.utils.image_dataset_from_directory(\n",
    "    './midterm_dataset/',\n",
    "    validation_split=0.3,\n",
    "    subset=\"training\",\n",
    "    image_size=(64, 64),\n",
    "    batch_size=32,\n",
    "    seed=0)"
   ]
  },
  {
   "cell_type": "code",
   "execution_count": 4,
   "metadata": {},
   "outputs": [
    {
     "name": "stdout",
     "output_type": "stream",
     "text": [
      "Found 40857 files belonging to 50 classes.\n",
      "Using 12257 files for validation.\n"
     ]
    }
   ],
   "source": [
    "# Datasets going to training is roughly 30%.\n",
    "new_kkanji_midterm_dataset_val = tf.keras.utils.image_dataset_from_directory(\n",
    "    './midterm_dataset/',\n",
    "    validation_split=0.3,\n",
    "    subset=\"validation\",\n",
    "    image_size=(64, 64),\n",
    "    batch_size=32,\n",
    "    seed=0)"
   ]
  },
  {
   "cell_type": "markdown",
   "metadata": {},
   "source": [
    "# John's model"
   ]
  },
  {
   "cell_type": "code",
   "execution_count": 5,
   "metadata": {},
   "outputs": [],
   "source": [
    "john_model = models.Sequential()\n",
    "# Add a CNN layer with 32 filters, 3x3 kernel, and activation slope of 'relu'.\n",
    "# Image dimensions will be 64x64.\n",
    "john_model.add(layers.Conv2D(32, (3, 3), activation='relu', input_shape=(64, 64, 3)))\n",
    "# Use 2x2 pool to reduce size.\n",
    "john_model.add(layers.AveragePooling2D((2, 2)))\n",
    "john_model.add(layers.Conv2D(64, (3, 3), activation='relu'))\n",
    "john_model.add(layers.AveragePooling2D((2, 2)))\n",
    "# Flatten the 2d to 1d layer.\n",
    "john_model.add(layers.Flatten())\n",
    "john_model.add(layers.Dense(64, activation='relu'))\n",
    "# This number is related to the total number of options.\n",
    "john_model.add(layers.Dense(50))"
   ]
  },
  {
   "cell_type": "code",
   "execution_count": 6,
   "metadata": {},
   "outputs": [
    {
     "name": "stdout",
     "output_type": "stream",
     "text": [
      "Model: \"sequential\"\n",
      "_________________________________________________________________\n",
      " Layer (type)                Output Shape              Param #   \n",
      "=================================================================\n",
      " conv2d (Conv2D)             (None, 62, 62, 32)        896       \n",
      "                                                                 \n",
      " average_pooling2d (AverageP  (None, 31, 31, 32)       0         \n",
      " ooling2D)                                                       \n",
      "                                                                 \n",
      " conv2d_1 (Conv2D)           (None, 29, 29, 64)        18496     \n",
      "                                                                 \n",
      " average_pooling2d_1 (Averag  (None, 14, 14, 64)       0         \n",
      " ePooling2D)                                                     \n",
      "                                                                 \n",
      " flatten (Flatten)           (None, 12544)             0         \n",
      "                                                                 \n",
      " dense (Dense)               (None, 64)                802880    \n",
      "                                                                 \n",
      " dense_1 (Dense)             (None, 50)                3250      \n",
      "                                                                 \n",
      "=================================================================\n",
      "Total params: 825,522\n",
      "Trainable params: 825,522\n",
      "Non-trainable params: 0\n",
      "_________________________________________________________________\n"
     ]
    }
   ],
   "source": [
    "john_model.summary()"
   ]
  },
  {
   "cell_type": "code",
   "execution_count": 7,
   "metadata": {},
   "outputs": [
    {
     "name": "stdout",
     "output_type": "stream",
     "text": [
      "Epoch 1/15\n",
      "894/894 [==============================] - 57s 63ms/step - loss: 1.1955 - accuracy: 0.7610 - val_loss: 0.3921 - val_accuracy: 0.8983\n",
      "Epoch 2/15\n",
      "894/894 [==============================] - 51s 57ms/step - loss: 0.2354 - accuracy: 0.9387 - val_loss: 0.3451 - val_accuracy: 0.9125\n",
      "Epoch 3/15\n",
      "894/894 [==============================] - 52s 58ms/step - loss: 0.1218 - accuracy: 0.9647 - val_loss: 0.3841 - val_accuracy: 0.9173\n",
      "Epoch 4/15\n",
      "894/894 [==============================] - 51s 57ms/step - loss: 0.0830 - accuracy: 0.9742 - val_loss: 0.4626 - val_accuracy: 0.9076\n",
      "Epoch 5/15\n",
      "894/894 [==============================] - 53s 59ms/step - loss: 0.0662 - accuracy: 0.9787 - val_loss: 0.4132 - val_accuracy: 0.9179\n"
     ]
    }
   ],
   "source": [
    "john_model.compile(optimizer='adam',\n",
    "                   loss=tf.keras.losses.SparseCategoricalCrossentropy(from_logits=True), \n",
    "                   metrics=['accuracy'])\n",
    "\n",
    "# Really useful in stopping the training early when no more progress\n",
    "# is made after a certain amount of epochs.\n",
    "callback = tf.keras.callbacks.EarlyStopping(monitor='val_loss', patience=3)\n",
    "\n",
    "john_history = john_model.fit(new_kkanji_midterm_dataset_train, \n",
    "                              epochs=15, \n",
    "                              callbacks=callback, \n",
    "                              validation_data=new_kkanji_midterm_dataset_val)"
   ]
  },
  {
   "cell_type": "markdown",
   "metadata": {},
   "source": [
    "## Evaluate John's Model "
   ]
  },
  {
   "cell_type": "code",
   "execution_count": 12,
   "metadata": {},
   "outputs": [
    {
     "data": {
      "text/plain": [
       "<matplotlib.legend.Legend at 0x1d6dd641fa0>"
      ]
     },
     "execution_count": 12,
     "metadata": {},
     "output_type": "execute_result"
    },
    {
     "data": {
      "image/png": "[encoded data removed]",
      "text/plain": [
       "<Figure size 432x288 with 1 Axes>"
      ]
     },
     "metadata": {
      "needs_background": "light"
     },
     "output_type": "display_data"
    }
   ],
   "source": [
    "plt.plot(john_history.history['accuracy'], label='accuracy')\n",
    "plt.plot(john_history.history['val_accuracy'], label = 'val_accuracy')\n",
    "plt.xlabel('Epoch')\n",
    "plt.ylabel('Accuracy')\n",
    "plt.ylim([0.7, 1])\n",
    "plt.legend(loc='lower right')\n"
   ]
  },
  {
   "cell_type": "code",
   "execution_count": 9,
   "metadata": {},
   "outputs": [
    {
     "name": "stderr",
     "output_type": "stream",
     "text": [
      "WARNING:absl:Found untraced functions such as _jit_compiled_convolution_op, _jit_compiled_convolution_op while saving (showing 2 of 2). These functions will not be directly callable after loading.\n"
     ]
    },
    {
     "name": "stdout",
     "output_type": "stream",
     "text": [
      "INFO:tensorflow:Assets written to: john_model\\assets\n"
     ]
    },
    {
     "name": "stderr",
     "output_type": "stream",
     "text": [
      "INFO:tensorflow:Assets written to: john_model\\assets\n"
     ]
    }
   ],
   "source": [
    "john_model.save('john_model')"
   ]
  },
  {
   "cell_type": "code",
   "execution_count": 10,
   "metadata": {},
   "outputs": [],
   "source": [
    "john_model_load = models.load_model('john_model')"
   ]
  },
  {
   "cell_type": "code",
   "execution_count": 11,
   "metadata": {},
   "outputs": [
    {
     "name": "stdout",
     "output_type": "stream",
     "text": [
      "Model: \"sequential\"\n",
      "_________________________________________________________________\n",
      " Layer (type)                Output Shape              Param #   \n",
      "=================================================================\n",
      " conv2d (Conv2D)             (None, 62, 62, 32)        896       \n",
      "                                                                 \n",
      " average_pooling2d (AverageP  (None, 31, 31, 32)       0         \n",
      " ooling2D)                                                       \n",
      "                                                                 \n",
      " conv2d_1 (Conv2D)           (None, 29, 29, 64)        18496     \n",
      "                                                                 \n",
      " average_pooling2d_1 (Averag  (None, 14, 14, 64)       0         \n",
      " ePooling2D)                                                     \n",
      "                                                                 \n",
      " flatten (Flatten)           (None, 12544)             0         \n",
      "                                                                 \n",
      " dense (Dense)               (None, 64)                802880    \n",
      "                                                                 \n",
      " dense_1 (Dense)             (None, 50)                3250      \n",
      "                                                                 \n",
      "=================================================================\n",
      "Total params: 825,522\n",
      "Trainable params: 825,522\n",
      "Non-trainable params: 0\n",
      "_________________________________________________________________\n"
     ]
    }
   ],
   "source": [
    "john_model_load.summary()"
   ]
  }
 ],
 "metadata": {
  "kernelspec": {
   "display_name": "Python 3 (ipykernel)",
   "language": "python",
   "name": "python3"
  },
  "language_info": {
   "codemirror_mode": {
    "name": "ipython",
    "version": 3
   },
   "file_extension": ".py",
   "mimetype": "text/x-python",
   "name": "python",
   "nbconvert_exporter": "python",
   "pygments_lexer": "ipython3",
   "version": "3.10.4"
  },
  "vscode": {
   "interpreter": {
    "hash": "425c80cf2732746be3b317b687ca1852eb62c983ce48210a60c1f5072c461cc8"
   }
  }
 },
 "nbformat": 4,
 "nbformat_minor": 2
}
