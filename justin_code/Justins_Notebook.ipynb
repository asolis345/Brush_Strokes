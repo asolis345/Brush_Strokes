{
 "cells": [
  {
   "cell_type": "markdown",
   "id": "eb198350",
   "metadata": {},
   "source": [
    "# Justin Zarkovacki CS-4820\n",
    "## 9/20/2022"
   ]
  },
  {
   "cell_type": "markdown",
   "id": "05ce0e3c",
   "metadata": {},
   "source": [
    "### Required imports"
   ]
  },
  {
   "cell_type": "code",
   "execution_count": null,
   "id": "8ebd3052",
   "metadata": {},
   "outputs": [],
   "source": [
    "from __future__ import print_function\n",
    "import tensorflow as tf\n",
    "from tensorflow.keras.datasets import mnist\n",
    "from keras.models import Sequential\n",
    "from keras.layers import Conv2D, Dropout, AveragePooling2D, Flatten, Dense\n",
    "from keras import backend as K\n",
    "import numpy as np\n",
    "from matplotlib import pyplot as plt"
   ]
  },
  {
   "cell_type": "markdown",
   "id": "f065294a",
   "metadata": {},
   "source": [
    "### Initialize training/test datasets and other important variables"
   ]
  },
  {
   "cell_type": "code",
   "execution_count": 45,
   "id": "b7b9f86b",
   "metadata": {},
   "outputs": [
    {
     "name": "stdout",
     "output_type": "stream",
     "text": [
      "60000 train samples, 10000 test samples\n"
     ]
    }
   ],
   "source": [
    "batch_size = 128\n",
    "epochs = 12\n",
    "\n",
    "# input image dimensions\n",
    "img_rows, img_cols = 28, 28\n",
    "\n",
    "def load(f):\n",
    "    return np.load(f)['arr_0']\n",
    "\n",
    "# Load the data\n",
    "train_images = load('Datasets\\Kuzushiji-MNIST - train-imgs.npz')\n",
    "test_images = load('Datasets\\Kuzushiji-MNIST - test-imgs.npz')\n",
    "train_labels = load('Datasets\\Kuzushiji-MNIST - train-labels.npz')\n",
    "test_labels = load('Datasets\\Kuzushiji-MNIST - test-labels.npz')\n",
    "\n",
    "k49_train_images = load('Datasets\\Kuzushiji-49 - train-imgs.npz')\n",
    "k49_test_images = load('Datasets\\Kuzushiji-49 - test-imgs.npz')\n",
    "k49_train_labels = load('Datasets\\Kuzushiji-49 - train-labels.npz')\n",
    "k49_test_labels = load('Datasets\\Kuzushiji-49 - test-labels.npz')\n",
    "\n",
    "if K.image_data_format() == 'channels_first':\n",
    "    train_images = train_images.reshape(train_images.shape[0], 1, img_rows, img_cols)\n",
    "    test_images = test_images.reshape(test_images.shape[0], 1, img_rows, img_cols)\n",
    "    input_shape = (1, img_rows, img_cols)\n",
    "else:\n",
    "    train_images = train_images.reshape(train_images.shape[0], img_rows, img_cols, 1)\n",
    "    test_images = test_images.reshape(test_images.shape[0], img_rows, img_cols, 1)\n",
    "    input_shape = (img_rows, img_cols, 1)\n",
    "\n",
    "train_images = train_images.astype('float32')\n",
    "test_images = test_images.astype('float32')\n",
    "train_images /= 255\n",
    "test_images /= 255\n",
    "print('{} train samples, {} test samples'.format(len(train_images), len(test_images)))"
   ]
  },
  {
   "cell_type": "markdown",
   "id": "ade4fe51",
   "metadata": {},
   "source": [
    "### Define Creation of the Model"
   ]
  },
  {
   "cell_type": "code",
   "execution_count": 46,
   "id": "59e196f4",
   "metadata": {},
   "outputs": [],
   "source": [
    "def generate_model(num_of_classes):\n",
    "    model = Sequential()\n",
    "    model.add(Conv2D(32, kernel_size=(3, 3),\n",
    "                     activation='relu',\n",
    "                     input_shape=input_shape))\n",
    "    model.add(Dropout(0.25))\n",
    "    model.add(Conv2D(64, (3, 3), activation='relu'))\n",
    "    model.add(AveragePooling2D(pool_size=(2, 2), strides=None, padding=\"valid\"))\n",
    "    model.add(Flatten())\n",
    "    model.add(Dense(num_of_classes, activation='relu'))\n",
    "    model.add(Dense(num_of_classes))\n",
    "\n",
    "    model.compile(loss=tf.keras.losses.SparseCategoricalCrossentropy(from_logits=True),\n",
    "                  optimizer=\"adam\",\n",
    "                  metrics=['accuracy'])\n",
    "    \n",
    "    return model"
   ]
  },
  {
   "cell_type": "markdown",
   "id": "eb9aaafc",
   "metadata": {},
   "source": [
    "### Create Model - MNIST"
   ]
  },
  {
   "cell_type": "code",
   "execution_count": null,
   "id": "26f07271",
   "metadata": {},
   "outputs": [],
   "source": [
    "num_classes = 10\n",
    "mnist_model = generate_model(num_classes)\n",
    "mnist_model.summary()"
   ]
  },
  {
   "cell_type": "markdown",
   "id": "9146722b",
   "metadata": {},
   "source": [
    "### Run Model - MNIST"
   ]
  },
  {
   "cell_type": "code",
   "execution_count": null,
   "id": "c7629745",
   "metadata": {},
   "outputs": [],
   "source": [
    "callback = tf.keras.callbacks.EarlyStopping(monitor='val_loss', patience=3)\n",
    "\n",
    "mnist_history = mnist_model.fit(train_images, train_labels, batch_size=batch_size, epochs=epochs,\n",
    "              callbacks=callback, verbose=1, validation_data=(test_images, test_labels))\n",
    "\n",
    "mnist_model.save('justin_mnist_model')"
   ]
  },
  {
   "cell_type": "markdown",
   "id": "570425c5",
   "metadata": {},
   "source": [
    "### Visualize Results - MNIST"
   ]
  },
  {
   "cell_type": "code",
   "execution_count": null,
   "id": "3255466a",
   "metadata": {},
   "outputs": [],
   "source": [
    "accuracy_data = mnist_history.history['accuracy']\n",
    "val_accuracy_data = mnist_history.history['val_accuracy']\n",
    "\n",
    "lower_bound = min(min(accuracy_data), min(val_accuracy_data))\n",
    "\n",
    "plt.plot(accuracy_data, label='Train Accuracy')\n",
    "plt.plot(val_accuracy_data, label = 'Test Accuracy')\n",
    "\n",
    "plt.xlabel('Epoch')\n",
    "plt.ylabel('Accuracy')\n",
    "plt.ylim([lower_bound - 0.01, 1])\n",
    "plt.legend(loc='lower right')\n",
    "\n",
    "test_loss, test_acc = mnist_model.evaluate(test_images,  test_labels, verbose=2)"
   ]
  },
  {
   "cell_type": "markdown",
   "id": "8e34d36b",
   "metadata": {},
   "source": [
    "### Create Model - KMNIST"
   ]
  },
  {
   "cell_type": "code",
   "execution_count": 47,
   "id": "3be6f31b",
   "metadata": {},
   "outputs": [
    {
     "name": "stdout",
     "output_type": "stream",
     "text": [
      "Model: \"sequential_11\"\n",
      "_________________________________________________________________\n",
      " Layer (type)                Output Shape              Param #   \n",
      "=================================================================\n",
      " conv2d_22 (Conv2D)          (None, 26, 26, 32)        320       \n",
      "                                                                 \n",
      " dropout_11 (Dropout)        (None, 26, 26, 32)        0         \n",
      "                                                                 \n",
      " conv2d_23 (Conv2D)          (None, 24, 24, 64)        18496     \n",
      "                                                                 \n",
      " average_pooling2d_11 (Avera  (None, 12, 12, 64)       0         \n",
      " gePooling2D)                                                    \n",
      "                                                                 \n",
      " flatten_11 (Flatten)        (None, 9216)              0         \n",
      "                                                                 \n",
      " dense_22 (Dense)            (None, 10)                92170     \n",
      "                                                                 \n",
      " dense_23 (Dense)            (None, 10)                110       \n",
      "                                                                 \n",
      "=================================================================\n",
      "Total params: 111,096\n",
      "Trainable params: 111,096\n",
      "Non-trainable params: 0\n",
      "_________________________________________________________________\n"
     ]
    }
   ],
   "source": [
    "num_classes = 10\n",
    "kmnist_model = generate_model(num_classes)\n",
    "kmnist_model.summary()"
   ]
  },
  {
   "cell_type": "markdown",
   "id": "5d5789c1",
   "metadata": {},
   "source": [
    "### Run Model - KMNIST"
   ]
  },
  {
   "cell_type": "code",
   "execution_count": 48,
   "id": "b6595115",
   "metadata": {},
   "outputs": [
    {
     "name": "stdout",
     "output_type": "stream",
     "text": [
      "Epoch 1/12\n",
      "469/469 [==============================] - 71s 149ms/step - loss: 0.7847 - accuracy: 0.7475 - val_loss: 0.8119 - val_accuracy: 0.7536\n",
      "Epoch 2/12\n",
      "469/469 [==============================] - 70s 149ms/step - loss: 0.3243 - accuracy: 0.9031 - val_loss: 0.6287 - val_accuracy: 0.8152\n",
      "Epoch 3/12\n",
      "469/469 [==============================] - 72s 153ms/step - loss: 0.2394 - accuracy: 0.9299 - val_loss: 0.5412 - val_accuracy: 0.8398\n",
      "Epoch 4/12\n",
      "469/469 [==============================] - 75s 160ms/step - loss: 0.1944 - accuracy: 0.9428 - val_loss: 0.5162 - val_accuracy: 0.8508\n",
      "Epoch 5/12\n",
      "469/469 [==============================] - 72s 154ms/step - loss: 0.1670 - accuracy: 0.9510 - val_loss: 0.4348 - val_accuracy: 0.8796\n",
      "Epoch 6/12\n",
      "469/469 [==============================] - 74s 159ms/step - loss: 0.1438 - accuracy: 0.9574 - val_loss: 0.4104 - val_accuracy: 0.8855\n",
      "Epoch 7/12\n",
      "469/469 [==============================] - 74s 159ms/step - loss: 0.1260 - accuracy: 0.9624 - val_loss: 0.3960 - val_accuracy: 0.8907\n",
      "Epoch 8/12\n",
      "469/469 [==============================] - 77s 164ms/step - loss: 0.1139 - accuracy: 0.9661 - val_loss: 0.3964 - val_accuracy: 0.8907\n",
      "Epoch 9/12\n",
      "469/469 [==============================] - 76s 162ms/step - loss: 0.0984 - accuracy: 0.9708 - val_loss: 0.3725 - val_accuracy: 0.9038\n",
      "Epoch 10/12\n",
      "469/469 [==============================] - 73s 156ms/step - loss: 0.0876 - accuracy: 0.9727 - val_loss: 0.3792 - val_accuracy: 0.9005\n",
      "Epoch 11/12\n",
      "469/469 [==============================] - 71s 151ms/step - loss: 0.0752 - accuracy: 0.9775 - val_loss: 0.3658 - val_accuracy: 0.9065\n",
      "Epoch 12/12\n",
      "469/469 [==============================] - 72s 152ms/step - loss: 0.0666 - accuracy: 0.9797 - val_loss: 0.3683 - val_accuracy: 0.9066\n"
     ]
    }
   ],
   "source": [
    "callback = tf.keras.callbacks.EarlyStopping(monitor='val_loss', patience=3)\n",
    "\n",
    "kmnist_history = kmnist_model.fit(train_images, train_labels, batch_size=batch_size, epochs=epochs,\n",
    "              callbacks=callback, verbose=1, validation_data=(test_images, test_labels))\n",
    "\n",
    "kmnist_model.save('justin_kmnist_model')"
   ]
  },
  {
   "cell_type": "markdown",
   "id": "3f0fad56",
   "metadata": {},
   "source": [
    "### Visualize Results - KMNIST"
   ]
  },
  {
   "cell_type": "code",
   "execution_count": 53,
   "id": "33ab52b0",
   "metadata": {},
   "outputs": [
    {
     "name": "stdout",
     "output_type": "stream",
     "text": [
      "313/313 - 4s - loss: 0.3683 - accuracy: 0.9066 - 4s/epoch - 12ms/step\n"
     ]
    },
    {
     "data": {
      "image/png": "[encoded data removed]",
      "text/plain": [
       "<Figure size 640x480 with 1 Axes>"
      ]
     },
     "metadata": {},
     "output_type": "display_data"
    }
   ],
   "source": [
    "accuracy_data = kmnist_history.history['accuracy']\n",
    "val_accuracy_data = kmnist_history.history['val_accuracy']\n",
    "\n",
    "lower_bound = min(min(accuracy_data), min(val_accuracy_data))\n",
    "\n",
    "plt.plot(accuracy_data, label='Train Accuracy')\n",
    "plt.plot(val_accuracy_data, label = 'Test Accuracy')\n",
    "\n",
    "plt.xlabel('Epoch')\n",
    "plt.ylabel('Accuracy')\n",
    "plt.ylim([lower_bound - 0.01, 1])\n",
    "plt.legend(loc='lower right')\n",
    "\n",
    "test_loss, test_acc = kmnist_model.evaluate(test_images,  test_labels, verbose=2)"
   ]
  },
  {
   "cell_type": "markdown",
   "id": "1c4d3be8",
   "metadata": {},
   "source": [
    "### Create Model - Kuzushiji-49"
   ]
  },
  {
   "cell_type": "code",
   "execution_count": 50,
   "id": "70f58be1",
   "metadata": {},
   "outputs": [
    {
     "name": "stdout",
     "output_type": "stream",
     "text": [
      "Model: \"sequential_12\"\n",
      "_________________________________________________________________\n",
      " Layer (type)                Output Shape              Param #   \n",
      "=================================================================\n",
      " conv2d_24 (Conv2D)          (None, 26, 26, 32)        320       \n",
      "                                                                 \n",
      " dropout_12 (Dropout)        (None, 26, 26, 32)        0         \n",
      "                                                                 \n",
      " conv2d_25 (Conv2D)          (None, 24, 24, 64)        18496     \n",
      "                                                                 \n",
      " average_pooling2d_12 (Avera  (None, 12, 12, 64)       0         \n",
      " gePooling2D)                                                    \n",
      "                                                                 \n",
      " flatten_12 (Flatten)        (None, 9216)              0         \n",
      "                                                                 \n",
      " dense_24 (Dense)            (None, 49)                451633    \n",
      "                                                                 \n",
      " dense_25 (Dense)            (None, 49)                2450      \n",
      "                                                                 \n",
      "=================================================================\n",
      "Total params: 472,899\n",
      "Trainable params: 472,899\n",
      "Non-trainable params: 0\n",
      "_________________________________________________________________\n"
     ]
    }
   ],
   "source": [
    "num_classes = 49\n",
    "k49_model = generate_model(num_classes)\n",
    "k49_model.summary()"
   ]
  },
  {
   "cell_type": "markdown",
   "id": "016ba062",
   "metadata": {},
   "source": [
    "### Run Model - Kuzushiji-49"
   ]
  },
  {
   "cell_type": "code",
   "execution_count": 51,
   "id": "2b74968b",
   "metadata": {},
   "outputs": [
    {
     "name": "stdout",
     "output_type": "stream",
     "text": [
      "Epoch 1/12\n",
      "1816/1816 [==============================] - 287s 158ms/step - loss: 1.8148 - accuracy: 0.5293 - val_loss: 1.3043 - val_accuracy: 0.6820\n",
      "Epoch 2/12\n",
      "1816/1816 [==============================] - 1484s 817ms/step - loss: 0.5504 - accuracy: 0.8555 - val_loss: 0.7958 - val_accuracy: 0.7992\n",
      "Epoch 3/12\n",
      "1816/1816 [==============================] - 277s 152ms/step - loss: 0.3610 - accuracy: 0.9025 - val_loss: 0.6670 - val_accuracy: 0.8324\n",
      "Epoch 4/12\n",
      "1816/1816 [==============================] - 301s 166ms/step - loss: 0.2828 - accuracy: 0.9212 - val_loss: 0.6269 - val_accuracy: 0.8457\n",
      "Epoch 5/12\n",
      "1816/1816 [==============================] - 297s 164ms/step - loss: 0.2371 - accuracy: 0.9328 - val_loss: 0.6058 - val_accuracy: 0.8479\n",
      "Epoch 6/12\n",
      "1816/1816 [==============================] - 292s 161ms/step - loss: 0.2030 - accuracy: 0.9415 - val_loss: 0.6024 - val_accuracy: 0.8586\n",
      "Epoch 7/12\n",
      "1816/1816 [==============================] - 305s 168ms/step - loss: 0.1795 - accuracy: 0.9479 - val_loss: 0.6072 - val_accuracy: 0.8572\n",
      "Epoch 8/12\n",
      "1816/1816 [==============================] - 269s 148ms/step - loss: 0.1631 - accuracy: 0.9517 - val_loss: 0.5964 - val_accuracy: 0.8648\n",
      "Epoch 9/12\n",
      "1816/1816 [==============================] - 274s 151ms/step - loss: 0.1467 - accuracy: 0.9560 - val_loss: 0.6338 - val_accuracy: 0.8619\n",
      "Epoch 10/12\n",
      "1816/1816 [==============================] - 280s 154ms/step - loss: 0.1346 - accuracy: 0.9592 - val_loss: 0.6506 - val_accuracy: 0.8649\n",
      "Epoch 11/12\n",
      "1816/1816 [==============================] - 301s 166ms/step - loss: 0.1286 - accuracy: 0.9605 - val_loss: 0.6586 - val_accuracy: 0.8655\n"
     ]
    }
   ],
   "source": [
    "callback = tf.keras.callbacks.EarlyStopping(monitor='val_loss', patience=3)\n",
    "\n",
    "k49_history = k49_model.fit(k49_train_images, k49_train_labels, batch_size=batch_size, epochs=epochs,\n",
    "              callbacks=callback, verbose=1, validation_data=(k49_test_images, k49_test_labels))\n",
    "\n",
    "k49_model.save('justin_k49_model')"
   ]
  },
  {
   "cell_type": "markdown",
   "id": "e278f341",
   "metadata": {},
   "source": [
    "### Vizualize Results - Kuzushiji-49"
   ]
  },
  {
   "cell_type": "code",
   "execution_count": 54,
   "id": "182ac478",
   "metadata": {},
   "outputs": [
    {
     "name": "stdout",
     "output_type": "stream",
     "text": [
      "313/313 - 5s - loss: 9.7281 - accuracy: 0.0000e+00 - 5s/epoch - 15ms/step\n"
     ]
    },
    {
     "data": {
      "image/png": "[encoded data removed]",
      "text/plain": [
       "<Figure size 640x480 with 1 Axes>"
      ]
     },
     "metadata": {},
     "output_type": "display_data"
    }
   ],
   "source": [
    "accuracy_data = k49_history.history['accuracy']\n",
    "val_accuracy_data = k49_history.history['val_accuracy']\n",
    "\n",
    "lower_bound = min(min(accuracy_data), min(val_accuracy_data))\n",
    "\n",
    "plt.plot(accuracy_data, label='Train Accuracy')\n",
    "plt.plot(val_accuracy_data, label = 'Test Accuracy')\n",
    "\n",
    "plt.xlabel('Epoch')\n",
    "plt.ylabel('Accuracy')\n",
    "plt.ylim([lower_bound - 0.01, 1])\n",
    "plt.legend(loc='lower right')\n",
    "\n",
    "test_loss, test_acc = k49_model.evaluate(test_images,  test_labels, verbose=2)"
   ]
  }
 ],
 "metadata": {
  "kernelspec": {
   "display_name": "Python 3 (ipykernel)",
   "language": "python",
   "name": "python3"
  },
  "language_info": {
   "codemirror_mode": {
    "name": "ipython",
    "version": 3
   },
   "file_extension": ".py",
   "mimetype": "text/x-python",
   "name": "python",
   "nbconvert_exporter": "python",
   "pygments_lexer": "ipython3",
   "version": "3.9.12"
  }
 },
 "nbformat": 4,
 "nbformat_minor": 5
}
