{
 "cells": [
  {
   "cell_type": "markdown",
   "id": "eb198350",
   "metadata": {},
   "source": [
    "# Justin Zarkovacki CS-4820\n",
    "## 9/20/2022"
   ]
  },
  {
   "cell_type": "markdown",
   "id": "05ce0e3c",
   "metadata": {},
   "source": [
    "### Required imports"
   ]
  },
  {
   "cell_type": "code",
   "execution_count": 1,
   "id": "8ebd3052",
   "metadata": {},
   "outputs": [
    {
     "name": "stdout",
     "output_type": "stream",
     "text": [
      "Done!\n"
     ]
    }
   ],
   "source": [
    "import numpy as np\n",
    "\n",
    "import matplotlib\n",
    "from matplotlib import pyplot as plt\n",
    "\n",
    "import tensorflow as tf\n",
    "from tensorflow.keras.datasets import mnist\n",
    "from keras.models import Sequential\n",
    "from keras.layers import Conv2D, Dropout, AveragePooling2D, MaxPooling2D, Flatten, Dense, GlobalAveragePooling2D, Rescaling\n",
    "from keras import Input, models, backend as K\n",
    "\n",
    "print(\"Done!\")"
   ]
  },
  {
   "cell_type": "markdown",
   "id": "ade4fe51",
   "metadata": {},
   "source": [
    "### Create Function Definintions and Variables"
   ]
  },
  {
   "cell_type": "code",
   "execution_count": 2,
   "id": "59e196f4",
   "metadata": {},
   "outputs": [
    {
     "name": "stdout",
     "output_type": "stream",
     "text": [
      "Done!\n"
     ]
    }
   ],
   "source": [
    "batch_size = 128\n",
    "epochs = 12\n",
    "img_rows, img_cols = 28, 28  # Image dimensions\n",
    "\n",
    "def load(f):\n",
    "    return np.load(f)['arr_0']\n",
    "\n",
    "# Generate a model based on the number of classes in the output layer\n",
    "def generate_model(num_of_classes, input_shape):\n",
    "    model = Sequential()\n",
    "    model.add(Conv2D(32, kernel_size=(3, 3),\n",
    "                     activation='relu',\n",
    "                     input_shape=input_shape))\n",
    "    model.add(Dropout(0.25))\n",
    "    model.add(Conv2D(64, (3, 3), activation='relu'))\n",
    "    model.add(AveragePooling2D(pool_size=(2, 2), strides=None, padding=\"valid\"))\n",
    "#     model.add(MaxPooling2D(pool_size=(2, 2), strides=None, padding=\"valid\"))\n",
    "    model.add(Flatten())\n",
    "    model.add(Dense(num_of_classes, activation='relu'))\n",
    "    model.add(Dense(num_of_classes))\n",
    "\n",
    "    model.compile(loss=tf.keras.losses.SparseCategoricalCrossentropy(from_logits=True),\n",
    "                  optimizer=\"adam\",\n",
    "                  metrics=['accuracy'])\n",
    "    \n",
    "    return model\n",
    "    \n",
    "def initialize_data(train_im_file, test_im_file, train_lb_file, test_lb_file):\n",
    "    train_images = load(train_im_file)\n",
    "    test_images = load(test_im_file)\n",
    "    train_labels = load(train_lb_file)\n",
    "    test_labels = load(test_lb_file)\n",
    "    \n",
    "    if K.image_data_format() == 'channels_first':\n",
    "        train_images = train_images.reshape(train_images.shape[0], 1, img_rows, img_cols)\n",
    "        test_images = test_images.reshape(test_images.shape[0], 1, img_rows, img_cols)\n",
    "        input_shape = (1, img_rows, img_cols)\n",
    "    else:\n",
    "        train_images = train_images.reshape(train_images.shape[0], img_rows, img_cols, 1)\n",
    "        test_images = test_images.reshape(test_images.shape[0], img_rows, img_cols, 1)\n",
    "        input_shape = (img_rows, img_cols, 1)\n",
    "\n",
    "    train_images = train_images.astype('float32')\n",
    "    test_images = test_images.astype('float32')\n",
    "    train_images /= 255\n",
    "    test_images /= 255\n",
    "    print('{} train samples, {} test samples'.format(len(train_images), len(test_images)))\n",
    "    \n",
    "    return tuple([train_images, test_images, train_labels, test_labels, input_shape])\n",
    "\n",
    "# Helper to create the graphics\n",
    "def create_visuals(graph_title, model_hist, test_images, test_labels):\n",
    "    accuracy_data = model_hist.history['accuracy']\n",
    "    val_accuracy_data = model_hist.history['val_accuracy']\n",
    "\n",
    "    lower_bound = min(min(accuracy_data), min(val_accuracy_data))\n",
    "\n",
    "    plt.plot(accuracy_data, label='Train Accuracy')\n",
    "    plt.plot(val_accuracy_data, label = 'Validation Accuracy')\n",
    "\n",
    "    plt.title(graph_title)\n",
    "    plt.xlabel('Epoch')\n",
    "    plt.ylabel('Accuracy')\n",
    "    plt.ylim([lower_bound - 0.01, 1])\n",
    "    plt.legend(loc='lower right')\n",
    "\n",
    "    print(accuracy_data[-1])\n",
    "    print(val_accuracy_data[-1])\n",
    "#     test_loss, test_acc = model_hist.evaluate(test_images, test_labels, verbose=2)\n",
    "\n",
    "print(\"Done!\")"
   ]
  },
  {
   "cell_type": "markdown",
   "id": "f065294a",
   "metadata": {},
   "source": [
    "### Initialize training/test datasets and other important variables"
   ]
  },
  {
   "cell_type": "code",
   "execution_count": 3,
   "id": "b7b9f86b",
   "metadata": {},
   "outputs": [
    {
     "name": "stdout",
     "output_type": "stream",
     "text": [
      "60000 train samples, 10000 test samples\n",
      "232365 train samples, 38547 test samples\n",
      "Found 40857 files belonging to 50 classes.\n",
      "Using 28600 files for training.\n",
      "Found 40857 files belonging to 50 classes.\n",
      "Using 12257 files for validation.\n",
      "Done!\n"
     ]
    }
   ],
   "source": [
    "prefix = '..\\..\\Datasets\\\\'\n",
    "datasets = {\n",
    "    \"km_tr_i\" : prefix + 'Kuzushiji-MNIST - train-imgs.npz',\n",
    "    \"km_te_i\" : prefix + 'Kuzushiji-MNIST - test-imgs.npz',\n",
    "    \"km_tr_l\" : prefix + 'Kuzushiji-MNIST - train-labels.npz',\n",
    "    \"km_te_l\" : prefix + 'Kuzushiji-MNIST - test-labels.npz',\n",
    "    \"k49_tr_i\" : prefix + 'Kuzushiji-49 - train-imgs.npz',\n",
    "    \"k49_te_i\" : prefix + 'Kuzushiji-49 - test-imgs.npz',\n",
    "    \"k49_tr_l\" : prefix + 'Kuzushiji-49 - train-labels.npz',\n",
    "    \"k49_te_l\" : prefix + 'Kuzushiji-49 - test-labels.npz',\n",
    "    \"kanji\" : prefix + 'midterm_dataset',\n",
    "}\n",
    "\n",
    "# Load MNIST Data\n",
    "(mnist_train_images, mnist_train_labels), (mnist_test_images, mnist_test_labels) = mnist.load_data()\n",
    "mnist_input_shape = (28, 28, 1)\n",
    "\n",
    "# Load KMNIST Data\n",
    "dataset = initialize_data(datasets[\"km_tr_i\"], datasets[\"km_te_i\"], datasets[\"km_tr_l\"], datasets[\"km_te_l\"])\n",
    "kmnist_train_images = dataset[0]\n",
    "kmnist_test_images = dataset[1]\n",
    "kmnist_train_labels = dataset[2]\n",
    "kmnist_test_labels  = dataset[3]\n",
    "kmnist_input_shape = dataset[4]\n",
    "\n",
    "# Load Kuzushiji-49 Data\n",
    "dataset = initialize_data(datasets[\"k49_tr_i\"], datasets[\"k49_te_i\"], datasets[\"k49_tr_l\"], datasets[\"k49_te_l\"])\n",
    "k49_train_images = dataset[0]\n",
    "k49_test_images = dataset[1]\n",
    "k49_train_labels = dataset[2]\n",
    "k49_test_labels  = dataset[3]\n",
    "k49_input_shape = dataset[4]\n",
    "\n",
    "# Load Kanji Data\n",
    "kanji_input_shape = (64, 64, 3)\n",
    "kanji_dataset_train = tf.keras.utils.image_dataset_from_directory(datasets[\"kanji\"], validation_split=0.3,\n",
    "                        seed=222, subset=\"training\", image_size=(64, 64), batch_size=32)\n",
    "\n",
    "kanji_dataset_val = tf.keras.utils.image_dataset_from_directory(datasets[\"kanji\"], validation_split=0.3,\n",
    "                        seed=222, subset=\"validation\", image_size=(64, 64), batch_size=32)\n",
    "\n",
    "print(\"Done!\")"
   ]
  },
  {
   "cell_type": "markdown",
   "id": "eb9aaafc",
   "metadata": {},
   "source": [
    "### Create Model - MNIST"
   ]
  },
  {
   "cell_type": "code",
   "execution_count": 10,
   "id": "26f07271",
   "metadata": {},
   "outputs": [
    {
     "name": "stdout",
     "output_type": "stream",
     "text": [
      "Model: \"sequential_2\"\n",
      "_________________________________________________________________\n",
      " Layer (type)                Output Shape              Param #   \n",
      "=================================================================\n",
      " conv2d_4 (Conv2D)           (None, 26, 26, 32)        320       \n",
      "                                                                 \n",
      " dropout_2 (Dropout)         (None, 26, 26, 32)        0         \n",
      "                                                                 \n",
      " conv2d_5 (Conv2D)           (None, 24, 24, 64)        18496     \n",
      "                                                                 \n",
      " average_pooling2d_2 (Averag  (None, 12, 12, 64)       0         \n",
      " ePooling2D)                                                     \n",
      "                                                                 \n",
      " flatten_2 (Flatten)         (None, 9216)              0         \n",
      "                                                                 \n",
      " dense_4 (Dense)             (None, 10)                92170     \n",
      "                                                                 \n",
      " dense_5 (Dense)             (None, 10)                110       \n",
      "                                                                 \n",
      "=================================================================\n",
      "Total params: 111,096\n",
      "Trainable params: 111,096\n",
      "Non-trainable params: 0\n",
      "_________________________________________________________________\n"
     ]
    }
   ],
   "source": [
    "num_classes = 10\n",
    "mnist_model = generate_model(num_classes, mnist_input_shape)\n",
    "mnist_model.summary()"
   ]
  },
  {
   "cell_type": "markdown",
   "id": "9146722b",
   "metadata": {},
   "source": [
    "### Run Model - MNIST"
   ]
  },
  {
   "cell_type": "code",
   "execution_count": 11,
   "id": "c7629745",
   "metadata": {
    "scrolled": true
   },
   "outputs": [
    {
     "name": "stdout",
     "output_type": "stream",
     "text": [
      "Epoch 1/12\n",
      "469/469 [==============================] - 70s 148ms/step - loss: 1.8707 - accuracy: 0.3136 - val_loss: 1.5618 - val_accuracy: 0.4043\n",
      "Epoch 2/12\n",
      "469/469 [==============================] - 69s 147ms/step - loss: 1.4757 - accuracy: 0.4221 - val_loss: 1.3951 - val_accuracy: 0.4645\n",
      "Epoch 3/12\n",
      "469/469 [==============================] - 70s 148ms/step - loss: 1.2457 - accuracy: 0.5022 - val_loss: 1.0924 - val_accuracy: 0.5698\n",
      "Epoch 4/12\n",
      "469/469 [==============================] - 71s 150ms/step - loss: 1.0550 - accuracy: 0.5791 - val_loss: 1.0051 - val_accuracy: 0.5934\n",
      "Epoch 5/12\n",
      "469/469 [==============================] - 71s 151ms/step - loss: 0.9296 - accuracy: 0.6392 - val_loss: 0.7429 - val_accuracy: 0.7452\n",
      "Epoch 6/12\n",
      "469/469 [==============================] - 71s 152ms/step - loss: 0.5862 - accuracy: 0.7947 - val_loss: 0.4806 - val_accuracy: 0.8394\n",
      "Epoch 7/12\n",
      "469/469 [==============================] - 73s 156ms/step - loss: 0.3255 - accuracy: 0.9111 - val_loss: 0.1975 - val_accuracy: 0.9572\n",
      "Epoch 8/12\n",
      "469/469 [==============================] - 72s 154ms/step - loss: 0.1776 - accuracy: 0.9587 - val_loss: 0.1592 - val_accuracy: 0.9614\n",
      "Epoch 9/12\n",
      "469/469 [==============================] - 71s 152ms/step - loss: 0.1352 - accuracy: 0.9643 - val_loss: 0.1397 - val_accuracy: 0.9644\n",
      "Epoch 10/12\n",
      "469/469 [==============================] - 72s 153ms/step - loss: 0.1179 - accuracy: 0.9668 - val_loss: 0.1363 - val_accuracy: 0.9650\n",
      "Epoch 11/12\n",
      "469/469 [==============================] - 72s 153ms/step - loss: 0.1015 - accuracy: 0.9711 - val_loss: 0.1321 - val_accuracy: 0.9640\n",
      "Epoch 12/12\n",
      "469/469 [==============================] - 70s 149ms/step - loss: 0.0930 - accuracy: 0.9734 - val_loss: 0.1205 - val_accuracy: 0.9685\n"
     ]
    }
   ],
   "source": [
    "callback = tf.keras.callbacks.EarlyStopping(monitor='val_loss', patience=3)\n",
    "\n",
    "mnist_history = mnist_model.fit(mnist_train_images, mnist_train_labels, batch_size=batch_size,\n",
    "                                epochs=epochs, callbacks=callback, verbose=1,\n",
    "                                validation_data=(mnist_test_images, mnist_test_labels))\n",
    "\n",
    "mnist_model.save('justin_mnist_model')"
   ]
  },
  {
   "cell_type": "markdown",
   "id": "570425c5",
   "metadata": {},
   "source": [
    "### Visualize Results - MNIST"
   ]
  },
  {
   "cell_type": "code",
   "execution_count": 12,
   "id": "3255466a",
   "metadata": {},
   "outputs": [
    {
     "name": "stdout",
     "output_type": "stream",
     "text": [
      "0.9733833074569702\n",
      "0.968500018119812\n"
     ]
    },
    {
     "data": {
      "image/png": "[encoded data removed]",
      "text/plain": [
       "<Figure size 640x480 with 1 Axes>"
      ]
     },
     "metadata": {},
     "output_type": "display_data"
    }
   ],
   "source": [
    "create_visuals(\"Classification Results of MNIST\", mnist_history, mnist_test_images, mnist_test_labels)"
   ]
  },
  {
   "cell_type": "markdown",
   "id": "8e34d36b",
   "metadata": {},
   "source": [
    "### Create Model - KMNIST"
   ]
  },
  {
   "cell_type": "code",
   "execution_count": 13,
   "id": "3be6f31b",
   "metadata": {},
   "outputs": [
    {
     "name": "stdout",
     "output_type": "stream",
     "text": [
      "Model: \"sequential_3\"\n",
      "_________________________________________________________________\n",
      " Layer (type)                Output Shape              Param #   \n",
      "=================================================================\n",
      " conv2d_6 (Conv2D)           (None, 26, 26, 32)        320       \n",
      "                                                                 \n",
      " dropout_3 (Dropout)         (None, 26, 26, 32)        0         \n",
      "                                                                 \n",
      " conv2d_7 (Conv2D)           (None, 24, 24, 64)        18496     \n",
      "                                                                 \n",
      " average_pooling2d_3 (Averag  (None, 12, 12, 64)       0         \n",
      " ePooling2D)                                                     \n",
      "                                                                 \n",
      " flatten_3 (Flatten)         (None, 9216)              0         \n",
      "                                                                 \n",
      " dense_6 (Dense)             (None, 10)                92170     \n",
      "                                                                 \n",
      " dense_7 (Dense)             (None, 10)                110       \n",
      "                                                                 \n",
      "=================================================================\n",
      "Total params: 111,096\n",
      "Trainable params: 111,096\n",
      "Non-trainable params: 0\n",
      "_________________________________________________________________\n"
     ]
    }
   ],
   "source": [
    "num_classes = 10\n",
    "kmnist_model = generate_model(num_classes, kmnist_input_shape)\n",
    "kmnist_model.summary()"
   ]
  },
  {
   "cell_type": "markdown",
   "id": "5d5789c1",
   "metadata": {},
   "source": [
    "### Run Model - KMNIST"
   ]
  },
  {
   "cell_type": "code",
   "execution_count": 14,
   "id": "b6595115",
   "metadata": {
    "scrolled": true
   },
   "outputs": [
    {
     "name": "stdout",
     "output_type": "stream",
     "text": [
      "Epoch 1/12\n",
      "469/469 [==============================] - 68s 142ms/step - loss: 0.7424 - accuracy: 0.7639 - val_loss: 0.7961 - val_accuracy: 0.7576\n",
      "Epoch 2/12\n",
      "469/469 [==============================] - 70s 149ms/step - loss: 0.3116 - accuracy: 0.9096 - val_loss: 0.6608 - val_accuracy: 0.8062\n",
      "Epoch 3/12\n",
      "469/469 [==============================] - 71s 151ms/step - loss: 0.2364 - accuracy: 0.9313 - val_loss: 0.5054 - val_accuracy: 0.8551\n",
      "Epoch 4/12\n",
      "469/469 [==============================] - 71s 151ms/step - loss: 0.1899 - accuracy: 0.9445 - val_loss: 0.4610 - val_accuracy: 0.8677\n",
      "Epoch 5/12\n",
      "469/469 [==============================] - 72s 154ms/step - loss: 0.1562 - accuracy: 0.9548 - val_loss: 0.4264 - val_accuracy: 0.8819\n",
      "Epoch 6/12\n",
      "469/469 [==============================] - 74s 158ms/step - loss: 0.1354 - accuracy: 0.9604 - val_loss: 0.3901 - val_accuracy: 0.8904\n",
      "Epoch 7/12\n",
      "469/469 [==============================] - 72s 154ms/step - loss: 0.1163 - accuracy: 0.9659 - val_loss: 0.3976 - val_accuracy: 0.8899\n",
      "Epoch 8/12\n",
      "469/469 [==============================] - 76s 162ms/step - loss: 0.0994 - accuracy: 0.9701 - val_loss: 0.3812 - val_accuracy: 0.8984\n",
      "Epoch 9/12\n",
      "469/469 [==============================] - 72s 153ms/step - loss: 0.0888 - accuracy: 0.9735 - val_loss: 0.3888 - val_accuracy: 0.8954\n",
      "Epoch 10/12\n",
      "469/469 [==============================] - 79s 168ms/step - loss: 0.0775 - accuracy: 0.9772 - val_loss: 0.3676 - val_accuracy: 0.9044\n",
      "Epoch 11/12\n",
      "469/469 [==============================] - 107s 228ms/step - loss: 0.0666 - accuracy: 0.9797 - val_loss: 0.3779 - val_accuracy: 0.9052\n",
      "Epoch 12/12\n",
      "469/469 [==============================] - 127s 271ms/step - loss: 0.0595 - accuracy: 0.9822 - val_loss: 0.3789 - val_accuracy: 0.9092\n",
      "INFO:tensorflow:Assets written to: justin_kmnist_model\\assets\n"
     ]
    }
   ],
   "source": [
    "callback = tf.keras.callbacks.EarlyStopping(monitor='val_loss', patience=3)\n",
    "\n",
    "kmnist_history = kmnist_model.fit(kmnist_train_images, kmnist_train_labels, batch_size=batch_size, \n",
    "              epochs=epochs, callbacks=callback, verbose=1,\n",
    "                                  validation_data=(kmnist_test_images, kmnist_test_labels))\n",
    "\n",
    "kmnist_model.save('justin_kmnist_model')"
   ]
  },
  {
   "cell_type": "markdown",
   "id": "3f0fad56",
   "metadata": {},
   "source": [
    "### Visualize Results - KMNIST"
   ]
  },
  {
   "cell_type": "code",
   "execution_count": 18,
   "id": "33ab52b0",
   "metadata": {},
   "outputs": [
    {
     "name": "stdout",
     "output_type": "stream",
     "text": [
      "0.9821666479110718\n",
      "0.9092000126838684\n"
     ]
    },
    {
     "data": {
      "image/png": "[encoded data removed]",
      "text/plain": [
       "<Figure size 640x480 with 1 Axes>"
      ]
     },
     "metadata": {},
     "output_type": "display_data"
    }
   ],
   "source": [
    "create_visuals(\"Classification Results of KMNIST\", kmnist_history, kmnist_test_images, kmnist_train_labels)"
   ]
  },
  {
   "cell_type": "markdown",
   "id": "1c4d3be8",
   "metadata": {},
   "source": [
    "### Create Model - Kuzushiji-49"
   ]
  },
  {
   "cell_type": "code",
   "execution_count": 5,
   "id": "70f58be1",
   "metadata": {},
   "outputs": [
    {
     "name": "stdout",
     "output_type": "stream",
     "text": [
      "Model: \"sequential\"\n",
      "_________________________________________________________________\n",
      " Layer (type)                Output Shape              Param #   \n",
      "=================================================================\n",
      " conv2d (Conv2D)             (None, 26, 26, 32)        320       \n",
      "                                                                 \n",
      " dropout (Dropout)           (None, 26, 26, 32)        0         \n",
      "                                                                 \n",
      " conv2d_1 (Conv2D)           (None, 24, 24, 64)        18496     \n",
      "                                                                 \n",
      " average_pooling2d (AverageP  (None, 12, 12, 64)       0         \n",
      " ooling2D)                                                       \n",
      "                                                                 \n",
      " flatten (Flatten)           (None, 9216)              0         \n",
      "                                                                 \n",
      " dense (Dense)               (None, 49)                451633    \n",
      "                                                                 \n",
      " dense_1 (Dense)             (None, 49)                2450      \n",
      "                                                                 \n",
      "=================================================================\n",
      "Total params: 472,899\n",
      "Trainable params: 472,899\n",
      "Non-trainable params: 0\n",
      "_________________________________________________________________\n"
     ]
    }
   ],
   "source": [
    "num_classes = 49\n",
    "k49_model = generate_model(num_classes, k49_input_shape)\n",
    "k49_model.summary()"
   ]
  },
  {
   "cell_type": "markdown",
   "id": "016ba062",
   "metadata": {},
   "source": [
    "### Run Model - Kuzushiji-49"
   ]
  },
  {
   "cell_type": "code",
   "execution_count": 6,
   "id": "2b74968b",
   "metadata": {},
   "outputs": [
    {
     "name": "stdout",
     "output_type": "stream",
     "text": [
      "Epoch 1/12\n",
      "1816/1816 [==============================] - 562s 309ms/step - loss: 0.7651 - accuracy: 0.8037 - val_loss: 0.7679 - val_accuracy: 0.8040\n",
      "Epoch 2/12\n",
      "1816/1816 [==============================] - 588s 324ms/step - loss: 0.3486 - accuracy: 0.9062 - val_loss: 0.5953 - val_accuracy: 0.8491\n",
      "Epoch 3/12\n",
      "1816/1816 [==============================] - 542s 299ms/step - loss: 0.2572 - accuracy: 0.9295 - val_loss: 0.5101 - val_accuracy: 0.8702\n",
      "Epoch 4/12\n",
      "1816/1816 [==============================] - 508s 280ms/step - loss: 0.2021 - accuracy: 0.9444 - val_loss: 0.4697 - val_accuracy: 0.8830\n",
      "Epoch 5/12\n",
      "1816/1816 [==============================] - 450s 248ms/step - loss: 0.1638 - accuracy: 0.9541 - val_loss: 0.4621 - val_accuracy: 0.8883\n",
      "Epoch 6/12\n",
      "1816/1816 [==============================] - 448s 247ms/step - loss: 0.1328 - accuracy: 0.9621 - val_loss: 0.4544 - val_accuracy: 0.8927\n",
      "Epoch 7/12\n",
      "1816/1816 [==============================] - 448s 247ms/step - loss: 0.1097 - accuracy: 0.9681 - val_loss: 0.4669 - val_accuracy: 0.8962\n",
      "Epoch 8/12\n",
      "1816/1816 [==============================] - 439s 242ms/step - loss: 0.0912 - accuracy: 0.9729 - val_loss: 0.4910 - val_accuracy: 0.8959\n",
      "Epoch 9/12\n",
      "1816/1816 [==============================] - 428s 235ms/step - loss: 0.0763 - accuracy: 0.9767 - val_loss: 0.5262 - val_accuracy: 0.8911\n",
      "INFO:tensorflow:Assets written to: justin_k49_model\\assets\n"
     ]
    }
   ],
   "source": [
    "callback = tf.keras.callbacks.EarlyStopping(monitor='val_loss', patience=3)\n",
    "\n",
    "k49_history = k49_model.fit(k49_train_images, k49_train_labels, batch_size=batch_size, epochs=epochs,\n",
    "              callbacks=callback, verbose=1, validation_data=(k49_test_images, k49_test_labels))\n",
    "\n",
    "k49_model.save('justin_k49_model')"
   ]
  },
  {
   "cell_type": "markdown",
   "id": "e278f341",
   "metadata": {},
   "source": [
    "### Vizualize Results - Kuzushiji-49"
   ]
  },
  {
   "cell_type": "code",
   "execution_count": 7,
   "id": "182ac478",
   "metadata": {},
   "outputs": [
    {
     "name": "stdout",
     "output_type": "stream",
     "text": [
      "0.9767478108406067\n",
      "0.8910939693450928\n"
     ]
    },
    {
     "data": {
      "image/png": "[encoded data removed]",
      "text/plain": [
       "<Figure size 640x480 with 1 Axes>"
      ]
     },
     "metadata": {},
     "output_type": "display_data"
    }
   ],
   "source": [
    "create_visuals(\"Classification Results of Kuzushiji-49\", k49_history, k49_test_images, k49_train_labels)"
   ]
  },
  {
   "cell_type": "markdown",
   "id": "084de1ed",
   "metadata": {},
   "source": [
    "### Prepare Dataset - Kanji"
   ]
  },
  {
   "cell_type": "code",
   "execution_count": 8,
   "id": "1241e713",
   "metadata": {},
   "outputs": [
    {
     "name": "stdout",
     "output_type": "stream",
     "text": [
      "(32, 64, 64, 3)\n",
      "(32,)\n",
      "0.0 1.0\n"
     ]
    },
    {
     "data": {
      "image/png": "[encoded data removed]",
      "text/plain": [
       "<Figure size 1000x1000 with 9 Axes>"
      ]
     },
     "metadata": {},
     "output_type": "display_data"
    }
   ],
   "source": [
    "# Load classes\n",
    "class_names = kanji_dataset_train.class_names\n",
    "\n",
    "# Show some data to prove load worked\n",
    "plt.figure(figsize=(10, 10))\n",
    "for images, labels in kanji_dataset_train.take(1):\n",
    "    for i in range(9):\n",
    "        ax = plt.subplot(3, 3, i + 1)\n",
    "        plt.imshow(images[i].numpy().astype(\"uint8\"))\n",
    "        plt.title(class_names[labels[i]])\n",
    "        plt.axis(\"off\")\n",
    "\n",
    "for image_batch, labels_batch in kanji_dataset_train:\n",
    "    print(image_batch.shape)\n",
    "    print(labels_batch.shape)\n",
    "    break\n",
    "    \n",
    "# Rescale Data\n",
    "normalization_layer = Rescaling(1./255)\n",
    "normalized_ds = kanji_dataset_train.map(lambda x, y: (normalization_layer(x), y))\n",
    "image_batch, labels_batch = next(iter(normalized_ds))\n",
    "first_image = image_batch[0]\n",
    "print(np.min(first_image), np.max(first_image)) # Notice the pixel values are now in `[0,1]`.\n",
    "\n",
    "# Training performane optimizations\n",
    "AUTOTUNE = tf.data.AUTOTUNE\n",
    "\n",
    "train_ds = kanji_dataset_train.cache().prefetch(buffer_size=AUTOTUNE)\n",
    "val_ds = kanji_dataset_val.cache().prefetch(buffer_size=AUTOTUNE)"
   ]
  },
  {
   "cell_type": "markdown",
   "id": "10d6c896",
   "metadata": {},
   "source": [
    "### Create Model - Kanji"
   ]
  },
  {
   "cell_type": "code",
   "execution_count": 9,
   "id": "beee5774",
   "metadata": {},
   "outputs": [
    {
     "name": "stdout",
     "output_type": "stream",
     "text": [
      "Model: \"sequential_1\"\n",
      "_________________________________________________________________\n",
      " Layer (type)                Output Shape              Param #   \n",
      "=================================================================\n",
      " conv2d_2 (Conv2D)           (None, 62, 62, 32)        896       \n",
      "                                                                 \n",
      " dropout_1 (Dropout)         (None, 62, 62, 32)        0         \n",
      "                                                                 \n",
      " conv2d_3 (Conv2D)           (None, 60, 60, 64)        18496     \n",
      "                                                                 \n",
      " average_pooling2d_1 (Averag  (None, 30, 30, 64)       0         \n",
      " ePooling2D)                                                     \n",
      "                                                                 \n",
      " flatten_1 (Flatten)         (None, 57600)             0         \n",
      "                                                                 \n",
      " dense_2 (Dense)             (None, 50)                2880050   \n",
      "                                                                 \n",
      " dense_3 (Dense)             (None, 50)                2550      \n",
      "                                                                 \n",
      "=================================================================\n",
      "Total params: 2,901,992\n",
      "Trainable params: 2,901,992\n",
      "Non-trainable params: 0\n",
      "_________________________________________________________________\n"
     ]
    }
   ],
   "source": [
    "num_classes = 50\n",
    "kanji_model = generate_model(num_classes, kanji_input_shape)\n",
    "kanji_model.summary()"
   ]
  },
  {
   "cell_type": "markdown",
   "id": "be85919a",
   "metadata": {},
   "source": [
    "### Run Model - Kanji"
   ]
  },
  {
   "cell_type": "code",
   "execution_count": 10,
   "id": "39acef4e",
   "metadata": {},
   "outputs": [
    {
     "name": "stdout",
     "output_type": "stream",
     "text": [
      "Epoch 1/12\n",
      "894/894 [==============================] - 251s 280ms/step - loss: 2.8717 - accuracy: 0.4728 - val_loss: 1.1666 - val_accuracy: 0.7001\n",
      "Epoch 2/12\n",
      "894/894 [==============================] - 256s 286ms/step - loss: 0.6628 - accuracy: 0.8270 - val_loss: 0.6769 - val_accuracy: 0.8254\n",
      "Epoch 3/12\n",
      "894/894 [==============================] - 253s 283ms/step - loss: 0.3000 - accuracy: 0.9159 - val_loss: 0.6459 - val_accuracy: 0.8504\n",
      "Epoch 4/12\n",
      "894/894 [==============================] - 253s 282ms/step - loss: 0.1613 - accuracy: 0.9542 - val_loss: 0.6918 - val_accuracy: 0.8464\n",
      "Epoch 5/12\n",
      "894/894 [==============================] - 255s 285ms/step - loss: 0.1286 - accuracy: 0.9600 - val_loss: 0.8239 - val_accuracy: 0.8486\n",
      "Epoch 6/12\n",
      "894/894 [==============================] - 267s 298ms/step - loss: 0.1006 - accuracy: 0.9694 - val_loss: 0.8303 - val_accuracy: 0.8507\n",
      "INFO:tensorflow:Assets written to: justin_kanji_model\\assets\n"
     ]
    }
   ],
   "source": [
    "callback = tf.keras.callbacks.EarlyStopping(monitor='val_loss', patience=3)\n",
    "\n",
    "kanji_history = kanji_model.fit(kanji_dataset_train, batch_size=batch_size, epochs=epochs,\n",
    "              callbacks=callback, verbose=1, validation_data=kanji_dataset_val)\n",
    "\n",
    "kanji_model.save('justin_kanji_model')"
   ]
  },
  {
   "cell_type": "markdown",
   "id": "e7a58e79",
   "metadata": {},
   "source": [
    "### Visualize Results - Kanji"
   ]
  },
  {
   "cell_type": "code",
   "execution_count": 11,
   "id": "4e308a9b",
   "metadata": {
    "scrolled": false
   },
   "outputs": [
    {
     "name": "stdout",
     "output_type": "stream",
     "text": [
      "0.9694405794143677\n",
      "0.8506975769996643\n"
     ]
    },
    {
     "data": {
      "image/png": "[encoded data removed]",
      "text/plain": [
       "<Figure size 640x480 with 1 Axes>"
      ]
     },
     "metadata": {},
     "output_type": "display_data"
    }
   ],
   "source": [
    "create_visuals(\"Classification Results of Kanji\", kanji_history, kanji_dataset_val, kanji_dataset_val)"
   ]
  },
  {
   "cell_type": "markdown",
   "id": "f5870b2b",
   "metadata": {},
   "source": [
    "## Transfer Learning on the Final Dataset"
   ]
  },
  {
   "cell_type": "markdown",
   "id": "544065a6",
   "metadata": {},
   "source": [
    "### Modifying the Kanji Images"
   ]
  },
  {
   "cell_type": "code",
   "execution_count": 13,
   "id": "8e3e7438",
   "metadata": {},
   "outputs": [],
   "source": [
    "# The original Kanji dataset contains images that are 64x64. Since we are transferring the learning\n",
    "#   from models that trained on 28x28 images, the Kanji images must be downscaled accordingly.\n",
    "import os\n",
    "import random\n",
    "from skimage.transform import rescale\n",
    "from skimage import io\n",
    "\n",
    "def attempt_load(name):\n",
    "    if os.path.isdir(name):\n",
    "        return models.load_model(name)\n",
    "    else:\n",
    "        print(f\"Invalid model name {name}\")\n",
    "        \n",
    "# Returns a list of the names of the copied directories \n",
    "def replicate_folder_structure(original_data, write_path):\n",
    "    for root, directory, files in os.walk(original_data):\n",
    "        for direc in directory:\n",
    "            os.mkdir(write_path + '\\\\' + direc)\n",
    "\n",
    "# Scale the image to the desired size\n",
    "def rescale_image(load_path, save_path, image_scale):\n",
    "    kanji_char = io.imread(load_path)\n",
    "    rescaled_image = rescale(kanji_char, image_scale, anti_aliasing=True, clip=True)\n",
    "    io.imsave(save_path, rescaled_image)"
   ]
  },
  {
   "cell_type": "code",
   "execution_count": null,
   "id": "cba39fb0",
   "metadata": {},
   "outputs": [],
   "source": [
    "# # NOTE: This code only needs to be run a single time to generate a smaller copy of the original dataset\n",
    "# image_scale_factor = 28/64\n",
    "# original_dataset = '..\\..\\Datasets\\\\final_dataset'\n",
    "# write_filepath = '..\\..\\Datasets\\\\modified_final_dataset'\n",
    "\n",
    "# if not os.path.exists(write_filepath):\n",
    "#     os.mkdir(write_filepath)\n",
    "#     replicate_folder_structure(original_dataset, write_filepath)\n",
    "\n",
    "# # Now resize every image and save it in the new folder\n",
    "# for directory in os.walk(original_dataset):\n",
    "#     for file in directory[2]:\n",
    "#         if file.endswith(\".png\"):\n",
    "#             current_dir = directory[0].split('\\\\')[-1]                      # Find the current directory\n",
    "#             load_path = directory[0] + '\\\\' + file                          # Generate load path..\n",
    "#             save_path = write_filepath + '\\\\' + current_dir + '\\\\' + file   # .. and save path with current directory\n",
    "#             rescale_image(load_path, save_path, image_scale_factor)"
   ]
  },
  {
   "cell_type": "markdown",
   "id": "b3ad3505",
   "metadata": {},
   "source": [
    "### Load the Newly Modified Dataset"
   ]
  },
  {
   "cell_type": "code",
   "execution_count": 18,
   "id": "56f47068",
   "metadata": {},
   "outputs": [
    {
     "name": "stdout",
     "output_type": "stream",
     "text": [
      "Found 70599 files belonging to 150 classes.\n",
      "Using 49420 files for training.\n",
      "Found 70599 files belonging to 150 classes.\n",
      "Using 21179 files for validation.\n",
      "Done!\n"
     ]
    }
   ],
   "source": [
    "prefix = '..\\..\\Datasets\\\\'\n",
    "data_path = prefix + 'modified_final_dataset'\n",
    "mod_size = (28, 28)\n",
    "\n",
    "mod_kanji_train_final = tf.keras.utils.image_dataset_from_directory(data_path, validation_split=0.3,\n",
    "                        seed=222, subset=\"training\", color_mode=\"grayscale\", image_size=mod_size, batch_size=32)\n",
    "\n",
    "mod_kanji_val_final = tf.keras.utils.image_dataset_from_directory(data_path, validation_split=0.3,\n",
    "                        seed=222, subset=\"validation\", color_mode=\"grayscale\", image_size=mod_size, batch_size=32)\n",
    "\n",
    "print(\"Done!\")"
   ]
  },
  {
   "cell_type": "markdown",
   "id": "e184a8e0",
   "metadata": {},
   "source": [
    "### Load a Base Model and Freeze all Layers"
   ]
  },
  {
   "cell_type": "code",
   "execution_count": 16,
   "id": "dca09e24",
   "metadata": {},
   "outputs": [
    {
     "name": "stdout",
     "output_type": "stream",
     "text": [
      "Model: \"sequential\"\n",
      "_________________________________________________________________\n",
      " Layer (type)                Output Shape              Param #   \n",
      "=================================================================\n",
      " conv2d (Conv2D)             (None, 26, 26, 32)        320       \n",
      "                                                                 \n",
      " dropout (Dropout)           (None, 26, 26, 32)        0         \n",
      "                                                                 \n",
      " conv2d_1 (Conv2D)           (None, 24, 24, 64)        18496     \n",
      "                                                                 \n",
      " average_pooling2d (AverageP  (None, 12, 12, 64)       0         \n",
      " ooling2D)                                                       \n",
      "                                                                 \n",
      "=================================================================\n",
      "Total params: 18,816\n",
      "Trainable params: 0\n",
      "Non-trainable params: 18,816\n",
      "_________________________________________________________________\n"
     ]
    }
   ],
   "source": [
    "k49_base_model = attempt_load('justin_k49_model')\n",
    "\n",
    "# Since the last 3 layers of the base model are Flattening and Dense layers, those need to be popped\n",
    "k49_base_model.pop()\n",
    "k49_base_model.pop()\n",
    "k49_base_model.pop()\n",
    "k49_base_model.trainable = False\n",
    "\n",
    "k49_base_model.summary()"
   ]
  },
  {
   "cell_type": "markdown",
   "id": "0abe75cb",
   "metadata": {},
   "source": [
    "### Create a Top Model on Your Base"
   ]
  },
  {
   "cell_type": "code",
   "execution_count": 17,
   "id": "86876b32",
   "metadata": {},
   "outputs": [
    {
     "name": "stdout",
     "output_type": "stream",
     "text": [
      "Model: \"sequential_1\"\n",
      "_________________________________________________________________\n",
      " Layer (type)                Output Shape              Param #   \n",
      "=================================================================\n",
      " sequential (Sequential)     (None, 12, 12, 64)        18816     \n",
      "                                                                 \n",
      " test_conv (Conv2D)          (None, 10, 10, 32)        18464     \n",
      "                                                                 \n",
      " dropout (Dropout)           (None, 10, 10, 32)        0         \n",
      "                                                                 \n",
      " conv2d (Conv2D)             (None, 8, 8, 64)          18496     \n",
      "                                                                 \n",
      " average_pooling2d (AverageP  (None, 4, 4, 64)         0         \n",
      " ooling2D)                                                       \n",
      "                                                                 \n",
      " flatten (Flatten)           (None, 1024)              0         \n",
      "                                                                 \n",
      " dense (Dense)               (None, 150)               153750    \n",
      "                                                                 \n",
      "=================================================================\n",
      "Total params: 209,526\n",
      "Trainable params: 190,710\n",
      "Non-trainable params: 18,816\n",
      "_________________________________________________________________\n"
     ]
    }
   ],
   "source": [
    "mod_kanji_input_shape = (28, 28, 1)\n",
    "\n",
    "tl_model = Sequential()\n",
    "tl_model.add(k49_base_model)                              # Base..\n",
    "tl_model.add(Conv2D(32, kernel_size=(3, 3),               # ..everything else\n",
    "                 activation='relu',\n",
    "                 name = \"test_conv\",\n",
    "                 input_shape=mod_kanji_input_shape))\n",
    "tl_model.add(Dropout(0.25))\n",
    "tl_model.add(Conv2D(64, (3, 3), activation='relu'))\n",
    "tl_model.add(AveragePooling2D(pool_size=(2, 2), strides=None, padding=\"valid\"))\n",
    "tl_model.add(Flatten())\n",
    "tl_model.add(Dense(150))\n",
    "\n",
    "tl_model.summary()"
   ]
  },
  {
   "cell_type": "markdown",
   "id": "145ad583",
   "metadata": {},
   "source": [
    "### Train the New Model"
   ]
  },
  {
   "cell_type": "code",
   "execution_count": 20,
   "id": "f1a927d5",
   "metadata": {
    "scrolled": false
   },
   "outputs": [
    {
     "name": "stdout",
     "output_type": "stream",
     "text": [
      "Epoch 1/12\n",
      "1545/1545 [==============================] - 72s 46ms/step - loss: 0.3035 - accuracy: 0.9385 - val_loss: 0.5977 - val_accuracy: 0.9075\n",
      "Epoch 2/12\n",
      "1545/1545 [==============================] - 75s 48ms/step - loss: 0.3191 - accuracy: 0.9372 - val_loss: 0.6581 - val_accuracy: 0.8968\n",
      "Epoch 3/12\n",
      "1545/1545 [==============================] - 77s 50ms/step - loss: 0.3071 - accuracy: 0.9403 - val_loss: 0.6477 - val_accuracy: 0.9097\n",
      "Epoch 4/12\n",
      "1545/1545 [==============================] - 87s 56ms/step - loss: 0.3144 - accuracy: 0.9425 - val_loss: 0.7653 - val_accuracy: 0.9070\n"
     ]
    }
   ],
   "source": [
    "callback = tf.keras.callbacks.EarlyStopping(monitor='val_loss', patience=3)\n",
    "\n",
    "tl_model.compile(loss=tf.keras.losses.SparseCategoricalCrossentropy(from_logits=True),\n",
    "                  optimizer=\"adam\",\n",
    "                  metrics=['accuracy'])\n",
    "\n",
    "tl_history = tl_model.fit(mod_kanji_train_final, batch_size=batch_size, epochs=epochs,\n",
    "              callbacks=callback, verbose=1, validation_data=mod_kanji_val_final)\n",
    "\n",
    "# tl_model.save(\"tl_model.h5\", save_format='h5')"
   ]
  },
  {
   "cell_type": "code",
   "execution_count": 9,
   "id": "6b4fef6e",
   "metadata": {},
   "outputs": [
    {
     "name": "stdout",
     "output_type": "stream",
     "text": [
      "0.9657011032104492\n",
      "0.9580608010292053\n"
     ]
    },
    {
     "data": {
      "image/png": "[encoded data removed]",
      "text/plain": [
       "<Figure size 640x480 with 1 Axes>"
      ]
     },
     "metadata": {},
     "output_type": "display_data"
    }
   ],
   "source": [
    "create_visuals(\"Classification Results of Kanji\", tl_history, kanji_dataset_val, kanji_dataset_val)"
   ]
  },
  {
   "cell_type": "code",
   "execution_count": null,
   "id": "941de803",
   "metadata": {},
   "outputs": [],
   "source": [
    "# # Use this when you want to load your model\n",
    "# test_load = tf.keras.models.load_model('tl_model.h5')\n",
    "\n",
    "# # If you have custom objects that you need to load...\n",
    "# # test_laod = tf.keras.models.load_model('basic_tl_model.h5', custom_objects={'ObjectName': Object})\n",
    "\n",
    "# test_load.summary()"
   ]
  },
  {
   "cell_type": "markdown",
   "id": "98df9b0d",
   "metadata": {},
   "source": [
    "### Creating a Better Base Model"
   ]
  },
  {
   "cell_type": "code",
   "execution_count": 9,
   "id": "4151bafc",
   "metadata": {
    "scrolled": true
   },
   "outputs": [
    {
     "name": "stdout",
     "output_type": "stream",
     "text": [
      "Model: \"sequential_2\"\n",
      "_________________________________________________________________\n",
      " Layer (type)                Output Shape              Param #   \n",
      "=================================================================\n",
      " conv2d_5 (Conv2D)           (None, 26, 26, 32)        320       \n",
      "                                                                 \n",
      " conv2d_6 (Conv2D)           (None, 24, 24, 64)        18496     \n",
      "                                                                 \n",
      " dropout_2 (Dropout)         (None, 24, 24, 64)        0         \n",
      "                                                                 \n",
      " average_pooling2d_2 (Averag  (None, 12, 12, 64)       0         \n",
      " ePooling2D)                                                     \n",
      "                                                                 \n",
      " conv2d_7 (Conv2D)           (None, 10, 10, 48)        27696     \n",
      "                                                                 \n",
      " flatten_2 (Flatten)         (None, 4800)              0         \n",
      "                                                                 \n",
      " dense_4 (Dense)             (None, 49)                235249    \n",
      "                                                                 \n",
      " dense_5 (Dense)             (None, 49)                2450      \n",
      "                                                                 \n",
      "=================================================================\n",
      "Total params: 284,211\n",
      "Trainable params: 284,211\n",
      "Non-trainable params: 0\n",
      "_________________________________________________________________\n"
     ]
    }
   ],
   "source": [
    "num_classes = 49\n",
    "\n",
    "k49_2 = Sequential()\n",
    "k49_2.add(Conv2D(32, (3, 3), activation='relu', input_shape=k49_input_shape))\n",
    "k49_2.add(Conv2D(64, (3, 3), activation='relu', input_shape=k49_input_shape))\n",
    "k49_2.add(Dropout(0.25))\n",
    "k49_2.add(AveragePooling2D(pool_size=(2, 2), strides=None, padding=\"valid\"))\n",
    "k49_2.add(Conv2D(48, (3, 3), activation='relu', input_shape=k49_input_shape))\n",
    "k49_2.add(Flatten())\n",
    "k49_2.add(Dense(num_classes, activation='relu'))\n",
    "k49_2.add(Dense(num_classes))\n",
    "\n",
    "k49_2.compile(loss=tf.keras.losses.SparseCategoricalCrossentropy(from_logits=True),\n",
    "              optimizer=\"adam\",\n",
    "              metrics=['accuracy'])\n",
    "\n",
    "k49_2.summary()"
   ]
  },
  {
   "cell_type": "code",
   "execution_count": 10,
   "id": "466ebb51",
   "metadata": {
    "scrolled": true
   },
   "outputs": [
    {
     "name": "stdout",
     "output_type": "stream",
     "text": [
      "Epoch 1/12\n",
      "1816/1816 [==============================] - 416s 228ms/step - loss: 0.5942 - accuracy: 0.8454 - val_loss: 0.5555 - val_accuracy: 0.8550\n",
      "Epoch 2/12\n",
      "1816/1816 [==============================] - 412s 227ms/step - loss: 0.2302 - accuracy: 0.9373 - val_loss: 0.4256 - val_accuracy: 0.8901\n",
      "Epoch 3/12\n",
      "1816/1816 [==============================] - 412s 227ms/step - loss: 0.1663 - accuracy: 0.9534 - val_loss: 0.3823 - val_accuracy: 0.9066\n",
      "Epoch 4/12\n",
      "1816/1816 [==============================] - 423s 233ms/step - loss: 0.1308 - accuracy: 0.9626 - val_loss: 0.3746 - val_accuracy: 0.9083\n",
      "Epoch 5/12\n",
      "1816/1816 [==============================] - 398s 219ms/step - loss: 0.1066 - accuracy: 0.9690 - val_loss: 0.3738 - val_accuracy: 0.9141\n",
      "Epoch 6/12\n",
      "1816/1816 [==============================] - 375s 207ms/step - loss: 0.0883 - accuracy: 0.9731 - val_loss: 0.3953 - val_accuracy: 0.9130\n",
      "Epoch 7/12\n",
      "1816/1816 [==============================] - 418s 230ms/step - loss: 0.0756 - accuracy: 0.9765 - val_loss: 0.3958 - val_accuracy: 0.9126\n",
      "Epoch 8/12\n",
      "1816/1816 [==============================] - 366s 202ms/step - loss: 0.0648 - accuracy: 0.9798 - val_loss: 0.4240 - val_accuracy: 0.9161\n"
     ]
    }
   ],
   "source": [
    "callback = tf.keras.callbacks.EarlyStopping(monitor='val_loss', patience=3)\n",
    "\n",
    "k49_2_history = k49_2.fit(k49_train_images, k49_train_labels, batch_size=batch_size, epochs=epochs,\n",
    "              callbacks=callback, verbose=1, validation_data=(k49_test_images, k49_test_labels))\n",
    "\n",
    "# k49_2.save('k49_2_model')"
   ]
  },
  {
   "cell_type": "code",
   "execution_count": 14,
   "id": "a4676464",
   "metadata": {},
   "outputs": [
    {
     "name": "stdout",
     "output_type": "stream",
     "text": [
      "Model: \"sequential_2\"\n",
      "_________________________________________________________________\n",
      " Layer (type)                Output Shape              Param #   \n",
      "=================================================================\n",
      " conv2d_5 (Conv2D)           (None, 26, 26, 32)        320       \n",
      "                                                                 \n",
      " conv2d_6 (Conv2D)           (None, 24, 24, 64)        18496     \n",
      "                                                                 \n",
      " dropout_2 (Dropout)         (None, 24, 24, 64)        0         \n",
      "                                                                 \n",
      " average_pooling2d_2 (Averag  (None, 12, 12, 64)       0         \n",
      " ePooling2D)                                                     \n",
      "                                                                 \n",
      " conv2d_7 (Conv2D)           (None, 10, 10, 48)        27696     \n",
      "                                                                 \n",
      "=================================================================\n",
      "Total params: 46,512\n",
      "Trainable params: 0\n",
      "Non-trainable params: 46,512\n",
      "_________________________________________________________________\n"
     ]
    }
   ],
   "source": [
    "final_base = attempt_load(\"k49_2_model\")\n",
    "final_base.pop()\n",
    "final_base.pop()\n",
    "final_base.pop()\n",
    "final_base.trainable = False\n",
    "\n",
    "final_base.summary()"
   ]
  },
  {
   "cell_type": "code",
   "execution_count": 38,
   "id": "c3153ae9",
   "metadata": {},
   "outputs": [
    {
     "name": "stdout",
     "output_type": "stream",
     "text": [
      "Model: \"sequential_8\"\n",
      "_________________________________________________________________\n",
      " Layer (type)                Output Shape              Param #   \n",
      "=================================================================\n",
      " sequential_2 (Sequential)   (None, 10, 10, 48)        46512     \n",
      "                                                                 \n",
      " conv2d_23 (Conv2D)          (None, 8, 8, 48)          20784     \n",
      "                                                                 \n",
      " average_pooling2d_4 (Averag  (None, 4, 4, 48)         0         \n",
      " ePooling2D)                                                     \n",
      "                                                                 \n",
      " dropout_8 (Dropout)         (None, 4, 4, 48)          0         \n",
      "                                                                 \n",
      " conv2d_24 (Conv2D)          (None, 2, 2, 32)          13856     \n",
      "                                                                 \n",
      " flatten_7 (Flatten)         (None, 128)               0         \n",
      "                                                                 \n",
      " dense_14 (Dense)            (None, 150)               19350     \n",
      "                                                                 \n",
      " dense_15 (Dense)            (None, 150)               22650     \n",
      "                                                                 \n",
      "=================================================================\n",
      "Total params: 123,152\n",
      "Trainable params: 76,640\n",
      "Non-trainable params: 46,512\n",
      "_________________________________________________________________\n"
     ]
    }
   ],
   "source": [
    "in_shape = (28, 28, 1)\n",
    "\n",
    "final_tl_test = Sequential()\n",
    "final_tl_test.add(final_base)                              # Base..\n",
    "final_tl_test.add(Conv2D(48, (3, 3), activation='sigmoid', input_shape=in_shape))\n",
    "final_tl_test.add(AveragePooling2D(pool_size=(2, 2)))\n",
    "final_tl_test.add(Dropout(0.2))\n",
    "final_tl_test.add(Conv2D(32, (3, 3), activation='sigmoid'))\n",
    "final_tl_test.add(Flatten())\n",
    "final_tl_test.add(Dense(150, activation='relu'))\n",
    "final_tl_test.add(Dense(150))\n",
    "\n",
    "final_tl_test.summary()"
   ]
  },
  {
   "cell_type": "code",
   "execution_count": 39,
   "id": "9d420cd7",
   "metadata": {},
   "outputs": [
    {
     "name": "stdout",
     "output_type": "stream",
     "text": [
      "Epoch 1/12\n",
      "1545/1545 [==============================] - 48s 31ms/step - loss: 2.1411 - accuracy: 0.5249 - val_loss: 0.9241 - val_accuracy: 0.7675\n",
      "Epoch 2/12\n",
      "1545/1545 [==============================] - 53s 34ms/step - loss: 0.8146 - accuracy: 0.7937 - val_loss: 0.6053 - val_accuracy: 0.8427\n",
      "Epoch 3/12\n",
      "1545/1545 [==============================] - 53s 34ms/step - loss: 0.6138 - accuracy: 0.8397 - val_loss: 0.4983 - val_accuracy: 0.8705\n",
      "Epoch 4/12\n",
      "1545/1545 [==============================] - 54s 35ms/step - loss: 0.5168 - accuracy: 0.8637 - val_loss: 0.4304 - val_accuracy: 0.8871\n",
      "Epoch 5/12\n",
      "1545/1545 [==============================] - 52s 34ms/step - loss: 0.4585 - accuracy: 0.8774 - val_loss: 0.3937 - val_accuracy: 0.8957\n",
      "Epoch 6/12\n",
      "1545/1545 [==============================] - 53s 35ms/step - loss: 0.4191 - accuracy: 0.8883 - val_loss: 0.3610 - val_accuracy: 0.9045\n",
      "Epoch 7/12\n",
      "1545/1545 [==============================] - 61s 40ms/step - loss: 0.3845 - accuracy: 0.8979 - val_loss: 0.3436 - val_accuracy: 0.9090\n",
      "Epoch 8/12\n",
      "1545/1545 [==============================] - 55s 35ms/step - loss: 0.3556 - accuracy: 0.9021 - val_loss: 0.3288 - val_accuracy: 0.9123\n",
      "Epoch 9/12\n",
      "1545/1545 [==============================] - 54s 35ms/step - loss: 0.3344 - accuracy: 0.9099 - val_loss: 0.3188 - val_accuracy: 0.9167\n",
      "Epoch 10/12\n",
      "1545/1545 [==============================] - 54s 35ms/step - loss: 0.3179 - accuracy: 0.9135 - val_loss: 0.3029 - val_accuracy: 0.9219\n",
      "Epoch 11/12\n",
      "1545/1545 [==============================] - 54s 35ms/step - loss: 0.3073 - accuracy: 0.9160 - val_loss: 0.2931 - val_accuracy: 0.9245\n",
      "Epoch 12/12\n",
      "1545/1545 [==============================] - 55s 36ms/step - loss: 0.2838 - accuracy: 0.9217 - val_loss: 0.2875 - val_accuracy: 0.9271\n"
     ]
    }
   ],
   "source": [
    "callback = tf.keras.callbacks.EarlyStopping(monitor='val_loss', patience=3)\n",
    "\n",
    "final_tl_test.compile(loss=tf.keras.losses.SparseCategoricalCrossentropy(from_logits=True),\n",
    "                  optimizer=\"adam\",\n",
    "                  metrics=['accuracy'])\n",
    "\n",
    "final_test_history = final_tl_test.fit(final_train, batch_size=batch_size, epochs=epochs,\n",
    "              callbacks=callback, verbose=1, validation_data=final_val)\n",
    "\n",
    "# final_tl_test.save('best_k49_tl_model.h5', save_format='h5')"
   ]
  },
  {
   "cell_type": "markdown",
   "id": "9a82c2d2",
   "metadata": {},
   "source": [
    "### Optuna Model\n"
   ]
  },
  {
   "cell_type": "code",
   "execution_count": 16,
   "id": "94f7a546",
   "metadata": {},
   "outputs": [
    {
     "name": "stdout",
     "output_type": "stream",
     "text": [
      "Done!\n"
     ]
    }
   ],
   "source": [
    "import numpy as np\n",
    "import tensorflow as tf\n",
    "import os\n",
    "import optuna\n",
    "import random\n",
    "\n",
    "import matplotlib.pyplot as plt\n",
    "\n",
    "from tensorflow.keras import layers, models\n",
    "\n",
    "print(\"Done!\")"
   ]
  },
  {
   "cell_type": "code",
   "execution_count": 17,
   "id": "97b5c77d",
   "metadata": {},
   "outputs": [
    {
     "name": "stdout",
     "output_type": "stream",
     "text": [
      "Found 70599 files belonging to 150 classes.\n",
      "Using 49420 files for training.\n",
      "Found 70599 files belonging to 150 classes.\n",
      "Using 21179 files for validation.\n",
      "Done!\n"
     ]
    }
   ],
   "source": [
    "prefix = '..\\..\\Datasets\\\\'\n",
    "data_path = prefix + 'modified_final_dataset'\n",
    "mod_size = (28, 28)\n",
    "\n",
    "final_train = tf.keras.utils.image_dataset_from_directory(data_path, validation_split=0.3,\n",
    "                        seed=222, subset=\"training\", color_mode=\"grayscale\", image_size=mod_size, batch_size=32)\n",
    "\n",
    "final_val = tf.keras.utils.image_dataset_from_directory(data_path, validation_split=0.3,\n",
    "                        seed=222, subset=\"validation\", color_mode=\"grayscale\", image_size=mod_size, batch_size=32)\n",
    "\n",
    "print(\"Done!\")"
   ]
  },
  {
   "cell_type": "markdown",
   "id": "3023193c",
   "metadata": {},
   "source": [
    "#### Data Rescaling"
   ]
  },
  {
   "cell_type": "code",
   "execution_count": 18,
   "id": "a3677b32",
   "metadata": {},
   "outputs": [
    {
     "name": "stdout",
     "output_type": "stream",
     "text": [
      "0.0 1.0\n"
     ]
    }
   ],
   "source": [
    "normalization_layer = tf.keras.layers.Rescaling(1./255)\n",
    "\n",
    "normalized_ds = final_train.map(lambda x, y: (normalization_layer(x), y))\n",
    "image_batch, labels_batch = next(iter(normalized_ds))\n",
    "first_image = image_batch[0]\n",
    "# Notice the pixel values are now in `[0,1]`.\n",
    "print(np.min(first_image), np.max(first_image))"
   ]
  },
  {
   "cell_type": "markdown",
   "id": "8c052eae",
   "metadata": {},
   "source": [
    "#### Training Performance Optimizations"
   ]
  },
  {
   "cell_type": "code",
   "execution_count": 19,
   "id": "7c6ec5a1",
   "metadata": {},
   "outputs": [
    {
     "name": "stdout",
     "output_type": "stream",
     "text": [
      "Done!\n"
     ]
    }
   ],
   "source": [
    "AUTOTUNE = tf.data.AUTOTUNE\n",
    "\n",
    "final_train = final_train.cache().prefetch(buffer_size=AUTOTUNE)\n",
    "final_val = final_val.cache().prefetch(buffer_size=AUTOTUNE)\n",
    "print(\"Done!\")"
   ]
  },
  {
   "cell_type": "markdown",
   "id": "2cb1a3d7",
   "metadata": {},
   "source": [
    "### Hyperparameter Tuning"
   ]
  },
  {
   "cell_type": "code",
   "execution_count": null,
   "id": "c3e6d4a7",
   "metadata": {
    "scrolled": true
   },
   "outputs": [],
   "source": [
    "def load_base_model():\n",
    "    bm = tf.keras.models.load_model('even_better_base.h5')\n",
    "    bm.pop()\n",
    "    bm.pop()\n",
    "    bm.pop()\n",
    "    bm.trainable = False\n",
    "    return bm\n",
    "    \n",
    "\n",
    "def objective(trial):\n",
    "    # The following is where you suggest your search space per trial (integer, categorical and floating point values)\n",
    "    l1_filters = trial.suggest_int('first_layer_kernel', 16, 64)\n",
    "    l1_activation = trial.suggest_categorical('first_layer_activation', ['relu', 'sigmoid', 'tanh'])\n",
    "    l2_filters = trial.suggest_int('second_layer_kernel', 16, 64)\n",
    "    l2_activation = trial.suggest_categorical('second_layer_activation', ['relu', 'sigmoid', 'tanh'])\n",
    "    average_pooling_size = trial.suggest_int('average_pooling_size', 2, 2)\n",
    "#     l3_filters = trial.suggest_int('third_layer_kernel', 16, 64)\n",
    "#     l3_activation = trial.suggest_categorical('third_layer_activation', ['relu', 'sigmoid', 'tanh'])\n",
    "    dense_layer_size = trial.suggest_int('dense_layer_size', 32, 128)\n",
    "    dense_layer_activation = trial.suggest_categorical('dense_layer_activation', ['relu', 'sigmoid', 'tanh'])\n",
    "    \n",
    "    # Based on the optuna variables returned you can build a new architecture\n",
    "    # Load the frozen base model\n",
    "    base_model = load_base_model()\n",
    "    mod_kanji_input_shape = (28, 28, 1)\n",
    "    \n",
    "    model = Sequential()\n",
    "    model.add(ba_m)\n",
    "    model.add(Conv2D(32, (3, 3), activation='sigmoid', input_shape=my_shape))\n",
    "    model.add(Conv2D(64, (3, 3), activation='sigmoid', input_shape=my_shape))\n",
    "    model.add(AveragePooling2D((2, 2)))\n",
    "    model.add(Flatten())\n",
    "    model.add(Dense(64, activation=\"sigmoid\"))\n",
    "    model.add(Dense(150))\n",
    "\n",
    "    model.compile(optimizer='adam',\n",
    "              loss=tf.keras.losses.SparseCategoricalCrossentropy(from_logits=True),\n",
    "              metrics=[tf.keras.metrics.SparseCategoricalCrossentropy(), 'accuracy'])\n",
    "\n",
    "    model.summary()\n",
    "\n",
    "    callback = tf.keras.callbacks.EarlyStopping(monitor='accuracy', patience=3)\n",
    "\n",
    "    history = model.fit(final_train, epochs=15,\n",
    "                    callbacks=callback, validation_data=final_val)\n",
    "\n",
    "    # Following line is very important as this is the metric that optuna uses to optimize over\n",
    "    return history.history['val_accuracy'][-1]\n",
    "\n",
    "# Run a study\n",
    "study4 = optuna.create_study(direction='maximize', study_name=\"Study4\")\n",
    "study4.optimize(objective, n_trials=15)\n",
    "    "
   ]
  },
  {
   "cell_type": "code",
   "execution_count": 39,
   "id": "9c84e73d",
   "metadata": {},
   "outputs": [
    {
     "name": "stdout",
     "output_type": "stream",
     "text": [
      "Best trial info:\n",
      "FrozenTrial(number=8, values=[0.8994758725166321], datetime_start=datetime.datetime(2022, 11, 27, 1, 59, 20, 924670), datetime_complete=datetime.datetime(2022, 11, 27, 2, 32, 47, 748629), params={'first_layer_kernel': 47, 'first_layer_activation': 'relu', 'second_layer_kernel': 50, 'second_layer_activation': 'relu', 'average_pooling_size': 2, 'dense_layer_size': 77, 'dense_layer_activation': 'relu'}, distributions={'first_layer_kernel': IntDistribution(high=64, log=False, low=16, step=1), 'first_layer_activation': CategoricalDistribution(choices=('relu', 'sigmoid', 'tanh')), 'second_layer_kernel': IntDistribution(high=64, log=False, low=16, step=1), 'second_layer_activation': CategoricalDistribution(choices=('relu', 'sigmoid', 'tanh')), 'average_pooling_size': IntDistribution(high=2, log=False, low=2, step=1), 'dense_layer_size': IntDistribution(high=128, log=False, low=32, step=1), 'dense_layer_activation': CategoricalDistribution(choices=('relu', 'sigmoid', 'tanh'))}, user_attrs={}, system_attrs={}, intermediate_values={}, trial_id=8, state=TrialState.COMPLETE, value=None)\n",
      "\n",
      "Param: first_layer_kernel\tValue: 47\n",
      "Param: first_layer_activation\tValue: relu\n",
      "Param: second_layer_kernel\tValue: 50\n",
      "Param: second_layer_activation\tValue: relu\n",
      "Param: average_pooling_size\tValue: 2\n",
      "Param: dense_layer_size\tValue: 77\n",
      "Param: dense_layer_activation\tValue: relu\n"
     ]
    }
   ],
   "source": [
    "print(f'Best trial info:\\n{study.best_trial}\\n')\n",
    "for param, value in study.best_params.items():\n",
    "    print(f'Param: {param}\\tValue: {value}')"
   ]
  },
  {
   "cell_type": "code",
   "execution_count": 45,
   "id": "c4d2ca61",
   "metadata": {},
   "outputs": [
    {
     "name": "stderr",
     "output_type": "stream",
     "text": [
      "\u001b[32m[I 2022-11-28 20:30:06,611]\u001b[0m A new study created in memory with name: Study3\u001b[0m\n"
     ]
    },
    {
     "name": "stdout",
     "output_type": "stream",
     "text": [
      "Model: \"sequential_11\"\n",
      "_________________________________________________________________\n",
      " Layer (type)                Output Shape              Param #   \n",
      "=================================================================\n",
      " sequential_2 (Sequential)   (None, 10, 10, 48)        46512     \n",
      "                                                                 \n",
      " conv2d_29 (Conv2D)          (None, 8, 8, 59)          25547     \n",
      "                                                                 \n",
      " average_pooling2d_7 (Averag  (None, 4, 4, 59)         0         \n",
      " ePooling2D)                                                     \n",
      "                                                                 \n",
      " dropout_11 (Dropout)        (None, 4, 4, 59)          0         \n",
      "                                                                 \n",
      " conv2d_30 (Conv2D)          (None, 2, 2, 35)          18620     \n",
      "                                                                 \n",
      " flatten_8 (Flatten)         (None, 140)               0         \n",
      "                                                                 \n",
      " dense_16 (Dense)            (None, 169)               23829     \n",
      "                                                                 \n",
      " dense_17 (Dense)            (None, 150)               25500     \n",
      "                                                                 \n",
      "=================================================================\n",
      "Total params: 140,008\n",
      "Trainable params: 93,496\n",
      "Non-trainable params: 46,512\n",
      "_________________________________________________________________\n",
      "None\n",
      "Epoch 1/14\n",
      "1545/1545 [==============================] - 84s 53ms/step - loss: 1.8331 - sparse_categorical_crossentropy: 4.7090 - accuracy: 0.6013 - val_loss: 0.7715 - val_sparse_categorical_crossentropy: 4.1291 - val_accuracy: 0.8156\n",
      "Epoch 2/14\n",
      "1545/1545 [==============================] - 79s 51ms/step - loss: 0.6614 - sparse_categorical_crossentropy: 4.1246 - accuracy: 0.8350 - val_loss: 0.4952 - val_sparse_categorical_crossentropy: 4.1355 - val_accuracy: 0.8758\n",
      "Epoch 3/14\n",
      "1545/1545 [==============================] - 79s 51ms/step - loss: 0.4884 - sparse_categorical_crossentropy: 4.1321 - accuracy: 0.8760 - val_loss: 0.4083 - val_sparse_categorical_crossentropy: 4.1345 - val_accuracy: 0.8948\n",
      "Epoch 4/14\n",
      "1545/1545 [==============================] - 79s 51ms/step - loss: 0.4067 - sparse_categorical_crossentropy: 4.1286 - accuracy: 0.8959 - val_loss: 0.3550 - val_sparse_categorical_crossentropy: 4.1339 - val_accuracy: 0.9059\n",
      "Epoch 5/14\n",
      "1545/1545 [==============================] - 78s 50ms/step - loss: 0.3548 - sparse_categorical_crossentropy: 4.1277 - accuracy: 0.9073 - val_loss: 0.3194 - val_sparse_categorical_crossentropy: 4.1329 - val_accuracy: 0.9167\n",
      "Epoch 6/14\n",
      "1545/1545 [==============================] - 78s 51ms/step - loss: 0.3200 - sparse_categorical_crossentropy: 4.1258 - accuracy: 0.9162 - val_loss: 0.2978 - val_sparse_categorical_crossentropy: 4.1360 - val_accuracy: 0.9217\n",
      "Epoch 7/14\n",
      "1545/1545 [==============================] - 79s 51ms/step - loss: 0.2932 - sparse_categorical_crossentropy: 4.1290 - accuracy: 0.9228 - val_loss: 0.3002 - val_sparse_categorical_crossentropy: 4.1297 - val_accuracy: 0.9210\n",
      "Epoch 8/14\n",
      "1545/1545 [==============================] - 77s 50ms/step - loss: 0.2749 - sparse_categorical_crossentropy: 4.1216 - accuracy: 0.9260 - val_loss: 0.2774 - val_sparse_categorical_crossentropy: 4.1332 - val_accuracy: 0.9268\n",
      "Epoch 9/14\n",
      "1545/1545 [==============================] - 78s 50ms/step - loss: 0.2540 - sparse_categorical_crossentropy: 4.1213 - accuracy: 0.9320 - val_loss: 0.2736 - val_sparse_categorical_crossentropy: 4.1292 - val_accuracy: 0.9283\n",
      "Epoch 10/14\n",
      "1545/1545 [==============================] - 78s 50ms/step - loss: 0.2372 - sparse_categorical_crossentropy: 4.1212 - accuracy: 0.9359 - val_loss: 0.2637 - val_sparse_categorical_crossentropy: 4.1287 - val_accuracy: 0.9311\n",
      "Epoch 11/14\n",
      "1545/1545 [==============================] - 80s 52ms/step - loss: 0.2208 - sparse_categorical_crossentropy: 4.1184 - accuracy: 0.9399 - val_loss: 0.2686 - val_sparse_categorical_crossentropy: 4.1249 - val_accuracy: 0.9296\n",
      "Epoch 12/14\n",
      "1545/1545 [==============================] - 83s 54ms/step - loss: 0.2102 - sparse_categorical_crossentropy: 4.1166 - accuracy: 0.9427 - val_loss: 0.2605 - val_sparse_categorical_crossentropy: 4.1228 - val_accuracy: 0.9307\n",
      "Epoch 13/14\n",
      "1545/1545 [==============================] - 83s 54ms/step - loss: 0.1967 - sparse_categorical_crossentropy: 4.1152 - accuracy: 0.9455 - val_loss: 0.2464 - val_sparse_categorical_crossentropy: 4.1216 - val_accuracy: 0.9349\n",
      "Epoch 14/14\n",
      "1545/1545 [==============================] - 83s 54ms/step - loss: 0.1877 - sparse_categorical_crossentropy: 4.1141 - accuracy: 0.9479 - val_loss: 0.2516 - val_sparse_categorical_crossentropy: 4.1309 - val_accuracy: 0.9350\n"
     ]
    },
    {
     "name": "stderr",
     "output_type": "stream",
     "text": [
      "\u001b[32m[I 2022-11-28 20:48:43,759]\u001b[0m Trial 0 finished with value: 0.9350299835205078 and parameters: {'first_layer_kernel': 59, 'first_layer_activation': 'sigmoid', 'second_layer_kernel': 35, 'second_layer_activation': 'sigmoid', 'average_pooling_size': 2, 'dense_layer_size': 169, 'dense_layer_activation': 'tanh'}. Best is trial 0 with value: 0.9350299835205078.\u001b[0m\n"
     ]
    },
    {
     "name": "stdout",
     "output_type": "stream",
     "text": [
      "Model: \"sequential_12\"\n",
      "_________________________________________________________________\n",
      " Layer (type)                Output Shape              Param #   \n",
      "=================================================================\n",
      " sequential_2 (Sequential)   (None, 10, 10, 48)        46512     \n",
      "                                                                 \n",
      " conv2d_31 (Conv2D)          (None, 8, 8, 50)          21650     \n",
      "                                                                 \n",
      " average_pooling2d_8 (Averag  (None, 4, 4, 50)         0         \n",
      " ePooling2D)                                                     \n",
      "                                                                 \n",
      " dropout_12 (Dropout)        (None, 4, 4, 50)          0         \n",
      "                                                                 \n",
      " conv2d_32 (Conv2D)          (None, 2, 2, 37)          16687     \n",
      "                                                                 \n",
      " flatten_9 (Flatten)         (None, 148)               0         \n",
      "                                                                 \n",
      " dense_18 (Dense)            (None, 145)               21605     \n",
      "                                                                 \n",
      " dense_19 (Dense)            (None, 150)               21900     \n",
      "                                                                 \n",
      "=================================================================\n",
      "Total params: 128,354\n",
      "Trainable params: 81,842\n",
      "Non-trainable params: 46,512\n",
      "_________________________________________________________________\n",
      "None\n",
      "Epoch 1/14\n",
      "1545/1545 [==============================] - 90s 57ms/step - loss: 1.7077 - sparse_categorical_crossentropy: 4.4253 - accuracy: 0.6144 - val_loss: 0.7474 - val_sparse_categorical_crossentropy: 2.6094 - val_accuracy: 0.8112\n",
      "Epoch 2/14\n",
      "1545/1545 [==============================] - 88s 57ms/step - loss: 0.6833 - sparse_categorical_crossentropy: 2.3732 - accuracy: 0.8244 - val_loss: 0.5347 - val_sparse_categorical_crossentropy: 1.8273 - val_accuracy: 0.8604\n",
      "Epoch 3/14\n",
      "1545/1545 [==============================] - 87s 56ms/step - loss: 0.5282 - sparse_categorical_crossentropy: 1.7792 - accuracy: 0.8628 - val_loss: 0.4508 - val_sparse_categorical_crossentropy: 1.4216 - val_accuracy: 0.8821\n",
      "Epoch 4/14\n",
      "1545/1545 [==============================] - 87s 56ms/step - loss: 0.4650 - sparse_categorical_crossentropy: 1.4567 - accuracy: 0.8762 - val_loss: 0.4045 - val_sparse_categorical_crossentropy: 1.2531 - val_accuracy: 0.8956\n",
      "Epoch 5/14\n",
      "1545/1545 [==============================] - 87s 57ms/step - loss: 0.4087 - sparse_categorical_crossentropy: 1.2714 - accuracy: 0.8910 - val_loss: 0.3675 - val_sparse_categorical_crossentropy: 1.1312 - val_accuracy: 0.9041\n",
      "Epoch 6/14\n",
      "1545/1545 [==============================] - 88s 57ms/step - loss: 0.3711 - sparse_categorical_crossentropy: 1.1662 - accuracy: 0.9022 - val_loss: 0.3441 - val_sparse_categorical_crossentropy: 1.0517 - val_accuracy: 0.9099\n",
      "Epoch 7/14\n",
      "1545/1545 [==============================] - 88s 57ms/step - loss: 0.3477 - sparse_categorical_crossentropy: 1.0969 - accuracy: 0.9083 - val_loss: 0.3293 - val_sparse_categorical_crossentropy: 1.0365 - val_accuracy: 0.9149\n",
      "Epoch 8/14\n",
      "1545/1545 [==============================] - 88s 57ms/step - loss: 0.3230 - sparse_categorical_crossentropy: 1.0453 - accuracy: 0.9112 - val_loss: 0.3095 - val_sparse_categorical_crossentropy: 0.9933 - val_accuracy: 0.9174\n",
      "Epoch 9/14\n",
      "1545/1545 [==============================] - 89s 58ms/step - loss: 0.3012 - sparse_categorical_crossentropy: 1.0103 - accuracy: 0.9185 - val_loss: 0.3107 - val_sparse_categorical_crossentropy: 0.9961 - val_accuracy: 0.9194\n",
      "Epoch 10/14\n",
      "1545/1545 [==============================] - 90s 58ms/step - loss: 0.2896 - sparse_categorical_crossentropy: 0.9988 - accuracy: 0.9197 - val_loss: 0.3016 - val_sparse_categorical_crossentropy: 1.0061 - val_accuracy: 0.9197\n",
      "Epoch 11/14\n",
      "1545/1545 [==============================] - 88s 57ms/step - loss: 0.2716 - sparse_categorical_crossentropy: 0.9541 - accuracy: 0.9243 - val_loss: 0.2972 - val_sparse_categorical_crossentropy: 0.9817 - val_accuracy: 0.9221\n",
      "Epoch 12/14\n",
      "1545/1545 [==============================] - 88s 57ms/step - loss: 0.2616 - sparse_categorical_crossentropy: 0.9237 - accuracy: 0.9272 - val_loss: 0.2912 - val_sparse_categorical_crossentropy: 0.9625 - val_accuracy: 0.9242\n",
      "Epoch 13/14\n",
      "1545/1545 [==============================] - 88s 57ms/step - loss: 0.2470 - sparse_categorical_crossentropy: 0.8910 - accuracy: 0.9310 - val_loss: 0.2853 - val_sparse_categorical_crossentropy: 0.9365 - val_accuracy: 0.9269\n",
      "Epoch 14/14\n",
      "1545/1545 [==============================] - 88s 57ms/step - loss: 0.2388 - sparse_categorical_crossentropy: 0.8882 - accuracy: 0.9327 - val_loss: 0.2802 - val_sparse_categorical_crossentropy: 0.9344 - val_accuracy: 0.9285\n"
     ]
    },
    {
     "name": "stderr",
     "output_type": "stream",
     "text": [
      "\u001b[32m[I 2022-11-28 21:09:25,535]\u001b[0m Trial 1 finished with value: 0.9285141229629517 and parameters: {'first_layer_kernel': 50, 'first_layer_activation': 'tanh', 'second_layer_kernel': 37, 'second_layer_activation': 'sigmoid', 'average_pooling_size': 2, 'dense_layer_size': 145, 'dense_layer_activation': 'relu'}. Best is trial 0 with value: 0.9350299835205078.\u001b[0m\n"
     ]
    },
    {
     "name": "stdout",
     "output_type": "stream",
     "text": [
      "Model: \"sequential_13\"\n",
      "_________________________________________________________________\n",
      " Layer (type)                Output Shape              Param #   \n",
      "=================================================================\n",
      " sequential_2 (Sequential)   (None, 10, 10, 48)        46512     \n",
      "                                                                 \n",
      " conv2d_33 (Conv2D)          (None, 8, 8, 63)          27279     \n",
      "                                                                 \n",
      " average_pooling2d_9 (Averag  (None, 4, 4, 63)         0         \n",
      " ePooling2D)                                                     \n",
      "                                                                 \n",
      " dropout_13 (Dropout)        (None, 4, 4, 63)          0         \n",
      "                                                                 \n",
      " conv2d_34 (Conv2D)          (None, 2, 2, 36)          20448     \n",
      "                                                                 \n",
      " flatten_10 (Flatten)        (None, 144)               0         \n",
      "                                                                 \n",
      " dense_20 (Dense)            (None, 152)               22040     \n",
      "                                                                 \n",
      " dense_21 (Dense)            (None, 150)               22950     \n",
      "                                                                 \n",
      "=================================================================\n",
      "Total params: 139,229\n",
      "Trainable params: 92,717\n",
      "Non-trainable params: 46,512\n",
      "_________________________________________________________________\n",
      "None\n",
      "Epoch 1/14\n",
      "1545/1545 [==============================] - 86s 55ms/step - loss: 1.9003 - sparse_categorical_crossentropy: 4.7397 - accuracy: 0.5885 - val_loss: 0.7884 - val_sparse_categorical_crossentropy: 4.1616 - val_accuracy: 0.8157\n",
      "Epoch 2/14\n",
      "1545/1545 [==============================] - 85s 55ms/step - loss: 0.6640 - sparse_categorical_crossentropy: 4.1383 - accuracy: 0.8374 - val_loss: 0.4927 - val_sparse_categorical_crossentropy: 4.1539 - val_accuracy: 0.8768\n",
      "Epoch 3/14\n",
      "1545/1545 [==============================] - 85s 55ms/step - loss: 0.4842 - sparse_categorical_crossentropy: 4.1387 - accuracy: 0.8769 - val_loss: 0.4067 - val_sparse_categorical_crossentropy: 4.1534 - val_accuracy: 0.8946\n",
      "Epoch 4/14\n",
      "1545/1545 [==============================] - 84s 54ms/step - loss: 0.4068 - sparse_categorical_crossentropy: 4.1393 - accuracy: 0.8953 - val_loss: 0.3467 - val_sparse_categorical_crossentropy: 4.1526 - val_accuracy: 0.9127\n",
      "Epoch 5/14\n",
      "1545/1545 [==============================] - 85s 55ms/step - loss: 0.3593 - sparse_categorical_crossentropy: 4.1401 - accuracy: 0.9069 - val_loss: 0.3186 - val_sparse_categorical_crossentropy: 4.1488 - val_accuracy: 0.9160\n",
      "Epoch 6/14\n",
      "1545/1545 [==============================] - 84s 55ms/step - loss: 0.3225 - sparse_categorical_crossentropy: 4.1419 - accuracy: 0.9147 - val_loss: 0.3065 - val_sparse_categorical_crossentropy: 4.1579 - val_accuracy: 0.9183\n",
      "Epoch 7/14\n",
      "1545/1545 [==============================] - 84s 55ms/step - loss: 0.2914 - sparse_categorical_crossentropy: 4.1433 - accuracy: 0.9222 - val_loss: 0.2914 - val_sparse_categorical_crossentropy: 4.1598 - val_accuracy: 0.9222\n",
      "Epoch 8/14\n",
      "1545/1545 [==============================] - 86s 55ms/step - loss: 0.2708 - sparse_categorical_crossentropy: 4.1448 - accuracy: 0.9278 - val_loss: 0.2764 - val_sparse_categorical_crossentropy: 4.1619 - val_accuracy: 0.9259\n",
      "Epoch 9/14\n",
      "1545/1545 [==============================] - 84s 54ms/step - loss: 0.2512 - sparse_categorical_crossentropy: 4.1427 - accuracy: 0.9323 - val_loss: 0.2656 - val_sparse_categorical_crossentropy: 4.1578 - val_accuracy: 0.9297\n",
      "Epoch 10/14\n",
      "1545/1545 [==============================] - 85s 55ms/step - loss: 0.2304 - sparse_categorical_crossentropy: 4.1415 - accuracy: 0.9372 - val_loss: 0.2573 - val_sparse_categorical_crossentropy: 4.1546 - val_accuracy: 0.9323\n",
      "Epoch 11/14\n",
      "1545/1545 [==============================] - 85s 55ms/step - loss: 0.2193 - sparse_categorical_crossentropy: 4.1409 - accuracy: 0.9407 - val_loss: 0.2522 - val_sparse_categorical_crossentropy: 4.1440 - val_accuracy: 0.9330\n",
      "Epoch 12/14\n",
      "1545/1545 [==============================] - 87s 56ms/step - loss: 0.2070 - sparse_categorical_crossentropy: 4.1403 - accuracy: 0.9427 - val_loss: 0.2512 - val_sparse_categorical_crossentropy: 4.1521 - val_accuracy: 0.9339\n",
      "Epoch 13/14\n",
      "1545/1545 [==============================] - 84s 54ms/step - loss: 0.2013 - sparse_categorical_crossentropy: 4.1404 - accuracy: 0.9439 - val_loss: 0.2577 - val_sparse_categorical_crossentropy: 4.1479 - val_accuracy: 0.9313\n",
      "Epoch 14/14\n",
      "1545/1545 [==============================] - 80s 52ms/step - loss: 0.1877 - sparse_categorical_crossentropy: 4.1390 - accuracy: 0.9486 - val_loss: 0.2489 - val_sparse_categorical_crossentropy: 4.1614 - val_accuracy: 0.9355\n"
     ]
    },
    {
     "name": "stderr",
     "output_type": "stream",
     "text": [
      "\u001b[32m[I 2022-11-28 21:29:10,793]\u001b[0m Trial 2 finished with value: 0.9354549050331116 and parameters: {'first_layer_kernel': 63, 'first_layer_activation': 'sigmoid', 'second_layer_kernel': 36, 'second_layer_activation': 'sigmoid', 'average_pooling_size': 2, 'dense_layer_size': 152, 'dense_layer_activation': 'tanh'}. Best is trial 2 with value: 0.9354549050331116.\u001b[0m\n"
     ]
    },
    {
     "name": "stdout",
     "output_type": "stream",
     "text": [
      "Model: \"sequential_14\"\n",
      "_________________________________________________________________\n",
      " Layer (type)                Output Shape              Param #   \n",
      "=================================================================\n",
      " sequential_2 (Sequential)   (None, 10, 10, 48)        46512     \n",
      "                                                                 \n",
      " conv2d_35 (Conv2D)          (None, 8, 8, 64)          27712     \n",
      "                                                                 \n",
      " average_pooling2d_10 (Avera  (None, 4, 4, 64)         0         \n",
      " gePooling2D)                                                    \n",
      "                                                                 \n",
      " dropout_14 (Dropout)        (None, 4, 4, 64)          0         \n",
      "                                                                 \n",
      " conv2d_36 (Conv2D)          (None, 2, 2, 40)          23080     \n",
      "                                                                 \n",
      " flatten_11 (Flatten)        (None, 160)               0         \n",
      "                                                                 \n",
      " dense_22 (Dense)            (None, 180)               28980     \n",
      "                                                                 \n",
      " dense_23 (Dense)            (None, 150)               27150     \n",
      "                                                                 \n",
      "=================================================================\n",
      "Total params: 153,434\n",
      "Trainable params: 106,922\n",
      "Non-trainable params: 46,512\n",
      "_________________________________________________________________\n",
      "None\n",
      "Epoch 1/14\n",
      "1545/1545 [==============================] - 80s 51ms/step - loss: 2.6825 - sparse_categorical_crossentropy: 6.4163 - accuracy: 0.4252 - val_loss: 1.4987 - val_sparse_categorical_crossentropy: 3.3724 - val_accuracy: 0.6528\n",
      "Epoch 2/14\n",
      "1545/1545 [==============================] - 78s 51ms/step - loss: 1.3769 - sparse_categorical_crossentropy: 3.1764 - accuracy: 0.6692 - val_loss: 1.1590 - val_sparse_categorical_crossentropy: 2.7236 - val_accuracy: 0.7184\n",
      "Epoch 3/14\n",
      "1545/1545 [==============================] - 78s 51ms/step - loss: 1.1473 - sparse_categorical_crossentropy: 2.7803 - accuracy: 0.7134 - val_loss: 1.0177 - val_sparse_categorical_crossentropy: 2.4754 - val_accuracy: 0.7448\n",
      "Epoch 4/14\n",
      "1545/1545 [==============================] - 77s 50ms/step - loss: 1.0147 - sparse_categorical_crossentropy: 2.5232 - accuracy: 0.7434 - val_loss: 0.9238 - val_sparse_categorical_crossentropy: 2.3655 - val_accuracy: 0.7634\n",
      "Epoch 5/14\n",
      "1545/1545 [==============================] - 80s 52ms/step - loss: 0.9859 - sparse_categorical_crossentropy: 2.6768 - accuracy: 0.7468 - val_loss: 0.8964 - val_sparse_categorical_crossentropy: 2.3886 - val_accuracy: 0.7691\n",
      "Epoch 6/14\n",
      "1545/1545 [==============================] - 78s 50ms/step - loss: 0.9784 - sparse_categorical_crossentropy: 2.7575 - accuracy: 0.7491 - val_loss: 0.9544 - val_sparse_categorical_crossentropy: 2.9779 - val_accuracy: 0.7563\n",
      "Epoch 7/14\n",
      "1545/1545 [==============================] - 78s 50ms/step - loss: 0.9507 - sparse_categorical_crossentropy: 2.7166 - accuracy: 0.7543 - val_loss: 0.9034 - val_sparse_categorical_crossentropy: 2.6199 - val_accuracy: 0.7617\n",
      "Epoch 8/14\n",
      "1545/1545 [==============================] - 79s 51ms/step - loss: 0.9734 - sparse_categorical_crossentropy: 3.1266 - accuracy: 0.7460 - val_loss: 0.8750 - val_sparse_categorical_crossentropy: 3.0576 - val_accuracy: 0.7717\n",
      "Epoch 9/14\n",
      "1545/1545 [==============================] - 83s 54ms/step - loss: 0.9882 - sparse_categorical_crossentropy: 3.2332 - accuracy: 0.7402 - val_loss: 0.8747 - val_sparse_categorical_crossentropy: 3.0654 - val_accuracy: 0.7718\n",
      "Epoch 10/14\n",
      "1545/1545 [==============================] - 78s 50ms/step - loss: 0.9571 - sparse_categorical_crossentropy: 3.6846 - accuracy: 0.7476 - val_loss: 0.8630 - val_sparse_categorical_crossentropy: 3.7227 - val_accuracy: 0.7727\n"
     ]
    },
    {
     "name": "stderr",
     "output_type": "stream",
     "text": [
      "\u001b[32m[I 2022-11-28 21:42:20,070]\u001b[0m Trial 3 finished with value: 0.7727465629577637 and parameters: {'first_layer_kernel': 64, 'first_layer_activation': 'relu', 'second_layer_kernel': 40, 'second_layer_activation': 'relu', 'average_pooling_size': 2, 'dense_layer_size': 180, 'dense_layer_activation': 'sigmoid'}. Best is trial 2 with value: 0.9354549050331116.\u001b[0m\n"
     ]
    },
    {
     "name": "stdout",
     "output_type": "stream",
     "text": [
      "Model: \"sequential_15\"\n",
      "_________________________________________________________________\n",
      " Layer (type)                Output Shape              Param #   \n",
      "=================================================================\n",
      " sequential_2 (Sequential)   (None, 10, 10, 48)        46512     \n",
      "                                                                 \n",
      " conv2d_37 (Conv2D)          (None, 8, 8, 48)          20784     \n",
      "                                                                 \n",
      " average_pooling2d_11 (Avera  (None, 4, 4, 48)         0         \n",
      " gePooling2D)                                                    \n",
      "                                                                 \n",
      " dropout_15 (Dropout)        (None, 4, 4, 48)          0         \n",
      "                                                                 \n",
      " conv2d_38 (Conv2D)          (None, 2, 2, 41)          17753     \n",
      "                                                                 \n",
      " flatten_12 (Flatten)        (None, 164)               0         \n",
      "                                                                 \n",
      " dense_24 (Dense)            (None, 174)               28710     \n",
      "                                                                 \n",
      " dense_25 (Dense)            (None, 150)               26250     \n",
      "                                                                 \n",
      "=================================================================\n",
      "Total params: 140,009\n",
      "Trainable params: 93,497\n",
      "Non-trainable params: 46,512\n",
      "_________________________________________________________________\n",
      "None\n",
      "Epoch 1/14\n",
      "1545/1545 [==============================] - 77s 49ms/step - loss: 1.5783 - sparse_categorical_crossentropy: 4.5031 - accuracy: 0.6615 - val_loss: 0.6345 - val_sparse_categorical_crossentropy: 4.1246 - val_accuracy: 0.8494\n",
      "Epoch 2/14\n",
      "1545/1545 [==============================] - 77s 50ms/step - loss: 0.5753 - sparse_categorical_crossentropy: 4.1359 - accuracy: 0.8579 - val_loss: 0.4437 - val_sparse_categorical_crossentropy: 4.1417 - val_accuracy: 0.8895\n",
      "Epoch 3/14\n",
      "1545/1545 [==============================] - 76s 49ms/step - loss: 0.4366 - sparse_categorical_crossentropy: 4.1367 - accuracy: 0.8884 - val_loss: 0.3695 - val_sparse_categorical_crossentropy: 4.1441 - val_accuracy: 0.9063\n",
      "Epoch 4/14\n",
      "1545/1545 [==============================] - 79s 51ms/step - loss: 0.3714 - sparse_categorical_crossentropy: 4.1389 - accuracy: 0.9046 - val_loss: 0.3437 - val_sparse_categorical_crossentropy: 4.1499 - val_accuracy: 0.9098\n",
      "Epoch 5/14\n",
      "1545/1545 [==============================] - 80s 52ms/step - loss: 0.3318 - sparse_categorical_crossentropy: 4.1357 - accuracy: 0.9132 - val_loss: 0.3270 - val_sparse_categorical_crossentropy: 4.1471 - val_accuracy: 0.9160\n",
      "Epoch 6/14\n",
      "1545/1545 [==============================] - 81s 52ms/step - loss: 0.3024 - sparse_categorical_crossentropy: 4.1371 - accuracy: 0.9204 - val_loss: 0.3098 - val_sparse_categorical_crossentropy: 4.1518 - val_accuracy: 0.9180\n",
      "Epoch 7/14\n",
      "1545/1545 [==============================] - 81s 52ms/step - loss: 0.2741 - sparse_categorical_crossentropy: 4.1387 - accuracy: 0.9271 - val_loss: 0.2975 - val_sparse_categorical_crossentropy: 4.1559 - val_accuracy: 0.9218\n",
      "Epoch 8/14\n",
      "1545/1545 [==============================] - 81s 52ms/step - loss: 0.2577 - sparse_categorical_crossentropy: 4.1366 - accuracy: 0.9306 - val_loss: 0.2907 - val_sparse_categorical_crossentropy: 4.1498 - val_accuracy: 0.9249\n",
      "Epoch 9/14\n",
      "1545/1545 [==============================] - 75s 49ms/step - loss: 0.2449 - sparse_categorical_crossentropy: 4.1353 - accuracy: 0.9330 - val_loss: 0.2884 - val_sparse_categorical_crossentropy: 4.1511 - val_accuracy: 0.9242\n",
      "Epoch 10/14\n",
      "1545/1545 [==============================] - 77s 50ms/step - loss: 0.2352 - sparse_categorical_crossentropy: 4.1298 - accuracy: 0.9351 - val_loss: 0.2768 - val_sparse_categorical_crossentropy: 4.1403 - val_accuracy: 0.9288\n",
      "Epoch 11/14\n",
      "1545/1545 [==============================] - 77s 50ms/step - loss: 0.2202 - sparse_categorical_crossentropy: 4.1334 - accuracy: 0.9389 - val_loss: 0.2769 - val_sparse_categorical_crossentropy: 4.1497 - val_accuracy: 0.9279\n",
      "Epoch 12/14\n",
      "1545/1545 [==============================] - 77s 50ms/step - loss: 0.2101 - sparse_categorical_crossentropy: 4.1329 - accuracy: 0.9405 - val_loss: 0.2713 - val_sparse_categorical_crossentropy: 4.1444 - val_accuracy: 0.9301\n",
      "Epoch 13/14\n",
      "1545/1545 [==============================] - 77s 50ms/step - loss: 0.2016 - sparse_categorical_crossentropy: 4.1333 - accuracy: 0.9424 - val_loss: 0.2788 - val_sparse_categorical_crossentropy: 4.1458 - val_accuracy: 0.9278\n",
      "Epoch 14/14\n",
      "1545/1545 [==============================] - 76s 49ms/step - loss: 0.1941 - sparse_categorical_crossentropy: 4.1314 - accuracy: 0.9446 - val_loss: 0.2699 - val_sparse_categorical_crossentropy: 4.1459 - val_accuracy: 0.9309\n"
     ]
    },
    {
     "name": "stderr",
     "output_type": "stream",
     "text": [
      "\u001b[32m[I 2022-11-28 22:00:31,372]\u001b[0m Trial 4 finished with value: 0.9309221506118774 and parameters: {'first_layer_kernel': 48, 'first_layer_activation': 'tanh', 'second_layer_kernel': 41, 'second_layer_activation': 'sigmoid', 'average_pooling_size': 2, 'dense_layer_size': 174, 'dense_layer_activation': 'tanh'}. Best is trial 2 with value: 0.9354549050331116.\u001b[0m\n"
     ]
    },
    {
     "name": "stdout",
     "output_type": "stream",
     "text": [
      "Model: \"sequential_16\"\n",
      "_________________________________________________________________\n",
      " Layer (type)                Output Shape              Param #   \n",
      "=================================================================\n",
      " sequential_2 (Sequential)   (None, 10, 10, 48)        46512     \n",
      "                                                                 \n",
      " conv2d_39 (Conv2D)          (None, 8, 8, 59)          25547     \n",
      "                                                                 \n",
      " average_pooling2d_12 (Avera  (None, 4, 4, 59)         0         \n",
      " gePooling2D)                                                    \n",
      "                                                                 \n",
      " dropout_16 (Dropout)        (None, 4, 4, 59)          0         \n",
      "                                                                 \n",
      " conv2d_40 (Conv2D)          (None, 2, 2, 39)          20748     \n",
      "                                                                 \n",
      " flatten_13 (Flatten)        (None, 156)               0         \n",
      "                                                                 \n",
      " dense_26 (Dense)            (None, 165)               25905     \n",
      "                                                                 \n",
      " dense_27 (Dense)            (None, 150)               24900     \n",
      "                                                                 \n",
      "=================================================================\n",
      "Total params: 143,612\n",
      "Trainable params: 97,100\n",
      "Non-trainable params: 46,512\n",
      "_________________________________________________________________\n",
      "None\n",
      "Epoch 1/14\n",
      "1545/1545 [==============================] - 79s 50ms/step - loss: 1.6416 - sparse_categorical_crossentropy: 4.1113 - accuracy: 0.6314 - val_loss: 0.6998 - val_sparse_categorical_crossentropy: 2.0629 - val_accuracy: 0.8204\n",
      "Epoch 2/14\n",
      "1545/1545 [==============================] - 77s 50ms/step - loss: 0.6432 - sparse_categorical_crossentropy: 1.9303 - accuracy: 0.8348 - val_loss: 0.5028 - val_sparse_categorical_crossentropy: 1.5195 - val_accuracy: 0.8701\n",
      "Epoch 3/14\n",
      "1545/1545 [==============================] - 77s 50ms/step - loss: 0.4977 - sparse_categorical_crossentropy: 1.4721 - accuracy: 0.8709 - val_loss: 0.4168 - val_sparse_categorical_crossentropy: 1.1903 - val_accuracy: 0.8931\n",
      "Epoch 4/14\n",
      "1545/1545 [==============================] - 77s 50ms/step - loss: 0.4254 - sparse_categorical_crossentropy: 1.2449 - accuracy: 0.8885 - val_loss: 0.3772 - val_sparse_categorical_crossentropy: 1.1077 - val_accuracy: 0.9032\n",
      "Epoch 5/14\n",
      "1545/1545 [==============================] - 78s 50ms/step - loss: 0.3718 - sparse_categorical_crossentropy: 1.1066 - accuracy: 0.9029 - val_loss: 0.3426 - val_sparse_categorical_crossentropy: 1.0270 - val_accuracy: 0.9098\n",
      "Epoch 6/14\n",
      "1545/1545 [==============================] - 78s 51ms/step - loss: 0.3393 - sparse_categorical_crossentropy: 1.0482 - accuracy: 0.9093 - val_loss: 0.3349 - val_sparse_categorical_crossentropy: 1.0344 - val_accuracy: 0.9131\n",
      "Epoch 7/14\n",
      "1545/1545 [==============================] - 79s 51ms/step - loss: 0.3184 - sparse_categorical_crossentropy: 1.0208 - accuracy: 0.9143 - val_loss: 0.3202 - val_sparse_categorical_crossentropy: 1.0300 - val_accuracy: 0.9171\n",
      "Epoch 8/14\n",
      "1545/1545 [==============================] - 78s 51ms/step - loss: 0.2952 - sparse_categorical_crossentropy: 0.9670 - accuracy: 0.9196 - val_loss: 0.3101 - val_sparse_categorical_crossentropy: 1.0187 - val_accuracy: 0.9211\n",
      "Epoch 9/14\n",
      "1545/1545 [==============================] - 76s 49ms/step - loss: 0.2757 - sparse_categorical_crossentropy: 0.9298 - accuracy: 0.9241 - val_loss: 0.3050 - val_sparse_categorical_crossentropy: 0.9732 - val_accuracy: 0.9213\n",
      "Epoch 10/14\n",
      "1545/1545 [==============================] - 78s 51ms/step - loss: 0.2587 - sparse_categorical_crossentropy: 0.8938 - accuracy: 0.9294 - val_loss: 0.3197 - val_sparse_categorical_crossentropy: 1.0310 - val_accuracy: 0.9170\n",
      "Epoch 11/14\n",
      "1545/1545 [==============================] - 76s 49ms/step - loss: 0.2461 - sparse_categorical_crossentropy: 0.8769 - accuracy: 0.9312 - val_loss: 0.2898 - val_sparse_categorical_crossentropy: 0.9523 - val_accuracy: 0.9268\n",
      "Epoch 12/14\n",
      "1545/1545 [==============================] - 76s 49ms/step - loss: 0.2305 - sparse_categorical_crossentropy: 0.8280 - accuracy: 0.9346 - val_loss: 0.2878 - val_sparse_categorical_crossentropy: 0.9061 - val_accuracy: 0.9269\n",
      "Epoch 13/14\n",
      "1545/1545 [==============================] - 75s 48ms/step - loss: 0.2220 - sparse_categorical_crossentropy: 0.8132 - accuracy: 0.9363 - val_loss: 0.2769 - val_sparse_categorical_crossentropy: 0.8900 - val_accuracy: 0.9288\n",
      "Epoch 14/14\n",
      "1545/1545 [==============================] - 78s 51ms/step - loss: 0.2103 - sparse_categorical_crossentropy: 0.7913 - accuracy: 0.9395 - val_loss: 0.2844 - val_sparse_categorical_crossentropy: 0.9227 - val_accuracy: 0.9273\n"
     ]
    },
    {
     "name": "stderr",
     "output_type": "stream",
     "text": [
      "\u001b[32m[I 2022-11-28 22:18:35,785]\u001b[0m Trial 5 finished with value: 0.927333652973175 and parameters: {'first_layer_kernel': 59, 'first_layer_activation': 'tanh', 'second_layer_kernel': 39, 'second_layer_activation': 'sigmoid', 'average_pooling_size': 2, 'dense_layer_size': 165, 'dense_layer_activation': 'relu'}. Best is trial 2 with value: 0.9354549050331116.\u001b[0m\n"
     ]
    },
    {
     "name": "stdout",
     "output_type": "stream",
     "text": [
      "Model: \"sequential_17\"\n",
      "_________________________________________________________________\n",
      " Layer (type)                Output Shape              Param #   \n",
      "=================================================================\n",
      " sequential_2 (Sequential)   (None, 10, 10, 48)        46512     \n",
      "                                                                 \n",
      " conv2d_41 (Conv2D)          (None, 8, 8, 48)          20784     \n",
      "                                                                 \n",
      " average_pooling2d_13 (Avera  (None, 4, 4, 48)         0         \n",
      " gePooling2D)                                                    \n",
      "                                                                 \n",
      " dropout_17 (Dropout)        (None, 4, 4, 48)          0         \n",
      "                                                                 \n",
      " conv2d_42 (Conv2D)          (None, 2, 2, 37)          16021     \n",
      "                                                                 \n",
      " flatten_14 (Flatten)        (None, 148)               0         \n",
      "                                                                 \n",
      " dense_28 (Dense)            (None, 151)               22499     \n",
      "                                                                 \n",
      " dense_29 (Dense)            (None, 150)               22800     \n",
      "                                                                 \n",
      "=================================================================\n",
      "Total params: 128,616\n",
      "Trainable params: 82,104\n",
      "Non-trainable params: 46,512\n",
      "_________________________________________________________________\n",
      "None\n",
      "Epoch 1/14\n",
      "1545/1545 [==============================] - 79s 50ms/step - loss: 1.2635 - sparse_categorical_crossentropy: 3.1429 - accuracy: 0.7015 - val_loss: 0.5208 - val_sparse_categorical_crossentropy: 1.4573 - val_accuracy: 0.8618\n",
      "Epoch 2/14\n",
      "1545/1545 [==============================] - 75s 49ms/step - loss: 0.5177 - sparse_categorical_crossentropy: 1.4904 - accuracy: 0.8630 - val_loss: 0.4105 - val_sparse_categorical_crossentropy: 1.2818 - val_accuracy: 0.8908\n",
      "Epoch 3/14\n",
      "1545/1545 [==============================] - 77s 50ms/step - loss: 0.4170 - sparse_categorical_crossentropy: 1.2829 - accuracy: 0.8875 - val_loss: 0.3611 - val_sparse_categorical_crossentropy: 1.2414 - val_accuracy: 0.9044\n",
      "Epoch 4/14\n",
      "1545/1545 [==============================] - 76s 49ms/step - loss: 0.3527 - sparse_categorical_crossentropy: 1.1888 - accuracy: 0.9029 - val_loss: 0.3374 - val_sparse_categorical_crossentropy: 1.2225 - val_accuracy: 0.9118\n",
      "Epoch 5/14\n",
      "1545/1545 [==============================] - 80s 52ms/step - loss: 0.3192 - sparse_categorical_crossentropy: 1.1360 - accuracy: 0.9107 - val_loss: 0.3269 - val_sparse_categorical_crossentropy: 1.1684 - val_accuracy: 0.9139\n",
      "Epoch 6/14\n",
      "1545/1545 [==============================] - 78s 50ms/step - loss: 0.2957 - sparse_categorical_crossentropy: 1.1064 - accuracy: 0.9172 - val_loss: 0.3119 - val_sparse_categorical_crossentropy: 1.1616 - val_accuracy: 0.9191\n",
      "Epoch 7/14\n",
      "1545/1545 [==============================] - 76s 49ms/step - loss: 0.2636 - sparse_categorical_crossentropy: 1.0505 - accuracy: 0.9247 - val_loss: 0.3209 - val_sparse_categorical_crossentropy: 1.1332 - val_accuracy: 0.9186\n",
      "Epoch 8/14\n",
      "1545/1545 [==============================] - 81s 52ms/step - loss: 0.2538 - sparse_categorical_crossentropy: 1.0257 - accuracy: 0.9259 - val_loss: 0.3252 - val_sparse_categorical_crossentropy: 1.0719 - val_accuracy: 0.9212\n",
      "Epoch 9/14\n",
      "1545/1545 [==============================] - 81s 52ms/step - loss: 0.2391 - sparse_categorical_crossentropy: 0.9709 - accuracy: 0.9302 - val_loss: 0.3171 - val_sparse_categorical_crossentropy: 1.0909 - val_accuracy: 0.9211\n",
      "Epoch 10/14\n",
      "1545/1545 [==============================] - 80s 52ms/step - loss: 0.2325 - sparse_categorical_crossentropy: 0.9241 - accuracy: 0.9317 - val_loss: 0.3225 - val_sparse_categorical_crossentropy: 1.0395 - val_accuracy: 0.9222\n",
      "Epoch 11/14\n",
      "1545/1545 [==============================] - 79s 51ms/step - loss: 0.2167 - sparse_categorical_crossentropy: 0.9081 - accuracy: 0.9346 - val_loss: 0.3321 - val_sparse_categorical_crossentropy: 1.1056 - val_accuracy: 0.9202\n",
      "Epoch 12/14\n",
      "1545/1545 [==============================] - 80s 52ms/step - loss: 0.2030 - sparse_categorical_crossentropy: 0.8852 - accuracy: 0.9399 - val_loss: 0.3318 - val_sparse_categorical_crossentropy: 1.0388 - val_accuracy: 0.9231\n",
      "Epoch 13/14\n",
      "1545/1545 [==============================] - 81s 52ms/step - loss: 0.1991 - sparse_categorical_crossentropy: 0.8558 - accuracy: 0.9403 - val_loss: 0.3167 - val_sparse_categorical_crossentropy: 1.0150 - val_accuracy: 0.9303\n",
      "Epoch 14/14\n",
      "1545/1545 [==============================] - 81s 52ms/step - loss: 0.1972 - sparse_categorical_crossentropy: 0.8462 - accuracy: 0.9411 - val_loss: 0.3375 - val_sparse_categorical_crossentropy: 1.0317 - val_accuracy: 0.9248\n"
     ]
    },
    {
     "name": "stderr",
     "output_type": "stream",
     "text": [
      "\u001b[32m[I 2022-11-28 22:37:02,255]\u001b[0m Trial 6 finished with value: 0.924831211566925 and parameters: {'first_layer_kernel': 48, 'first_layer_activation': 'tanh', 'second_layer_kernel': 37, 'second_layer_activation': 'relu', 'average_pooling_size': 2, 'dense_layer_size': 151, 'dense_layer_activation': 'relu'}. Best is trial 2 with value: 0.9354549050331116.\u001b[0m\n"
     ]
    },
    {
     "name": "stdout",
     "output_type": "stream",
     "text": [
      "Model: \"sequential_18\"\n",
      "_________________________________________________________________\n",
      " Layer (type)                Output Shape              Param #   \n",
      "=================================================================\n",
      " sequential_2 (Sequential)   (None, 10, 10, 48)        46512     \n",
      "                                                                 \n",
      " conv2d_43 (Conv2D)          (None, 8, 8, 50)          21650     \n",
      "                                                                 \n",
      " average_pooling2d_14 (Avera  (None, 4, 4, 50)         0         \n",
      " gePooling2D)                                                    \n",
      "                                                                 \n",
      " dropout_18 (Dropout)        (None, 4, 4, 50)          0         \n",
      "                                                                 \n",
      " conv2d_44 (Conv2D)          (None, 2, 2, 43)          19393     \n",
      "                                                                 \n",
      " flatten_15 (Flatten)        (None, 172)               0         \n",
      "                                                                 \n",
      " dense_30 (Dense)            (None, 153)               26469     \n",
      "                                                                 \n",
      " dense_31 (Dense)            (None, 150)               23100     \n",
      "                                                                 \n",
      "=================================================================\n",
      "Total params: 137,124\n",
      "Trainable params: 90,612\n",
      "Non-trainable params: 46,512\n",
      "_________________________________________________________________\n",
      "None\n",
      "Epoch 1/14\n",
      "1545/1545 [==============================] - 84s 53ms/step - loss: 2.2211 - sparse_categorical_crossentropy: 4.3460 - accuracy: 0.5360 - val_loss: 0.9853 - val_sparse_categorical_crossentropy: 2.5101 - val_accuracy: 0.7854\n",
      "Epoch 2/14\n",
      "1545/1545 [==============================] - 81s 52ms/step - loss: 0.8342 - sparse_categorical_crossentropy: 2.3331 - accuracy: 0.8102 - val_loss: 0.6147 - val_sparse_categorical_crossentropy: 2.0764 - val_accuracy: 0.8566\n",
      "Epoch 3/14\n",
      "1545/1545 [==============================] - 80s 52ms/step - loss: 0.5937 - sparse_categorical_crossentropy: 2.0307 - accuracy: 0.8584 - val_loss: 0.4923 - val_sparse_categorical_crossentropy: 1.8871 - val_accuracy: 0.8809\n",
      "Epoch 4/14\n",
      "1545/1545 [==============================] - 79s 51ms/step - loss: 0.4886 - sparse_categorical_crossentropy: 1.8572 - accuracy: 0.8811 - val_loss: 0.4068 - val_sparse_categorical_crossentropy: 1.7837 - val_accuracy: 0.8996\n",
      "Epoch 5/14\n",
      "1545/1545 [==============================] - 80s 52ms/step - loss: 0.4210 - sparse_categorical_crossentropy: 1.7223 - accuracy: 0.8942 - val_loss: 0.3724 - val_sparse_categorical_crossentropy: 1.6762 - val_accuracy: 0.9041\n",
      "Epoch 6/14\n",
      "1545/1545 [==============================] - 80s 52ms/step - loss: 0.3827 - sparse_categorical_crossentropy: 1.6151 - accuracy: 0.9034 - val_loss: 0.3379 - val_sparse_categorical_crossentropy: 1.6344 - val_accuracy: 0.9135\n",
      "Epoch 7/14\n",
      "1545/1545 [==============================] - 81s 52ms/step - loss: 0.3522 - sparse_categorical_crossentropy: 1.5512 - accuracy: 0.9100 - val_loss: 0.3182 - val_sparse_categorical_crossentropy: 1.5486 - val_accuracy: 0.9165\n",
      "Epoch 8/14\n",
      "1545/1545 [==============================] - 83s 53ms/step - loss: 0.3233 - sparse_categorical_crossentropy: 1.5050 - accuracy: 0.9160 - val_loss: 0.3088 - val_sparse_categorical_crossentropy: 1.5125 - val_accuracy: 0.9200\n",
      "Epoch 9/14\n",
      "1545/1545 [==============================] - 78s 51ms/step - loss: 0.3031 - sparse_categorical_crossentropy: 1.4515 - accuracy: 0.9196 - val_loss: 0.3031 - val_sparse_categorical_crossentropy: 1.4644 - val_accuracy: 0.9205\n",
      "Epoch 10/14\n",
      "1545/1545 [==============================] - 80s 52ms/step - loss: 0.2816 - sparse_categorical_crossentropy: 1.3791 - accuracy: 0.9252 - val_loss: 0.2968 - val_sparse_categorical_crossentropy: 1.4279 - val_accuracy: 0.9214\n",
      "Epoch 11/14\n",
      "1545/1545 [==============================] - 79s 51ms/step - loss: 0.2649 - sparse_categorical_crossentropy: 1.3208 - accuracy: 0.9289 - val_loss: 0.2909 - val_sparse_categorical_crossentropy: 1.3553 - val_accuracy: 0.9234\n",
      "Epoch 12/14\n",
      "1545/1545 [==============================] - 79s 51ms/step - loss: 0.2600 - sparse_categorical_crossentropy: 1.3019 - accuracy: 0.9298 - val_loss: 0.2701 - val_sparse_categorical_crossentropy: 1.3578 - val_accuracy: 0.9285\n",
      "Epoch 13/14\n",
      "1545/1545 [==============================] - 79s 51ms/step - loss: 0.2482 - sparse_categorical_crossentropy: 1.2744 - accuracy: 0.9328 - val_loss: 0.2817 - val_sparse_categorical_crossentropy: 1.3917 - val_accuracy: 0.9255\n",
      "Epoch 14/14\n",
      "1545/1545 [==============================] - 79s 51ms/step - loss: 0.2386 - sparse_categorical_crossentropy: 1.2201 - accuracy: 0.9342 - val_loss: 0.2648 - val_sparse_categorical_crossentropy: 1.3175 - val_accuracy: 0.9304\n"
     ]
    },
    {
     "name": "stderr",
     "output_type": "stream",
     "text": [
      "\u001b[32m[I 2022-11-28 22:55:44,995]\u001b[0m Trial 7 finished with value: 0.9304027557373047 and parameters: {'first_layer_kernel': 50, 'first_layer_activation': 'sigmoid', 'second_layer_kernel': 43, 'second_layer_activation': 'relu', 'average_pooling_size': 2, 'dense_layer_size': 153, 'dense_layer_activation': 'sigmoid'}. Best is trial 2 with value: 0.9354549050331116.\u001b[0m\n"
     ]
    },
    {
     "name": "stdout",
     "output_type": "stream",
     "text": [
      "Model: \"sequential_19\"\n",
      "_________________________________________________________________\n",
      " Layer (type)                Output Shape              Param #   \n",
      "=================================================================\n",
      " sequential_2 (Sequential)   (None, 10, 10, 48)        46512     \n",
      "                                                                 \n",
      " conv2d_45 (Conv2D)          (None, 8, 8, 63)          27279     \n",
      "                                                                 \n",
      " average_pooling2d_15 (Avera  (None, 4, 4, 63)         0         \n",
      " gePooling2D)                                                    \n",
      "                                                                 \n",
      " dropout_19 (Dropout)        (None, 4, 4, 63)          0         \n",
      "                                                                 \n",
      " conv2d_46 (Conv2D)          (None, 2, 2, 32)          18176     \n",
      "                                                                 \n",
      " flatten_16 (Flatten)        (None, 128)               0         \n",
      "                                                                 \n",
      " dense_32 (Dense)            (None, 143)               18447     \n",
      "                                                                 \n",
      " dense_33 (Dense)            (None, 150)               21600     \n",
      "                                                                 \n",
      "=================================================================\n",
      "Total params: 132,014\n",
      "Trainable params: 85,502\n",
      "Non-trainable params: 46,512\n",
      "_________________________________________________________________\n",
      "None\n",
      "Epoch 1/14\n",
      "1545/1545 [==============================] - 80s 51ms/step - loss: 3.3137 - sparse_categorical_crossentropy: 6.2911 - accuracy: 0.2972 - val_loss: 2.0769 - val_sparse_categorical_crossentropy: 3.5247 - val_accuracy: 0.5306\n",
      "Epoch 2/14\n",
      "1545/1545 [==============================] - 78s 51ms/step - loss: 1.7307 - sparse_categorical_crossentropy: 3.3567 - accuracy: 0.5840 - val_loss: 1.4411 - val_sparse_categorical_crossentropy: 3.1290 - val_accuracy: 0.6447\n",
      "Epoch 3/14\n",
      "1545/1545 [==============================] - 77s 50ms/step - loss: 1.3331 - sparse_categorical_crossentropy: 3.0280 - accuracy: 0.6685 - val_loss: 1.1376 - val_sparse_categorical_crossentropy: 2.8292 - val_accuracy: 0.7153\n",
      "Epoch 4/14\n",
      "1545/1545 [==============================] - 77s 50ms/step - loss: 1.1578 - sparse_categorical_crossentropy: 2.8383 - accuracy: 0.7054 - val_loss: 1.0822 - val_sparse_categorical_crossentropy: 2.7340 - val_accuracy: 0.7177\n",
      "Epoch 5/14\n",
      "1545/1545 [==============================] - 77s 50ms/step - loss: 1.0464 - sparse_categorical_crossentropy: 2.6864 - accuracy: 0.7281 - val_loss: 0.9437 - val_sparse_categorical_crossentropy: 2.5820 - val_accuracy: 0.7579\n",
      "Epoch 6/14\n",
      "1545/1545 [==============================] - 82s 53ms/step - loss: 0.9876 - sparse_categorical_crossentropy: 2.5881 - accuracy: 0.7423 - val_loss: 0.9055 - val_sparse_categorical_crossentropy: 2.5143 - val_accuracy: 0.7648\n",
      "Epoch 7/14\n",
      "1545/1545 [==============================] - 79s 51ms/step - loss: 0.9488 - sparse_categorical_crossentropy: 2.5277 - accuracy: 0.7525 - val_loss: 0.8740 - val_sparse_categorical_crossentropy: 2.4639 - val_accuracy: 0.7734\n",
      "Epoch 8/14\n",
      "1545/1545 [==============================] - 80s 52ms/step - loss: 0.9017 - sparse_categorical_crossentropy: 2.4359 - accuracy: 0.7633 - val_loss: 0.8486 - val_sparse_categorical_crossentropy: 2.3769 - val_accuracy: 0.7803\n",
      "Epoch 9/14\n",
      "1545/1545 [==============================] - 80s 52ms/step - loss: 0.8874 - sparse_categorical_crossentropy: 2.4032 - accuracy: 0.7648 - val_loss: 0.8128 - val_sparse_categorical_crossentropy: 2.3300 - val_accuracy: 0.7870\n",
      "Epoch 10/14\n",
      "1545/1545 [==============================] - 80s 52ms/step - loss: 0.8473 - sparse_categorical_crossentropy: 2.3571 - accuracy: 0.7765 - val_loss: 0.7727 - val_sparse_categorical_crossentropy: 2.2820 - val_accuracy: 0.7964\n",
      "Epoch 11/14\n",
      "1545/1545 [==============================] - 78s 50ms/step - loss: 0.8277 - sparse_categorical_crossentropy: 2.2968 - accuracy: 0.7794 - val_loss: 0.8303 - val_sparse_categorical_crossentropy: 2.3478 - val_accuracy: 0.7825\n",
      "Epoch 12/14\n",
      "1545/1545 [==============================] - 79s 51ms/step - loss: 0.8391 - sparse_categorical_crossentropy: 2.3417 - accuracy: 0.7778 - val_loss: 0.7452 - val_sparse_categorical_crossentropy: 2.2332 - val_accuracy: 0.8033\n",
      "Epoch 13/14\n",
      "1545/1545 [==============================] - 78s 50ms/step - loss: 0.8431 - sparse_categorical_crossentropy: 2.3381 - accuracy: 0.7756 - val_loss: 0.8078 - val_sparse_categorical_crossentropy: 2.3136 - val_accuracy: 0.7868\n",
      "Epoch 14/14\n",
      "1545/1545 [==============================] - 78s 51ms/step - loss: 0.7905 - sparse_categorical_crossentropy: 2.2396 - accuracy: 0.7905 - val_loss: 0.7171 - val_sparse_categorical_crossentropy: 2.1559 - val_accuracy: 0.8118\n"
     ]
    },
    {
     "name": "stderr",
     "output_type": "stream",
     "text": [
      "\u001b[32m[I 2022-11-28 23:14:10,153]\u001b[0m Trial 8 finished with value: 0.8118419051170349 and parameters: {'first_layer_kernel': 63, 'first_layer_activation': 'relu', 'second_layer_kernel': 32, 'second_layer_activation': 'sigmoid', 'average_pooling_size': 2, 'dense_layer_size': 143, 'dense_layer_activation': 'sigmoid'}. Best is trial 2 with value: 0.9354549050331116.\u001b[0m\n"
     ]
    },
    {
     "name": "stdout",
     "output_type": "stream",
     "text": [
      "Model: \"sequential_20\"\n",
      "_________________________________________________________________\n",
      " Layer (type)                Output Shape              Param #   \n",
      "=================================================================\n",
      " sequential_2 (Sequential)   (None, 10, 10, 48)        46512     \n",
      "                                                                 \n",
      " conv2d_47 (Conv2D)          (None, 8, 8, 50)          21650     \n",
      "                                                                 \n",
      " average_pooling2d_16 (Avera  (None, 4, 4, 50)         0         \n",
      " gePooling2D)                                                    \n",
      "                                                                 \n",
      " dropout_20 (Dropout)        (None, 4, 4, 50)          0         \n",
      "                                                                 \n",
      " conv2d_48 (Conv2D)          (None, 2, 2, 33)          14883     \n",
      "                                                                 \n",
      " flatten_17 (Flatten)        (None, 132)               0         \n",
      "                                                                 \n",
      " dense_34 (Dense)            (None, 173)               23009     \n",
      "                                                                 \n",
      " dense_35 (Dense)            (None, 150)               26100     \n",
      "                                                                 \n",
      "=================================================================\n",
      "Total params: 132,154\n",
      "Trainable params: 85,642\n",
      "Non-trainable params: 46,512\n",
      "_________________________________________________________________\n",
      "None\n",
      "Epoch 1/14\n",
      "1545/1545 [==============================] - 80s 51ms/step - loss: 1.2387 - sparse_categorical_crossentropy: 3.1393 - accuracy: 0.7075 - val_loss: 0.5340 - val_sparse_categorical_crossentropy: 1.5622 - val_accuracy: 0.8591\n",
      "Epoch 2/14\n",
      "1545/1545 [==============================] - 81s 52ms/step - loss: 0.5133 - sparse_categorical_crossentropy: 1.5090 - accuracy: 0.8645 - val_loss: 0.4051 - val_sparse_categorical_crossentropy: 1.2546 - val_accuracy: 0.8918\n",
      "Epoch 3/14\n",
      "1545/1545 [==============================] - 78s 51ms/step - loss: 0.4157 - sparse_categorical_crossentropy: 1.2800 - accuracy: 0.8882 - val_loss: 0.3896 - val_sparse_categorical_crossentropy: 1.3252 - val_accuracy: 0.8981\n",
      "Epoch 4/14\n",
      "1545/1545 [==============================] - 77s 50ms/step - loss: 0.3629 - sparse_categorical_crossentropy: 1.2000 - accuracy: 0.8998 - val_loss: 0.3411 - val_sparse_categorical_crossentropy: 1.2130 - val_accuracy: 0.9082\n",
      "Epoch 5/14\n",
      "1545/1545 [==============================] - 79s 51ms/step - loss: 0.3106 - sparse_categorical_crossentropy: 1.1469 - accuracy: 0.9133 - val_loss: 0.3170 - val_sparse_categorical_crossentropy: 1.1721 - val_accuracy: 0.9176\n",
      "Epoch 6/14\n",
      "1545/1545 [==============================] - 78s 50ms/step - loss: 0.2901 - sparse_categorical_crossentropy: 1.1081 - accuracy: 0.9138 - val_loss: 0.3219 - val_sparse_categorical_crossentropy: 1.1776 - val_accuracy: 0.9166\n",
      "Epoch 7/14\n",
      "1545/1545 [==============================] - 78s 51ms/step - loss: 0.2682 - sparse_categorical_crossentropy: 1.0717 - accuracy: 0.9229 - val_loss: 0.3172 - val_sparse_categorical_crossentropy: 1.1683 - val_accuracy: 0.9196\n",
      "Epoch 8/14\n",
      "1545/1545 [==============================] - 84s 54ms/step - loss: 0.2467 - sparse_categorical_crossentropy: 1.0240 - accuracy: 0.9286 - val_loss: 0.3125 - val_sparse_categorical_crossentropy: 1.1341 - val_accuracy: 0.9224\n",
      "Epoch 9/14\n",
      "1545/1545 [==============================] - 84s 54ms/step - loss: 0.2355 - sparse_categorical_crossentropy: 0.9692 - accuracy: 0.9312 - val_loss: 0.3317 - val_sparse_categorical_crossentropy: 1.1110 - val_accuracy: 0.9213\n",
      "Epoch 10/14\n",
      "1545/1545 [==============================] - 113s 73ms/step - loss: 0.2272 - sparse_categorical_crossentropy: 0.9406 - accuracy: 0.9323 - val_loss: 0.3247 - val_sparse_categorical_crossentropy: 1.0804 - val_accuracy: 0.9246\n",
      "Epoch 11/14\n",
      "1545/1545 [==============================] - 123s 79ms/step - loss: 0.2141 - sparse_categorical_crossentropy: 0.9108 - accuracy: 0.9365 - val_loss: 0.3226 - val_sparse_categorical_crossentropy: 1.0756 - val_accuracy: 0.9252\n",
      "Epoch 12/14\n",
      "1545/1545 [==============================] - 127s 82ms/step - loss: 0.2020 - sparse_categorical_crossentropy: 0.8638 - accuracy: 0.9378 - val_loss: 0.3157 - val_sparse_categorical_crossentropy: 1.0120 - val_accuracy: 0.9271\n",
      "Epoch 13/14\n",
      "1545/1545 [==============================] - 135s 88ms/step - loss: 0.1958 - sparse_categorical_crossentropy: 0.8339 - accuracy: 0.9414 - val_loss: 0.3279 - val_sparse_categorical_crossentropy: 0.9901 - val_accuracy: 0.9280\n",
      "Epoch 14/14\n",
      "1545/1545 [==============================] - 133s 86ms/step - loss: 0.1891 - sparse_categorical_crossentropy: 0.8249 - accuracy: 0.9432 - val_loss: 0.3483 - val_sparse_categorical_crossentropy: 1.0407 - val_accuracy: 0.9227\n"
     ]
    },
    {
     "name": "stderr",
     "output_type": "stream",
     "text": [
      "\u001b[32m[I 2022-11-28 23:36:42,039]\u001b[0m Trial 9 finished with value: 0.9227064251899719 and parameters: {'first_layer_kernel': 50, 'first_layer_activation': 'tanh', 'second_layer_kernel': 33, 'second_layer_activation': 'relu', 'average_pooling_size': 2, 'dense_layer_size': 173, 'dense_layer_activation': 'relu'}. Best is trial 2 with value: 0.9354549050331116.\u001b[0m\n"
     ]
    },
    {
     "name": "stdout",
     "output_type": "stream",
     "text": [
      "Model: \"sequential_21\"\n",
      "_________________________________________________________________\n",
      " Layer (type)                Output Shape              Param #   \n",
      "=================================================================\n",
      " sequential_2 (Sequential)   (None, 10, 10, 48)        46512     \n",
      "                                                                 \n",
      " conv2d_49 (Conv2D)          (None, 8, 8, 55)          23815     \n",
      "                                                                 \n",
      " average_pooling2d_17 (Avera  (None, 4, 4, 55)         0         \n",
      " gePooling2D)                                                    \n",
      "                                                                 \n",
      " dropout_21 (Dropout)        (None, 4, 4, 55)          0         \n",
      "                                                                 \n",
      " conv2d_50 (Conv2D)          (None, 2, 2, 28)          13888     \n",
      "                                                                 \n",
      " flatten_18 (Flatten)        (None, 112)               0         \n",
      "                                                                 \n",
      " dense_36 (Dense)            (None, 158)               17854     \n",
      "                                                                 \n",
      " dense_37 (Dense)            (None, 150)               23850     \n",
      "                                                                 \n",
      "=================================================================\n",
      "Total params: 125,919\n",
      "Trainable params: 79,407\n",
      "Non-trainable params: 46,512\n",
      "_________________________________________________________________\n",
      "None\n",
      "Epoch 1/14\n",
      "1545/1545 [==============================] - 137s 87ms/step - loss: 1.5203 - sparse_categorical_crossentropy: 4.4054 - accuracy: 0.6697 - val_loss: 0.6226 - val_sparse_categorical_crossentropy: 4.1384 - val_accuracy: 0.8539\n",
      "Epoch 2/14\n",
      "1545/1545 [==============================] - 134s 87ms/step - loss: 0.5680 - sparse_categorical_crossentropy: 4.1296 - accuracy: 0.8618 - val_loss: 0.4270 - val_sparse_categorical_crossentropy: 4.1396 - val_accuracy: 0.8951\n",
      "Epoch 3/14\n",
      "1545/1545 [==============================] - 130s 84ms/step - loss: 0.4406 - sparse_categorical_crossentropy: 4.1345 - accuracy: 0.8873 - val_loss: 0.3721 - val_sparse_categorical_crossentropy: 4.1459 - val_accuracy: 0.9055\n",
      "Epoch 4/14\n",
      "1545/1545 [==============================] - 127s 82ms/step - loss: 0.3752 - sparse_categorical_crossentropy: 4.1353 - accuracy: 0.9031 - val_loss: 0.3238 - val_sparse_categorical_crossentropy: 4.1438 - val_accuracy: 0.9183\n",
      "Epoch 5/14\n",
      "1545/1545 [==============================] - 127s 82ms/step - loss: 0.3383 - sparse_categorical_crossentropy: 4.1351 - accuracy: 0.9105 - val_loss: 0.3149 - val_sparse_categorical_crossentropy: 4.1468 - val_accuracy: 0.9193\n",
      "Epoch 6/14\n",
      "1545/1545 [==============================] - 128s 83ms/step - loss: 0.3104 - sparse_categorical_crossentropy: 4.1383 - accuracy: 0.9162 - val_loss: 0.2918 - val_sparse_categorical_crossentropy: 4.1418 - val_accuracy: 0.9247\n",
      "Epoch 7/14\n",
      "1545/1545 [==============================] - 125s 81ms/step - loss: 0.2871 - sparse_categorical_crossentropy: 4.1399 - accuracy: 0.9232 - val_loss: 0.2968 - val_sparse_categorical_crossentropy: 4.1445 - val_accuracy: 0.9245\n",
      "Epoch 8/14\n",
      "1545/1545 [==============================] - 126s 82ms/step - loss: 0.2680 - sparse_categorical_crossentropy: 4.1400 - accuracy: 0.9266 - val_loss: 0.2850 - val_sparse_categorical_crossentropy: 4.1490 - val_accuracy: 0.9274\n",
      "Epoch 9/14\n",
      "1545/1545 [==============================] - 130s 84ms/step - loss: 0.2535 - sparse_categorical_crossentropy: 4.1417 - accuracy: 0.9306 - val_loss: 0.2875 - val_sparse_categorical_crossentropy: 4.1517 - val_accuracy: 0.9253\n",
      "Epoch 10/14\n",
      "1545/1545 [==============================] - 136s 88ms/step - loss: 0.2386 - sparse_categorical_crossentropy: 4.1424 - accuracy: 0.9337 - val_loss: 0.2846 - val_sparse_categorical_crossentropy: 4.1555 - val_accuracy: 0.9271\n",
      "Epoch 11/14\n",
      "1545/1545 [==============================] - 136s 88ms/step - loss: 0.2292 - sparse_categorical_crossentropy: 4.1435 - accuracy: 0.9367 - val_loss: 0.2793 - val_sparse_categorical_crossentropy: 4.1547 - val_accuracy: 0.9277\n",
      "Epoch 12/14\n",
      "1545/1545 [==============================] - 138s 89ms/step - loss: 0.2287 - sparse_categorical_crossentropy: 4.1449 - accuracy: 0.9351 - val_loss: 0.2819 - val_sparse_categorical_crossentropy: 4.1602 - val_accuracy: 0.9272\n",
      "Epoch 13/14\n",
      "1545/1545 [==============================] - 136s 88ms/step - loss: 0.2206 - sparse_categorical_crossentropy: 4.1438 - accuracy: 0.9374 - val_loss: 0.2679 - val_sparse_categorical_crossentropy: 4.1595 - val_accuracy: 0.9325\n",
      "Epoch 14/14\n",
      "1545/1545 [==============================] - 136s 88ms/step - loss: 0.2203 - sparse_categorical_crossentropy: 4.1429 - accuracy: 0.9367 - val_loss: 0.2717 - val_sparse_categorical_crossentropy: 4.1561 - val_accuracy: 0.9317\n"
     ]
    },
    {
     "name": "stderr",
     "output_type": "stream",
     "text": [
      "\u001b[32m[I 2022-11-29 00:07:33,941]\u001b[0m Trial 10 finished with value: 0.9316775798797607 and parameters: {'first_layer_kernel': 55, 'first_layer_activation': 'sigmoid', 'second_layer_kernel': 28, 'second_layer_activation': 'tanh', 'average_pooling_size': 2, 'dense_layer_size': 158, 'dense_layer_activation': 'tanh'}. Best is trial 2 with value: 0.9354549050331116.\u001b[0m\n"
     ]
    },
    {
     "name": "stdout",
     "output_type": "stream",
     "text": [
      "Model: \"sequential_22\"\n",
      "_________________________________________________________________\n",
      " Layer (type)                Output Shape              Param #   \n",
      "=================================================================\n",
      " sequential_2 (Sequential)   (None, 10, 10, 48)        46512     \n",
      "                                                                 \n",
      " conv2d_51 (Conv2D)          (None, 8, 8, 60)          25980     \n",
      "                                                                 \n",
      " average_pooling2d_18 (Avera  (None, 4, 4, 60)         0         \n",
      " gePooling2D)                                                    \n",
      "                                                                 \n",
      " dropout_22 (Dropout)        (None, 4, 4, 60)          0         \n",
      "                                                                 \n",
      " conv2d_52 (Conv2D)          (None, 2, 2, 32)          17312     \n",
      "                                                                 \n",
      " flatten_19 (Flatten)        (None, 128)               0         \n",
      "                                                                 \n",
      " dense_38 (Dense)            (None, 164)               21156     \n",
      "                                                                 \n",
      " dense_39 (Dense)            (None, 150)               24750     \n",
      "                                                                 \n",
      "=================================================================\n",
      "Total params: 135,710\n",
      "Trainable params: 89,198\n",
      "Non-trainable params: 46,512\n",
      "_________________________________________________________________\n",
      "None\n",
      "Epoch 1/14\n",
      "1545/1545 [==============================] - 166s 105ms/step - loss: 1.8533 - sparse_categorical_crossentropy: 4.7506 - accuracy: 0.5973 - val_loss: 0.7471 - val_sparse_categorical_crossentropy: 4.1418 - val_accuracy: 0.8257\n",
      "Epoch 2/14\n",
      "1545/1545 [==============================] - 156s 101ms/step - loss: 0.6562 - sparse_categorical_crossentropy: 4.1258 - accuracy: 0.8391 - val_loss: 0.4911 - val_sparse_categorical_crossentropy: 4.1404 - val_accuracy: 0.8793\n",
      "Epoch 3/14\n",
      "1545/1545 [==============================] - 146s 95ms/step - loss: 0.4914 - sparse_categorical_crossentropy: 4.1306 - accuracy: 0.8746 - val_loss: 0.3998 - val_sparse_categorical_crossentropy: 4.1279 - val_accuracy: 0.8974\n",
      "Epoch 4/14\n",
      "1545/1545 [==============================] - 146s 95ms/step - loss: 0.4093 - sparse_categorical_crossentropy: 4.1284 - accuracy: 0.8949 - val_loss: 0.3469 - val_sparse_categorical_crossentropy: 4.1314 - val_accuracy: 0.9094\n",
      "Epoch 5/14\n",
      "1545/1545 [==============================] - 149s 96ms/step - loss: 0.3620 - sparse_categorical_crossentropy: 4.1282 - accuracy: 0.9057 - val_loss: 0.3224 - val_sparse_categorical_crossentropy: 4.1289 - val_accuracy: 0.9152\n",
      "Epoch 6/14\n",
      "1545/1545 [==============================] - 146s 95ms/step - loss: 0.3266 - sparse_categorical_crossentropy: 4.1269 - accuracy: 0.9144 - val_loss: 0.3027 - val_sparse_categorical_crossentropy: 4.1244 - val_accuracy: 0.9209\n",
      "Epoch 7/14\n",
      "1545/1545 [==============================] - 145s 94ms/step - loss: 0.2992 - sparse_categorical_crossentropy: 4.1241 - accuracy: 0.9196 - val_loss: 0.2815 - val_sparse_categorical_crossentropy: 4.1342 - val_accuracy: 0.9247\n",
      "Epoch 8/14\n",
      "1545/1545 [==============================] - 146s 95ms/step - loss: 0.2752 - sparse_categorical_crossentropy: 4.1229 - accuracy: 0.9258 - val_loss: 0.2767 - val_sparse_categorical_crossentropy: 4.1317 - val_accuracy: 0.9291\n",
      "Epoch 9/14\n",
      "1545/1545 [==============================] - 148s 95ms/step - loss: 0.2619 - sparse_categorical_crossentropy: 4.1206 - accuracy: 0.9282 - val_loss: 0.2719 - val_sparse_categorical_crossentropy: 4.1264 - val_accuracy: 0.9291\n",
      "Epoch 10/14\n",
      "1545/1545 [==============================] - 149s 96ms/step - loss: 0.2481 - sparse_categorical_crossentropy: 4.1177 - accuracy: 0.9318 - val_loss: 0.2715 - val_sparse_categorical_crossentropy: 4.1272 - val_accuracy: 0.9293\n",
      "Epoch 11/14\n",
      "1545/1545 [==============================] - 146s 94ms/step - loss: 0.2335 - sparse_categorical_crossentropy: 4.1170 - accuracy: 0.9374 - val_loss: 0.2650 - val_sparse_categorical_crossentropy: 4.1270 - val_accuracy: 0.9305\n",
      "Epoch 12/14\n",
      "1545/1545 [==============================] - 146s 94ms/step - loss: 0.2255 - sparse_categorical_crossentropy: 4.1177 - accuracy: 0.9379 - val_loss: 0.2671 - val_sparse_categorical_crossentropy: 4.1265 - val_accuracy: 0.9296\n",
      "Epoch 13/14\n",
      "1545/1545 [==============================] - 148s 96ms/step - loss: 0.2143 - sparse_categorical_crossentropy: 4.1161 - accuracy: 0.9400 - val_loss: 0.2517 - val_sparse_categorical_crossentropy: 4.1179 - val_accuracy: 0.9347\n",
      "Epoch 14/14\n",
      "1545/1545 [==============================] - 145s 94ms/step - loss: 0.2009 - sparse_categorical_crossentropy: 4.1125 - accuracy: 0.9450 - val_loss: 0.2540 - val_sparse_categorical_crossentropy: 4.1193 - val_accuracy: 0.9355\n"
     ]
    },
    {
     "name": "stderr",
     "output_type": "stream",
     "text": [
      "\u001b[32m[I 2022-11-29 00:42:18,252]\u001b[0m Trial 11 finished with value: 0.9354549050331116 and parameters: {'first_layer_kernel': 60, 'first_layer_activation': 'sigmoid', 'second_layer_kernel': 32, 'second_layer_activation': 'sigmoid', 'average_pooling_size': 2, 'dense_layer_size': 164, 'dense_layer_activation': 'tanh'}. Best is trial 2 with value: 0.9354549050331116.\u001b[0m\n"
     ]
    },
    {
     "name": "stdout",
     "output_type": "stream",
     "text": [
      "Model: \"sequential_23\"\n",
      "_________________________________________________________________\n",
      " Layer (type)                Output Shape              Param #   \n",
      "=================================================================\n",
      " sequential_2 (Sequential)   (None, 10, 10, 48)        46512     \n",
      "                                                                 \n",
      " conv2d_53 (Conv2D)          (None, 8, 8, 61)          26413     \n",
      "                                                                 \n",
      " average_pooling2d_19 (Avera  (None, 4, 4, 61)         0         \n",
      " gePooling2D)                                                    \n",
      "                                                                 \n",
      " dropout_23 (Dropout)        (None, 4, 4, 61)          0         \n",
      "                                                                 \n",
      " conv2d_54 (Conv2D)          (None, 2, 2, 30)          16500     \n",
      "                                                                 \n",
      " flatten_20 (Flatten)        (None, 120)               0         \n",
      "                                                                 \n",
      " dense_40 (Dense)            (None, 160)               19360     \n",
      "                                                                 \n",
      " dense_41 (Dense)            (None, 150)               24150     \n",
      "                                                                 \n",
      "=================================================================\n",
      "Total params: 132,935\n",
      "Trainable params: 86,423\n",
      "Non-trainable params: 46,512\n",
      "_________________________________________________________________\n",
      "None\n",
      "Epoch 1/14\n",
      "1545/1545 [==============================] - 149s 94ms/step - loss: 1.4904 - sparse_categorical_crossentropy: 4.4429 - accuracy: 0.6801 - val_loss: 0.5879 - val_sparse_categorical_crossentropy: 4.0944 - val_accuracy: 0.8613\n",
      "Epoch 2/14\n",
      "1545/1545 [==============================] - 145s 94ms/step - loss: 0.5457 - sparse_categorical_crossentropy: 4.1146 - accuracy: 0.8657 - val_loss: 0.4044 - val_sparse_categorical_crossentropy: 4.1120 - val_accuracy: 0.8982\n",
      "Epoch 3/14\n",
      "1545/1545 [==============================] - 121s 78ms/step - loss: 0.4227 - sparse_categorical_crossentropy: 4.1289 - accuracy: 0.8918 - val_loss: 0.3462 - val_sparse_categorical_crossentropy: 4.1362 - val_accuracy: 0.9113\n",
      "Epoch 4/14\n",
      "1545/1545 [==============================] - 60s 39ms/step - loss: 0.3566 - sparse_categorical_crossentropy: 4.1344 - accuracy: 0.9067 - val_loss: 0.3124 - val_sparse_categorical_crossentropy: 4.1347 - val_accuracy: 0.9175\n",
      "Epoch 5/14\n",
      "1545/1545 [==============================] - 60s 39ms/step - loss: 0.3194 - sparse_categorical_crossentropy: 4.1388 - accuracy: 0.9156 - val_loss: 0.2999 - val_sparse_categorical_crossentropy: 4.1478 - val_accuracy: 0.9216\n",
      "Epoch 6/14\n",
      "1545/1545 [==============================] - 60s 39ms/step - loss: 0.2857 - sparse_categorical_crossentropy: 4.1394 - accuracy: 0.9242 - val_loss: 0.2892 - val_sparse_categorical_crossentropy: 4.1485 - val_accuracy: 0.9256\n",
      "Epoch 7/14\n",
      "1545/1545 [==============================] - 60s 39ms/step - loss: 0.2648 - sparse_categorical_crossentropy: 4.1424 - accuracy: 0.9293 - val_loss: 0.2811 - val_sparse_categorical_crossentropy: 4.1475 - val_accuracy: 0.9257\n",
      "Epoch 8/14\n",
      "1545/1545 [==============================] - 59s 39ms/step - loss: 0.2529 - sparse_categorical_crossentropy: 4.1441 - accuracy: 0.9318 - val_loss: 0.2778 - val_sparse_categorical_crossentropy: 4.1561 - val_accuracy: 0.9268\n",
      "Epoch 9/14\n",
      "1545/1545 [==============================] - 60s 39ms/step - loss: 0.2360 - sparse_categorical_crossentropy: 4.1429 - accuracy: 0.9355 - val_loss: 0.2730 - val_sparse_categorical_crossentropy: 4.1497 - val_accuracy: 0.9292\n",
      "Epoch 10/14\n",
      "1545/1545 [==============================] - 60s 39ms/step - loss: 0.2315 - sparse_categorical_crossentropy: 4.1436 - accuracy: 0.9360 - val_loss: 0.2766 - val_sparse_categorical_crossentropy: 4.1441 - val_accuracy: 0.9282\n",
      "Epoch 11/14\n",
      "1545/1545 [==============================] - 60s 39ms/step - loss: 0.2273 - sparse_categorical_crossentropy: 4.1427 - accuracy: 0.9364 - val_loss: 0.2714 - val_sparse_categorical_crossentropy: 4.1538 - val_accuracy: 0.9301\n",
      "Epoch 12/14\n",
      "1545/1545 [==============================] - 60s 39ms/step - loss: 0.2103 - sparse_categorical_crossentropy: 4.1435 - accuracy: 0.9402 - val_loss: 0.2619 - val_sparse_categorical_crossentropy: 4.1543 - val_accuracy: 0.9323\n",
      "Epoch 13/14\n",
      "1545/1545 [==============================] - 61s 39ms/step - loss: 0.2001 - sparse_categorical_crossentropy: 4.1438 - accuracy: 0.9436 - val_loss: 0.2683 - val_sparse_categorical_crossentropy: 4.1532 - val_accuracy: 0.9311\n",
      "Epoch 14/14\n",
      "1545/1545 [==============================] - 60s 39ms/step - loss: 0.1922 - sparse_categorical_crossentropy: 4.1441 - accuracy: 0.9450 - val_loss: 0.2714 - val_sparse_categorical_crossentropy: 4.1557 - val_accuracy: 0.9304\n"
     ]
    },
    {
     "name": "stderr",
     "output_type": "stream",
     "text": [
      "\u001b[32m[I 2022-11-29 01:00:14,739]\u001b[0m Trial 12 finished with value: 0.9303555488586426 and parameters: {'first_layer_kernel': 61, 'first_layer_activation': 'sigmoid', 'second_layer_kernel': 30, 'second_layer_activation': 'tanh', 'average_pooling_size': 2, 'dense_layer_size': 160, 'dense_layer_activation': 'tanh'}. Best is trial 2 with value: 0.9354549050331116.\u001b[0m\n"
     ]
    },
    {
     "name": "stdout",
     "output_type": "stream",
     "text": [
      "Model: \"sequential_24\"\n",
      "_________________________________________________________________\n",
      " Layer (type)                Output Shape              Param #   \n",
      "=================================================================\n",
      " sequential_2 (Sequential)   (None, 10, 10, 48)        46512     \n",
      "                                                                 \n",
      " conv2d_55 (Conv2D)          (None, 8, 8, 56)          24248     \n",
      "                                                                 \n",
      " average_pooling2d_20 (Avera  (None, 4, 4, 56)         0         \n",
      " gePooling2D)                                                    \n",
      "                                                                 \n",
      " dropout_24 (Dropout)        (None, 4, 4, 56)          0         \n",
      "                                                                 \n",
      " conv2d_56 (Conv2D)          (None, 2, 2, 34)          17170     \n",
      "                                                                 \n",
      " flatten_21 (Flatten)        (None, 136)               0         \n",
      "                                                                 \n",
      " dense_42 (Dense)            (None, 153)               20961     \n",
      "                                                                 \n",
      " dense_43 (Dense)            (None, 150)               23100     \n",
      "                                                                 \n",
      "=================================================================\n",
      "Total params: 131,991\n",
      "Trainable params: 85,479\n",
      "Non-trainable params: 46,512\n",
      "_________________________________________________________________\n",
      "None\n",
      "Epoch 1/14\n",
      "1545/1545 [==============================] - 60s 38ms/step - loss: 1.8904 - sparse_categorical_crossentropy: 4.7951 - accuracy: 0.5908 - val_loss: 0.7672 - val_sparse_categorical_crossentropy: 4.1304 - val_accuracy: 0.8179\n",
      "Epoch 2/14\n",
      "1545/1545 [==============================] - 59s 38ms/step - loss: 0.6820 - sparse_categorical_crossentropy: 4.1390 - accuracy: 0.8331 - val_loss: 0.5204 - val_sparse_categorical_crossentropy: 4.1340 - val_accuracy: 0.8694\n",
      "Epoch 3/14\n",
      "1545/1545 [==============================] - 59s 38ms/step - loss: 0.5067 - sparse_categorical_crossentropy: 4.1406 - accuracy: 0.8742 - val_loss: 0.4220 - val_sparse_categorical_crossentropy: 4.1443 - val_accuracy: 0.8925\n",
      "Epoch 4/14\n",
      "1545/1545 [==============================] - 59s 38ms/step - loss: 0.4208 - sparse_categorical_crossentropy: 4.1385 - accuracy: 0.8937 - val_loss: 0.3710 - val_sparse_categorical_crossentropy: 4.1474 - val_accuracy: 0.9052\n",
      "Epoch 5/14\n",
      "1545/1545 [==============================] - 59s 38ms/step - loss: 0.3749 - sparse_categorical_crossentropy: 4.1414 - accuracy: 0.9029 - val_loss: 0.3429 - val_sparse_categorical_crossentropy: 4.1498 - val_accuracy: 0.9120\n",
      "Epoch 6/14\n",
      "1545/1545 [==============================] - 59s 38ms/step - loss: 0.3387 - sparse_categorical_crossentropy: 4.1406 - accuracy: 0.9098 - val_loss: 0.3131 - val_sparse_categorical_crossentropy: 4.1489 - val_accuracy: 0.9205\n",
      "Epoch 7/14\n",
      "1545/1545 [==============================] - 59s 38ms/step - loss: 0.3072 - sparse_categorical_crossentropy: 4.1401 - accuracy: 0.9176 - val_loss: 0.2984 - val_sparse_categorical_crossentropy: 4.1521 - val_accuracy: 0.9222\n",
      "Epoch 8/14\n",
      "1545/1545 [==============================] - 60s 39ms/step - loss: 0.2868 - sparse_categorical_crossentropy: 4.1386 - accuracy: 0.9225 - val_loss: 0.2797 - val_sparse_categorical_crossentropy: 4.1498 - val_accuracy: 0.9285\n",
      "Epoch 9/14\n",
      "1545/1545 [==============================] - 59s 38ms/step - loss: 0.2657 - sparse_categorical_crossentropy: 4.1385 - accuracy: 0.9285 - val_loss: 0.2748 - val_sparse_categorical_crossentropy: 4.1482 - val_accuracy: 0.9293\n",
      "Epoch 10/14\n",
      "1545/1545 [==============================] - 59s 38ms/step - loss: 0.2484 - sparse_categorical_crossentropy: 4.1362 - accuracy: 0.9337 - val_loss: 0.2737 - val_sparse_categorical_crossentropy: 4.1458 - val_accuracy: 0.9287\n",
      "Epoch 11/14\n",
      "1545/1545 [==============================] - 59s 38ms/step - loss: 0.2367 - sparse_categorical_crossentropy: 4.1357 - accuracy: 0.9351 - val_loss: 0.2657 - val_sparse_categorical_crossentropy: 4.1491 - val_accuracy: 0.9309\n",
      "Epoch 12/14\n",
      "1545/1545 [==============================] - 59s 38ms/step - loss: 0.2227 - sparse_categorical_crossentropy: 4.1350 - accuracy: 0.9389 - val_loss: 0.2602 - val_sparse_categorical_crossentropy: 4.1437 - val_accuracy: 0.9324\n",
      "Epoch 13/14\n",
      "1545/1545 [==============================] - 59s 38ms/step - loss: 0.2143 - sparse_categorical_crossentropy: 4.1329 - accuracy: 0.9416 - val_loss: 0.2555 - val_sparse_categorical_crossentropy: 4.1430 - val_accuracy: 0.9333\n",
      "Epoch 14/14\n",
      "1545/1545 [==============================] - 59s 38ms/step - loss: 0.2012 - sparse_categorical_crossentropy: 4.1315 - accuracy: 0.9443 - val_loss: 0.2535 - val_sparse_categorical_crossentropy: 4.1429 - val_accuracy: 0.9345\n"
     ]
    },
    {
     "name": "stderr",
     "output_type": "stream",
     "text": [
      "\u001b[32m[I 2022-11-29 01:14:03,262]\u001b[0m Trial 13 finished with value: 0.9345105886459351 and parameters: {'first_layer_kernel': 56, 'first_layer_activation': 'sigmoid', 'second_layer_kernel': 34, 'second_layer_activation': 'sigmoid', 'average_pooling_size': 2, 'dense_layer_size': 153, 'dense_layer_activation': 'tanh'}. Best is trial 2 with value: 0.9354549050331116.\u001b[0m\n"
     ]
    },
    {
     "name": "stdout",
     "output_type": "stream",
     "text": [
      "Model: \"sequential_25\"\n",
      "_________________________________________________________________\n",
      " Layer (type)                Output Shape              Param #   \n",
      "=================================================================\n",
      " sequential_2 (Sequential)   (None, 10, 10, 48)        46512     \n",
      "                                                                 \n",
      " conv2d_57 (Conv2D)          (None, 8, 8, 61)          26413     \n",
      "                                                                 \n",
      " average_pooling2d_21 (Avera  (None, 4, 4, 61)         0         \n",
      " gePooling2D)                                                    \n",
      "                                                                 \n",
      " dropout_25 (Dropout)        (None, 4, 4, 61)          0         \n",
      "                                                                 \n",
      " conv2d_58 (Conv2D)          (None, 2, 2, 30)          16500     \n",
      "                                                                 \n",
      " flatten_22 (Flatten)        (None, 120)               0         \n",
      "                                                                 \n",
      " dense_44 (Dense)            (None, 164)               19844     \n",
      "                                                                 \n",
      " dense_45 (Dense)            (None, 150)               24750     \n",
      "                                                                 \n",
      "=================================================================\n",
      "Total params: 134,019\n",
      "Trainable params: 87,507\n",
      "Non-trainable params: 46,512\n",
      "_________________________________________________________________\n",
      "None\n",
      "Epoch 1/14\n",
      "1545/1545 [==============================] - 60s 39ms/step - loss: 1.8809 - sparse_categorical_crossentropy: 4.7364 - accuracy: 0.5921 - val_loss: 0.7746 - val_sparse_categorical_crossentropy: 4.1405 - val_accuracy: 0.8222\n",
      "Epoch 2/14\n",
      "1545/1545 [==============================] - 59s 38ms/step - loss: 0.6776 - sparse_categorical_crossentropy: 4.1383 - accuracy: 0.8349 - val_loss: 0.5161 - val_sparse_categorical_crossentropy: 4.1456 - val_accuracy: 0.8710\n",
      "Epoch 3/14\n",
      "1545/1545 [==============================] - 59s 38ms/step - loss: 0.5031 - sparse_categorical_crossentropy: 4.1385 - accuracy: 0.8720 - val_loss: 0.4315 - val_sparse_categorical_crossentropy: 4.1496 - val_accuracy: 0.8898\n",
      "Epoch 4/14\n",
      "1545/1545 [==============================] - 59s 38ms/step - loss: 0.4202 - sparse_categorical_crossentropy: 4.1369 - accuracy: 0.8926 - val_loss: 0.3676 - val_sparse_categorical_crossentropy: 4.1444 - val_accuracy: 0.9059\n",
      "Epoch 5/14\n",
      "1545/1545 [==============================] - 59s 38ms/step - loss: 0.3718 - sparse_categorical_crossentropy: 4.1386 - accuracy: 0.9027 - val_loss: 0.3442 - val_sparse_categorical_crossentropy: 4.1537 - val_accuracy: 0.9115\n",
      "Epoch 6/14\n",
      "1545/1545 [==============================] - 59s 38ms/step - loss: 0.3333 - sparse_categorical_crossentropy: 4.1382 - accuracy: 0.9130 - val_loss: 0.3230 - val_sparse_categorical_crossentropy: 4.1506 - val_accuracy: 0.9160\n",
      "Epoch 7/14\n",
      "1545/1545 [==============================] - 59s 38ms/step - loss: 0.3110 - sparse_categorical_crossentropy: 4.1352 - accuracy: 0.9170 - val_loss: 0.3015 - val_sparse_categorical_crossentropy: 4.1484 - val_accuracy: 0.9218\n",
      "Epoch 8/14\n",
      "1545/1545 [==============================] - 59s 38ms/step - loss: 0.2838 - sparse_categorical_crossentropy: 4.1343 - accuracy: 0.9249 - val_loss: 0.2914 - val_sparse_categorical_crossentropy: 4.1484 - val_accuracy: 0.9234\n",
      "Epoch 9/14\n",
      "1545/1545 [==============================] - 59s 38ms/step - loss: 0.2638 - sparse_categorical_crossentropy: 4.1334 - accuracy: 0.9290 - val_loss: 0.2834 - val_sparse_categorical_crossentropy: 4.1489 - val_accuracy: 0.9251\n",
      "Epoch 10/14\n",
      "1545/1545 [==============================] - 59s 38ms/step - loss: 0.2524 - sparse_categorical_crossentropy: 4.1341 - accuracy: 0.9324 - val_loss: 0.2775 - val_sparse_categorical_crossentropy: 4.1477 - val_accuracy: 0.9259\n",
      "Epoch 11/14\n",
      "1545/1545 [==============================] - 59s 38ms/step - loss: 0.2389 - sparse_categorical_crossentropy: 4.1331 - accuracy: 0.9351 - val_loss: 0.2623 - val_sparse_categorical_crossentropy: 4.1417 - val_accuracy: 0.9319\n",
      "Epoch 12/14\n",
      "1545/1545 [==============================] - 59s 38ms/step - loss: 0.2238 - sparse_categorical_crossentropy: 4.1302 - accuracy: 0.9391 - val_loss: 0.2696 - val_sparse_categorical_crossentropy: 4.1407 - val_accuracy: 0.9283\n",
      "Epoch 13/14\n",
      "1545/1545 [==============================] - 59s 38ms/step - loss: 0.2172 - sparse_categorical_crossentropy: 4.1304 - accuracy: 0.9400 - val_loss: 0.2614 - val_sparse_categorical_crossentropy: 4.1425 - val_accuracy: 0.9320\n",
      "Epoch 14/14\n",
      "1545/1545 [==============================] - 59s 38ms/step - loss: 0.2060 - sparse_categorical_crossentropy: 4.1297 - accuracy: 0.9429 - val_loss: 0.2511 - val_sparse_categorical_crossentropy: 4.1392 - val_accuracy: 0.9348\n"
     ]
    },
    {
     "name": "stderr",
     "output_type": "stream",
     "text": [
      "\u001b[32m[I 2022-11-29 01:27:49,973]\u001b[0m Trial 14 finished with value: 0.9347938895225525 and parameters: {'first_layer_kernel': 61, 'first_layer_activation': 'sigmoid', 'second_layer_kernel': 30, 'second_layer_activation': 'sigmoid', 'average_pooling_size': 2, 'dense_layer_size': 164, 'dense_layer_activation': 'tanh'}. Best is trial 2 with value: 0.9354549050331116.\u001b[0m\n"
     ]
    }
   ],
   "source": [
    "def load_base_model():\n",
    "#     bm = tf.keras.models.load_model('k49_2_model')\n",
    "    bm = attempt_load('k49_2_model')\n",
    "    bm.pop()\n",
    "    bm.pop()\n",
    "    bm.pop()\n",
    "    bm.trainable = False\n",
    "    return bm\n",
    "    \n",
    "\n",
    "def objective(trial):\n",
    "    # The following is where you suggest your search space per trial (integer, categorical and floating point values)\n",
    "    l1_filters = trial.suggest_int('first_layer_kernel', 48, 64)\n",
    "    l1_activation = trial.suggest_categorical('first_layer_activation', ['relu', 'sigmoid', 'tanh'])\n",
    "    l2_filters = trial.suggest_int('second_layer_kernel', 28, 44)\n",
    "    l2_activation = trial.suggest_categorical('second_layer_activation', ['relu', 'sigmoid', 'tanh'])\n",
    "    average_pooling_size = trial.suggest_int('average_pooling_size', 2, 2)\n",
    "    dense_layer_size = trial.suggest_int('dense_layer_size', 140, 180)\n",
    "    dense_layer_activation = trial.suggest_categorical('dense_layer_activation', ['relu', 'sigmoid', 'tanh'])\n",
    "    \n",
    "    # Load the frozen base model\n",
    "    base_model = load_base_model()\n",
    "    mod_in_shape = (28, 28, 1)\n",
    "    \n",
    "    model = Sequential()\n",
    "    model.add(base_model)\n",
    "    model.add(Conv2D(l1_filters, (3, 3), activation=l1_activation, input_shape=mod_in_shape))\n",
    "    model.add(AveragePooling2D((average_pooling_size, average_pooling_size)))\n",
    "    model.add(Dropout(0.2))\n",
    "    model.add(Conv2D(l2_filters, (3, 3), activation=l2_activation, input_shape=mod_in_shape))\n",
    "    model.add(Flatten())\n",
    "    model.add(Dense(dense_layer_size, activation=dense_layer_activation))\n",
    "    model.add(Dense(150))\n",
    "\n",
    "    model.compile(optimizer='adam',\n",
    "              loss=tf.keras.losses.SparseCategoricalCrossentropy(from_logits=True),\n",
    "              metrics=[tf.keras.metrics.SparseCategoricalCrossentropy(), 'accuracy'])\n",
    "\n",
    "    print(model.summary())\n",
    "\n",
    "    callback = tf.keras.callbacks.EarlyStopping(monitor='accuracy', patience=3)\n",
    "\n",
    "    history = model.fit(final_train, epochs=14,\n",
    "                    callbacks=callback, validation_data=final_val)\n",
    "\n",
    "    # Following line is very important as this is the metric that optuna uses to optimize over\n",
    "    return history.history['val_accuracy'][-1]\n",
    "\n",
    "# Run a study\n",
    "study2 = optuna.create_study(direction='maximize', study_name=\"Study3\")\n",
    "study2.optimize(objective, n_trials=15)\n",
    "    "
   ]
  },
  {
   "cell_type": "markdown",
   "id": "be321bb6",
   "metadata": {},
   "source": [
    "### Running the Best Trial"
   ]
  },
  {
   "cell_type": "code",
   "execution_count": 46,
   "id": "dcf0c543",
   "metadata": {
    "scrolled": true
   },
   "outputs": [
    {
     "name": "stdout",
     "output_type": "stream",
     "text": [
      "Best trial info:\n",
      "FrozenTrial(number=2, values=[0.9354549050331116], datetime_start=datetime.datetime(2022, 11, 28, 21, 9, 25, 538381), datetime_complete=datetime.datetime(2022, 11, 28, 21, 29, 10, 792277), params={'first_layer_kernel': 63, 'first_layer_activation': 'sigmoid', 'second_layer_kernel': 36, 'second_layer_activation': 'sigmoid', 'average_pooling_size': 2, 'dense_layer_size': 152, 'dense_layer_activation': 'tanh'}, distributions={'first_layer_kernel': IntDistribution(high=64, log=False, low=48, step=1), 'first_layer_activation': CategoricalDistribution(choices=('relu', 'sigmoid', 'tanh')), 'second_layer_kernel': IntDistribution(high=44, log=False, low=28, step=1), 'second_layer_activation': CategoricalDistribution(choices=('relu', 'sigmoid', 'tanh')), 'average_pooling_size': IntDistribution(high=2, log=False, low=2, step=1), 'dense_layer_size': IntDistribution(high=180, log=False, low=140, step=1), 'dense_layer_activation': CategoricalDistribution(choices=('relu', 'sigmoid', 'tanh'))}, user_attrs={}, system_attrs={}, intermediate_values={}, trial_id=2, state=TrialState.COMPLETE, value=None)\n",
      "\n",
      "Param: first_layer_kernel\tValue: 63\n",
      "Param: first_layer_activation\tValue: sigmoid\n",
      "Param: second_layer_kernel\tValue: 36\n",
      "Param: second_layer_activation\tValue: sigmoid\n",
      "Param: average_pooling_size\tValue: 2\n",
      "Param: dense_layer_size\tValue: 152\n",
      "Param: dense_layer_activation\tValue: tanh\n"
     ]
    }
   ],
   "source": [
    "print(f'Best trial info:\\n{study2.best_trial}\\n')\n",
    "for param, value in study2.best_params.items():\n",
    "    print(f'Param: {param}\\tValue: {value}')"
   ]
  },
  {
   "cell_type": "code",
   "execution_count": null,
   "id": "4b2ea758",
   "metadata": {},
   "outputs": [],
   "source": [
    "# kanji_base = attempt_load(\"\")\n",
    "# kanji_base.pop()\n",
    "# kanji_base.pop()\n",
    "# kanji_base.pop()\n",
    "# kanji_base.summary()"
   ]
  },
  {
   "cell_type": "code",
   "execution_count": 51,
   "id": "027651a0",
   "metadata": {},
   "outputs": [
    {
     "name": "stdout",
     "output_type": "stream",
     "text": [
      "Model: \"sequential_28\"\n",
      "_________________________________________________________________\n",
      " Layer (type)                Output Shape              Param #   \n",
      "=================================================================\n",
      " sequential_2 (Sequential)   (None, 10, 10, 48)        46512     \n",
      "                                                                 \n",
      " conv2d_59 (Conv2D)          (None, 8, 8, 63)          27279     \n",
      "                                                                 \n",
      " average_pooling2d_22 (Avera  (None, 4, 4, 63)         0         \n",
      " gePooling2D)                                                    \n",
      "                                                                 \n",
      " dropout_26 (Dropout)        (None, 4, 4, 63)          0         \n",
      "                                                                 \n",
      " conv2d_60 (Conv2D)          (None, 2, 2, 36)          20448     \n",
      "                                                                 \n",
      " flatten_23 (Flatten)        (None, 144)               0         \n",
      "                                                                 \n",
      " dense_46 (Dense)            (None, 152)               22040     \n",
      "                                                                 \n",
      " dense_47 (Dense)            (None, 150)               22950     \n",
      "                                                                 \n",
      "=================================================================\n",
      "Total params: 139,229\n",
      "Trainable params: 92,717\n",
      "Non-trainable params: 46,512\n",
      "_________________________________________________________________\n"
     ]
    }
   ],
   "source": [
    "kshape = (28, 28, 1)\n",
    "\n",
    "final_optuna_model = Sequential()\n",
    "final_optuna_model.add(final_base)\n",
    "final_optuna_model.add(Conv2D(63, (3, 3), activation='sigmoid', input_shape=kshape))\n",
    "final_optuna_model.add(AveragePooling2D((2, 2)))\n",
    "final_optuna_model.add(Dropout(0.2))\n",
    "final_optuna_model.add(Conv2D(36, (3, 3), activation='sigmoid', input_shape=kshape))\n",
    "final_optuna_model.add(Flatten())\n",
    "final_optuna_model.add(Dense(152, activation='tanh'))\n",
    "final_optuna_model.add(Dense(150))\n",
    "\n",
    "final_optuna_model.compile(optimizer='adam',\n",
    "              loss=tf.keras.losses.SparseCategoricalCrossentropy(from_logits=True),\n",
    "              metrics=[tf.keras.metrics.SparseCategoricalCrossentropy(), 'accuracy'])\n",
    "\n",
    "final_optuna_model.summary()"
   ]
  },
  {
   "cell_type": "code",
   "execution_count": 53,
   "id": "170f3abd",
   "metadata": {},
   "outputs": [
    {
     "name": "stdout",
     "output_type": "stream",
     "text": [
      "Epoch 1/14\n",
      "1545/1545 [==============================] - 114s 74ms/step - loss: 1.4323 - sparse_categorical_crossentropy: 4.1613 - accuracy: 0.6733 - val_loss: 0.7258 - val_sparse_categorical_crossentropy: 4.1434 - val_accuracy: 0.8281\n",
      "Epoch 2/14\n",
      "1545/1545 [==============================] - 115s 74ms/step - loss: 0.6543 - sparse_categorical_crossentropy: 4.1488 - accuracy: 0.8404 - val_loss: 0.4903 - val_sparse_categorical_crossentropy: 4.1521 - val_accuracy: 0.8788\n",
      "Epoch 3/14\n",
      "1545/1545 [==============================] - 129s 83ms/step - loss: 0.4850 - sparse_categorical_crossentropy: 4.1434 - accuracy: 0.8778 - val_loss: 0.3944 - val_sparse_categorical_crossentropy: 4.1525 - val_accuracy: 0.8996\n",
      "Epoch 4/14\n",
      "1545/1545 [==============================] - 127s 82ms/step - loss: 0.4072 - sparse_categorical_crossentropy: 4.1421 - accuracy: 0.8952 - val_loss: 0.3490 - val_sparse_categorical_crossentropy: 4.1538 - val_accuracy: 0.9096\n",
      "Epoch 5/14\n",
      "1545/1545 [==============================] - 125s 81ms/step - loss: 0.3594 - sparse_categorical_crossentropy: 4.1420 - accuracy: 0.9075 - val_loss: 0.3224 - val_sparse_categorical_crossentropy: 4.1500 - val_accuracy: 0.9159\n",
      "Epoch 6/14\n",
      "1545/1545 [==============================] - 126s 81ms/step - loss: 0.3199 - sparse_categorical_crossentropy: 4.1397 - accuracy: 0.9166 - val_loss: 0.2952 - val_sparse_categorical_crossentropy: 4.1482 - val_accuracy: 0.9223\n",
      "Epoch 7/14\n",
      "1545/1545 [==============================] - 125s 81ms/step - loss: 0.2925 - sparse_categorical_crossentropy: 4.1385 - accuracy: 0.9233 - val_loss: 0.2910 - val_sparse_categorical_crossentropy: 4.1484 - val_accuracy: 0.9234\n",
      "Epoch 8/14\n",
      "1545/1545 [==============================] - 124s 80ms/step - loss: 0.2702 - sparse_categorical_crossentropy: 4.1342 - accuracy: 0.9290 - val_loss: 0.2793 - val_sparse_categorical_crossentropy: 4.1485 - val_accuracy: 0.9279\n",
      "Epoch 9/14\n",
      "1545/1545 [==============================] - 124s 80ms/step - loss: 0.2519 - sparse_categorical_crossentropy: 4.1326 - accuracy: 0.9320 - val_loss: 0.2763 - val_sparse_categorical_crossentropy: 4.1468 - val_accuracy: 0.9270\n",
      "Epoch 10/14\n",
      "1545/1545 [==============================] - 124s 80ms/step - loss: 0.2342 - sparse_categorical_crossentropy: 4.1331 - accuracy: 0.9370 - val_loss: 0.2675 - val_sparse_categorical_crossentropy: 4.1447 - val_accuracy: 0.9289\n",
      "Epoch 11/14\n",
      "1545/1545 [==============================] - 123s 80ms/step - loss: 0.2223 - sparse_categorical_crossentropy: 4.1304 - accuracy: 0.9400 - val_loss: 0.2615 - val_sparse_categorical_crossentropy: 4.1449 - val_accuracy: 0.9312\n",
      "Epoch 12/14\n",
      "1545/1545 [==============================] - 123s 79ms/step - loss: 0.2160 - sparse_categorical_crossentropy: 4.1307 - accuracy: 0.9403 - val_loss: 0.2650 - val_sparse_categorical_crossentropy: 4.1397 - val_accuracy: 0.9303\n",
      "Epoch 13/14\n",
      "1545/1545 [==============================] - 124s 80ms/step - loss: 0.2036 - sparse_categorical_crossentropy: 4.1299 - accuracy: 0.9431 - val_loss: 0.2530 - val_sparse_categorical_crossentropy: 4.1455 - val_accuracy: 0.9345\n",
      "Epoch 14/14\n",
      "1545/1545 [==============================] - 123s 79ms/step - loss: 0.1908 - sparse_categorical_crossentropy: 4.1279 - accuracy: 0.9467 - val_loss: 0.2497 - val_sparse_categorical_crossentropy: 4.1425 - val_accuracy: 0.9350\n"
     ]
    }
   ],
   "source": [
    "callback = tf.keras.callbacks.EarlyStopping(monitor='accuracy', patience=3)\n",
    "\n",
    "best_optuna_run_history = final_optuna_model.fit(final_train, epochs=14,\n",
    "                            callbacks=callback, validation_data=final_val)\n",
    "final_optuna_model.save('best_optuna_run.h5', save_format='h5')"
   ]
  },
  {
   "cell_type": "markdown",
   "id": "1cb9b3c9",
   "metadata": {},
   "source": [
    "### More Testing"
   ]
  },
  {
   "cell_type": "code",
   "execution_count": null,
   "id": "54d67100",
   "metadata": {},
   "outputs": [],
   "source": []
  },
  {
   "cell_type": "code",
   "execution_count": null,
   "id": "4a86908c",
   "metadata": {},
   "outputs": [],
   "source": []
  }
 ],
 "metadata": {
  "kernelspec": {
   "display_name": "Python 3 (ipykernel)",
   "language": "python",
   "name": "python3"
  },
  "language_info": {
   "codemirror_mode": {
    "name": "ipython",
    "version": 3
   },
   "file_extension": ".py",
   "mimetype": "text/x-python",
   "name": "python",
   "nbconvert_exporter": "python",
   "pygments_lexer": "ipython3",
   "version": "3.9.12"
  }
 },
 "nbformat": 4,
 "nbformat_minor": 5
}
