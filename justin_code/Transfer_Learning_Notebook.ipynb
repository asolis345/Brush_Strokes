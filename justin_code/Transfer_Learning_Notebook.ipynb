{
 "cells": [
  {
   "cell_type": "markdown",
   "id": "6a8bc6bb",
   "metadata": {},
   "source": [
    "# Transfer Learning Notebook"
   ]
  },
  {
   "cell_type": "code",
   "execution_count": 3,
   "id": "a8b616f1",
   "metadata": {},
   "outputs": [
    {
     "name": "stdout",
     "output_type": "stream",
     "text": [
      "Done!\n"
     ]
    }
   ],
   "source": [
    "import numpy as np\n",
    "import os\n",
    "import optuna\n",
    "import random\n",
    "\n",
    "import matplotlib\n",
    "from matplotlib import pyplot as plt\n",
    "\n",
    "import tensorflow as tf\n",
    "from keras.models import Sequential\n",
    "from keras.layers import Conv2D, Dropout, AveragePooling2D, MaxPooling2D, Flatten, Dense, GlobalAveragePooling2D, Rescaling\n",
    "from keras import Input, models, backend as K\n",
    "from tensorflow.keras import layers, models\n",
    "\n",
    "print(\"Done!\")"
   ]
  },
  {
   "cell_type": "markdown",
   "id": "1a66b732",
   "metadata": {},
   "source": [
    "# Function Definitions and Variables"
   ]
  },
  {
   "cell_type": "code",
   "execution_count": 4,
   "id": "bada1222",
   "metadata": {},
   "outputs": [
    {
     "name": "stdout",
     "output_type": "stream",
     "text": [
      "Done!\n"
     ]
    }
   ],
   "source": [
    "epochs = 12\n",
    "img_rows, img_cols = 28, 28  # Image dimensions\n",
    "\n",
    "def load(f):\n",
    "    return np.load(f)['arr_0']\n",
    "    \n",
    "def initialize_data(train_im_file, test_im_file, train_lb_file, test_lb_file):\n",
    "    train_images = load(train_im_file)\n",
    "    test_images = load(test_im_file)\n",
    "    train_labels = load(train_lb_file)\n",
    "    test_labels = load(test_lb_file)\n",
    "    \n",
    "    if K.image_data_format() == 'channels_first':\n",
    "        train_images = train_images.reshape(train_images.shape[0], 1, img_rows, img_cols)\n",
    "        test_images = test_images.reshape(test_images.shape[0], 1, img_rows, img_cols)\n",
    "        input_shape = (1, img_rows, img_cols)\n",
    "    else:\n",
    "        train_images = train_images.reshape(train_images.shape[0], img_rows, img_cols, 1)\n",
    "        test_images = test_images.reshape(test_images.shape[0], img_rows, img_cols, 1)\n",
    "        input_shape = (img_rows, img_cols, 1)\n",
    "\n",
    "    train_images = train_images.astype('float32')\n",
    "    test_images = test_images.astype('float32')\n",
    "    train_images /= 255\n",
    "    test_images /= 255\n",
    "    print('{} train samples, {} test samples'.format(len(train_images), len(test_images)))\n",
    "    \n",
    "    return tuple([train_images, test_images, train_labels, test_labels, input_shape])\n",
    "\n",
    "# Helper to create the graphics\n",
    "def create_visuals(graph_title, model_hist, test_images, test_labels):\n",
    "    accuracy_data = model_hist.history['accuracy']\n",
    "    val_accuracy_data = model_hist.history['val_accuracy']\n",
    "\n",
    "    lower_bound = min(min(accuracy_data), min(val_accuracy_data))\n",
    "\n",
    "    plt.plot(accuracy_data, label='Train Accuracy')\n",
    "    plt.plot(val_accuracy_data, label = 'Validation Accuracy')\n",
    "\n",
    "    plt.title(graph_title)\n",
    "    plt.xlabel('Epoch')\n",
    "    plt.ylabel('Accuracy')\n",
    "    plt.ylim([lower_bound - 0.01, 1])\n",
    "    plt.legend(loc='lower right')\n",
    "\n",
    "    print(accuracy_data[-1])\n",
    "    print(val_accuracy_data[-1])\n",
    "#     test_loss, test_acc = model_hist.evaluate(test_images, test_labels, verbose=2)\n",
    "\n",
    "print(\"Done!\")"
   ]
  },
  {
   "cell_type": "markdown",
   "id": "e2ed84bd",
   "metadata": {},
   "source": [
    "## Load Data"
   ]
  },
  {
   "cell_type": "code",
   "execution_count": 5,
   "id": "e5209fcb",
   "metadata": {},
   "outputs": [
    {
     "name": "stdout",
     "output_type": "stream",
     "text": [
      "232365 train samples, 38547 test samples\n",
      "Found 70599 files belonging to 150 classes.\n",
      "Using 49420 files for training.\n",
      "Found 70599 files belonging to 150 classes.\n",
      "Using 21179 files for validation.\n",
      "Done!\n"
     ]
    }
   ],
   "source": [
    "prefix = '..\\..\\Datasets\\\\'\n",
    "datasets = {\n",
    "    \"k49_tr_i\" : prefix + 'Kuzushiji-49 - train-imgs.npz',\n",
    "    \"k49_te_i\" : prefix + 'Kuzushiji-49 - test-imgs.npz',\n",
    "    \"k49_tr_l\" : prefix + 'Kuzushiji-49 - train-labels.npz',\n",
    "    \"k49_te_l\" : prefix + 'Kuzushiji-49 - test-labels.npz',\n",
    "    \"kanji\" : prefix + 'modified_final_dataset',\n",
    "}\n",
    "\n",
    "# Load Kuzushiji-49 Data\n",
    "dataset = initialize_data(datasets[\"k49_tr_i\"], datasets[\"k49_te_i\"], datasets[\"k49_tr_l\"], datasets[\"k49_te_l\"])\n",
    "k49_train_images = dataset[0]\n",
    "k49_test_images = dataset[1]\n",
    "k49_train_labels = dataset[2]\n",
    "k49_test_labels  = dataset[3]\n",
    "k49_input_shape = dataset[4]\n",
    "\n",
    "# Load Kanji Data\n",
    "kanji_size = (28, 28)\n",
    "data_path = datasets[\"kanji\"]\n",
    "kanji_train = tf.keras.utils.image_dataset_from_directory(data_path, validation_split=0.3, seed=222,\n",
    "                            subset=\"training\", color_mode=\"grayscale\", image_size=kanji_size, batch_size=32)\n",
    "\n",
    "kanji_val = tf.keras.utils.image_dataset_from_directory(data_path, validation_split=0.3, seed=222,\n",
    "                          subset=\"validation\", color_mode=\"grayscale\", image_size=kanji_size, batch_size=32)\n",
    "\n",
    "print(\"Done!\")"
   ]
  },
  {
   "cell_type": "markdown",
   "id": "aaee31d0",
   "metadata": {},
   "source": [
    "### Rescale Kanji Data and Training Performance Optimizations"
   ]
  },
  {
   "cell_type": "code",
   "execution_count": 6,
   "id": "fc89f2b9",
   "metadata": {},
   "outputs": [
    {
     "name": "stdout",
     "output_type": "stream",
     "text": [
      "0.0 1.0\n"
     ]
    }
   ],
   "source": [
    "normalization_layer = tf.keras.layers.Rescaling(1./255)\n",
    "\n",
    "normalized_ds = kanji_train.map(lambda x, y: (normalization_layer(x), y))\n",
    "image_batch, labels_batch = next(iter(normalized_ds))\n",
    "first_image = image_batch[0]\n",
    "\n",
    "print(np.min(first_image), np.max(first_image))    # Pixel values are now in `[0,1]`"
   ]
  },
  {
   "cell_type": "code",
   "execution_count": 7,
   "id": "a499f30c",
   "metadata": {},
   "outputs": [
    {
     "name": "stdout",
     "output_type": "stream",
     "text": [
      "Done!\n"
     ]
    }
   ],
   "source": [
    "AUTOTUNE = tf.data.AUTOTUNE\n",
    "\n",
    "kanji_train = kanji_train.cache().prefetch(buffer_size=AUTOTUNE)\n",
    "kanji_val = kanji_val.cache().prefetch(buffer_size=AUTOTUNE)\n",
    "print(\"Done!\")"
   ]
  },
  {
   "cell_type": "markdown",
   "id": "859b8393",
   "metadata": {},
   "source": [
    "## K49 Base Model and Results"
   ]
  },
  {
   "cell_type": "code",
   "execution_count": 8,
   "id": "c7cbcb21",
   "metadata": {},
   "outputs": [
    {
     "name": "stdout",
     "output_type": "stream",
     "text": [
      "Model: \"sequential\"\n",
      "_________________________________________________________________\n",
      " Layer (type)                Output Shape              Param #   \n",
      "=================================================================\n",
      " conv2d (Conv2D)             (None, 26, 26, 32)        320       \n",
      "                                                                 \n",
      " conv2d_1 (Conv2D)           (None, 24, 24, 64)        18496     \n",
      "                                                                 \n",
      " dropout (Dropout)           (None, 24, 24, 64)        0         \n",
      "                                                                 \n",
      " average_pooling2d (AverageP  (None, 12, 12, 64)       0         \n",
      " ooling2D)                                                       \n",
      "                                                                 \n",
      " conv2d_2 (Conv2D)           (None, 10, 10, 48)        27696     \n",
      "                                                                 \n",
      " flatten (Flatten)           (None, 4800)              0         \n",
      "                                                                 \n",
      " dense (Dense)               (None, 49)                235249    \n",
      "                                                                 \n",
      " dense_1 (Dense)             (None, 49)                2450      \n",
      "                                                                 \n",
      "=================================================================\n",
      "Total params: 284,211\n",
      "Trainable params: 284,211\n",
      "Non-trainable params: 0\n",
      "_________________________________________________________________\n"
     ]
    }
   ],
   "source": [
    "k49_classes = 49\n",
    "\n",
    "k49_2 = Sequential()\n",
    "k49_2.add(Conv2D(32, (3, 3), activation='relu', input_shape=k49_input_shape))\n",
    "k49_2.add(Conv2D(64, (3, 3), activation='relu', input_shape=k49_input_shape))\n",
    "k49_2.add(Dropout(0.25))\n",
    "k49_2.add(AveragePooling2D(pool_size=(2, 2), strides=None, padding=\"valid\"))\n",
    "k49_2.add(Conv2D(48, (3, 3), activation='relu', input_shape=k49_input_shape))\n",
    "k49_2.add(Flatten())\n",
    "k49_2.add(Dense(k49_classes, activation='relu'))\n",
    "k49_2.add(Dense(k49_classes))\n",
    "\n",
    "k49_2.compile(loss=tf.keras.losses.SparseCategoricalCrossentropy(from_logits=True),\n",
    "              optimizer=\"adam\",\n",
    "              metrics=[tf.keras.metrics.SparseCategoricalCrossentropy(), 'accuracy'])\n",
    "\n",
    "k49_2.summary()"
   ]
  },
  {
   "cell_type": "code",
   "execution_count": 9,
   "id": "d1562187",
   "metadata": {},
   "outputs": [
    {
     "name": "stdout",
     "output_type": "stream",
     "text": [
      "Epoch 1/12\n",
      "1816/1816 [==============================] - 640s 351ms/step - loss: 0.6065 - sparse_categorical_crossentropy: 2.8732 - accuracy: 0.8415 - val_loss: 0.5832 - val_sparse_categorical_crossentropy: 2.7669 - val_accuracy: 0.8490\n",
      "Epoch 2/12\n",
      "1816/1816 [==============================] - 636s 350ms/step - loss: 0.2442 - sparse_categorical_crossentropy: 2.5433 - accuracy: 0.9329 - val_loss: 0.4318 - val_sparse_categorical_crossentropy: 2.6203 - val_accuracy: 0.8908\n",
      "Epoch 3/12\n",
      "1816/1816 [==============================] - 626s 345ms/step - loss: 0.1763 - sparse_categorical_crossentropy: 2.4544 - accuracy: 0.9510 - val_loss: 0.3948 - val_sparse_categorical_crossentropy: 2.5290 - val_accuracy: 0.8997\n",
      "Epoch 4/12\n",
      "1816/1816 [==============================] - 685s 377ms/step - loss: 0.1392 - sparse_categorical_crossentropy: 2.3800 - accuracy: 0.9601 - val_loss: 0.4055 - val_sparse_categorical_crossentropy: 2.5016 - val_accuracy: 0.9014\n",
      "Epoch 5/12\n",
      "1816/1816 [==============================] - 600s 330ms/step - loss: 0.1125 - sparse_categorical_crossentropy: 2.3141 - accuracy: 0.9673 - val_loss: 0.3801 - val_sparse_categorical_crossentropy: 2.4239 - val_accuracy: 0.9097\n",
      "Epoch 6/12\n",
      "1816/1816 [==============================] - 586s 322ms/step - loss: 0.0950 - sparse_categorical_crossentropy: 2.2717 - accuracy: 0.9717 - val_loss: 0.4065 - val_sparse_categorical_crossentropy: 2.4084 - val_accuracy: 0.9100\n",
      "Epoch 7/12\n",
      "1816/1816 [==============================] - 586s 323ms/step - loss: 0.0808 - sparse_categorical_crossentropy: 2.2232 - accuracy: 0.9754 - val_loss: 0.4148 - val_sparse_categorical_crossentropy: 2.3628 - val_accuracy: 0.9118\n",
      "Epoch 8/12\n",
      "1816/1816 [==============================] - 578s 319ms/step - loss: 0.0703 - sparse_categorical_crossentropy: 2.1845 - accuracy: 0.9779 - val_loss: 0.4258 - val_sparse_categorical_crossentropy: 2.3325 - val_accuracy: 0.9127\n"
     ]
    }
   ],
   "source": [
    "callback = tf.keras.callbacks.EarlyStopping(monitor='val_loss', patience=3)\n",
    "\n",
    "k49_2_history = k49_2.fit(k49_train_images, k49_train_labels, batch_size=128, epochs=epochs,\n",
    "              callbacks=callback, verbose=1, validation_data=(k49_test_images, k49_test_labels))\n",
    "\n",
    "# k49_2.save('k49_2_model')"
   ]
  },
  {
   "cell_type": "code",
   "execution_count": 11,
   "id": "112cdbaa",
   "metadata": {},
   "outputs": [
    {
     "name": "stdout",
     "output_type": "stream",
     "text": [
      "0.9778538346290588\n",
      "0.9126780033111572\n"
     ]
    },
    {
     "data": {
      "image/png": "[encoded data removed]",
      "text/plain": [
       "<Figure size 640x480 with 1 Axes>"
      ]
     },
     "metadata": {},
     "output_type": "display_data"
    }
   ],
   "source": [
    "create_visuals(\"Classification Results of Kuzushiji-49 Base Model\", k49_2_history, k49_test_images, k49_train_labels)"
   ]
  },
  {
   "cell_type": "markdown",
   "id": "79cdbc4e",
   "metadata": {},
   "source": [
    "## Create the Transfer Learning Model"
   ]
  },
  {
   "cell_type": "code",
   "execution_count": 14,
   "id": "3ea95f70",
   "metadata": {},
   "outputs": [],
   "source": [
    "# The original Kanji dataset contains images that are 64x64. Since we are transferring the learning\n",
    "#   from models that trained on 28x28 images, the Kanji images must be downscaled accordingly.\n",
    "import os\n",
    "import random\n",
    "from skimage.transform import rescale\n",
    "from skimage import io\n",
    "\n",
    "def attempt_load(name):\n",
    "    if os.path.isdir(name):\n",
    "        return models.load_model(name)\n",
    "    else:\n",
    "        print(f\"Invalid model name {name}\")\n",
    "        \n",
    "# Returns a list of the names of the copied directories \n",
    "def replicate_folder_structure(original_data, write_path):\n",
    "    for root, directory, files in os.walk(original_data):\n",
    "        for direc in directory:\n",
    "            os.mkdir(write_path + '\\\\' + direc)\n",
    "\n",
    "# Scale the image to the desired size\n",
    "def rescale_image(load_path, save_path, image_scale):\n",
    "    kanji_char = io.imread(load_path)\n",
    "    rescaled_image = rescale(kanji_char, image_scale, anti_aliasing=True, clip=True)\n",
    "    io.imsave(save_path, rescaled_image)"
   ]
  },
  {
   "cell_type": "code",
   "execution_count": 15,
   "id": "2dc92caa",
   "metadata": {},
   "outputs": [
    {
     "name": "stdout",
     "output_type": "stream",
     "text": [
      "Model: \"sequential_2\"\n",
      "_________________________________________________________________\n",
      " Layer (type)                Output Shape              Param #   \n",
      "=================================================================\n",
      " conv2d_5 (Conv2D)           (None, 26, 26, 32)        320       \n",
      "                                                                 \n",
      " conv2d_6 (Conv2D)           (None, 24, 24, 64)        18496     \n",
      "                                                                 \n",
      " dropout_2 (Dropout)         (None, 24, 24, 64)        0         \n",
      "                                                                 \n",
      " average_pooling2d_2 (Averag  (None, 12, 12, 64)       0         \n",
      " ePooling2D)                                                     \n",
      "                                                                 \n",
      " conv2d_7 (Conv2D)           (None, 10, 10, 48)        27696     \n",
      "                                                                 \n",
      "=================================================================\n",
      "Total params: 46,512\n",
      "Trainable params: 0\n",
      "Non-trainable params: 46,512\n",
      "_________________________________________________________________\n"
     ]
    }
   ],
   "source": [
    "tl_base = attempt_load(\"k49_2_model\")\n",
    "tl_base.pop()\n",
    "tl_base.pop()\n",
    "tl_base.pop()\n",
    "tl_base.trainable = False\n",
    "\n",
    "tl_base.summary()"
   ]
  },
  {
   "cell_type": "code",
   "execution_count": 18,
   "id": "13b66457",
   "metadata": {
    "scrolled": true
   },
   "outputs": [
    {
     "name": "stdout",
     "output_type": "stream",
     "text": [
      "Model: \"sequential_2\"\n",
      "_________________________________________________________________\n",
      " Layer (type)                Output Shape              Param #   \n",
      "=================================================================\n",
      " sequential_2 (Sequential)   (None, 10, 10, 48)        46512     \n",
      "                                                                 \n",
      " conv2d_5 (Conv2D)           (None, 8, 8, 48)          20784     \n",
      "                                                                 \n",
      " average_pooling2d_2 (Averag  (None, 4, 4, 48)         0         \n",
      " ePooling2D)                                                     \n",
      "                                                                 \n",
      " dropout_2 (Dropout)         (None, 4, 4, 48)          0         \n",
      "                                                                 \n",
      " conv2d_6 (Conv2D)           (None, 2, 2, 32)          13856     \n",
      "                                                                 \n",
      " flatten_2 (Flatten)         (None, 128)               0         \n",
      "                                                                 \n",
      " dense_4 (Dense)             (None, 150)               19350     \n",
      "                                                                 \n",
      " dense_5 (Dense)             (None, 150)               22650     \n",
      "                                                                 \n",
      "=================================================================\n",
      "Total params: 123,152\n",
      "Trainable params: 76,640\n",
      "Non-trainable params: 46,512\n",
      "_________________________________________________________________\n"
     ]
    }
   ],
   "source": [
    "in_shape = (28, 28, 1)\n",
    "\n",
    "tl_model = Sequential()\n",
    "tl_model.add(tl_base)                              # Base..\n",
    "tl_model.add(Conv2D(48, (3, 3), activation='sigmoid', input_shape=in_shape))\n",
    "tl_model.add(AveragePooling2D(pool_size=(2, 2)))\n",
    "tl_model.add(Dropout(0.2))\n",
    "tl_model.add(Conv2D(32, (3, 3), activation='sigmoid'))\n",
    "tl_model.add(Flatten())\n",
    "tl_model.add(Dense(150, activation='relu'))\n",
    "tl_model.add(Dense(150))\n",
    "\n",
    "tl_model.summary()"
   ]
  },
  {
   "cell_type": "code",
   "execution_count": 19,
   "id": "c10c183a",
   "metadata": {},
   "outputs": [
    {
     "name": "stdout",
     "output_type": "stream",
     "text": [
      "Epoch 1/12\n",
      "1545/1545 [==============================] - 115s 73ms/step - loss: 2.0925 - sparse_categorical_crossentropy: 4.9825 - accuracy: 0.5289 - val_loss: 0.9316 - val_sparse_categorical_crossentropy: 2.3766 - val_accuracy: 0.7605\n",
      "Epoch 2/12\n",
      "1545/1545 [==============================] - 82s 53ms/step - loss: 0.8268 - sparse_categorical_crossentropy: 2.2064 - accuracy: 0.7877 - val_loss: 0.6244 - val_sparse_categorical_crossentropy: 1.7371 - val_accuracy: 0.8375\n",
      "Epoch 3/12\n",
      "1545/1545 [==============================] - 81s 53ms/step - loss: 0.6267 - sparse_categorical_crossentropy: 1.7654 - accuracy: 0.8348 - val_loss: 0.5064 - val_sparse_categorical_crossentropy: 1.4735 - val_accuracy: 0.8671\n",
      "Epoch 4/12\n",
      "1545/1545 [==============================] - 78s 51ms/step - loss: 0.5192 - sparse_categorical_crossentropy: 1.5557 - accuracy: 0.8642 - val_loss: 0.4416 - val_sparse_categorical_crossentropy: 1.3957 - val_accuracy: 0.8832\n",
      "Epoch 5/12\n",
      "1545/1545 [==============================] - 78s 50ms/step - loss: 0.4591 - sparse_categorical_crossentropy: 1.4265 - accuracy: 0.8780 - val_loss: 0.3949 - val_sparse_categorical_crossentropy: 1.3479 - val_accuracy: 0.8937\n",
      "Epoch 6/12\n",
      "1545/1545 [==============================] - 79s 51ms/step - loss: 0.4131 - sparse_categorical_crossentropy: 1.3567 - accuracy: 0.8901 - val_loss: 0.3693 - val_sparse_categorical_crossentropy: 1.3134 - val_accuracy: 0.9012\n",
      "Epoch 7/12\n",
      "1545/1545 [==============================] - 79s 51ms/step - loss: 0.3823 - sparse_categorical_crossentropy: 1.3225 - accuracy: 0.8981 - val_loss: 0.3455 - val_sparse_categorical_crossentropy: 1.3211 - val_accuracy: 0.9086\n",
      "Epoch 8/12\n",
      "1545/1545 [==============================] - 78s 51ms/step - loss: 0.3490 - sparse_categorical_crossentropy: 1.2810 - accuracy: 0.9059 - val_loss: 0.3258 - val_sparse_categorical_crossentropy: 1.2968 - val_accuracy: 0.9149\n",
      "Epoch 9/12\n",
      "1545/1545 [==============================] - 79s 51ms/step - loss: 0.3274 - sparse_categorical_crossentropy: 1.2275 - accuracy: 0.9106 - val_loss: 0.3128 - val_sparse_categorical_crossentropy: 1.2691 - val_accuracy: 0.9177\n",
      "Epoch 10/12\n",
      "1545/1545 [==============================] - 79s 51ms/step - loss: 0.3112 - sparse_categorical_crossentropy: 1.2238 - accuracy: 0.9146 - val_loss: 0.3068 - val_sparse_categorical_crossentropy: 1.3067 - val_accuracy: 0.9187\n",
      "Epoch 11/12\n",
      "1545/1545 [==============================] - 81s 53ms/step - loss: 0.2907 - sparse_categorical_crossentropy: 1.1785 - accuracy: 0.9203 - val_loss: 0.2920 - val_sparse_categorical_crossentropy: 1.2187 - val_accuracy: 0.9232\n",
      "Epoch 12/12\n",
      "1545/1545 [==============================] - 97s 63ms/step - loss: 0.2755 - sparse_categorical_crossentropy: 1.1496 - accuracy: 0.9233 - val_loss: 0.2895 - val_sparse_categorical_crossentropy: 1.2696 - val_accuracy: 0.9241\n"
     ]
    }
   ],
   "source": [
    "callback = tf.keras.callbacks.EarlyStopping(monitor='val_loss', patience=3)\n",
    "\n",
    "tl_model.compile(loss=tf.keras.losses.SparseCategoricalCrossentropy(from_logits=True),\n",
    "                  optimizer=\"adam\",\n",
    "                  metrics=[tf.keras.metrics.SparseCategoricalCrossentropy(), 'accuracy'])\n",
    "\n",
    "tl_model_history = tl_model.fit(kanji_train, batch_size=128, epochs=epochs,\n",
    "              callbacks=callback, verbose=1, validation_data=kanji_val)\n",
    "\n",
    "# tl_model.save('tl_model.h5', save_format='h5')"
   ]
  },
  {
   "cell_type": "code",
   "execution_count": 20,
   "id": "08197a1b",
   "metadata": {},
   "outputs": [
    {
     "name": "stdout",
     "output_type": "stream",
     "text": [
      "0.9232901930809021\n",
      "0.924075722694397\n"
     ]
    },
    {
     "data": {
      "image/png": "[encoded data removed]",
      "text/plain": [
       "<Figure size 640x480 with 1 Axes>"
      ]
     },
     "metadata": {},
     "output_type": "display_data"
    }
   ],
   "source": [
    "create_visuals(\"Transfer Kuzushiji-49 Learning to Kanji\", tl_model_history, 1, 1)"
   ]
  },
  {
   "cell_type": "markdown",
   "id": "d429eea8",
   "metadata": {},
   "source": [
    "### Optuna Model"
   ]
  },
  {
   "cell_type": "code",
   "execution_count": 23,
   "id": "82a38087",
   "metadata": {},
   "outputs": [
    {
     "name": "stderr",
     "output_type": "stream",
     "text": [
      "\u001b[32m[I 2022-11-29 07:55:44,298]\u001b[0m A new study created in memory with name: Study1\u001b[0m\n"
     ]
    },
    {
     "name": "stdout",
     "output_type": "stream",
     "text": [
      "Epoch 1/15\n",
      "1545/1545 [==============================] - 113s 71ms/step - loss: 2.7260 - sparse_categorical_crossentropy: 5.2670 - accuracy: 0.4340 - val_loss: 1.3889 - val_sparse_categorical_crossentropy: 2.8856 - val_accuracy: 0.6948\n",
      "Epoch 2/15\n",
      "1545/1545 [==============================] - 109s 71ms/step - loss: 1.0757 - sparse_categorical_crossentropy: 2.6253 - accuracy: 0.7577 - val_loss: 0.7894 - val_sparse_categorical_crossentropy: 2.3708 - val_accuracy: 0.8180\n",
      "Epoch 3/15\n",
      "1545/1545 [==============================] - 107s 69ms/step - loss: 0.7400 - sparse_categorical_crossentropy: 2.2649 - accuracy: 0.8263 - val_loss: 0.5982 - val_sparse_categorical_crossentropy: 2.1072 - val_accuracy: 0.8579\n",
      "Epoch 4/15\n",
      "1545/1545 [==============================] - 107s 69ms/step - loss: 0.5938 - sparse_categorical_crossentropy: 2.0444 - accuracy: 0.8568 - val_loss: 0.5064 - val_sparse_categorical_crossentropy: 1.9341 - val_accuracy: 0.8745\n",
      "Epoch 5/15\n",
      "1545/1545 [==============================] - 107s 69ms/step - loss: 0.5135 - sparse_categorical_crossentropy: 1.8753 - accuracy: 0.8745 - val_loss: 0.4556 - val_sparse_categorical_crossentropy: 1.8167 - val_accuracy: 0.8880\n",
      "Epoch 6/15\n",
      "1545/1545 [==============================] - 107s 69ms/step - loss: 0.4572 - sparse_categorical_crossentropy: 1.7682 - accuracy: 0.8843 - val_loss: 0.4105 - val_sparse_categorical_crossentropy: 1.7324 - val_accuracy: 0.8966\n",
      "Epoch 7/15\n",
      "1545/1545 [==============================] - 106s 69ms/step - loss: 0.4191 - sparse_categorical_crossentropy: 1.6569 - accuracy: 0.8934 - val_loss: 0.3867 - val_sparse_categorical_crossentropy: 1.6542 - val_accuracy: 0.9009\n",
      "Epoch 8/15\n",
      "1545/1545 [==============================] - 106s 69ms/step - loss: 0.3833 - sparse_categorical_crossentropy: 1.5528 - accuracy: 0.9021 - val_loss: 0.3653 - val_sparse_categorical_crossentropy: 1.5898 - val_accuracy: 0.9062\n",
      "Epoch 9/15\n",
      "1545/1545 [==============================] - 105s 68ms/step - loss: 0.3597 - sparse_categorical_crossentropy: 1.4953 - accuracy: 0.9066 - val_loss: 0.3527 - val_sparse_categorical_crossentropy: 1.5255 - val_accuracy: 0.9098\n",
      "Epoch 10/15\n",
      "1545/1545 [==============================] - 106s 68ms/step - loss: 0.3366 - sparse_categorical_crossentropy: 1.4284 - accuracy: 0.9131 - val_loss: 0.3363 - val_sparse_categorical_crossentropy: 1.4896 - val_accuracy: 0.9143\n",
      "Epoch 11/15\n",
      "1545/1545 [==============================] - 105s 68ms/step - loss: 0.3199 - sparse_categorical_crossentropy: 1.3735 - accuracy: 0.9157 - val_loss: 0.3283 - val_sparse_categorical_crossentropy: 1.4287 - val_accuracy: 0.9157\n",
      "Epoch 12/15\n",
      "1545/1545 [==============================] - 105s 68ms/step - loss: 0.3027 - sparse_categorical_crossentropy: 1.3365 - accuracy: 0.9203 - val_loss: 0.3189 - val_sparse_categorical_crossentropy: 1.3883 - val_accuracy: 0.9163\n",
      "Epoch 13/15\n",
      "1545/1545 [==============================] - 105s 68ms/step - loss: 0.2971 - sparse_categorical_crossentropy: 1.2779 - accuracy: 0.9218 - val_loss: 0.3113 - val_sparse_categorical_crossentropy: 1.3523 - val_accuracy: 0.9184\n",
      "Epoch 14/15\n",
      "1545/1545 [==============================] - 105s 68ms/step - loss: 0.2810 - sparse_categorical_crossentropy: 1.2420 - accuracy: 0.9254 - val_loss: 0.3065 - val_sparse_categorical_crossentropy: 1.3261 - val_accuracy: 0.9202\n",
      "Epoch 15/15\n",
      "1545/1545 [==============================] - 100s 64ms/step - loss: 0.2702 - sparse_categorical_crossentropy: 1.2067 - accuracy: 0.9275 - val_loss: 0.2984 - val_sparse_categorical_crossentropy: 1.2826 - val_accuracy: 0.9228\n"
     ]
    },
    {
     "name": "stderr",
     "output_type": "stream",
     "text": [
      "\u001b[32m[I 2022-11-29 08:22:20,769]\u001b[0m Trial 0 finished with value: 0.9227536916732788 and parameters: {'first_layer_kernel': 57, 'first_layer_activation': 'tanh', 'second_layer_kernel': 38, 'second_layer_activation': 'sigmoid', 'average_pooling_size': 2, 'dense_layer_size': 140, 'dense_layer_activation': 'sigmoid'}. Best is trial 0 with value: 0.9227536916732788.\u001b[0m\n"
     ]
    },
    {
     "name": "stdout",
     "output_type": "stream",
     "text": [
      "Epoch 1/15\n",
      "1545/1545 [==============================] - 75s 48ms/step - loss: 2.0325 - sparse_categorical_crossentropy: 4.0569 - accuracy: 0.5898 - val_loss: 0.8856 - val_sparse_categorical_crossentropy: 2.3960 - val_accuracy: 0.8082\n",
      "Epoch 2/15\n",
      "1545/1545 [==============================] - 75s 49ms/step - loss: 0.7363 - sparse_categorical_crossentropy: 2.1934 - accuracy: 0.8343 - val_loss: 0.5491 - val_sparse_categorical_crossentropy: 2.0332 - val_accuracy: 0.8728\n",
      "Epoch 3/15\n",
      "1545/1545 [==============================] - 75s 48ms/step - loss: 0.5376 - sparse_categorical_crossentropy: 1.9183 - accuracy: 0.8723 - val_loss: 0.4477 - val_sparse_categorical_crossentropy: 1.8413 - val_accuracy: 0.8909\n",
      "Epoch 4/15\n",
      "1545/1545 [==============================] - 75s 48ms/step - loss: 0.4515 - sparse_categorical_crossentropy: 1.7535 - accuracy: 0.8888 - val_loss: 0.3945 - val_sparse_categorical_crossentropy: 1.7326 - val_accuracy: 0.9031\n",
      "Epoch 5/15\n",
      "1545/1545 [==============================] - 75s 48ms/step - loss: 0.4035 - sparse_categorical_crossentropy: 1.6555 - accuracy: 0.8989 - val_loss: 0.3672 - val_sparse_categorical_crossentropy: 1.6761 - val_accuracy: 0.9074\n",
      "Epoch 6/15\n",
      "1545/1545 [==============================] - 75s 48ms/step - loss: 0.3670 - sparse_categorical_crossentropy: 1.5871 - accuracy: 0.9069 - val_loss: 0.3496 - val_sparse_categorical_crossentropy: 1.6106 - val_accuracy: 0.9116\n",
      "Epoch 7/15\n",
      "1545/1545 [==============================] - 75s 48ms/step - loss: 0.3348 - sparse_categorical_crossentropy: 1.4981 - accuracy: 0.9133 - val_loss: 0.3318 - val_sparse_categorical_crossentropy: 1.5514 - val_accuracy: 0.9152\n",
      "Epoch 8/15\n",
      "1545/1545 [==============================] - 75s 49ms/step - loss: 0.3192 - sparse_categorical_crossentropy: 1.4439 - accuracy: 0.9165 - val_loss: 0.3205 - val_sparse_categorical_crossentropy: 1.5034 - val_accuracy: 0.9180\n",
      "Epoch 9/15\n",
      "1545/1545 [==============================] - 75s 48ms/step - loss: 0.3041 - sparse_categorical_crossentropy: 1.3959 - accuracy: 0.9196 - val_loss: 0.3121 - val_sparse_categorical_crossentropy: 1.4670 - val_accuracy: 0.9190\n",
      "Epoch 10/15\n",
      "1545/1545 [==============================] - 75s 49ms/step - loss: 0.2860 - sparse_categorical_crossentropy: 1.3393 - accuracy: 0.9234 - val_loss: 0.3059 - val_sparse_categorical_crossentropy: 1.4406 - val_accuracy: 0.9212\n",
      "Epoch 11/15\n",
      "1545/1545 [==============================] - 75s 49ms/step - loss: 0.2718 - sparse_categorical_crossentropy: 1.2936 - accuracy: 0.9284 - val_loss: 0.3012 - val_sparse_categorical_crossentropy: 1.4001 - val_accuracy: 0.9212\n",
      "Epoch 12/15\n",
      "1545/1545 [==============================] - 75s 48ms/step - loss: 0.2604 - sparse_categorical_crossentropy: 1.2664 - accuracy: 0.9308 - val_loss: 0.2993 - val_sparse_categorical_crossentropy: 1.3888 - val_accuracy: 0.9242\n",
      "Epoch 13/15\n",
      "1545/1545 [==============================] - 75s 49ms/step - loss: 0.2537 - sparse_categorical_crossentropy: 1.2209 - accuracy: 0.9301 - val_loss: 0.2969 - val_sparse_categorical_crossentropy: 1.3627 - val_accuracy: 0.9246\n",
      "Epoch 14/15\n",
      "1545/1545 [==============================] - 76s 49ms/step - loss: 0.2515 - sparse_categorical_crossentropy: 1.2081 - accuracy: 0.9313 - val_loss: 0.2897 - val_sparse_categorical_crossentropy: 1.3377 - val_accuracy: 0.9254\n",
      "Epoch 15/15\n",
      "1545/1545 [==============================] - 75s 49ms/step - loss: 0.2404 - sparse_categorical_crossentropy: 1.1688 - accuracy: 0.9338 - val_loss: 0.2914 - val_sparse_categorical_crossentropy: 1.2768 - val_accuracy: 0.9260\n"
     ]
    },
    {
     "name": "stderr",
     "output_type": "stream",
     "text": [
      "\u001b[32m[I 2022-11-29 08:41:06,983]\u001b[0m Trial 1 finished with value: 0.9259644150733948 and parameters: {'first_layer_kernel': 48, 'first_layer_activation': 'tanh', 'second_layer_kernel': 43, 'second_layer_activation': 'tanh', 'average_pooling_size': 2, 'dense_layer_size': 164, 'dense_layer_activation': 'sigmoid'}. Best is trial 1 with value: 0.9259644150733948.\u001b[0m\n"
     ]
    },
    {
     "name": "stdout",
     "output_type": "stream",
     "text": [
      "Epoch 1/15\n",
      "1545/1545 [==============================] - 79s 50ms/step - loss: 1.7983 - sparse_categorical_crossentropy: 4.7257 - accuracy: 0.6096 - val_loss: 0.7259 - val_sparse_categorical_crossentropy: 4.1322 - val_accuracy: 0.8279\n",
      "Epoch 2/15\n",
      "1545/1545 [==============================] - 78s 50ms/step - loss: 0.6272 - sparse_categorical_crossentropy: 4.1340 - accuracy: 0.8460 - val_loss: 0.4841 - val_sparse_categorical_crossentropy: 4.1319 - val_accuracy: 0.8778\n",
      "Epoch 3/15\n",
      "1545/1545 [==============================] - 78s 50ms/step - loss: 0.4655 - sparse_categorical_crossentropy: 4.1306 - accuracy: 0.8825 - val_loss: 0.3975 - val_sparse_categorical_crossentropy: 4.1373 - val_accuracy: 0.8996\n",
      "Epoch 4/15\n",
      "1545/1545 [==============================] - 78s 51ms/step - loss: 0.3894 - sparse_categorical_crossentropy: 4.1314 - accuracy: 0.8991 - val_loss: 0.3532 - val_sparse_categorical_crossentropy: 4.1404 - val_accuracy: 0.9055\n",
      "Epoch 5/15\n",
      "1545/1545 [==============================] - 78s 51ms/step - loss: 0.3380 - sparse_categorical_crossentropy: 4.1262 - accuracy: 0.9129 - val_loss: 0.3112 - val_sparse_categorical_crossentropy: 4.1288 - val_accuracy: 0.9177\n",
      "Epoch 6/15\n",
      "1545/1545 [==============================] - 79s 51ms/step - loss: 0.3054 - sparse_categorical_crossentropy: 4.1252 - accuracy: 0.9202 - val_loss: 0.2910 - val_sparse_categorical_crossentropy: 4.1318 - val_accuracy: 0.9218\n",
      "Epoch 7/15\n",
      "1545/1545 [==============================] - 78s 51ms/step - loss: 0.2832 - sparse_categorical_crossentropy: 4.1225 - accuracy: 0.9239 - val_loss: 0.2858 - val_sparse_categorical_crossentropy: 4.1338 - val_accuracy: 0.9242\n",
      "Epoch 8/15\n",
      "1545/1545 [==============================] - 78s 50ms/step - loss: 0.2567 - sparse_categorical_crossentropy: 4.1250 - accuracy: 0.9314 - val_loss: 0.2763 - val_sparse_categorical_crossentropy: 4.1271 - val_accuracy: 0.9264\n",
      "Epoch 9/15\n",
      "1545/1545 [==============================] - 78s 50ms/step - loss: 0.2394 - sparse_categorical_crossentropy: 4.1190 - accuracy: 0.9353 - val_loss: 0.2797 - val_sparse_categorical_crossentropy: 4.1261 - val_accuracy: 0.9247\n",
      "Epoch 10/15\n",
      "1545/1545 [==============================] - 78s 50ms/step - loss: 0.2212 - sparse_categorical_crossentropy: 4.1178 - accuracy: 0.9391 - val_loss: 0.2601 - val_sparse_categorical_crossentropy: 4.1241 - val_accuracy: 0.9305\n",
      "Epoch 11/15\n",
      "1545/1545 [==============================] - 78s 50ms/step - loss: 0.2071 - sparse_categorical_crossentropy: 4.1177 - accuracy: 0.9435 - val_loss: 0.2623 - val_sparse_categorical_crossentropy: 4.1225 - val_accuracy: 0.9289\n",
      "Epoch 12/15\n",
      "1545/1545 [==============================] - 78s 50ms/step - loss: 0.2001 - sparse_categorical_crossentropy: 4.1181 - accuracy: 0.9443 - val_loss: 0.2476 - val_sparse_categorical_crossentropy: 4.1183 - val_accuracy: 0.9330\n",
      "Epoch 13/15\n",
      "1545/1545 [==============================] - 78s 50ms/step - loss: 0.1874 - sparse_categorical_crossentropy: 4.1165 - accuracy: 0.9481 - val_loss: 0.2573 - val_sparse_categorical_crossentropy: 4.1277 - val_accuracy: 0.9316\n",
      "Epoch 14/15\n",
      "1545/1545 [==============================] - 78s 51ms/step - loss: 0.1783 - sparse_categorical_crossentropy: 4.1150 - accuracy: 0.9499 - val_loss: 0.2502 - val_sparse_categorical_crossentropy: 4.1260 - val_accuracy: 0.9346\n",
      "Epoch 15/15\n",
      "1545/1545 [==============================] - 78s 50ms/step - loss: 0.1778 - sparse_categorical_crossentropy: 4.1156 - accuracy: 0.9501 - val_loss: 0.2503 - val_sparse_categorical_crossentropy: 4.1236 - val_accuracy: 0.9346\n"
     ]
    },
    {
     "name": "stderr",
     "output_type": "stream",
     "text": [
      "\u001b[32m[I 2022-11-29 09:00:38,931]\u001b[0m Trial 2 finished with value: 0.934605062007904 and parameters: {'first_layer_kernel': 61, 'first_layer_activation': 'sigmoid', 'second_layer_kernel': 39, 'second_layer_activation': 'sigmoid', 'average_pooling_size': 2, 'dense_layer_size': 168, 'dense_layer_activation': 'tanh'}. Best is trial 2 with value: 0.934605062007904.\u001b[0m\n"
     ]
    },
    {
     "name": "stdout",
     "output_type": "stream",
     "text": [
      "Epoch 1/15\n",
      "1545/1545 [==============================] - 79s 51ms/step - loss: 3.0185 - sparse_categorical_crossentropy: 7.4025 - accuracy: 0.3661 - val_loss: 1.8961 - val_sparse_categorical_crossentropy: 4.2633 - val_accuracy: 0.5697\n",
      "Epoch 2/15\n",
      "1545/1545 [==============================] - 77s 50ms/step - loss: 1.5697 - sparse_categorical_crossentropy: 3.5256 - accuracy: 0.6288 - val_loss: 1.3067 - val_sparse_categorical_crossentropy: 3.1007 - val_accuracy: 0.6778\n",
      "Epoch 3/15\n",
      "1545/1545 [==============================] - 77s 50ms/step - loss: 1.2387 - sparse_categorical_crossentropy: 2.8748 - accuracy: 0.6947 - val_loss: 1.1012 - val_sparse_categorical_crossentropy: 2.6487 - val_accuracy: 0.7241\n",
      "Epoch 4/15\n",
      "1545/1545 [==============================] - 71s 46ms/step - loss: 1.1216 - sparse_categorical_crossentropy: 2.6844 - accuracy: 0.7186 - val_loss: 1.1013 - val_sparse_categorical_crossentropy: 2.7332 - val_accuracy: 0.7222\n",
      "Epoch 5/15\n",
      "1545/1545 [==============================] - 71s 46ms/step - loss: 1.1011 - sparse_categorical_crossentropy: 2.7037 - accuracy: 0.7224 - val_loss: 1.0389 - val_sparse_categorical_crossentropy: 2.5609 - val_accuracy: 0.7393\n",
      "Epoch 6/15\n",
      "1545/1545 [==============================] - 70s 46ms/step - loss: 1.0453 - sparse_categorical_crossentropy: 2.5901 - accuracy: 0.7337 - val_loss: 1.0297 - val_sparse_categorical_crossentropy: 2.5419 - val_accuracy: 0.7333\n",
      "Epoch 7/15\n",
      "1545/1545 [==============================] - 72s 47ms/step - loss: 1.0461 - sparse_categorical_crossentropy: 2.6328 - accuracy: 0.7306 - val_loss: 0.9867 - val_sparse_categorical_crossentropy: 2.5219 - val_accuracy: 0.7494\n",
      "Epoch 8/15\n",
      "1545/1545 [==============================] - 70s 46ms/step - loss: 1.0643 - sparse_categorical_crossentropy: 2.6585 - accuracy: 0.7250 - val_loss: 0.9331 - val_sparse_categorical_crossentropy: 2.4150 - val_accuracy: 0.7602\n",
      "Epoch 9/15\n",
      "1545/1545 [==============================] - 71s 46ms/step - loss: 1.0002 - sparse_categorical_crossentropy: 2.6159 - accuracy: 0.7407 - val_loss: 0.9842 - val_sparse_categorical_crossentropy: 2.6113 - val_accuracy: 0.7486\n",
      "Epoch 10/15\n",
      "1545/1545 [==============================] - 71s 46ms/step - loss: 1.0034 - sparse_categorical_crossentropy: 2.6509 - accuracy: 0.7384 - val_loss: 0.9760 - val_sparse_categorical_crossentropy: 2.6223 - val_accuracy: 0.7507\n",
      "Epoch 11/15\n",
      "1545/1545 [==============================] - 60s 39ms/step - loss: 1.0280 - sparse_categorical_crossentropy: 2.7448 - accuracy: 0.7292 - val_loss: 0.9333 - val_sparse_categorical_crossentropy: 2.6227 - val_accuracy: 0.7580\n",
      "Epoch 12/15\n",
      "1545/1545 [==============================] - 49s 32ms/step - loss: 1.0143 - sparse_categorical_crossentropy: 3.0296 - accuracy: 0.7322 - val_loss: 0.9341 - val_sparse_categorical_crossentropy: 3.0142 - val_accuracy: 0.7562\n"
     ]
    },
    {
     "name": "stderr",
     "output_type": "stream",
     "text": [
      "\u001b[32m[I 2022-11-29 09:14:39,374]\u001b[0m Trial 3 finished with value: 0.7562207579612732 and parameters: {'first_layer_kernel': 62, 'first_layer_activation': 'relu', 'second_layer_kernel': 43, 'second_layer_activation': 'relu', 'average_pooling_size': 2, 'dense_layer_size': 147, 'dense_layer_activation': 'sigmoid'}. Best is trial 2 with value: 0.934605062007904.\u001b[0m\n"
     ]
    },
    {
     "name": "stdout",
     "output_type": "stream",
     "text": [
      "Epoch 1/15\n",
      "1545/1545 [==============================] - 49s 32ms/step - loss: 1.3758 - sparse_categorical_crossentropy: 3.4019 - accuracy: 0.6838 - val_loss: 0.5940 - val_sparse_categorical_crossentropy: 1.6109 - val_accuracy: 0.8455\n",
      "Epoch 2/15\n",
      "1545/1545 [==============================] - 49s 32ms/step - loss: 0.5815 - sparse_categorical_crossentropy: 1.6765 - accuracy: 0.8477 - val_loss: 0.4333 - val_sparse_categorical_crossentropy: 1.3367 - val_accuracy: 0.8862\n",
      "Epoch 3/15\n",
      "1545/1545 [==============================] - 50s 32ms/step - loss: 0.4520 - sparse_categorical_crossentropy: 1.3761 - accuracy: 0.8796 - val_loss: 0.3885 - val_sparse_categorical_crossentropy: 1.2312 - val_accuracy: 0.8979\n",
      "Epoch 4/15\n",
      "1545/1545 [==============================] - 50s 32ms/step - loss: 0.3958 - sparse_categorical_crossentropy: 1.2657 - accuracy: 0.8930 - val_loss: 0.3614 - val_sparse_categorical_crossentropy: 1.1644 - val_accuracy: 0.9074\n",
      "Epoch 5/15\n",
      "1545/1545 [==============================] - 50s 33ms/step - loss: 0.3580 - sparse_categorical_crossentropy: 1.2012 - accuracy: 0.9019 - val_loss: 0.3393 - val_sparse_categorical_crossentropy: 1.1274 - val_accuracy: 0.9121\n",
      "Epoch 6/15\n",
      "1545/1545 [==============================] - 52s 33ms/step - loss: 0.3292 - sparse_categorical_crossentropy: 1.1057 - accuracy: 0.9088 - val_loss: 0.3294 - val_sparse_categorical_crossentropy: 1.0969 - val_accuracy: 0.9138\n",
      "Epoch 7/15\n",
      "1545/1545 [==============================] - 51s 33ms/step - loss: 0.2972 - sparse_categorical_crossentropy: 1.0556 - accuracy: 0.9162 - val_loss: 0.3170 - val_sparse_categorical_crossentropy: 1.0622 - val_accuracy: 0.9179\n",
      "Epoch 8/15\n",
      "1545/1545 [==============================] - 51s 33ms/step - loss: 0.2837 - sparse_categorical_crossentropy: 0.9957 - accuracy: 0.9192 - val_loss: 0.3186 - val_sparse_categorical_crossentropy: 1.0604 - val_accuracy: 0.9182\n",
      "Epoch 9/15\n",
      "1545/1545 [==============================] - 51s 33ms/step - loss: 0.2688 - sparse_categorical_crossentropy: 0.9657 - accuracy: 0.9228 - val_loss: 0.3122 - val_sparse_categorical_crossentropy: 1.0251 - val_accuracy: 0.9206\n",
      "Epoch 10/15\n",
      "1545/1545 [==============================] - 51s 33ms/step - loss: 0.2568 - sparse_categorical_crossentropy: 0.9240 - accuracy: 0.9258 - val_loss: 0.3129 - val_sparse_categorical_crossentropy: 1.0221 - val_accuracy: 0.9200\n",
      "Epoch 11/15\n",
      "1545/1545 [==============================] - 52s 33ms/step - loss: 0.2507 - sparse_categorical_crossentropy: 0.8964 - accuracy: 0.9264 - val_loss: 0.3150 - val_sparse_categorical_crossentropy: 0.9907 - val_accuracy: 0.9208\n",
      "Epoch 12/15\n",
      "1545/1545 [==============================] - 54s 35ms/step - loss: 0.2455 - sparse_categorical_crossentropy: 0.8844 - accuracy: 0.9278 - val_loss: 0.3287 - val_sparse_categorical_crossentropy: 1.0183 - val_accuracy: 0.9190\n",
      "Epoch 13/15\n",
      "1545/1545 [==============================] - 53s 34ms/step - loss: 0.2339 - sparse_categorical_crossentropy: 0.8544 - accuracy: 0.9314 - val_loss: 0.3218 - val_sparse_categorical_crossentropy: 0.9311 - val_accuracy: 0.9204\n",
      "Epoch 14/15\n",
      "1545/1545 [==============================] - 53s 34ms/step - loss: 0.2329 - sparse_categorical_crossentropy: 0.8572 - accuracy: 0.9314 - val_loss: 0.3089 - val_sparse_categorical_crossentropy: 0.9510 - val_accuracy: 0.9236\n",
      "Epoch 15/15\n",
      "1545/1545 [==============================] - 53s 34ms/step - loss: 0.2256 - sparse_categorical_crossentropy: 0.8527 - accuracy: 0.9325 - val_loss: 0.3152 - val_sparse_categorical_crossentropy: 0.9579 - val_accuracy: 0.9229\n"
     ]
    },
    {
     "name": "stderr",
     "output_type": "stream",
     "text": [
      "\u001b[32m[I 2022-11-29 09:27:29,477]\u001b[0m Trial 4 finished with value: 0.9229425191879272 and parameters: {'first_layer_kernel': 48, 'first_layer_activation': 'tanh', 'second_layer_kernel': 31, 'second_layer_activation': 'tanh', 'average_pooling_size': 2, 'dense_layer_size': 153, 'dense_layer_activation': 'relu'}. Best is trial 2 with value: 0.934605062007904.\u001b[0m\n"
     ]
    },
    {
     "name": "stdout",
     "output_type": "stream",
     "text": [
      "Epoch 1/15\n",
      "1545/1545 [==============================] - 56s 36ms/step - loss: 1.6425 - sparse_categorical_crossentropy: 4.5597 - accuracy: 0.6474 - val_loss: 0.6746 - val_sparse_categorical_crossentropy: 4.1168 - val_accuracy: 0.8413\n",
      "Epoch 2/15\n",
      "1545/1545 [==============================] - 56s 36ms/step - loss: 0.6019 - sparse_categorical_crossentropy: 4.1269 - accuracy: 0.8527 - val_loss: 0.4713 - val_sparse_categorical_crossentropy: 4.1314 - val_accuracy: 0.8798\n",
      "Epoch 3/15\n",
      "1545/1545 [==============================] - 56s 36ms/step - loss: 0.4652 - sparse_categorical_crossentropy: 4.1301 - accuracy: 0.8826 - val_loss: 0.3909 - val_sparse_categorical_crossentropy: 4.1346 - val_accuracy: 0.9004\n",
      "Epoch 4/15\n",
      "1545/1545 [==============================] - 56s 36ms/step - loss: 0.3892 - sparse_categorical_crossentropy: 4.1322 - accuracy: 0.8997 - val_loss: 0.3518 - val_sparse_categorical_crossentropy: 4.1415 - val_accuracy: 0.9086\n",
      "Epoch 5/15\n",
      "1545/1545 [==============================] - 58s 37ms/step - loss: 0.3492 - sparse_categorical_crossentropy: 4.1316 - accuracy: 0.9084 - val_loss: 0.3279 - val_sparse_categorical_crossentropy: 4.1364 - val_accuracy: 0.9128\n",
      "Epoch 6/15\n",
      "1545/1545 [==============================] - 57s 37ms/step - loss: 0.3183 - sparse_categorical_crossentropy: 4.1305 - accuracy: 0.9154 - val_loss: 0.3128 - val_sparse_categorical_crossentropy: 4.1350 - val_accuracy: 0.9188\n",
      "Epoch 7/15\n",
      "1545/1545 [==============================] - 55s 35ms/step - loss: 0.2915 - sparse_categorical_crossentropy: 4.1310 - accuracy: 0.9224 - val_loss: 0.3036 - val_sparse_categorical_crossentropy: 4.1306 - val_accuracy: 0.9203\n",
      "Epoch 8/15\n",
      "1545/1545 [==============================] - 55s 36ms/step - loss: 0.2784 - sparse_categorical_crossentropy: 4.1285 - accuracy: 0.9250 - val_loss: 0.2979 - val_sparse_categorical_crossentropy: 4.1330 - val_accuracy: 0.9214\n",
      "Epoch 9/15\n",
      "1545/1545 [==============================] - 55s 36ms/step - loss: 0.2624 - sparse_categorical_crossentropy: 4.1242 - accuracy: 0.9301 - val_loss: 0.2866 - val_sparse_categorical_crossentropy: 4.1325 - val_accuracy: 0.9254\n",
      "Epoch 10/15\n",
      "1545/1545 [==============================] - 55s 35ms/step - loss: 0.2478 - sparse_categorical_crossentropy: 4.1281 - accuracy: 0.9326 - val_loss: 0.2804 - val_sparse_categorical_crossentropy: 4.1328 - val_accuracy: 0.9251\n",
      "Epoch 11/15\n",
      "1545/1545 [==============================] - 55s 36ms/step - loss: 0.2434 - sparse_categorical_crossentropy: 4.1265 - accuracy: 0.9325 - val_loss: 0.2818 - val_sparse_categorical_crossentropy: 4.1310 - val_accuracy: 0.9266\n",
      "Epoch 12/15\n",
      "1545/1545 [==============================] - 55s 35ms/step - loss: 0.2312 - sparse_categorical_crossentropy: 4.1249 - accuracy: 0.9353 - val_loss: 0.2775 - val_sparse_categorical_crossentropy: 4.1334 - val_accuracy: 0.9275\n",
      "Epoch 13/15\n",
      "1545/1545 [==============================] - 56s 36ms/step - loss: 0.2175 - sparse_categorical_crossentropy: 4.1234 - accuracy: 0.9394 - val_loss: 0.2687 - val_sparse_categorical_crossentropy: 4.1319 - val_accuracy: 0.9301\n",
      "Epoch 14/15\n",
      "1545/1545 [==============================] - 55s 35ms/step - loss: 0.2088 - sparse_categorical_crossentropy: 4.1238 - accuracy: 0.9404 - val_loss: 0.2747 - val_sparse_categorical_crossentropy: 4.1255 - val_accuracy: 0.9304\n",
      "Epoch 15/15\n",
      "1545/1545 [==============================] - 55s 36ms/step - loss: 0.2059 - sparse_categorical_crossentropy: 4.1225 - accuracy: 0.9422 - val_loss: 0.2798 - val_sparse_categorical_crossentropy: 4.1306 - val_accuracy: 0.9275\n"
     ]
    },
    {
     "name": "stderr",
     "output_type": "stream",
     "text": [
      "\u001b[32m[I 2022-11-29 09:41:23,740]\u001b[0m Trial 5 finished with value: 0.9274753332138062 and parameters: {'first_layer_kernel': 54, 'first_layer_activation': 'tanh', 'second_layer_kernel': 34, 'second_layer_activation': 'sigmoid', 'average_pooling_size': 2, 'dense_layer_size': 156, 'dense_layer_activation': 'tanh'}. Best is trial 2 with value: 0.934605062007904.\u001b[0m\n"
     ]
    },
    {
     "name": "stdout",
     "output_type": "stream",
     "text": [
      "Epoch 1/15\n",
      "1545/1545 [==============================] - 55s 35ms/step - loss: 4.1831 - sparse_categorical_crossentropy: 8.4750 - accuracy: 0.1462 - val_loss: 3.2200 - val_sparse_categorical_crossentropy: 4.5848 - val_accuracy: 0.2841\n",
      "Epoch 2/15\n",
      "1545/1545 [==============================] - 55s 35ms/step - loss: 2.6285 - sparse_categorical_crossentropy: 4.3012 - accuracy: 0.3827 - val_loss: 2.1647 - val_sparse_categorical_crossentropy: 4.2028 - val_accuracy: 0.4723\n",
      "Epoch 3/15\n",
      "1545/1545 [==============================] - 58s 37ms/step - loss: 2.1020 - sparse_categorical_crossentropy: 4.2458 - accuracy: 0.4828 - val_loss: 1.8327 - val_sparse_categorical_crossentropy: 4.2236 - val_accuracy: 0.5432\n",
      "Epoch 4/15\n",
      "1545/1545 [==============================] - 55s 36ms/step - loss: 1.8067 - sparse_categorical_crossentropy: 4.2472 - accuracy: 0.5452 - val_loss: 1.6561 - val_sparse_categorical_crossentropy: 4.2403 - val_accuracy: 0.5778\n",
      "Epoch 5/15\n",
      "1545/1545 [==============================] - 55s 36ms/step - loss: 1.7449 - sparse_categorical_crossentropy: 4.2391 - accuracy: 0.5570 - val_loss: 1.6821 - val_sparse_categorical_crossentropy: 4.2357 - val_accuracy: 0.5726\n",
      "Epoch 6/15\n",
      "1545/1545 [==============================] - 55s 36ms/step - loss: 1.7049 - sparse_categorical_crossentropy: 4.2391 - accuracy: 0.5683 - val_loss: 1.6443 - val_sparse_categorical_crossentropy: 4.2365 - val_accuracy: 0.5815\n",
      "Epoch 7/15\n",
      "1545/1545 [==============================] - 55s 36ms/step - loss: 1.7714 - sparse_categorical_crossentropy: 4.2444 - accuracy: 0.5506 - val_loss: 1.8704 - val_sparse_categorical_crossentropy: 4.2509 - val_accuracy: 0.5418\n",
      "Epoch 8/15\n",
      "1545/1545 [==============================] - 55s 36ms/step - loss: 1.8493 - sparse_categorical_crossentropy: 4.2680 - accuracy: 0.5356 - val_loss: 1.6969 - val_sparse_categorical_crossentropy: 4.2603 - val_accuracy: 0.5710\n",
      "Epoch 9/15\n",
      "1545/1545 [==============================] - 55s 36ms/step - loss: 1.6442 - sparse_categorical_crossentropy: 4.2703 - accuracy: 0.5779 - val_loss: 1.5090 - val_sparse_categorical_crossentropy: 4.2553 - val_accuracy: 0.6143\n",
      "Epoch 10/15\n",
      "1545/1545 [==============================] - 55s 36ms/step - loss: 1.6788 - sparse_categorical_crossentropy: 4.2685 - accuracy: 0.5703 - val_loss: 1.5472 - val_sparse_categorical_crossentropy: 4.2492 - val_accuracy: 0.5995\n",
      "Epoch 11/15\n",
      "1545/1545 [==============================] - 56s 36ms/step - loss: 1.6233 - sparse_categorical_crossentropy: 4.2475 - accuracy: 0.5811 - val_loss: 1.4835 - val_sparse_categorical_crossentropy: 4.2583 - val_accuracy: 0.6194\n",
      "Epoch 12/15\n",
      "1545/1545 [==============================] - 55s 35ms/step - loss: 1.6409 - sparse_categorical_crossentropy: 4.2623 - accuracy: 0.5789 - val_loss: 1.5993 - val_sparse_categorical_crossentropy: 4.2850 - val_accuracy: 0.5887\n",
      "Epoch 13/15\n",
      "1545/1545 [==============================] - 55s 36ms/step - loss: 1.6435 - sparse_categorical_crossentropy: 4.2701 - accuracy: 0.5782 - val_loss: 1.6101 - val_sparse_categorical_crossentropy: 4.2553 - val_accuracy: 0.5877\n",
      "Epoch 14/15\n",
      "1545/1545 [==============================] - 55s 36ms/step - loss: 1.6413 - sparse_categorical_crossentropy: 4.2553 - accuracy: 0.5786 - val_loss: 1.5163 - val_sparse_categorical_crossentropy: 4.2411 - val_accuracy: 0.6075\n"
     ]
    },
    {
     "name": "stderr",
     "output_type": "stream",
     "text": [
      "\u001b[32m[I 2022-11-29 09:54:19,166]\u001b[0m Trial 6 finished with value: 0.6075357794761658 and parameters: {'first_layer_kernel': 61, 'first_layer_activation': 'relu', 'second_layer_kernel': 41, 'second_layer_activation': 'relu', 'average_pooling_size': 2, 'dense_layer_size': 156, 'dense_layer_activation': 'tanh'}. Best is trial 2 with value: 0.934605062007904.\u001b[0m\n"
     ]
    },
    {
     "name": "stdout",
     "output_type": "stream",
     "text": [
      "Epoch 1/15\n",
      "1545/1545 [==============================] - 55s 35ms/step - loss: 3.0511 - sparse_categorical_crossentropy: 7.5797 - accuracy: 0.3605 - val_loss: 1.7597 - val_sparse_categorical_crossentropy: 4.1133 - val_accuracy: 0.5934\n",
      "Epoch 2/15\n",
      "1545/1545 [==============================] - 54s 35ms/step - loss: 1.5255 - sparse_categorical_crossentropy: 3.5756 - accuracy: 0.6350 - val_loss: 1.2916 - val_sparse_categorical_crossentropy: 3.2827 - val_accuracy: 0.6835\n",
      "Epoch 3/15\n",
      "1545/1545 [==============================] - 54s 35ms/step - loss: 1.2194 - sparse_categorical_crossentropy: 3.1282 - accuracy: 0.7001 - val_loss: 1.0902 - val_sparse_categorical_crossentropy: 2.9336 - val_accuracy: 0.7261\n",
      "Epoch 4/15\n",
      "1545/1545 [==============================] - 55s 35ms/step - loss: 1.1140 - sparse_categorical_crossentropy: 3.1413 - accuracy: 0.7161 - val_loss: 1.0346 - val_sparse_categorical_crossentropy: 3.3168 - val_accuracy: 0.7368\n",
      "Epoch 5/15\n",
      "1545/1545 [==============================] - 54s 35ms/step - loss: 1.0698 - sparse_categorical_crossentropy: 3.6415 - accuracy: 0.7248 - val_loss: 0.9763 - val_sparse_categorical_crossentropy: 4.0500 - val_accuracy: 0.7486\n",
      "Epoch 6/15\n",
      "1545/1545 [==============================] - 54s 35ms/step - loss: 1.0221 - sparse_categorical_crossentropy: 3.7417 - accuracy: 0.7363 - val_loss: 0.9613 - val_sparse_categorical_crossentropy: 3.3558 - val_accuracy: 0.7514\n",
      "Epoch 7/15\n",
      "1545/1545 [==============================] - 54s 35ms/step - loss: 1.0144 - sparse_categorical_crossentropy: 3.5209 - accuracy: 0.7375 - val_loss: 0.9291 - val_sparse_categorical_crossentropy: 3.1506 - val_accuracy: 0.7591\n",
      "Epoch 8/15\n",
      "1545/1545 [==============================] - 54s 35ms/step - loss: 1.0358 - sparse_categorical_crossentropy: 3.8724 - accuracy: 0.7334 - val_loss: 1.0114 - val_sparse_categorical_crossentropy: 3.9779 - val_accuracy: 0.7402\n",
      "Epoch 9/15\n",
      "1545/1545 [==============================] - 55s 36ms/step - loss: 1.0226 - sparse_categorical_crossentropy: 4.3601 - accuracy: 0.7317 - val_loss: 0.8751 - val_sparse_categorical_crossentropy: 4.1602 - val_accuracy: 0.7671\n",
      "Epoch 10/15\n",
      "1545/1545 [==============================] - 54s 35ms/step - loss: 0.9605 - sparse_categorical_crossentropy: 4.2357 - accuracy: 0.7497 - val_loss: 0.9339 - val_sparse_categorical_crossentropy: 4.2175 - val_accuracy: 0.7580\n",
      "Epoch 11/15\n",
      "1545/1545 [==============================] - 54s 35ms/step - loss: 0.9841 - sparse_categorical_crossentropy: 4.4036 - accuracy: 0.7440 - val_loss: 0.9544 - val_sparse_categorical_crossentropy: 4.3081 - val_accuracy: 0.7499\n",
      "Epoch 12/15\n",
      "1545/1545 [==============================] - 54s 35ms/step - loss: 0.9874 - sparse_categorical_crossentropy: 4.4912 - accuracy: 0.7399 - val_loss: 0.8859 - val_sparse_categorical_crossentropy: 4.3271 - val_accuracy: 0.7675\n",
      "Epoch 13/15\n",
      "1545/1545 [==============================] - 54s 35ms/step - loss: 0.9768 - sparse_categorical_crossentropy: 4.5582 - accuracy: 0.7406 - val_loss: 0.8626 - val_sparse_categorical_crossentropy: 4.4270 - val_accuracy: 0.7721\n"
     ]
    },
    {
     "name": "stderr",
     "output_type": "stream",
     "text": [
      "\u001b[32m[I 2022-11-29 10:06:07,501]\u001b[0m Trial 7 finished with value: 0.7721327543258667 and parameters: {'first_layer_kernel': 59, 'first_layer_activation': 'relu', 'second_layer_kernel': 32, 'second_layer_activation': 'relu', 'average_pooling_size': 2, 'dense_layer_size': 162, 'dense_layer_activation': 'sigmoid'}. Best is trial 2 with value: 0.934605062007904.\u001b[0m\n"
     ]
    },
    {
     "name": "stdout",
     "output_type": "stream",
     "text": [
      "Epoch 1/15\n",
      "1545/1545 [==============================] - 56s 36ms/step - loss: 1.4659 - sparse_categorical_crossentropy: 4.4489 - accuracy: 0.6910 - val_loss: 0.5686 - val_sparse_categorical_crossentropy: 4.1202 - val_accuracy: 0.8684\n",
      "Epoch 2/15\n",
      "1545/1545 [==============================] - 55s 35ms/step - loss: 0.5205 - sparse_categorical_crossentropy: 4.1245 - accuracy: 0.8730 - val_loss: 0.3797 - val_sparse_categorical_crossentropy: 4.1438 - val_accuracy: 0.9075\n",
      "Epoch 3/15\n",
      "1545/1545 [==============================] - 55s 36ms/step - loss: 0.3993 - sparse_categorical_crossentropy: 4.1360 - accuracy: 0.8981 - val_loss: 0.3304 - val_sparse_categorical_crossentropy: 4.1498 - val_accuracy: 0.9162\n",
      "Epoch 4/15\n",
      "1545/1545 [==============================] - 55s 36ms/step - loss: 0.3429 - sparse_categorical_crossentropy: 4.1400 - accuracy: 0.9120 - val_loss: 0.3032 - val_sparse_categorical_crossentropy: 4.1535 - val_accuracy: 0.9215\n",
      "Epoch 5/15\n",
      "1545/1545 [==============================] - 55s 35ms/step - loss: 0.2981 - sparse_categorical_crossentropy: 4.1446 - accuracy: 0.9217 - val_loss: 0.2771 - val_sparse_categorical_crossentropy: 4.1518 - val_accuracy: 0.9287\n",
      "Epoch 6/15\n",
      "1545/1545 [==============================] - 55s 35ms/step - loss: 0.2699 - sparse_categorical_crossentropy: 4.1450 - accuracy: 0.9289 - val_loss: 0.2747 - val_sparse_categorical_crossentropy: 4.1544 - val_accuracy: 0.9273\n",
      "Epoch 7/15\n",
      "1545/1545 [==============================] - 55s 35ms/step - loss: 0.2470 - sparse_categorical_crossentropy: 4.1472 - accuracy: 0.9343 - val_loss: 0.2709 - val_sparse_categorical_crossentropy: 4.1529 - val_accuracy: 0.9275\n",
      "Epoch 8/15\n",
      "1545/1545 [==============================] - 55s 36ms/step - loss: 0.2344 - sparse_categorical_crossentropy: 4.1479 - accuracy: 0.9364 - val_loss: 0.2605 - val_sparse_categorical_crossentropy: 4.1590 - val_accuracy: 0.9309\n",
      "Epoch 9/15\n",
      "1545/1545 [==============================] - 55s 36ms/step - loss: 0.2229 - sparse_categorical_crossentropy: 4.1498 - accuracy: 0.9377 - val_loss: 0.2575 - val_sparse_categorical_crossentropy: 4.1561 - val_accuracy: 0.9326\n",
      "Epoch 10/15\n",
      "1545/1545 [==============================] - 55s 36ms/step - loss: 0.2039 - sparse_categorical_crossentropy: 4.1512 - accuracy: 0.9444 - val_loss: 0.2513 - val_sparse_categorical_crossentropy: 4.1659 - val_accuracy: 0.9358\n",
      "Epoch 11/15\n",
      "1545/1545 [==============================] - 54s 35ms/step - loss: 0.1955 - sparse_categorical_crossentropy: 4.1522 - accuracy: 0.9452 - val_loss: 0.2506 - val_sparse_categorical_crossentropy: 4.1633 - val_accuracy: 0.9358\n",
      "Epoch 12/15\n",
      "1545/1545 [==============================] - 55s 36ms/step - loss: 0.1946 - sparse_categorical_crossentropy: 4.1555 - accuracy: 0.9463 - val_loss: 0.2579 - val_sparse_categorical_crossentropy: 4.1626 - val_accuracy: 0.9337\n",
      "Epoch 13/15\n",
      "1545/1545 [==============================] - 54s 35ms/step - loss: 0.1881 - sparse_categorical_crossentropy: 4.1550 - accuracy: 0.9466 - val_loss: 0.2586 - val_sparse_categorical_crossentropy: 4.1645 - val_accuracy: 0.9341\n",
      "Epoch 14/15\n",
      "1545/1545 [==============================] - 54s 35ms/step - loss: 0.1836 - sparse_categorical_crossentropy: 4.1555 - accuracy: 0.9472 - val_loss: 0.2556 - val_sparse_categorical_crossentropy: 4.1665 - val_accuracy: 0.9345\n",
      "Epoch 15/15\n",
      "1545/1545 [==============================] - 55s 36ms/step - loss: 0.1750 - sparse_categorical_crossentropy: 4.1567 - accuracy: 0.9494 - val_loss: 0.2559 - val_sparse_categorical_crossentropy: 4.1667 - val_accuracy: 0.9346\n"
     ]
    },
    {
     "name": "stderr",
     "output_type": "stream",
     "text": [
      "\u001b[32m[I 2022-11-29 10:19:51,803]\u001b[0m Trial 8 finished with value: 0.934605062007904 and parameters: {'first_layer_kernel': 62, 'first_layer_activation': 'sigmoid', 'second_layer_kernel': 43, 'second_layer_activation': 'tanh', 'average_pooling_size': 2, 'dense_layer_size': 145, 'dense_layer_activation': 'tanh'}. Best is trial 2 with value: 0.934605062007904.\u001b[0m\n"
     ]
    },
    {
     "name": "stdout",
     "output_type": "stream",
     "text": [
      "Epoch 1/15\n",
      "1545/1545 [==============================] - 54s 35ms/step - loss: 3.1049 - sparse_categorical_crossentropy: 7.7609 - accuracy: 0.3063 - val_loss: 2.0311 - val_sparse_categorical_crossentropy: 5.1937 - val_accuracy: 0.4902\n",
      "Epoch 2/15\n",
      "1545/1545 [==============================] - 54s 35ms/step - loss: 1.9262 - sparse_categorical_crossentropy: 4.8124 - accuracy: 0.5187 - val_loss: 1.6440 - val_sparse_categorical_crossentropy: 4.1111 - val_accuracy: 0.5805\n",
      "Epoch 3/15\n",
      "1545/1545 [==============================] - 54s 35ms/step - loss: 1.5987 - sparse_categorical_crossentropy: 3.9671 - accuracy: 0.5913 - val_loss: 1.3647 - val_sparse_categorical_crossentropy: 3.4374 - val_accuracy: 0.6501\n",
      "Epoch 4/15\n",
      "1545/1545 [==============================] - 53s 35ms/step - loss: 1.4082 - sparse_categorical_crossentropy: 3.5274 - accuracy: 0.6328 - val_loss: 1.2005 - val_sparse_categorical_crossentropy: 2.9945 - val_accuracy: 0.6893\n",
      "Epoch 5/15\n",
      "1545/1545 [==============================] - 54s 35ms/step - loss: 1.2329 - sparse_categorical_crossentropy: 3.0700 - accuracy: 0.6766 - val_loss: 1.2260 - val_sparse_categorical_crossentropy: 2.9941 - val_accuracy: 0.6809\n",
      "Epoch 6/15\n",
      "1545/1545 [==============================] - 53s 34ms/step - loss: 1.2050 - sparse_categorical_crossentropy: 3.0092 - accuracy: 0.6798 - val_loss: 1.1132 - val_sparse_categorical_crossentropy: 2.8455 - val_accuracy: 0.7074\n",
      "Epoch 7/15\n",
      "1545/1545 [==============================] - 56s 36ms/step - loss: 1.1227 - sparse_categorical_crossentropy: 2.8189 - accuracy: 0.6993 - val_loss: 1.1763 - val_sparse_categorical_crossentropy: 2.8819 - val_accuracy: 0.6912\n",
      "Epoch 8/15\n",
      "1545/1545 [==============================] - 59s 38ms/step - loss: 1.0830 - sparse_categorical_crossentropy: 2.7439 - accuracy: 0.7126 - val_loss: 0.9819 - val_sparse_categorical_crossentropy: 2.5091 - val_accuracy: 0.7403\n",
      "Epoch 9/15\n",
      "1545/1545 [==============================] - 54s 35ms/step - loss: 1.0606 - sparse_categorical_crossentropy: 2.6875 - accuracy: 0.7173 - val_loss: 0.9221 - val_sparse_categorical_crossentropy: 2.3799 - val_accuracy: 0.7570\n",
      "Epoch 10/15\n",
      "1545/1545 [==============================] - 54s 35ms/step - loss: 0.9562 - sparse_categorical_crossentropy: 2.4578 - accuracy: 0.7391 - val_loss: 0.9029 - val_sparse_categorical_crossentropy: 2.3763 - val_accuracy: 0.7591\n",
      "Epoch 11/15\n",
      "1545/1545 [==============================] - 55s 35ms/step - loss: 0.9452 - sparse_categorical_crossentropy: 2.4572 - accuracy: 0.7408 - val_loss: 0.8921 - val_sparse_categorical_crossentropy: 2.3555 - val_accuracy: 0.7604\n",
      "Epoch 12/15\n",
      "1545/1545 [==============================] - 54s 35ms/step - loss: 1.0949 - sparse_categorical_crossentropy: 2.8352 - accuracy: 0.7019 - val_loss: 0.9599 - val_sparse_categorical_crossentropy: 2.4812 - val_accuracy: 0.7461\n",
      "Epoch 13/15\n",
      "1545/1545 [==============================] - 54s 35ms/step - loss: 1.0087 - sparse_categorical_crossentropy: 2.6396 - accuracy: 0.7257 - val_loss: 0.9034 - val_sparse_categorical_crossentropy: 2.3182 - val_accuracy: 0.7628\n",
      "Epoch 14/15\n",
      "1545/1545 [==============================] - 54s 35ms/step - loss: 0.9427 - sparse_categorical_crossentropy: 2.4227 - accuracy: 0.7422 - val_loss: 0.9611 - val_sparse_categorical_crossentropy: 2.4284 - val_accuracy: 0.7450\n",
      "Epoch 15/15\n",
      "1545/1545 [==============================] - 54s 35ms/step - loss: 0.9658 - sparse_categorical_crossentropy: 2.5466 - accuracy: 0.7357 - val_loss: 0.8893 - val_sparse_categorical_crossentropy: 2.3683 - val_accuracy: 0.7612\n"
     ]
    },
    {
     "name": "stderr",
     "output_type": "stream",
     "text": [
      "\u001b[32m[I 2022-11-29 10:33:27,273]\u001b[0m Trial 9 finished with value: 0.7612257599830627 and parameters: {'first_layer_kernel': 58, 'first_layer_activation': 'relu', 'second_layer_kernel': 34, 'second_layer_activation': 'tanh', 'average_pooling_size': 2, 'dense_layer_size': 147, 'dense_layer_activation': 'relu'}. Best is trial 2 with value: 0.934605062007904.\u001b[0m\n"
     ]
    },
    {
     "name": "stdout",
     "output_type": "stream",
     "text": [
      "Epoch 1/15\n",
      "1545/1545 [==============================] - 53s 34ms/step - loss: 1.8400 - sparse_categorical_crossentropy: 4.7814 - accuracy: 0.5975 - val_loss: 0.7389 - val_sparse_categorical_crossentropy: 4.1451 - val_accuracy: 0.8225\n",
      "Epoch 2/15\n",
      "1545/1545 [==============================] - 53s 34ms/step - loss: 0.6456 - sparse_categorical_crossentropy: 4.1374 - accuracy: 0.8407 - val_loss: 0.4883 - val_sparse_categorical_crossentropy: 4.1472 - val_accuracy: 0.8781\n",
      "Epoch 3/15\n",
      "1545/1545 [==============================] - 53s 34ms/step - loss: 0.4808 - sparse_categorical_crossentropy: 4.1402 - accuracy: 0.8791 - val_loss: 0.3946 - val_sparse_categorical_crossentropy: 4.1463 - val_accuracy: 0.8971\n",
      "Epoch 4/15\n",
      "1545/1545 [==============================] - 53s 34ms/step - loss: 0.4055 - sparse_categorical_crossentropy: 4.1389 - accuracy: 0.8949 - val_loss: 0.3549 - val_sparse_categorical_crossentropy: 4.1481 - val_accuracy: 0.9074\n",
      "Epoch 5/15\n",
      "1545/1545 [==============================] - 53s 34ms/step - loss: 0.3585 - sparse_categorical_crossentropy: 4.1344 - accuracy: 0.9064 - val_loss: 0.3207 - val_sparse_categorical_crossentropy: 4.1446 - val_accuracy: 0.9154\n",
      "Epoch 6/15\n",
      "1545/1545 [==============================] - 53s 34ms/step - loss: 0.3216 - sparse_categorical_crossentropy: 4.1348 - accuracy: 0.9156 - val_loss: 0.3024 - val_sparse_categorical_crossentropy: 4.1420 - val_accuracy: 0.9204\n",
      "Epoch 7/15\n",
      "1545/1545 [==============================] - 53s 34ms/step - loss: 0.2947 - sparse_categorical_crossentropy: 4.1336 - accuracy: 0.9217 - val_loss: 0.2960 - val_sparse_categorical_crossentropy: 4.1408 - val_accuracy: 0.9223\n",
      "Epoch 8/15\n",
      "1545/1545 [==============================] - 52s 34ms/step - loss: 0.2723 - sparse_categorical_crossentropy: 4.1344 - accuracy: 0.9280 - val_loss: 0.2831 - val_sparse_categorical_crossentropy: 4.1469 - val_accuracy: 0.9263\n",
      "Epoch 9/15\n",
      "1545/1545 [==============================] - 53s 34ms/step - loss: 0.2534 - sparse_categorical_crossentropy: 4.1334 - accuracy: 0.9311 - val_loss: 0.2712 - val_sparse_categorical_crossentropy: 4.1368 - val_accuracy: 0.9288\n",
      "Epoch 10/15\n",
      "1545/1545 [==============================] - 53s 34ms/step - loss: 0.2415 - sparse_categorical_crossentropy: 4.1283 - accuracy: 0.9352 - val_loss: 0.2692 - val_sparse_categorical_crossentropy: 4.1398 - val_accuracy: 0.9298\n",
      "Epoch 11/15\n",
      "1545/1545 [==============================] - 52s 34ms/step - loss: 0.2290 - sparse_categorical_crossentropy: 4.1297 - accuracy: 0.9369 - val_loss: 0.2599 - val_sparse_categorical_crossentropy: 4.1330 - val_accuracy: 0.9316\n",
      "Epoch 12/15\n",
      "1545/1545 [==============================] - 52s 34ms/step - loss: 0.2174 - sparse_categorical_crossentropy: 4.1270 - accuracy: 0.9402 - val_loss: 0.2657 - val_sparse_categorical_crossentropy: 4.1393 - val_accuracy: 0.9301\n",
      "Epoch 13/15\n",
      "1545/1545 [==============================] - 53s 34ms/step - loss: 0.2059 - sparse_categorical_crossentropy: 4.1264 - accuracy: 0.9433 - val_loss: 0.2591 - val_sparse_categorical_crossentropy: 4.1429 - val_accuracy: 0.9318\n",
      "Epoch 14/15\n",
      "1545/1545 [==============================] - 53s 34ms/step - loss: 0.1971 - sparse_categorical_crossentropy: 4.1246 - accuracy: 0.9455 - val_loss: 0.2446 - val_sparse_categorical_crossentropy: 4.1365 - val_accuracy: 0.9363\n",
      "Epoch 15/15\n",
      "1545/1545 [==============================] - 53s 35ms/step - loss: 0.1862 - sparse_categorical_crossentropy: 4.1272 - accuracy: 0.9481 - val_loss: 0.2455 - val_sparse_categorical_crossentropy: 4.1404 - val_accuracy: 0.9359\n"
     ]
    },
    {
     "name": "stderr",
     "output_type": "stream",
     "text": [
      "\u001b[32m[I 2022-11-29 10:46:39,804]\u001b[0m Trial 10 finished with value: 0.9358798861503601 and parameters: {'first_layer_kernel': 53, 'first_layer_activation': 'sigmoid', 'second_layer_kernel': 38, 'second_layer_activation': 'sigmoid', 'average_pooling_size': 2, 'dense_layer_size': 175, 'dense_layer_activation': 'tanh'}. Best is trial 10 with value: 0.9358798861503601.\u001b[0m\n"
     ]
    },
    {
     "name": "stdout",
     "output_type": "stream",
     "text": [
      "Epoch 1/15\n",
      "1545/1545 [==============================] - 54s 34ms/step - loss: 1.8209 - sparse_categorical_crossentropy: 4.7255 - accuracy: 0.6038 - val_loss: 0.7199 - val_sparse_categorical_crossentropy: 4.1412 - val_accuracy: 0.8291\n",
      "Epoch 2/15\n",
      "1545/1545 [==============================] - 53s 34ms/step - loss: 0.6421 - sparse_categorical_crossentropy: 4.1305 - accuracy: 0.8410 - val_loss: 0.4800 - val_sparse_categorical_crossentropy: 4.1388 - val_accuracy: 0.8802\n",
      "Epoch 3/15\n",
      "1545/1545 [==============================] - 52s 34ms/step - loss: 0.4768 - sparse_categorical_crossentropy: 4.1311 - accuracy: 0.8791 - val_loss: 0.4009 - val_sparse_categorical_crossentropy: 4.1480 - val_accuracy: 0.8969\n",
      "Epoch 4/15\n",
      "1545/1545 [==============================] - 53s 34ms/step - loss: 0.3964 - sparse_categorical_crossentropy: 4.1348 - accuracy: 0.8968 - val_loss: 0.3402 - val_sparse_categorical_crossentropy: 4.1491 - val_accuracy: 0.9130\n",
      "Epoch 5/15\n",
      "1545/1545 [==============================] - 52s 34ms/step - loss: 0.3474 - sparse_categorical_crossentropy: 4.1348 - accuracy: 0.9087 - val_loss: 0.3176 - val_sparse_categorical_crossentropy: 4.1508 - val_accuracy: 0.9179\n",
      "Epoch 6/15\n",
      "1545/1545 [==============================] - 53s 34ms/step - loss: 0.3146 - sparse_categorical_crossentropy: 4.1332 - accuracy: 0.9175 - val_loss: 0.2993 - val_sparse_categorical_crossentropy: 4.1473 - val_accuracy: 0.9230\n",
      "Epoch 7/15\n",
      "1545/1545 [==============================] - 53s 34ms/step - loss: 0.2917 - sparse_categorical_crossentropy: 4.1298 - accuracy: 0.9221 - val_loss: 0.2953 - val_sparse_categorical_crossentropy: 4.1458 - val_accuracy: 0.9218\n",
      "Epoch 8/15\n",
      "1545/1545 [==============================] - 53s 34ms/step - loss: 0.2680 - sparse_categorical_crossentropy: 4.1289 - accuracy: 0.9279 - val_loss: 0.2714 - val_sparse_categorical_crossentropy: 4.1456 - val_accuracy: 0.9302\n",
      "Epoch 9/15\n",
      "1545/1545 [==============================] - 53s 34ms/step - loss: 0.2478 - sparse_categorical_crossentropy: 4.1276 - accuracy: 0.9334 - val_loss: 0.2676 - val_sparse_categorical_crossentropy: 4.1454 - val_accuracy: 0.9311\n",
      "Epoch 10/15\n",
      "1545/1545 [==============================] - 52s 34ms/step - loss: 0.2320 - sparse_categorical_crossentropy: 4.1257 - accuracy: 0.9359 - val_loss: 0.2618 - val_sparse_categorical_crossentropy: 4.1413 - val_accuracy: 0.9310\n",
      "Epoch 11/15\n",
      "1545/1545 [==============================] - 53s 34ms/step - loss: 0.2189 - sparse_categorical_crossentropy: 4.1253 - accuracy: 0.9391 - val_loss: 0.2515 - val_sparse_categorical_crossentropy: 4.1360 - val_accuracy: 0.9348\n",
      "Epoch 12/15\n",
      "1545/1545 [==============================] - 52s 34ms/step - loss: 0.2093 - sparse_categorical_crossentropy: 4.1237 - accuracy: 0.9414 - val_loss: 0.2485 - val_sparse_categorical_crossentropy: 4.1370 - val_accuracy: 0.9347\n",
      "Epoch 13/15\n",
      "1545/1545 [==============================] - 52s 34ms/step - loss: 0.1997 - sparse_categorical_crossentropy: 4.1217 - accuracy: 0.9436 - val_loss: 0.2471 - val_sparse_categorical_crossentropy: 4.1330 - val_accuracy: 0.9352\n",
      "Epoch 14/15\n",
      "1545/1545 [==============================] - 52s 34ms/step - loss: 0.1851 - sparse_categorical_crossentropy: 4.1204 - accuracy: 0.9483 - val_loss: 0.2446 - val_sparse_categorical_crossentropy: 4.1358 - val_accuracy: 0.9368\n",
      "Epoch 15/15\n",
      "1545/1545 [==============================] - 52s 34ms/step - loss: 0.1778 - sparse_categorical_crossentropy: 4.1214 - accuracy: 0.9497 - val_loss: 0.2502 - val_sparse_categorical_crossentropy: 4.1396 - val_accuracy: 0.9354\n"
     ]
    },
    {
     "name": "stderr",
     "output_type": "stream",
     "text": [
      "\u001b[32m[I 2022-11-29 10:59:49,990]\u001b[0m Trial 11 finished with value: 0.9354076981544495 and parameters: {'first_layer_kernel': 53, 'first_layer_activation': 'sigmoid', 'second_layer_kernel': 39, 'second_layer_activation': 'sigmoid', 'average_pooling_size': 2, 'dense_layer_size': 176, 'dense_layer_activation': 'tanh'}. Best is trial 10 with value: 0.9358798861503601.\u001b[0m\n"
     ]
    },
    {
     "name": "stdout",
     "output_type": "stream",
     "text": [
      "Epoch 1/15\n",
      "1545/1545 [==============================] - 53s 34ms/step - loss: 1.9244 - sparse_categorical_crossentropy: 4.7922 - accuracy: 0.5773 - val_loss: 0.8243 - val_sparse_categorical_crossentropy: 4.1435 - val_accuracy: 0.7992\n",
      "Epoch 2/15\n",
      "1545/1545 [==============================] - 52s 34ms/step - loss: 0.7249 - sparse_categorical_crossentropy: 4.1439 - accuracy: 0.8198 - val_loss: 0.5315 - val_sparse_categorical_crossentropy: 4.1397 - val_accuracy: 0.8649\n",
      "Epoch 3/15\n",
      "1545/1545 [==============================] - 52s 34ms/step - loss: 0.5390 - sparse_categorical_crossentropy: 4.1403 - accuracy: 0.8626 - val_loss: 0.4355 - val_sparse_categorical_crossentropy: 4.1386 - val_accuracy: 0.8872\n",
      "Epoch 4/15\n",
      "1545/1545 [==============================] - 52s 34ms/step - loss: 0.4507 - sparse_categorical_crossentropy: 4.1383 - accuracy: 0.8828 - val_loss: 0.3877 - val_sparse_categorical_crossentropy: 4.1441 - val_accuracy: 0.8995\n",
      "Epoch 5/15\n",
      "1545/1545 [==============================] - 52s 34ms/step - loss: 0.3960 - sparse_categorical_crossentropy: 4.1389 - accuracy: 0.8947 - val_loss: 0.3531 - val_sparse_categorical_crossentropy: 4.1367 - val_accuracy: 0.9058\n",
      "Epoch 6/15\n",
      "1545/1545 [==============================] - 52s 34ms/step - loss: 0.3575 - sparse_categorical_crossentropy: 4.1376 - accuracy: 0.9041 - val_loss: 0.3297 - val_sparse_categorical_crossentropy: 4.1447 - val_accuracy: 0.9118\n",
      "Epoch 7/15\n",
      "1545/1545 [==============================] - 52s 34ms/step - loss: 0.3277 - sparse_categorical_crossentropy: 4.1383 - accuracy: 0.9129 - val_loss: 0.3155 - val_sparse_categorical_crossentropy: 4.1461 - val_accuracy: 0.9160\n",
      "Epoch 8/15\n",
      "1545/1545 [==============================] - 55s 36ms/step - loss: 0.3045 - sparse_categorical_crossentropy: 4.1382 - accuracy: 0.9185 - val_loss: 0.3045 - val_sparse_categorical_crossentropy: 4.1457 - val_accuracy: 0.9204\n",
      "Epoch 9/15\n",
      "1545/1545 [==============================] - 52s 34ms/step - loss: 0.2880 - sparse_categorical_crossentropy: 4.1343 - accuracy: 0.9223 - val_loss: 0.2920 - val_sparse_categorical_crossentropy: 4.1499 - val_accuracy: 0.9225\n",
      "Epoch 10/15\n",
      "1545/1545 [==============================] - 52s 34ms/step - loss: 0.2681 - sparse_categorical_crossentropy: 4.1344 - accuracy: 0.9264 - val_loss: 0.2821 - val_sparse_categorical_crossentropy: 4.1415 - val_accuracy: 0.9271\n",
      "Epoch 11/15\n",
      "1545/1545 [==============================] - 52s 34ms/step - loss: 0.2572 - sparse_categorical_crossentropy: 4.1345 - accuracy: 0.9301 - val_loss: 0.2734 - val_sparse_categorical_crossentropy: 4.1448 - val_accuracy: 0.9289\n",
      "Epoch 12/15\n",
      "1545/1545 [==============================] - 52s 34ms/step - loss: 0.2412 - sparse_categorical_crossentropy: 4.1334 - accuracy: 0.9328 - val_loss: 0.2641 - val_sparse_categorical_crossentropy: 4.1410 - val_accuracy: 0.9288\n",
      "Epoch 13/15\n",
      "1545/1545 [==============================] - 52s 33ms/step - loss: 0.2340 - sparse_categorical_crossentropy: 4.1314 - accuracy: 0.9354 - val_loss: 0.2543 - val_sparse_categorical_crossentropy: 4.1424 - val_accuracy: 0.9329\n",
      "Epoch 14/15\n",
      "1545/1545 [==============================] - 52s 33ms/step - loss: 0.2201 - sparse_categorical_crossentropy: 4.1305 - accuracy: 0.9397 - val_loss: 0.2629 - val_sparse_categorical_crossentropy: 4.1464 - val_accuracy: 0.9300\n",
      "Epoch 15/15\n",
      "1545/1545 [==============================] - 52s 34ms/step - loss: 0.2123 - sparse_categorical_crossentropy: 4.1303 - accuracy: 0.9399 - val_loss: 0.2621 - val_sparse_categorical_crossentropy: 4.1407 - val_accuracy: 0.9311\n"
     ]
    },
    {
     "name": "stderr",
     "output_type": "stream",
     "text": [
      "\u001b[32m[I 2022-11-29 11:12:54,991]\u001b[0m Trial 12 finished with value: 0.9310637712478638 and parameters: {'first_layer_kernel': 52, 'first_layer_activation': 'sigmoid', 'second_layer_kernel': 28, 'second_layer_activation': 'sigmoid', 'average_pooling_size': 2, 'dense_layer_size': 180, 'dense_layer_activation': 'tanh'}. Best is trial 10 with value: 0.9358798861503601.\u001b[0m\n"
     ]
    },
    {
     "name": "stdout",
     "output_type": "stream",
     "text": [
      "Epoch 1/15\n",
      "1545/1545 [==============================] - 57s 36ms/step - loss: 1.8321 - sparse_categorical_crossentropy: 4.7008 - accuracy: 0.5995 - val_loss: 0.7428 - val_sparse_categorical_crossentropy: 4.1458 - val_accuracy: 0.8232\n",
      "Epoch 2/15\n",
      "1545/1545 [==============================] - 56s 36ms/step - loss: 0.6603 - sparse_categorical_crossentropy: 4.1380 - accuracy: 0.8359 - val_loss: 0.4912 - val_sparse_categorical_crossentropy: 4.1410 - val_accuracy: 0.8780\n",
      "Epoch 3/15\n",
      "1545/1545 [==============================] - 56s 36ms/step - loss: 0.4910 - sparse_categorical_crossentropy: 4.1394 - accuracy: 0.8747 - val_loss: 0.4006 - val_sparse_categorical_crossentropy: 4.1447 - val_accuracy: 0.8988\n",
      "Epoch 4/15\n",
      "1545/1545 [==============================] - 56s 36ms/step - loss: 0.4160 - sparse_categorical_crossentropy: 4.1354 - accuracy: 0.8916 - val_loss: 0.3565 - val_sparse_categorical_crossentropy: 4.1454 - val_accuracy: 0.9078\n",
      "Epoch 5/15\n",
      "1545/1545 [==============================] - 55s 36ms/step - loss: 0.3610 - sparse_categorical_crossentropy: 4.1331 - accuracy: 0.9045 - val_loss: 0.3289 - val_sparse_categorical_crossentropy: 4.1303 - val_accuracy: 0.9119\n",
      "Epoch 6/15\n",
      "1545/1545 [==============================] - 55s 36ms/step - loss: 0.3292 - sparse_categorical_crossentropy: 4.1296 - accuracy: 0.9111 - val_loss: 0.3050 - val_sparse_categorical_crossentropy: 4.1400 - val_accuracy: 0.9189\n",
      "Epoch 7/15\n",
      "1545/1545 [==============================] - 55s 36ms/step - loss: 0.2985 - sparse_categorical_crossentropy: 4.1299 - accuracy: 0.9197 - val_loss: 0.2973 - val_sparse_categorical_crossentropy: 4.1396 - val_accuracy: 0.9223\n",
      "Epoch 8/15\n",
      "1545/1545 [==============================] - 56s 36ms/step - loss: 0.2728 - sparse_categorical_crossentropy: 4.1283 - accuracy: 0.9263 - val_loss: 0.2785 - val_sparse_categorical_crossentropy: 4.1373 - val_accuracy: 0.9254\n",
      "Epoch 9/15\n",
      "1545/1545 [==============================] - 55s 36ms/step - loss: 0.2603 - sparse_categorical_crossentropy: 4.1288 - accuracy: 0.9289 - val_loss: 0.2783 - val_sparse_categorical_crossentropy: 4.1402 - val_accuracy: 0.9263\n",
      "Epoch 10/15\n",
      "1545/1545 [==============================] - 55s 36ms/step - loss: 0.2439 - sparse_categorical_crossentropy: 4.1260 - accuracy: 0.9332 - val_loss: 0.2663 - val_sparse_categorical_crossentropy: 4.1412 - val_accuracy: 0.9309\n",
      "Epoch 11/15\n",
      "1545/1545 [==============================] - 55s 36ms/step - loss: 0.2331 - sparse_categorical_crossentropy: 4.1269 - accuracy: 0.9367 - val_loss: 0.2608 - val_sparse_categorical_crossentropy: 4.1419 - val_accuracy: 0.9318\n",
      "Epoch 12/15\n",
      "1545/1545 [==============================] - 55s 36ms/step - loss: 0.2187 - sparse_categorical_crossentropy: 4.1274 - accuracy: 0.9401 - val_loss: 0.2554 - val_sparse_categorical_crossentropy: 4.1383 - val_accuracy: 0.9325\n",
      "Epoch 13/15\n",
      "1545/1545 [==============================] - 55s 36ms/step - loss: 0.2109 - sparse_categorical_crossentropy: 4.1242 - accuracy: 0.9417 - val_loss: 0.2489 - val_sparse_categorical_crossentropy: 4.1392 - val_accuracy: 0.9350\n",
      "Epoch 14/15\n",
      "1545/1545 [==============================] - 55s 36ms/step - loss: 0.1960 - sparse_categorical_crossentropy: 4.1209 - accuracy: 0.9454 - val_loss: 0.2485 - val_sparse_categorical_crossentropy: 4.1341 - val_accuracy: 0.9346\n",
      "Epoch 15/15\n",
      "1545/1545 [==============================] - 56s 36ms/step - loss: 0.1933 - sparse_categorical_crossentropy: 4.1212 - accuracy: 0.9454 - val_loss: 0.2501 - val_sparse_categorical_crossentropy: 4.1341 - val_accuracy: 0.9341\n"
     ]
    },
    {
     "name": "stderr",
     "output_type": "stream",
     "text": [
      "\u001b[32m[I 2022-11-29 11:26:48,285]\u001b[0m Trial 13 finished with value: 0.9340856671333313 and parameters: {'first_layer_kernel': 52, 'first_layer_activation': 'sigmoid', 'second_layer_kernel': 37, 'second_layer_activation': 'sigmoid', 'average_pooling_size': 2, 'dense_layer_size': 177, 'dense_layer_activation': 'tanh'}. Best is trial 10 with value: 0.9358798861503601.\u001b[0m\n"
     ]
    },
    {
     "name": "stdout",
     "output_type": "stream",
     "text": [
      "Epoch 1/15\n",
      "1545/1545 [==============================] - 53s 34ms/step - loss: 1.8581 - sparse_categorical_crossentropy: 4.7376 - accuracy: 0.5926 - val_loss: 0.7658 - val_sparse_categorical_crossentropy: 4.1573 - val_accuracy: 0.8186\n",
      "Epoch 2/15\n",
      "1545/1545 [==============================] - 53s 34ms/step - loss: 0.6597 - sparse_categorical_crossentropy: 4.1432 - accuracy: 0.8381 - val_loss: 0.4901 - val_sparse_categorical_crossentropy: 4.1538 - val_accuracy: 0.8756\n",
      "Epoch 3/15\n",
      "1545/1545 [==============================] - 53s 34ms/step - loss: 0.4902 - sparse_categorical_crossentropy: 4.1447 - accuracy: 0.8751 - val_loss: 0.3920 - val_sparse_categorical_crossentropy: 4.1571 - val_accuracy: 0.9019\n",
      "Epoch 4/15\n",
      "1545/1545 [==============================] - 53s 34ms/step - loss: 0.4077 - sparse_categorical_crossentropy: 4.1414 - accuracy: 0.8952 - val_loss: 0.3482 - val_sparse_categorical_crossentropy: 4.1512 - val_accuracy: 0.9101\n",
      "Epoch 5/15\n",
      "1545/1545 [==============================] - 53s 34ms/step - loss: 0.3546 - sparse_categorical_crossentropy: 4.1422 - accuracy: 0.9087 - val_loss: 0.3144 - val_sparse_categorical_crossentropy: 4.1504 - val_accuracy: 0.9170\n",
      "Epoch 6/15\n",
      "1545/1545 [==============================] - 53s 34ms/step - loss: 0.3148 - sparse_categorical_crossentropy: 4.1404 - accuracy: 0.9169 - val_loss: 0.2996 - val_sparse_categorical_crossentropy: 4.1455 - val_accuracy: 0.9214\n",
      "Epoch 7/15\n",
      "1545/1545 [==============================] - 53s 34ms/step - loss: 0.2879 - sparse_categorical_crossentropy: 4.1367 - accuracy: 0.9229 - val_loss: 0.2893 - val_sparse_categorical_crossentropy: 4.1538 - val_accuracy: 0.9242\n",
      "Epoch 8/15\n",
      "1545/1545 [==============================] - 53s 34ms/step - loss: 0.2652 - sparse_categorical_crossentropy: 4.1383 - accuracy: 0.9289 - val_loss: 0.2722 - val_sparse_categorical_crossentropy: 4.1517 - val_accuracy: 0.9301\n",
      "Epoch 9/15\n",
      "1545/1545 [==============================] - 53s 34ms/step - loss: 0.2436 - sparse_categorical_crossentropy: 4.1374 - accuracy: 0.9345 - val_loss: 0.2629 - val_sparse_categorical_crossentropy: 4.1458 - val_accuracy: 0.9307\n",
      "Epoch 10/15\n",
      "1545/1545 [==============================] - 53s 34ms/step - loss: 0.2323 - sparse_categorical_crossentropy: 4.1380 - accuracy: 0.9370 - val_loss: 0.2514 - val_sparse_categorical_crossentropy: 4.1472 - val_accuracy: 0.9343\n",
      "Epoch 11/15\n",
      "1545/1545 [==============================] - 53s 34ms/step - loss: 0.2210 - sparse_categorical_crossentropy: 4.1365 - accuracy: 0.9398 - val_loss: 0.2515 - val_sparse_categorical_crossentropy: 4.1481 - val_accuracy: 0.9332\n",
      "Epoch 12/15\n",
      "1545/1545 [==============================] - 53s 34ms/step - loss: 0.2054 - sparse_categorical_crossentropy: 4.1351 - accuracy: 0.9436 - val_loss: 0.2463 - val_sparse_categorical_crossentropy: 4.1399 - val_accuracy: 0.9353\n",
      "Epoch 13/15\n",
      "1545/1545 [==============================] - 53s 34ms/step - loss: 0.1936 - sparse_categorical_crossentropy: 4.1322 - accuracy: 0.9463 - val_loss: 0.2474 - val_sparse_categorical_crossentropy: 4.1356 - val_accuracy: 0.9344\n",
      "Epoch 14/15\n",
      "1545/1545 [==============================] - 53s 34ms/step - loss: 0.1828 - sparse_categorical_crossentropy: 4.1295 - accuracy: 0.9488 - val_loss: 0.2484 - val_sparse_categorical_crossentropy: 4.1338 - val_accuracy: 0.9356\n",
      "Epoch 15/15\n",
      "1545/1545 [==============================] - 53s 35ms/step - loss: 0.1769 - sparse_categorical_crossentropy: 4.1288 - accuracy: 0.9508 - val_loss: 0.2360 - val_sparse_categorical_crossentropy: 4.1398 - val_accuracy: 0.9387\n"
     ]
    },
    {
     "name": "stderr",
     "output_type": "stream",
     "text": [
      "\u001b[32m[I 2022-11-29 11:40:02,011]\u001b[0m Trial 14 finished with value: 0.9387128949165344 and parameters: {'first_layer_kernel': 54, 'first_layer_activation': 'sigmoid', 'second_layer_kernel': 40, 'second_layer_activation': 'sigmoid', 'average_pooling_size': 2, 'dense_layer_size': 172, 'dense_layer_activation': 'tanh'}. Best is trial 14 with value: 0.9387128949165344.\u001b[0m\n"
     ]
    },
    {
     "name": "stdout",
     "output_type": "stream",
     "text": [
      "Epoch 1/15\n",
      "1545/1545 [==============================] - 53s 34ms/step - loss: 1.8415 - sparse_categorical_crossentropy: 4.7039 - accuracy: 0.5980 - val_loss: 0.7513 - val_sparse_categorical_crossentropy: 4.1409 - val_accuracy: 0.8233\n",
      "Epoch 2/15\n",
      "1545/1545 [==============================] - 52s 34ms/step - loss: 0.6559 - sparse_categorical_crossentropy: 4.1350 - accuracy: 0.8391 - val_loss: 0.4847 - val_sparse_categorical_crossentropy: 4.1440 - val_accuracy: 0.8782\n",
      "Epoch 3/15\n",
      "1545/1545 [==============================] - 53s 34ms/step - loss: 0.4829 - sparse_categorical_crossentropy: 4.1330 - accuracy: 0.8769 - val_loss: 0.3868 - val_sparse_categorical_crossentropy: 4.1393 - val_accuracy: 0.8994\n",
      "Epoch 4/15\n",
      "1545/1545 [==============================] - 53s 34ms/step - loss: 0.3956 - sparse_categorical_crossentropy: 4.1325 - accuracy: 0.8986 - val_loss: 0.3386 - val_sparse_categorical_crossentropy: 4.1488 - val_accuracy: 0.9133\n",
      "Epoch 5/15\n",
      "1545/1545 [==============================] - 52s 34ms/step - loss: 0.3476 - sparse_categorical_crossentropy: 4.1327 - accuracy: 0.9089 - val_loss: 0.3105 - val_sparse_categorical_crossentropy: 4.1405 - val_accuracy: 0.9178\n",
      "Epoch 6/15\n",
      "1545/1545 [==============================] - 52s 34ms/step - loss: 0.3075 - sparse_categorical_crossentropy: 4.1322 - accuracy: 0.9185 - val_loss: 0.2894 - val_sparse_categorical_crossentropy: 4.1485 - val_accuracy: 0.9244\n",
      "Epoch 7/15\n",
      "1545/1545 [==============================] - 53s 34ms/step - loss: 0.2853 - sparse_categorical_crossentropy: 4.1333 - accuracy: 0.9224 - val_loss: 0.2802 - val_sparse_categorical_crossentropy: 4.1505 - val_accuracy: 0.9241\n",
      "Epoch 8/15\n",
      "1545/1545 [==============================] - 53s 34ms/step - loss: 0.2647 - sparse_categorical_crossentropy: 4.1316 - accuracy: 0.9283 - val_loss: 0.2644 - val_sparse_categorical_crossentropy: 4.1443 - val_accuracy: 0.9302\n",
      "Epoch 9/15\n",
      "1545/1545 [==============================] - 52s 34ms/step - loss: 0.2451 - sparse_categorical_crossentropy: 4.1321 - accuracy: 0.9345 - val_loss: 0.2527 - val_sparse_categorical_crossentropy: 4.1427 - val_accuracy: 0.9307\n",
      "Epoch 10/15\n",
      "1545/1545 [==============================] - 52s 34ms/step - loss: 0.2338 - sparse_categorical_crossentropy: 4.1305 - accuracy: 0.9356 - val_loss: 0.2519 - val_sparse_categorical_crossentropy: 4.1423 - val_accuracy: 0.9325\n",
      "Epoch 11/15\n",
      "1545/1545 [==============================] - 53s 34ms/step - loss: 0.2167 - sparse_categorical_crossentropy: 4.1292 - accuracy: 0.9416 - val_loss: 0.2538 - val_sparse_categorical_crossentropy: 4.1419 - val_accuracy: 0.9325\n",
      "Epoch 12/15\n",
      "1545/1545 [==============================] - 52s 34ms/step - loss: 0.2033 - sparse_categorical_crossentropy: 4.1281 - accuracy: 0.9428 - val_loss: 0.2494 - val_sparse_categorical_crossentropy: 4.1449 - val_accuracy: 0.9328\n",
      "Epoch 13/15\n",
      "1545/1545 [==============================] - 53s 34ms/step - loss: 0.1967 - sparse_categorical_crossentropy: 4.1253 - accuracy: 0.9440 - val_loss: 0.2437 - val_sparse_categorical_crossentropy: 4.1433 - val_accuracy: 0.9349\n",
      "Epoch 14/15\n",
      "1545/1545 [==============================] - 53s 34ms/step - loss: 0.1864 - sparse_categorical_crossentropy: 4.1249 - accuracy: 0.9472 - val_loss: 0.2417 - val_sparse_categorical_crossentropy: 4.1411 - val_accuracy: 0.9346\n",
      "Epoch 15/15\n",
      "1545/1545 [==============================] - 54s 35ms/step - loss: 0.1791 - sparse_categorical_crossentropy: 4.1246 - accuracy: 0.9493 - val_loss: 0.2415 - val_sparse_categorical_crossentropy: 4.1382 - val_accuracy: 0.9359\n"
     ]
    },
    {
     "name": "stderr",
     "output_type": "stream",
     "text": [
      "\u001b[32m[I 2022-11-29 11:53:12,857]\u001b[0m Trial 15 finished with value: 0.9358798861503601 and parameters: {'first_layer_kernel': 55, 'first_layer_activation': 'sigmoid', 'second_layer_kernel': 41, 'second_layer_activation': 'sigmoid', 'average_pooling_size': 2, 'dense_layer_size': 170, 'dense_layer_activation': 'tanh'}. Best is trial 14 with value: 0.9387128949165344.\u001b[0m\n"
     ]
    },
    {
     "name": "stdout",
     "output_type": "stream",
     "text": [
      "Epoch 1/15\n",
      "1545/1545 [==============================] - 52s 34ms/step - loss: 2.0725 - sparse_categorical_crossentropy: 4.9578 - accuracy: 0.5354 - val_loss: 0.9313 - val_sparse_categorical_crossentropy: 2.3757 - val_accuracy: 0.7644\n",
      "Epoch 2/15\n",
      "1545/1545 [==============================] - 53s 34ms/step - loss: 0.7754 - sparse_categorical_crossentropy: 2.0191 - accuracy: 0.8026 - val_loss: 0.5974 - val_sparse_categorical_crossentropy: 1.5973 - val_accuracy: 0.8458\n",
      "Epoch 3/15\n",
      "1545/1545 [==============================] - 52s 34ms/step - loss: 0.5773 - sparse_categorical_crossentropy: 1.5713 - accuracy: 0.8485 - val_loss: 0.4743 - val_sparse_categorical_crossentropy: 1.3590 - val_accuracy: 0.8765\n",
      "Epoch 4/15\n",
      "1545/1545 [==============================] - 52s 34ms/step - loss: 0.4845 - sparse_categorical_crossentropy: 1.3789 - accuracy: 0.8735 - val_loss: 0.4147 - val_sparse_categorical_crossentropy: 1.2724 - val_accuracy: 0.8930\n",
      "Epoch 5/15\n",
      "1545/1545 [==============================] - 52s 34ms/step - loss: 0.4286 - sparse_categorical_crossentropy: 1.3236 - accuracy: 0.8870 - val_loss: 0.3828 - val_sparse_categorical_crossentropy: 1.2468 - val_accuracy: 0.8988\n",
      "Epoch 6/15\n",
      "1545/1545 [==============================] - 52s 34ms/step - loss: 0.3838 - sparse_categorical_crossentropy: 1.2525 - accuracy: 0.8983 - val_loss: 0.3471 - val_sparse_categorical_crossentropy: 1.2036 - val_accuracy: 0.9100\n",
      "Epoch 7/15\n",
      "1545/1545 [==============================] - 52s 34ms/step - loss: 0.3520 - sparse_categorical_crossentropy: 1.1934 - accuracy: 0.9058 - val_loss: 0.3202 - val_sparse_categorical_crossentropy: 1.1656 - val_accuracy: 0.9168\n",
      "Epoch 8/15\n",
      "1545/1545 [==============================] - 52s 34ms/step - loss: 0.3258 - sparse_categorical_crossentropy: 1.1725 - accuracy: 0.9122 - val_loss: 0.3159 - val_sparse_categorical_crossentropy: 1.2105 - val_accuracy: 0.9162\n",
      "Epoch 9/15\n",
      "1545/1545 [==============================] - 52s 34ms/step - loss: 0.3042 - sparse_categorical_crossentropy: 1.1633 - accuracy: 0.9166 - val_loss: 0.2933 - val_sparse_categorical_crossentropy: 1.1808 - val_accuracy: 0.9243\n",
      "Epoch 10/15\n",
      "1545/1545 [==============================] - 52s 34ms/step - loss: 0.2797 - sparse_categorical_crossentropy: 1.1096 - accuracy: 0.9236 - val_loss: 0.2945 - val_sparse_categorical_crossentropy: 1.1471 - val_accuracy: 0.9234\n",
      "Epoch 11/15\n",
      "1545/1545 [==============================] - 52s 34ms/step - loss: 0.2669 - sparse_categorical_crossentropy: 1.0791 - accuracy: 0.9273 - val_loss: 0.2743 - val_sparse_categorical_crossentropy: 1.1289 - val_accuracy: 0.9287\n",
      "Epoch 12/15\n",
      "1545/1545 [==============================] - 52s 34ms/step - loss: 0.2522 - sparse_categorical_crossentropy: 1.0397 - accuracy: 0.9307 - val_loss: 0.2765 - val_sparse_categorical_crossentropy: 1.1259 - val_accuracy: 0.9281\n",
      "Epoch 13/15\n",
      "1545/1545 [==============================] - 52s 34ms/step - loss: 0.2436 - sparse_categorical_crossentropy: 1.0128 - accuracy: 0.9320 - val_loss: 0.2703 - val_sparse_categorical_crossentropy: 1.1234 - val_accuracy: 0.9307\n",
      "Epoch 14/15\n",
      "1545/1545 [==============================] - 53s 34ms/step - loss: 0.2299 - sparse_categorical_crossentropy: 0.9857 - accuracy: 0.9358 - val_loss: 0.2633 - val_sparse_categorical_crossentropy: 1.0903 - val_accuracy: 0.9314\n",
      "Epoch 15/15\n",
      "1545/1545 [==============================] - 52s 34ms/step - loss: 0.2217 - sparse_categorical_crossentropy: 0.9711 - accuracy: 0.9366 - val_loss: 0.2674 - val_sparse_categorical_crossentropy: 1.0694 - val_accuracy: 0.9316\n"
     ]
    },
    {
     "name": "stderr",
     "output_type": "stream",
     "text": [
      "\u001b[32m[I 2022-11-29 12:06:16,626]\u001b[0m Trial 16 finished with value: 0.9315831661224365 and parameters: {'first_layer_kernel': 51, 'first_layer_activation': 'sigmoid', 'second_layer_kernel': 35, 'second_layer_activation': 'sigmoid', 'average_pooling_size': 2, 'dense_layer_size': 172, 'dense_layer_activation': 'relu'}. Best is trial 14 with value: 0.9387128949165344.\u001b[0m\n"
     ]
    },
    {
     "name": "stdout",
     "output_type": "stream",
     "text": [
      "Epoch 1/15\n",
      "1545/1545 [==============================] - 53s 34ms/step - loss: 1.8763 - sparse_categorical_crossentropy: 4.8205 - accuracy: 0.5927 - val_loss: 0.7614 - val_sparse_categorical_crossentropy: 4.1475 - val_accuracy: 0.8207\n",
      "Epoch 2/15\n",
      "1545/1545 [==============================] - 53s 34ms/step - loss: 0.6650 - sparse_categorical_crossentropy: 4.1464 - accuracy: 0.8364 - val_loss: 0.4866 - val_sparse_categorical_crossentropy: 4.1497 - val_accuracy: 0.8791\n",
      "Epoch 3/15\n",
      "1545/1545 [==============================] - 53s 34ms/step - loss: 0.4884 - sparse_categorical_crossentropy: 4.1507 - accuracy: 0.8754 - val_loss: 0.3958 - val_sparse_categorical_crossentropy: 4.1535 - val_accuracy: 0.8977\n",
      "Epoch 4/15\n",
      "1545/1545 [==============================] - 53s 34ms/step - loss: 0.4090 - sparse_categorical_crossentropy: 4.1538 - accuracy: 0.8942 - val_loss: 0.3445 - val_sparse_categorical_crossentropy: 4.1541 - val_accuracy: 0.9110\n",
      "Epoch 5/15\n",
      "1545/1545 [==============================] - 52s 34ms/step - loss: 0.3585 - sparse_categorical_crossentropy: 4.1522 - accuracy: 0.9062 - val_loss: 0.3166 - val_sparse_categorical_crossentropy: 4.1516 - val_accuracy: 0.9177\n",
      "Epoch 6/15\n",
      "1545/1545 [==============================] - 52s 34ms/step - loss: 0.3237 - sparse_categorical_crossentropy: 4.1497 - accuracy: 0.9151 - val_loss: 0.3057 - val_sparse_categorical_crossentropy: 4.1551 - val_accuracy: 0.9197\n",
      "Epoch 7/15\n",
      "1545/1545 [==============================] - 52s 34ms/step - loss: 0.2943 - sparse_categorical_crossentropy: 4.1502 - accuracy: 0.9214 - val_loss: 0.2883 - val_sparse_categorical_crossentropy: 4.1499 - val_accuracy: 0.9247\n",
      "Epoch 8/15\n",
      "1545/1545 [==============================] - 52s 34ms/step - loss: 0.2758 - sparse_categorical_crossentropy: 4.1481 - accuracy: 0.9251 - val_loss: 0.2815 - val_sparse_categorical_crossentropy: 4.1511 - val_accuracy: 0.9271\n",
      "Epoch 9/15\n",
      "1545/1545 [==============================] - 53s 34ms/step - loss: 0.2547 - sparse_categorical_crossentropy: 4.1502 - accuracy: 0.9307 - val_loss: 0.2639 - val_sparse_categorical_crossentropy: 4.1553 - val_accuracy: 0.9310\n",
      "Epoch 10/15\n",
      "1545/1545 [==============================] - 53s 34ms/step - loss: 0.2337 - sparse_categorical_crossentropy: 4.1473 - accuracy: 0.9357 - val_loss: 0.2607 - val_sparse_categorical_crossentropy: 4.1485 - val_accuracy: 0.9312\n",
      "Epoch 11/15\n",
      "1545/1545 [==============================] - 53s 34ms/step - loss: 0.2186 - sparse_categorical_crossentropy: 4.1481 - accuracy: 0.9396 - val_loss: 0.2565 - val_sparse_categorical_crossentropy: 4.1476 - val_accuracy: 0.9343\n",
      "Epoch 12/15\n",
      "1545/1545 [==============================] - 52s 34ms/step - loss: 0.2101 - sparse_categorical_crossentropy: 4.1462 - accuracy: 0.9422 - val_loss: 0.2532 - val_sparse_categorical_crossentropy: 4.1563 - val_accuracy: 0.9333\n",
      "Epoch 13/15\n",
      "1545/1545 [==============================] - 53s 34ms/step - loss: 0.1982 - sparse_categorical_crossentropy: 4.1498 - accuracy: 0.9449 - val_loss: 0.2517 - val_sparse_categorical_crossentropy: 4.1544 - val_accuracy: 0.9343\n",
      "Epoch 14/15\n",
      "1545/1545 [==============================] - 52s 34ms/step - loss: 0.1963 - sparse_categorical_crossentropy: 4.1459 - accuracy: 0.9443 - val_loss: 0.2457 - val_sparse_categorical_crossentropy: 4.1564 - val_accuracy: 0.9366\n",
      "Epoch 15/15\n",
      "1545/1545 [==============================] - 52s 34ms/step - loss: 0.1855 - sparse_categorical_crossentropy: 4.1485 - accuracy: 0.9475 - val_loss: 0.2442 - val_sparse_categorical_crossentropy: 4.1499 - val_accuracy: 0.9367\n"
     ]
    },
    {
     "name": "stderr",
     "output_type": "stream",
     "text": [
      "\u001b[32m[I 2022-11-29 12:19:25,318]\u001b[0m Trial 17 finished with value: 0.9366825819015503 and parameters: {'first_layer_kernel': 50, 'first_layer_activation': 'sigmoid', 'second_layer_kernel': 41, 'second_layer_activation': 'sigmoid', 'average_pooling_size': 2, 'dense_layer_size': 167, 'dense_layer_activation': 'tanh'}. Best is trial 14 with value: 0.9387128949165344.\u001b[0m\n"
     ]
    },
    {
     "name": "stdout",
     "output_type": "stream",
     "text": [
      "Epoch 1/15\n",
      "1545/1545 [==============================] - 53s 34ms/step - loss: 1.8809 - sparse_categorical_crossentropy: 4.7789 - accuracy: 0.5878 - val_loss: 0.7623 - val_sparse_categorical_crossentropy: 4.1373 - val_accuracy: 0.8211\n",
      "Epoch 2/15\n",
      "1545/1545 [==============================] - 52s 34ms/step - loss: 0.6601 - sparse_categorical_crossentropy: 4.1454 - accuracy: 0.8390 - val_loss: 0.5063 - val_sparse_categorical_crossentropy: 4.1361 - val_accuracy: 0.8734\n",
      "Epoch 3/15\n",
      "1545/1545 [==============================] - 52s 34ms/step - loss: 0.4859 - sparse_categorical_crossentropy: 4.1397 - accuracy: 0.8778 - val_loss: 0.3911 - val_sparse_categorical_crossentropy: 4.1421 - val_accuracy: 0.8989\n",
      "Epoch 4/15\n",
      "1545/1545 [==============================] - 52s 34ms/step - loss: 0.4028 - sparse_categorical_crossentropy: 4.1384 - accuracy: 0.8953 - val_loss: 0.3503 - val_sparse_categorical_crossentropy: 4.1395 - val_accuracy: 0.9084\n",
      "Epoch 5/15\n",
      "1545/1545 [==============================] - 52s 34ms/step - loss: 0.3569 - sparse_categorical_crossentropy: 4.1358 - accuracy: 0.9068 - val_loss: 0.3140 - val_sparse_categorical_crossentropy: 4.1354 - val_accuracy: 0.9171\n",
      "Epoch 6/15\n",
      "1545/1545 [==============================] - 53s 34ms/step - loss: 0.3239 - sparse_categorical_crossentropy: 4.1326 - accuracy: 0.9152 - val_loss: 0.3008 - val_sparse_categorical_crossentropy: 4.1392 - val_accuracy: 0.9207\n",
      "Epoch 7/15\n",
      "1545/1545 [==============================] - 53s 34ms/step - loss: 0.2928 - sparse_categorical_crossentropy: 4.1291 - accuracy: 0.9218 - val_loss: 0.2879 - val_sparse_categorical_crossentropy: 4.1365 - val_accuracy: 0.9235\n",
      "Epoch 8/15\n",
      "1545/1545 [==============================] - 52s 34ms/step - loss: 0.2732 - sparse_categorical_crossentropy: 4.1302 - accuracy: 0.9261 - val_loss: 0.2803 - val_sparse_categorical_crossentropy: 4.1411 - val_accuracy: 0.9265\n",
      "Epoch 9/15\n",
      "1545/1545 [==============================] - 54s 35ms/step - loss: 0.2557 - sparse_categorical_crossentropy: 4.1268 - accuracy: 0.9305 - val_loss: 0.2624 - val_sparse_categorical_crossentropy: 4.1321 - val_accuracy: 0.9304\n",
      "Epoch 10/15\n",
      "1545/1545 [==============================] - 53s 34ms/step - loss: 0.2349 - sparse_categorical_crossentropy: 4.1275 - accuracy: 0.9355 - val_loss: 0.2552 - val_sparse_categorical_crossentropy: 4.1403 - val_accuracy: 0.9330\n",
      "Epoch 11/15\n",
      "1545/1545 [==============================] - 52s 34ms/step - loss: 0.2248 - sparse_categorical_crossentropy: 4.1292 - accuracy: 0.9375 - val_loss: 0.2615 - val_sparse_categorical_crossentropy: 4.1354 - val_accuracy: 0.9307\n",
      "Epoch 12/15\n",
      "1545/1545 [==============================] - 53s 34ms/step - loss: 0.2130 - sparse_categorical_crossentropy: 4.1266 - accuracy: 0.9405 - val_loss: 0.2491 - val_sparse_categorical_crossentropy: 4.1396 - val_accuracy: 0.9343\n",
      "Epoch 13/15\n",
      "1545/1545 [==============================] - 52s 34ms/step - loss: 0.2041 - sparse_categorical_crossentropy: 4.1248 - accuracy: 0.9425 - val_loss: 0.2495 - val_sparse_categorical_crossentropy: 4.1392 - val_accuracy: 0.9359\n",
      "Epoch 14/15\n",
      "1545/1545 [==============================] - 52s 34ms/step - loss: 0.1886 - sparse_categorical_crossentropy: 4.1248 - accuracy: 0.9471 - val_loss: 0.2466 - val_sparse_categorical_crossentropy: 4.1386 - val_accuracy: 0.9372\n",
      "Epoch 15/15\n",
      "1545/1545 [==============================] - 52s 34ms/step - loss: 0.1855 - sparse_categorical_crossentropy: 4.1264 - accuracy: 0.9472 - val_loss: 0.2436 - val_sparse_categorical_crossentropy: 4.1420 - val_accuracy: 0.9373\n"
     ]
    },
    {
     "name": "stderr",
     "output_type": "stream",
     "text": [
      "\u001b[32m[I 2022-11-29 12:32:33,915]\u001b[0m Trial 18 finished with value: 0.9372963905334473 and parameters: {'first_layer_kernel': 50, 'first_layer_activation': 'sigmoid', 'second_layer_kernel': 41, 'second_layer_activation': 'sigmoid', 'average_pooling_size': 2, 'dense_layer_size': 166, 'dense_layer_activation': 'tanh'}. Best is trial 14 with value: 0.9387128949165344.\u001b[0m\n"
     ]
    },
    {
     "name": "stdout",
     "output_type": "stream",
     "text": [
      "Epoch 1/15\n",
      "1545/1545 [==============================] - 55s 35ms/step - loss: 1.5259 - sparse_categorical_crossentropy: 3.8023 - accuracy: 0.6446 - val_loss: 0.6175 - val_sparse_categorical_crossentropy: 1.6978 - val_accuracy: 0.8385\n",
      "Epoch 2/15\n",
      "1545/1545 [==============================] - 53s 34ms/step - loss: 0.5979 - sparse_categorical_crossentropy: 1.6546 - accuracy: 0.8424 - val_loss: 0.4478 - val_sparse_categorical_crossentropy: 1.3204 - val_accuracy: 0.8803\n",
      "Epoch 3/15\n",
      "1545/1545 [==============================] - 53s 34ms/step - loss: 0.4632 - sparse_categorical_crossentropy: 1.3822 - accuracy: 0.8760 - val_loss: 0.3692 - val_sparse_categorical_crossentropy: 1.1714 - val_accuracy: 0.9026\n",
      "Epoch 4/15\n",
      "1545/1545 [==============================] - 52s 34ms/step - loss: 0.3888 - sparse_categorical_crossentropy: 1.2743 - accuracy: 0.8929 - val_loss: 0.3220 - val_sparse_categorical_crossentropy: 1.1363 - val_accuracy: 0.9145\n",
      "Epoch 5/15\n",
      "1545/1545 [==============================] - 59s 38ms/step - loss: 0.3442 - sparse_categorical_crossentropy: 1.1976 - accuracy: 0.9043 - val_loss: 0.3109 - val_sparse_categorical_crossentropy: 1.1387 - val_accuracy: 0.9167\n",
      "Epoch 6/15\n",
      "1545/1545 [==============================] - 53s 34ms/step - loss: 0.3057 - sparse_categorical_crossentropy: 1.1244 - accuracy: 0.9141 - val_loss: 0.2887 - val_sparse_categorical_crossentropy: 1.0737 - val_accuracy: 0.9246\n",
      "Epoch 7/15\n",
      "1545/1545 [==============================] - 52s 34ms/step - loss: 0.2880 - sparse_categorical_crossentropy: 1.0844 - accuracy: 0.9176 - val_loss: 0.2892 - val_sparse_categorical_crossentropy: 1.1042 - val_accuracy: 0.9249\n",
      "Epoch 8/15\n",
      "1545/1545 [==============================] - 52s 34ms/step - loss: 0.2722 - sparse_categorical_crossentropy: 1.0718 - accuracy: 0.9210 - val_loss: 0.2884 - val_sparse_categorical_crossentropy: 1.0876 - val_accuracy: 0.9245\n",
      "Epoch 9/15\n",
      "1545/1545 [==============================] - 53s 34ms/step - loss: 0.2497 - sparse_categorical_crossentropy: 1.0225 - accuracy: 0.9280 - val_loss: 0.2790 - val_sparse_categorical_crossentropy: 1.0249 - val_accuracy: 0.9282\n",
      "Epoch 10/15\n",
      "1545/1545 [==============================] - 52s 34ms/step - loss: 0.2402 - sparse_categorical_crossentropy: 0.9970 - accuracy: 0.9296 - val_loss: 0.2700 - val_sparse_categorical_crossentropy: 1.0660 - val_accuracy: 0.9304\n",
      "Epoch 11/15\n",
      "1545/1545 [==============================] - 52s 34ms/step - loss: 0.2243 - sparse_categorical_crossentropy: 0.9548 - accuracy: 0.9340 - val_loss: 0.2980 - val_sparse_categorical_crossentropy: 1.0183 - val_accuracy: 0.9246\n",
      "Epoch 12/15\n",
      "1545/1545 [==============================] - 52s 34ms/step - loss: 0.2163 - sparse_categorical_crossentropy: 0.9224 - accuracy: 0.9352 - val_loss: 0.2705 - val_sparse_categorical_crossentropy: 0.9947 - val_accuracy: 0.9323\n",
      "Epoch 13/15\n",
      "1545/1545 [==============================] - 53s 34ms/step - loss: 0.2074 - sparse_categorical_crossentropy: 0.8836 - accuracy: 0.9374 - val_loss: 0.2833 - val_sparse_categorical_crossentropy: 0.9502 - val_accuracy: 0.9309\n",
      "Epoch 14/15\n",
      "1545/1545 [==============================] - 52s 34ms/step - loss: 0.2060 - sparse_categorical_crossentropy: 0.8895 - accuracy: 0.9393 - val_loss: 0.2864 - val_sparse_categorical_crossentropy: 0.9980 - val_accuracy: 0.9286\n",
      "Epoch 15/15\n",
      "1545/1545 [==============================] - 53s 34ms/step - loss: 0.1962 - sparse_categorical_crossentropy: 0.8332 - accuracy: 0.9414 - val_loss: 0.2930 - val_sparse_categorical_crossentropy: 0.9394 - val_accuracy: 0.9294\n"
     ]
    },
    {
     "name": "stderr",
     "output_type": "stream",
     "text": [
      "\u001b[32m[I 2022-11-29 12:45:52,073]\u001b[0m Trial 19 finished with value: 0.9294112324714661 and parameters: {'first_layer_kernel': 50, 'first_layer_activation': 'sigmoid', 'second_layer_kernel': 44, 'second_layer_activation': 'relu', 'average_pooling_size': 2, 'dense_layer_size': 165, 'dense_layer_activation': 'relu'}. Best is trial 14 with value: 0.9387128949165344.\u001b[0m\n"
     ]
    }
   ],
   "source": [
    "def load_base_model(filename):\n",
    "    bm = attempt_load(filename)\n",
    "    bm.pop()\n",
    "    bm.pop()\n",
    "    bm.pop()\n",
    "    bm.trainable = False\n",
    "    return bm\n",
    "    \n",
    "\n",
    "def objective(trial):\n",
    "    # The following is where you suggest your search space per trial (integer, categorical and floating point values)\n",
    "    l1_filters = trial.suggest_int('first_layer_kernel', 48, 64)\n",
    "    l1_activation = trial.suggest_categorical('first_layer_activation', ['relu', 'sigmoid', 'tanh'])\n",
    "    l2_filters = trial.suggest_int('second_layer_kernel', 28, 44)\n",
    "    l2_activation = trial.suggest_categorical('second_layer_activation', ['relu', 'sigmoid', 'tanh'])\n",
    "    average_pooling_size = trial.suggest_int('average_pooling_size', 2, 2)\n",
    "    dense_layer_size = trial.suggest_int('dense_layer_size', 140, 180)\n",
    "    dense_layer_activation = trial.suggest_categorical('dense_layer_activation', ['relu', 'sigmoid', 'tanh'])\n",
    "    \n",
    "    # Load the frozen base model\n",
    "    base_model = load_base_model('k49_2_model')\n",
    "    mod_in_shape = (28, 28, 1)\n",
    "    \n",
    "    model = Sequential()\n",
    "    model.add(base_model)\n",
    "    model.add(Conv2D(l1_filters, (3, 3), activation=l1_activation, input_shape=mod_in_shape))\n",
    "    model.add(AveragePooling2D((average_pooling_size, average_pooling_size)))\n",
    "    model.add(Dropout(0.2))\n",
    "    model.add(Conv2D(l2_filters, (3, 3), activation=l2_activation, input_shape=mod_in_shape))\n",
    "    model.add(Flatten())\n",
    "    model.add(Dense(dense_layer_size, activation=dense_layer_activation))\n",
    "    model.add(Dense(150))\n",
    "\n",
    "    model.compile(optimizer='adam',\n",
    "              loss=tf.keras.losses.SparseCategoricalCrossentropy(from_logits=True),\n",
    "              metrics=[tf.keras.metrics.SparseCategoricalCrossentropy(), 'accuracy'])\n",
    "\n",
    "#     print(model.summary())\n",
    "\n",
    "    callback = tf.keras.callbacks.EarlyStopping(monitor='accuracy', patience=3)\n",
    "\n",
    "    history = model.fit(kanji_train, epochs=15,\n",
    "                    callbacks=callback, validation_data=kanji_val)\n",
    "\n",
    "    # Following line is very important as this is the metric that optuna uses to optimize over\n",
    "    return history.history['val_accuracy'][-1]\n",
    "\n",
    "# Run a study\n",
    "study = optuna.create_study(direction='maximize', study_name=\"Study1\")\n",
    "study.optimize(objective, n_trials=20)"
   ]
  },
  {
   "cell_type": "code",
   "execution_count": 24,
   "id": "28ed7a48",
   "metadata": {},
   "outputs": [
    {
     "name": "stdout",
     "output_type": "stream",
     "text": [
      "Best trial info:\n",
      "FrozenTrial(number=14, values=[0.9387128949165344], datetime_start=datetime.datetime(2022, 11, 29, 11, 26, 48, 285783), datetime_complete=datetime.datetime(2022, 11, 29, 11, 40, 2, 11045), params={'first_layer_kernel': 54, 'first_layer_activation': 'sigmoid', 'second_layer_kernel': 40, 'second_layer_activation': 'sigmoid', 'average_pooling_size': 2, 'dense_layer_size': 172, 'dense_layer_activation': 'tanh'}, distributions={'first_layer_kernel': IntDistribution(high=64, log=False, low=48, step=1), 'first_layer_activation': CategoricalDistribution(choices=('relu', 'sigmoid', 'tanh')), 'second_layer_kernel': IntDistribution(high=44, log=False, low=28, step=1), 'second_layer_activation': CategoricalDistribution(choices=('relu', 'sigmoid', 'tanh')), 'average_pooling_size': IntDistribution(high=2, log=False, low=2, step=1), 'dense_layer_size': IntDistribution(high=180, log=False, low=140, step=1), 'dense_layer_activation': CategoricalDistribution(choices=('relu', 'sigmoid', 'tanh'))}, user_attrs={}, system_attrs={}, intermediate_values={}, trial_id=14, state=TrialState.COMPLETE, value=None)\n",
      "\n",
      "Param: first_layer_kernel\tValue: 54\n",
      "Param: first_layer_activation\tValue: sigmoid\n",
      "Param: second_layer_kernel\tValue: 40\n",
      "Param: second_layer_activation\tValue: sigmoid\n",
      "Param: average_pooling_size\tValue: 2\n",
      "Param: dense_layer_size\tValue: 172\n",
      "Param: dense_layer_activation\tValue: tanh\n"
     ]
    }
   ],
   "source": [
    "print(f'Best trial info:\\n{study.best_trial}\\n')\n",
    "for param, value in study.best_params.items():\n",
    "    print(f'Param: {param}\\tValue: {value}')"
   ]
  },
  {
   "cell_type": "markdown",
   "id": "815d101b",
   "metadata": {},
   "source": [
    "### Building the Optuna Model"
   ]
  },
  {
   "cell_type": "code",
   "execution_count": 25,
   "id": "0791487e",
   "metadata": {},
   "outputs": [
    {
     "name": "stdout",
     "output_type": "stream",
     "text": [
      "Model: \"sequential_25\"\n",
      "_________________________________________________________________\n",
      " Layer (type)                Output Shape              Param #   \n",
      "=================================================================\n",
      " sequential_2 (Sequential)   (None, 10, 10, 48)        46512     \n",
      "                                                                 \n",
      " conv2d_51 (Conv2D)          (None, 8, 8, 54)          23382     \n",
      "                                                                 \n",
      " average_pooling2d_25 (Avera  (None, 4, 4, 54)         0         \n",
      " gePooling2D)                                                    \n",
      "                                                                 \n",
      " dropout_25 (Dropout)        (None, 4, 4, 54)          0         \n",
      "                                                                 \n",
      " conv2d_52 (Conv2D)          (None, 2, 2, 40)          19480     \n",
      "                                                                 \n",
      " flatten_25 (Flatten)        (None, 160)               0         \n",
      "                                                                 \n",
      " dense_50 (Dense)            (None, 172)               27692     \n",
      "                                                                 \n",
      " dense_51 (Dense)            (None, 150)               25950     \n",
      "                                                                 \n",
      "=================================================================\n",
      "Total params: 143,016\n",
      "Trainable params: 96,504\n",
      "Non-trainable params: 46,512\n",
      "_________________________________________________________________\n"
     ]
    }
   ],
   "source": [
    "kshape = (28, 28, 1)\n",
    "\n",
    "final_optuna_model = Sequential()\n",
    "final_optuna_model.add(tl_base)\n",
    "final_optuna_model.add(Conv2D(54, (3, 3), activation='sigmoid', input_shape=kshape))\n",
    "final_optuna_model.add(AveragePooling2D((2, 2)))\n",
    "final_optuna_model.add(Dropout(0.2))\n",
    "final_optuna_model.add(Conv2D(40, (3, 3), activation='sigmoid', input_shape=kshape))\n",
    "final_optuna_model.add(Flatten())\n",
    "final_optuna_model.add(Dense(172, activation='tanh'))\n",
    "final_optuna_model.add(Dense(150))\n",
    "\n",
    "final_optuna_model.compile(optimizer='adam',\n",
    "              loss=tf.keras.losses.SparseCategoricalCrossentropy(from_logits=True),\n",
    "              metrics=[tf.keras.metrics.SparseCategoricalCrossentropy(), 'accuracy'])\n",
    "\n",
    "final_optuna_model.summary()"
   ]
  },
  {
   "cell_type": "code",
   "execution_count": 27,
   "id": "278ef508",
   "metadata": {},
   "outputs": [
    {
     "name": "stdout",
     "output_type": "stream",
     "text": [
      "Epoch 1/14\n",
      "1545/1545 [==============================] - 93s 59ms/step - loss: 1.8194 - sparse_categorical_crossentropy: 4.7487 - accuracy: 0.6056 - val_loss: 0.7156 - val_sparse_categorical_crossentropy: 4.1314 - val_accuracy: 0.8307\n",
      "Epoch 2/14\n",
      "1545/1545 [==============================] - 104s 67ms/step - loss: 0.6314 - sparse_categorical_crossentropy: 4.1369 - accuracy: 0.8443 - val_loss: 0.4607 - val_sparse_categorical_crossentropy: 4.1359 - val_accuracy: 0.8839\n",
      "Epoch 3/14\n",
      "1545/1545 [==============================] - 102s 66ms/step - loss: 0.4718 - sparse_categorical_crossentropy: 4.1355 - accuracy: 0.8801 - val_loss: 0.3847 - val_sparse_categorical_crossentropy: 4.1453 - val_accuracy: 0.9010\n",
      "Epoch 4/14\n",
      "1545/1545 [==============================] - 102s 66ms/step - loss: 0.3989 - sparse_categorical_crossentropy: 4.1370 - accuracy: 0.8973 - val_loss: 0.3346 - val_sparse_categorical_crossentropy: 4.1475 - val_accuracy: 0.9136\n",
      "Epoch 5/14\n",
      "1545/1545 [==============================] - 104s 67ms/step - loss: 0.3533 - sparse_categorical_crossentropy: 4.1375 - accuracy: 0.9066 - val_loss: 0.3150 - val_sparse_categorical_crossentropy: 4.1495 - val_accuracy: 0.9180\n",
      "Epoch 6/14\n",
      "1545/1545 [==============================] - 104s 68ms/step - loss: 0.3136 - sparse_categorical_crossentropy: 4.1374 - accuracy: 0.9177 - val_loss: 0.2898 - val_sparse_categorical_crossentropy: 4.1450 - val_accuracy: 0.9241\n",
      "Epoch 7/14\n",
      "1545/1545 [==============================] - 103s 66ms/step - loss: 0.2842 - sparse_categorical_crossentropy: 4.1340 - accuracy: 0.9244 - val_loss: 0.2817 - val_sparse_categorical_crossentropy: 4.1409 - val_accuracy: 0.9264\n",
      "Epoch 8/14\n",
      "1545/1545 [==============================] - 104s 68ms/step - loss: 0.2613 - sparse_categorical_crossentropy: 4.1347 - accuracy: 0.9304 - val_loss: 0.2612 - val_sparse_categorical_crossentropy: 4.1432 - val_accuracy: 0.9313\n",
      "Epoch 9/14\n",
      "1545/1545 [==============================] - 103s 67ms/step - loss: 0.2501 - sparse_categorical_crossentropy: 4.1341 - accuracy: 0.9321 - val_loss: 0.2632 - val_sparse_categorical_crossentropy: 4.1504 - val_accuracy: 0.9315\n",
      "Epoch 10/14\n",
      "1545/1545 [==============================] - 103s 67ms/step - loss: 0.2313 - sparse_categorical_crossentropy: 4.1369 - accuracy: 0.9354 - val_loss: 0.2710 - val_sparse_categorical_crossentropy: 4.1479 - val_accuracy: 0.9280\n",
      "Epoch 11/14\n",
      "1545/1545 [==============================] - 103s 67ms/step - loss: 0.2217 - sparse_categorical_crossentropy: 4.1336 - accuracy: 0.9398 - val_loss: 0.2462 - val_sparse_categorical_crossentropy: 4.1536 - val_accuracy: 0.9355\n",
      "Epoch 12/14\n",
      "1545/1545 [==============================] - 102s 66ms/step - loss: 0.2088 - sparse_categorical_crossentropy: 4.1348 - accuracy: 0.9415 - val_loss: 0.2486 - val_sparse_categorical_crossentropy: 4.1469 - val_accuracy: 0.9363\n",
      "Epoch 13/14\n",
      "1545/1545 [==============================] - 102s 66ms/step - loss: 0.1984 - sparse_categorical_crossentropy: 4.1314 - accuracy: 0.9447 - val_loss: 0.2459 - val_sparse_categorical_crossentropy: 4.1446 - val_accuracy: 0.9347\n",
      "Epoch 14/14\n",
      "1545/1545 [==============================] - 103s 66ms/step - loss: 0.1885 - sparse_categorical_crossentropy: 4.1335 - accuracy: 0.9467 - val_loss: 0.2393 - val_sparse_categorical_crossentropy: 4.1496 - val_accuracy: 0.9368\n"
     ]
    }
   ],
   "source": [
    "callback = tf.keras.callbacks.EarlyStopping(monitor='accuracy', patience=3)\n",
    "\n",
    "best_optuna_run_history = final_optuna_model.fit(kanji_train, epochs=14,\n",
    "                            callbacks=callback, validation_data=kanji_val)\n",
    "# final_optuna_model.save('best_optuna_run.h5', save_format='h5')"
   ]
  },
  {
   "cell_type": "code",
   "execution_count": 28,
   "id": "d949f14f",
   "metadata": {},
   "outputs": [],
   "source": [
    "final_optuna_model.save('best_optuna_run.h5', save_format='h5')"
   ]
  },
  {
   "cell_type": "markdown",
   "id": "9ab065d9",
   "metadata": {},
   "source": [
    "### Transfer Learning Attempt with Full Size Kaji"
   ]
  },
  {
   "cell_type": "code",
   "execution_count": null,
   "id": "cfc28f71",
   "metadata": {},
   "outputs": [],
   "source": [
    "import op"
   ]
  },
  {
   "cell_type": "code",
   "execution_count": null,
   "id": "ddd5d658",
   "metadata": {},
   "outputs": [],
   "source": [
    "# prefix = '..\\..\\Datasets\\\\'\n",
    "# datasets = {\n",
    "#     \"k49_tr_i\" : prefix + 'Kuzushiji-49 - train-imgs.npz',\n",
    "#     \"k49_te_i\" : prefix + 'Kuzushiji-49 - test-imgs.npz',\n",
    "#     \"k49_tr_l\" : prefix + 'Kuzushiji-49 - train-labels.npz',\n",
    "#     \"k49_te_l\" : prefix + 'Kuzushiji-49 - test-labels.npz'\n",
    "# }\n",
    "\n",
    "# # Load Kuzushiji-49 Data\n",
    "# dataset = initialize_data(datasets[\"k49_tr_i\"], datasets[\"k49_te_i\"], datasets[\"k49_tr_l\"], datasets[\"k49_te_l\"])\n",
    "# k49_train_images = dataset[0]\n",
    "# k49_test_images = dataset[1]\n",
    "# k49_train_labels = dataset[2]\n",
    "# k49_test_labels  = dataset[3]\n",
    "# k49_input_shape = dataset[4]\n",
    "\n",
    "# # Load Kanji Data\n",
    "# kanji_size = (28, 28)\n",
    "# data_path = datasets[\"kanji\"]\n",
    "# kanji_train = tf.keras.utils.image_dataset_from_directory(data_path, validation_split=0.3, seed=222,\n",
    "#                             subset=\"training\", color_mode=\"grayscale\", image_size=kanji_size, batch_size=32)\n",
    "\n",
    "# kanji_val = tf.keras.utils.image_dataset_from_directory(data_path, validation_split=0.3, seed=222,\n",
    "#                           subset=\"validation\", color_mode=\"grayscale\", image_size=kanji_size, batch_size=32)\n",
    "\n",
    "# print(\"Done!\")"
   ]
  },
  {
   "cell_type": "code",
   "execution_count": 41,
   "id": "bc184c0a",
   "metadata": {},
   "outputs": [
    {
     "name": "stderr",
     "output_type": "stream",
     "text": [
      "Lossy conversion from float32 to uint8. Range [0, 1]. Convert image to uint8 prior to saving to suppress this warning.\n"
     ]
    },
    {
     "data": {
      "image/png": "[encoded data removed]",
      "text/plain": [
       "<Figure size 640x480 with 1 Axes>"
      ]
     },
     "metadata": {},
     "output_type": "display_data"
    }
   ],
   "source": [
    "#   from models that trained on 28x28 images, the Kanji images must be downscaled accordingly.\n",
    "import os\n",
    "from skimage import io\n",
    "\n",
    "temp_ndarray = k49_test_images[1]\n",
    "    \n",
    "io.imshow(temp_ndarray)\n",
    "io.imsave('./RANDOMIMAGE.png', temp_ndarray)"
   ]
  },
  {
   "cell_type": "code",
   "execution_count": 154,
   "id": "4c00e29c",
   "metadata": {},
   "outputs": [
    {
     "name": "stdout",
     "output_type": "stream",
     "text": [
      "Found 10 files belonging to 8 classes.\n",
      "Using 7 files for training.\n"
     ]
    }
   ],
   "source": [
    "test_image_dir = None\n",
    "test_image_dir = tf.keras.utils.image_dataset_from_directory('.', seed=222, subset=\"training\",\n",
    "                            color_mode=\"grayscale\", validation_split=0.3, image_size=(64, 64), interpolation=\"mitchellcubic\")"
   ]
  },
  {
   "cell_type": "code",
   "execution_count": 155,
   "id": "b290bfb3",
   "metadata": {},
   "outputs": [
    {
     "name": "stdout",
     "output_type": "stream",
     "text": [
      "Done!\n"
     ]
    }
   ],
   "source": [
    "test_images_data_object = list(test_image_dir.as_numpy_iterator())\n",
    "prefix = \"test_interp_dir\\\\\"\n",
    "\n",
    "for elem in test_images_data_object:\n",
    "    for num in range(7):\n",
    "        path = prefix + f\"test{num}.png\"\n",
    "        picture = elem[0][num]\n",
    "        picture = np.uint8(np.interp(picture, (picture.min(), picture.max()), (0, 255)))\n",
    "        \n",
    "        io.imsave(path, picture)\n",
    "print(\"Done!\")"
   ]
  },
  {
   "cell_type": "code",
   "execution_count": 122,
   "id": "b77f4046",
   "metadata": {},
   "outputs": [
    {
     "name": "stdout",
     "output_type": "stream",
     "text": [
      "BICUBIC\n"
     ]
    },
    {
     "data": {
      "text/plain": [
       "<matplotlib.image.AxesImage at 0x2ad9929feb0>"
      ]
     },
     "execution_count": 122,
     "metadata": {},
     "output_type": "execute_result"
    },
    {
     "data": {
      "image/png": "[encoded data removed]",
      "text/plain": [
       "<Figure size 640x480 with 1 Axes>"
      ]
     },
     "metadata": {},
     "output_type": "display_data"
    }
   ],
   "source": [
    "print(\"BICUBIC\")\n",
    "io.imshow(prefix + \"test2.png\")"
   ]
  },
  {
   "cell_type": "code",
   "execution_count": 150,
   "id": "8cd810be",
   "metadata": {},
   "outputs": [
    {
     "name": "stdout",
     "output_type": "stream",
     "text": [
      "LANCZOS5\n"
     ]
    },
    {
     "data": {
      "text/plain": [
       "<matplotlib.image.AxesImage at 0x2ad9e3d7f10>"
      ]
     },
     "execution_count": 150,
     "metadata": {},
     "output_type": "execute_result"
    },
    {
     "data": {
      "image/png": "[encoded data removed]",
      "text/plain": [
       "<Figure size 640x480 with 1 Axes>"
      ]
     },
     "metadata": {},
     "output_type": "display_data"
    }
   ],
   "source": [
    "print(\"LANCZOS5\")\n",
    "io.imshow(prefix + \"test2.png\")"
   ]
  }
 ],
 "metadata": {
  "kernelspec": {
   "display_name": "Python 3 (ipykernel)",
   "language": "python",
   "name": "python3"
  },
  "language_info": {
   "codemirror_mode": {
    "name": "ipython",
    "version": 3
   },
   "file_extension": ".py",
   "mimetype": "text/x-python",
   "name": "python",
   "nbconvert_exporter": "python",
   "pygments_lexer": "ipython3",
   "version": "3.9.12"
  }
 },
 "nbformat": 4,
 "nbformat_minor": 5
}
