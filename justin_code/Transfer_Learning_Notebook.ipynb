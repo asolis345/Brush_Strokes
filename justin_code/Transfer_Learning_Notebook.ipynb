{
 "cells": [
  {
   "cell_type": "code",
   "execution_count": null,
   "id": "83cae8b6",
   "metadata": {},
   "outputs": [],
   "source": [
    "# Justin Zarkovacki    12/07/2022"
   ]
  },
  {
   "cell_type": "markdown",
   "id": "6a8bc6bb",
   "metadata": {},
   "source": [
    "# Transfer Learning Notebook"
   ]
  },
  {
   "cell_type": "code",
   "execution_count": 1,
   "id": "a8b616f1",
   "metadata": {},
   "outputs": [
    {
     "name": "stdout",
     "output_type": "stream",
     "text": [
      "Done!\n"
     ]
    }
   ],
   "source": [
    "import numpy as np\n",
    "import os\n",
    "import optuna\n",
    "import random\n",
    "\n",
    "import matplotlib\n",
    "from matplotlib import pyplot as plt\n",
    "\n",
    "import tensorflow as tf\n",
    "from keras.models import Sequential\n",
    "from keras.layers import Conv2D, Dropout, AveragePooling2D, MaxPooling2D, Flatten, Dense, GlobalAveragePooling2D, Rescaling\n",
    "from keras import Input, models, backend as K\n",
    "from tensorflow.keras import layers, models\n",
    "\n",
    "print(\"Done!\")"
   ]
  },
  {
   "cell_type": "markdown",
   "id": "1a66b732",
   "metadata": {},
   "source": [
    "# Function Definitions and Variables"
   ]
  },
  {
   "cell_type": "code",
   "execution_count": 2,
   "id": "bada1222",
   "metadata": {},
   "outputs": [
    {
     "name": "stdout",
     "output_type": "stream",
     "text": [
      "Done!\n"
     ]
    }
   ],
   "source": [
    "epochs = 12\n",
    "img_rows, img_cols = 28, 28  # Image dimensions\n",
    "\n",
    "def load(f):\n",
    "    return np.load(f)['arr_0']\n",
    "    \n",
    "def initialize_data(train_im_file, test_im_file, train_lb_file, test_lb_file):\n",
    "    train_images = load(train_im_file)\n",
    "    test_images = load(test_im_file)\n",
    "    train_labels = load(train_lb_file)\n",
    "    test_labels = load(test_lb_file)\n",
    "    \n",
    "    if K.image_data_format() == 'channels_first':\n",
    "        train_images = train_images.reshape(train_images.shape[0], 1, img_rows, img_cols)\n",
    "        test_images = test_images.reshape(test_images.shape[0], 1, img_rows, img_cols)\n",
    "        input_shape = (1, img_rows, img_cols)\n",
    "    else:\n",
    "        train_images = train_images.reshape(train_images.shape[0], img_rows, img_cols, 1)\n",
    "        test_images = test_images.reshape(test_images.shape[0], img_rows, img_cols, 1)\n",
    "        input_shape = (img_rows, img_cols, 1)\n",
    "\n",
    "    train_images = train_images.astype('float32')\n",
    "    test_images = test_images.astype('float32')\n",
    "    train_images /= 255\n",
    "    test_images /= 255\n",
    "    print('{} train samples, {} test samples'.format(len(train_images), len(test_images)))\n",
    "    \n",
    "    return tuple([train_images, test_images, train_labels, test_labels, input_shape])\n",
    "\n",
    "# Helper to create the graphics\n",
    "def create_visuals(graph_title, model_hist, test_images, test_labels):\n",
    "    accuracy_data = model_hist.history['accuracy']\n",
    "    val_accuracy_data = model_hist.history['val_accuracy']\n",
    "\n",
    "    lower_bound = min(min(accuracy_data), min(val_accuracy_data))\n",
    "\n",
    "    plt.plot(accuracy_data, label='Train Accuracy')\n",
    "    plt.plot(val_accuracy_data, label = 'Validation Accuracy')\n",
    "\n",
    "    plt.title(graph_title)\n",
    "    plt.xlabel('Epoch')\n",
    "    plt.ylabel('Accuracy')\n",
    "    plt.ylim([lower_bound - 0.01, 1])\n",
    "    plt.legend(loc='lower right')\n",
    "\n",
    "    print(accuracy_data[-1])\n",
    "    print(val_accuracy_data[-1])\n",
    "#     test_loss, test_acc = model_hist.evaluate(test_images, test_labels, verbose=2)\n",
    "\n",
    "print(\"Done!\")"
   ]
  },
  {
   "cell_type": "markdown",
   "id": "e2ed84bd",
   "metadata": {},
   "source": [
    "## Load Data"
   ]
  },
  {
   "cell_type": "code",
   "execution_count": 3,
   "id": "e5209fcb",
   "metadata": {},
   "outputs": [
    {
     "name": "stdout",
     "output_type": "stream",
     "text": [
      "232365 train samples, 38547 test samples\n",
      "Found 70599 files belonging to 150 classes.\n",
      "Using 49420 files for training.\n",
      "Found 70599 files belonging to 150 classes.\n",
      "Using 21179 files for validation.\n",
      "Done!\n"
     ]
    }
   ],
   "source": [
    "prefix = '..\\..\\Datasets\\\\'\n",
    "datasets = {\n",
    "    \"k49_tr_i\" : prefix + 'Kuzushiji-49 - train-imgs.npz',\n",
    "    \"k49_te_i\" : prefix + 'Kuzushiji-49 - test-imgs.npz',\n",
    "    \"k49_tr_l\" : prefix + 'Kuzushiji-49 - train-labels.npz',\n",
    "    \"k49_te_l\" : prefix + 'Kuzushiji-49 - test-labels.npz',\n",
    "    \"kanji\" : prefix + 'modified_final_dataset',\n",
    "}\n",
    "\n",
    "# Load Kuzushiji-49 Data\n",
    "dataset = initialize_data(datasets[\"k49_tr_i\"], datasets[\"k49_te_i\"], datasets[\"k49_tr_l\"], datasets[\"k49_te_l\"])\n",
    "k49_train_images = dataset[0]\n",
    "k49_test_images = dataset[1]\n",
    "k49_train_labels = dataset[2]\n",
    "k49_test_labels  = dataset[3]\n",
    "k49_input_shape = dataset[4]\n",
    "\n",
    "# Load Kanji Data\n",
    "kanji_size = (28, 28)\n",
    "data_path = datasets[\"kanji\"]\n",
    "kanji_train = tf.keras.utils.image_dataset_from_directory(data_path, validation_split=0.3, seed=222,\n",
    "                            subset=\"training\", color_mode=\"grayscale\", image_size=kanji_size, batch_size=32)\n",
    "\n",
    "kanji_val = tf.keras.utils.image_dataset_from_directory(data_path, validation_split=0.3, seed=222,\n",
    "                          subset=\"validation\", color_mode=\"grayscale\", image_size=kanji_size, batch_size=32)\n",
    "\n",
    "print(\"Done!\")"
   ]
  },
  {
   "cell_type": "markdown",
   "id": "aaee31d0",
   "metadata": {},
   "source": [
    "### Rescale Kanji Data and Training Performance Optimizations"
   ]
  },
  {
   "cell_type": "code",
   "execution_count": 4,
   "id": "fc89f2b9",
   "metadata": {},
   "outputs": [
    {
     "name": "stdout",
     "output_type": "stream",
     "text": [
      "0.0 1.0\n"
     ]
    }
   ],
   "source": [
    "normalization_layer = tf.keras.layers.Rescaling(1./255)\n",
    "\n",
    "normalized_ds = kanji_train.map(lambda x, y: (normalization_layer(x), y))\n",
    "image_batch, labels_batch = next(iter(normalized_ds))\n",
    "first_image = image_batch[0]\n",
    "\n",
    "print(np.min(first_image), np.max(first_image))    # Pixel values are now in `[0,1]`"
   ]
  },
  {
   "cell_type": "code",
   "execution_count": 5,
   "id": "a499f30c",
   "metadata": {},
   "outputs": [
    {
     "name": "stdout",
     "output_type": "stream",
     "text": [
      "Done!\n"
     ]
    }
   ],
   "source": [
    "AUTOTUNE = tf.data.AUTOTUNE\n",
    "\n",
    "kanji_train = kanji_train.cache().prefetch(buffer_size=AUTOTUNE)\n",
    "kanji_val = kanji_val.cache().prefetch(buffer_size=AUTOTUNE)\n",
    "print(\"Done!\")"
   ]
  },
  {
   "cell_type": "markdown",
   "id": "859b8393",
   "metadata": {},
   "source": [
    "## K49 Base Model and Results for Image Size (28, 28)"
   ]
  },
  {
   "cell_type": "code",
   "execution_count": 8,
   "id": "c7cbcb21",
   "metadata": {},
   "outputs": [
    {
     "name": "stdout",
     "output_type": "stream",
     "text": [
      "Model: \"sequential\"\n",
      "_________________________________________________________________\n",
      " Layer (type)                Output Shape              Param #   \n",
      "=================================================================\n",
      " conv2d (Conv2D)             (None, 26, 26, 32)        320       \n",
      "                                                                 \n",
      " conv2d_1 (Conv2D)           (None, 24, 24, 64)        18496     \n",
      "                                                                 \n",
      " dropout (Dropout)           (None, 24, 24, 64)        0         \n",
      "                                                                 \n",
      " average_pooling2d (AverageP  (None, 12, 12, 64)       0         \n",
      " ooling2D)                                                       \n",
      "                                                                 \n",
      " conv2d_2 (Conv2D)           (None, 10, 10, 48)        27696     \n",
      "                                                                 \n",
      " flatten (Flatten)           (None, 4800)              0         \n",
      "                                                                 \n",
      " dense (Dense)               (None, 49)                235249    \n",
      "                                                                 \n",
      " dense_1 (Dense)             (None, 49)                2450      \n",
      "                                                                 \n",
      "=================================================================\n",
      "Total params: 284,211\n",
      "Trainable params: 284,211\n",
      "Non-trainable params: 0\n",
      "_________________________________________________________________\n"
     ]
    }
   ],
   "source": [
    "k49_classes = 49\n",
    "\n",
    "k49_2 = Sequential()\n",
    "k49_2.add(Conv2D(32, (3, 3), activation='relu', input_shape=k49_input_shape))\n",
    "k49_2.add(Conv2D(64, (3, 3), activation='relu', input_shape=k49_input_shape))\n",
    "k49_2.add(Dropout(0.25))\n",
    "k49_2.add(AveragePooling2D(pool_size=(2, 2), strides=None, padding=\"valid\"))\n",
    "k49_2.add(Conv2D(48, (3, 3), activation='relu', input_shape=k49_input_shape))\n",
    "k49_2.add(Flatten())\n",
    "k49_2.add(Dense(k49_classes, activation='relu'))\n",
    "k49_2.add(Dense(k49_classes))\n",
    "\n",
    "k49_2.compile(loss=tf.keras.losses.SparseCategoricalCrossentropy(from_logits=True),\n",
    "              optimizer=\"adam\",\n",
    "              metrics=[tf.keras.metrics.SparseCategoricalCrossentropy(), 'accuracy'])\n",
    "\n",
    "k49_2.summary()"
   ]
  },
  {
   "cell_type": "code",
   "execution_count": 9,
   "id": "d1562187",
   "metadata": {},
   "outputs": [
    {
     "name": "stdout",
     "output_type": "stream",
     "text": [
      "Epoch 1/12\n",
      "1816/1816 [==============================] - 640s 351ms/step - loss: 0.6065 - sparse_categorical_crossentropy: 2.8732 - accuracy: 0.8415 - val_loss: 0.5832 - val_sparse_categorical_crossentropy: 2.7669 - val_accuracy: 0.8490\n",
      "Epoch 2/12\n",
      "1816/1816 [==============================] - 636s 350ms/step - loss: 0.2442 - sparse_categorical_crossentropy: 2.5433 - accuracy: 0.9329 - val_loss: 0.4318 - val_sparse_categorical_crossentropy: 2.6203 - val_accuracy: 0.8908\n",
      "Epoch 3/12\n",
      "1816/1816 [==============================] - 626s 345ms/step - loss: 0.1763 - sparse_categorical_crossentropy: 2.4544 - accuracy: 0.9510 - val_loss: 0.3948 - val_sparse_categorical_crossentropy: 2.5290 - val_accuracy: 0.8997\n",
      "Epoch 4/12\n",
      "1816/1816 [==============================] - 685s 377ms/step - loss: 0.1392 - sparse_categorical_crossentropy: 2.3800 - accuracy: 0.9601 - val_loss: 0.4055 - val_sparse_categorical_crossentropy: 2.5016 - val_accuracy: 0.9014\n",
      "Epoch 5/12\n",
      "1816/1816 [==============================] - 600s 330ms/step - loss: 0.1125 - sparse_categorical_crossentropy: 2.3141 - accuracy: 0.9673 - val_loss: 0.3801 - val_sparse_categorical_crossentropy: 2.4239 - val_accuracy: 0.9097\n",
      "Epoch 6/12\n",
      "1816/1816 [==============================] - 586s 322ms/step - loss: 0.0950 - sparse_categorical_crossentropy: 2.2717 - accuracy: 0.9717 - val_loss: 0.4065 - val_sparse_categorical_crossentropy: 2.4084 - val_accuracy: 0.9100\n",
      "Epoch 7/12\n",
      "1816/1816 [==============================] - 586s 323ms/step - loss: 0.0808 - sparse_categorical_crossentropy: 2.2232 - accuracy: 0.9754 - val_loss: 0.4148 - val_sparse_categorical_crossentropy: 2.3628 - val_accuracy: 0.9118\n",
      "Epoch 8/12\n",
      "1816/1816 [==============================] - 578s 319ms/step - loss: 0.0703 - sparse_categorical_crossentropy: 2.1845 - accuracy: 0.9779 - val_loss: 0.4258 - val_sparse_categorical_crossentropy: 2.3325 - val_accuracy: 0.9127\n"
     ]
    }
   ],
   "source": [
    "callback = tf.keras.callbacks.EarlyStopping(monitor='val_loss', patience=3)\n",
    "\n",
    "k49_2_history = k49_2.fit(k49_train_images, k49_train_labels, batch_size=128, epochs=epochs,\n",
    "              callbacks=callback, verbose=1, validation_data=(k49_test_images, k49_test_labels))\n",
    "\n",
    "# k49_2.save('k49_2_model')"
   ]
  },
  {
   "cell_type": "code",
   "execution_count": 11,
   "id": "112cdbaa",
   "metadata": {},
   "outputs": [
    {
     "name": "stdout",
     "output_type": "stream",
     "text": [
      "0.9778538346290588\n",
      "0.9126780033111572\n"
     ]
    },
    {
     "data": {
      "image/png": "[encoded data removed]",
      "text/plain": [
       "<Figure size 640x480 with 1 Axes>"
      ]
     },
     "metadata": {},
     "output_type": "display_data"
    }
   ],
   "source": [
    "create_visuals(\"Classification Results of Kuzushiji-49 Base Model\", k49_2_history, k49_test_images, k49_train_labels)"
   ]
  },
  {
   "cell_type": "markdown",
   "id": "79cdbc4e",
   "metadata": {},
   "source": [
    "## Transfer Learning"
   ]
  },
  {
   "cell_type": "code",
   "execution_count": 49,
   "id": "3ea95f70",
   "metadata": {},
   "outputs": [],
   "source": [
    "# The original Kanji dataset contains images that are 64x64. Since we are transferring the learning\n",
    "#   from models that trained on 28x28 images, the Kanji images must be downscaled accordingly.\n",
    "import os\n",
    "import random\n",
    "from skimage.transform import rescale\n",
    "from skimage import io\n",
    "\n",
    "# Attempt to load a saved model\n",
    "def attempt_load(name):\n",
    "    if os.path.isdir(name):\n",
    "        return models.load_model(name)\n",
    "    else:\n",
    "        print(f\"Invalid model name {name}\")\n",
    "\n",
    "# Loading a base model requires you pop all dimensionality flattening layers\n",
    "def load_base_model(filename):\n",
    "    bm = attempt_load(filename)\n",
    "    bm.pop()\n",
    "    bm.pop()\n",
    "    bm.pop()\n",
    "    bm.trainable = False\n",
    "    return bm\n",
    "        \n",
    "# Returns a list of the names of the copied directories \n",
    "def replicate_folder_structure(original_data, write_path):\n",
    "    for root, directory, files in os.walk(original_data):\n",
    "        for direc in directory:\n",
    "            os.mkdir(write_path + '\\\\' + direc)\n",
    "\n",
    "# Scale the image to the desired size\n",
    "def rescale_image(load_path, save_path, image_scale):\n",
    "    kanji_char = io.imread(load_path)\n",
    "    rescaled_image = rescale(kanji_char, image_scale, anti_aliasing=True, clip=True)\n",
    "    io.imsave(save_path, rescaled_image)"
   ]
  },
  {
   "cell_type": "markdown",
   "id": "1d736ebe",
   "metadata": {},
   "source": [
    "### Prepare the Base Model"
   ]
  },
  {
   "cell_type": "code",
   "execution_count": 15,
   "id": "2dc92caa",
   "metadata": {},
   "outputs": [
    {
     "name": "stdout",
     "output_type": "stream",
     "text": [
      "Model: \"sequential_2\"\n",
      "_________________________________________________________________\n",
      " Layer (type)                Output Shape              Param #   \n",
      "=================================================================\n",
      " conv2d_5 (Conv2D)           (None, 26, 26, 32)        320       \n",
      "                                                                 \n",
      " conv2d_6 (Conv2D)           (None, 24, 24, 64)        18496     \n",
      "                                                                 \n",
      " dropout_2 (Dropout)         (None, 24, 24, 64)        0         \n",
      "                                                                 \n",
      " average_pooling2d_2 (Averag  (None, 12, 12, 64)       0         \n",
      " ePooling2D)                                                     \n",
      "                                                                 \n",
      " conv2d_7 (Conv2D)           (None, 10, 10, 48)        27696     \n",
      "                                                                 \n",
      "=================================================================\n",
      "Total params: 46,512\n",
      "Trainable params: 0\n",
      "Non-trainable params: 46,512\n",
      "_________________________________________________________________\n"
     ]
    }
   ],
   "source": [
    "tl_base = load_base_model(\"k49_2_model\")\n",
    "\n",
    "tl_base.summary()"
   ]
  },
  {
   "cell_type": "markdown",
   "id": "170d3c75",
   "metadata": {},
   "source": [
    "## Create the Transfer Learning Model"
   ]
  },
  {
   "cell_type": "code",
   "execution_count": 18,
   "id": "13b66457",
   "metadata": {
    "scrolled": true
   },
   "outputs": [
    {
     "name": "stdout",
     "output_type": "stream",
     "text": [
      "Model: \"sequential_2\"\n",
      "_________________________________________________________________\n",
      " Layer (type)                Output Shape              Param #   \n",
      "=================================================================\n",
      " sequential_2 (Sequential)   (None, 10, 10, 48)        46512     \n",
      "                                                                 \n",
      " conv2d_5 (Conv2D)           (None, 8, 8, 48)          20784     \n",
      "                                                                 \n",
      " average_pooling2d_2 (Averag  (None, 4, 4, 48)         0         \n",
      " ePooling2D)                                                     \n",
      "                                                                 \n",
      " dropout_2 (Dropout)         (None, 4, 4, 48)          0         \n",
      "                                                                 \n",
      " conv2d_6 (Conv2D)           (None, 2, 2, 32)          13856     \n",
      "                                                                 \n",
      " flatten_2 (Flatten)         (None, 128)               0         \n",
      "                                                                 \n",
      " dense_4 (Dense)             (None, 150)               19350     \n",
      "                                                                 \n",
      " dense_5 (Dense)             (None, 150)               22650     \n",
      "                                                                 \n",
      "=================================================================\n",
      "Total params: 123,152\n",
      "Trainable params: 76,640\n",
      "Non-trainable params: 46,512\n",
      "_________________________________________________________________\n"
     ]
    }
   ],
   "source": [
    "in_shape = (28, 28, 1)\n",
    "\n",
    "tl_model = Sequential()\n",
    "tl_model.add(tl_base)                              # Base..\n",
    "tl_model.add(Conv2D(48, (3, 3), activation='sigmoid', input_shape=in_shape))\n",
    "tl_model.add(AveragePooling2D(pool_size=(2, 2)))\n",
    "tl_model.add(Dropout(0.2))\n",
    "tl_model.add(Conv2D(32, (3, 3), activation='sigmoid'))\n",
    "tl_model.add(Flatten())\n",
    "tl_model.add(Dense(150, activation='relu'))\n",
    "tl_model.add(Dense(150))\n",
    "\n",
    "tl_model.summary()"
   ]
  },
  {
   "cell_type": "markdown",
   "id": "ec120acf",
   "metadata": {},
   "source": [
    "## Train the Transfer Learning Model"
   ]
  },
  {
   "cell_type": "code",
   "execution_count": 19,
   "id": "c10c183a",
   "metadata": {},
   "outputs": [
    {
     "name": "stdout",
     "output_type": "stream",
     "text": [
      "Epoch 1/12\n",
      "1545/1545 [==============================] - 115s 73ms/step - loss: 2.0925 - sparse_categorical_crossentropy: 4.9825 - accuracy: 0.5289 - val_loss: 0.9316 - val_sparse_categorical_crossentropy: 2.3766 - val_accuracy: 0.7605\n",
      "Epoch 2/12\n",
      "1545/1545 [==============================] - 82s 53ms/step - loss: 0.8268 - sparse_categorical_crossentropy: 2.2064 - accuracy: 0.7877 - val_loss: 0.6244 - val_sparse_categorical_crossentropy: 1.7371 - val_accuracy: 0.8375\n",
      "Epoch 3/12\n",
      "1545/1545 [==============================] - 81s 53ms/step - loss: 0.6267 - sparse_categorical_crossentropy: 1.7654 - accuracy: 0.8348 - val_loss: 0.5064 - val_sparse_categorical_crossentropy: 1.4735 - val_accuracy: 0.8671\n",
      "Epoch 4/12\n",
      "1545/1545 [==============================] - 78s 51ms/step - loss: 0.5192 - sparse_categorical_crossentropy: 1.5557 - accuracy: 0.8642 - val_loss: 0.4416 - val_sparse_categorical_crossentropy: 1.3957 - val_accuracy: 0.8832\n",
      "Epoch 5/12\n",
      "1545/1545 [==============================] - 78s 50ms/step - loss: 0.4591 - sparse_categorical_crossentropy: 1.4265 - accuracy: 0.8780 - val_loss: 0.3949 - val_sparse_categorical_crossentropy: 1.3479 - val_accuracy: 0.8937\n",
      "Epoch 6/12\n",
      "1545/1545 [==============================] - 79s 51ms/step - loss: 0.4131 - sparse_categorical_crossentropy: 1.3567 - accuracy: 0.8901 - val_loss: 0.3693 - val_sparse_categorical_crossentropy: 1.3134 - val_accuracy: 0.9012\n",
      "Epoch 7/12\n",
      "1545/1545 [==============================] - 79s 51ms/step - loss: 0.3823 - sparse_categorical_crossentropy: 1.3225 - accuracy: 0.8981 - val_loss: 0.3455 - val_sparse_categorical_crossentropy: 1.3211 - val_accuracy: 0.9086\n",
      "Epoch 8/12\n",
      "1545/1545 [==============================] - 78s 51ms/step - loss: 0.3490 - sparse_categorical_crossentropy: 1.2810 - accuracy: 0.9059 - val_loss: 0.3258 - val_sparse_categorical_crossentropy: 1.2968 - val_accuracy: 0.9149\n",
      "Epoch 9/12\n",
      "1545/1545 [==============================] - 79s 51ms/step - loss: 0.3274 - sparse_categorical_crossentropy: 1.2275 - accuracy: 0.9106 - val_loss: 0.3128 - val_sparse_categorical_crossentropy: 1.2691 - val_accuracy: 0.9177\n",
      "Epoch 10/12\n",
      "1545/1545 [==============================] - 79s 51ms/step - loss: 0.3112 - sparse_categorical_crossentropy: 1.2238 - accuracy: 0.9146 - val_loss: 0.3068 - val_sparse_categorical_crossentropy: 1.3067 - val_accuracy: 0.9187\n",
      "Epoch 11/12\n",
      "1545/1545 [==============================] - 81s 53ms/step - loss: 0.2907 - sparse_categorical_crossentropy: 1.1785 - accuracy: 0.9203 - val_loss: 0.2920 - val_sparse_categorical_crossentropy: 1.2187 - val_accuracy: 0.9232\n",
      "Epoch 12/12\n",
      "1545/1545 [==============================] - 97s 63ms/step - loss: 0.2755 - sparse_categorical_crossentropy: 1.1496 - accuracy: 0.9233 - val_loss: 0.2895 - val_sparse_categorical_crossentropy: 1.2696 - val_accuracy: 0.9241\n"
     ]
    }
   ],
   "source": [
    "callback = tf.keras.callbacks.EarlyStopping(monitor='val_loss', patience=3)\n",
    "\n",
    "tl_model.compile(loss=tf.keras.losses.SparseCategoricalCrossentropy(from_logits=True),\n",
    "                  optimizer=\"adam\",\n",
    "                  metrics=[tf.keras.metrics.SparseCategoricalCrossentropy(), 'accuracy'])\n",
    "\n",
    "tl_model_history = tl_model.fit(kanji_train, batch_size=128, epochs=epochs,\n",
    "              callbacks=callback, verbose=1, validation_data=kanji_val)\n",
    "\n",
    "# tl_model.save('tl_model.h5', save_format='h5')"
   ]
  },
  {
   "cell_type": "code",
   "execution_count": 20,
   "id": "08197a1b",
   "metadata": {},
   "outputs": [
    {
     "name": "stdout",
     "output_type": "stream",
     "text": [
      "0.9232901930809021\n",
      "0.924075722694397\n"
     ]
    },
    {
     "data": {
      "image/png": "[encoded data removed]",
      "text/plain": [
       "<Figure size 640x480 with 1 Axes>"
      ]
     },
     "metadata": {},
     "output_type": "display_data"
    }
   ],
   "source": [
    "create_visuals(\"Transfer Kuzushiji-49 Learning to Kanji\", tl_model_history, 1, 1)"
   ]
  },
  {
   "cell_type": "markdown",
   "id": "d429eea8",
   "metadata": {},
   "source": [
    "## Run Optuna Optimization"
   ]
  },
  {
   "cell_type": "code",
   "execution_count": null,
   "id": "82a38087",
   "metadata": {
    "scrolled": false
   },
   "outputs": [],
   "source": [
    "def objective(trial):\n",
    "    # The following is where you suggest your search space per trial (integer, categorical and floating point values)\n",
    "    l1_filters = trial.suggest_int('first_layer_kernel', 48, 64)\n",
    "    l1_activation = trial.suggest_categorical('first_layer_activation', ['relu', 'sigmoid', 'tanh'])\n",
    "    l2_filters = trial.suggest_int('second_layer_kernel', 28, 44)\n",
    "    l2_activation = trial.suggest_categorical('second_layer_activation', ['relu', 'sigmoid', 'tanh'])\n",
    "    average_pooling_size = trial.suggest_int('average_pooling_size', 2, 2)\n",
    "    dense_layer_size = trial.suggest_int('dense_layer_size', 140, 180)\n",
    "    dense_layer_activation = trial.suggest_categorical('dense_layer_activation', ['relu', 'sigmoid', 'tanh'])\n",
    "    \n",
    "    # Load the frozen base model\n",
    "    base_model = load_base_model('k49_2_model')\n",
    "    mod_in_shape = (28, 28, 1)\n",
    "    \n",
    "    model = Sequential()\n",
    "    model.add(base_model)\n",
    "    model.add(Conv2D(l1_filters, (3, 3), activation=l1_activation, input_shape=mod_in_shape))\n",
    "    model.add(AveragePooling2D((average_pooling_size, average_pooling_size)))\n",
    "    model.add(Dropout(0.2))\n",
    "    model.add(Conv2D(l2_filters, (3, 3), activation=l2_activation, input_shape=mod_in_shape))\n",
    "    model.add(Flatten())\n",
    "    model.add(Dense(dense_layer_size, activation=dense_layer_activation))\n",
    "    model.add(Dense(150))\n",
    "\n",
    "    model.compile(optimizer='adam',\n",
    "              loss=tf.keras.losses.SparseCategoricalCrossentropy(from_logits=True),\n",
    "              metrics=[tf.keras.metrics.SparseCategoricalCrossentropy(), 'accuracy'])\n",
    "\n",
    "#     print(model.summary())\n",
    "\n",
    "    callback = tf.keras.callbacks.EarlyStopping(monitor='accuracy', patience=3)\n",
    "\n",
    "    history = model.fit(kanji_train, epochs=15,\n",
    "                    callbacks=callback, validation_data=kanji_val)\n",
    "\n",
    "    # Following line is very important as this is the metric that optuna uses to optimize over\n",
    "    return history.history['val_accuracy'][-1]\n",
    "\n",
    "# Run a study\n",
    "study = optuna.create_study(direction='maximize', study_name=\"Study1\")\n",
    "study.optimize(objective, n_trials=20)"
   ]
  },
  {
   "cell_type": "markdown",
   "id": "26110138",
   "metadata": {},
   "source": [
    "## Find the Best Hyperparameters for the Optuna Model"
   ]
  },
  {
   "cell_type": "code",
   "execution_count": 24,
   "id": "28ed7a48",
   "metadata": {},
   "outputs": [
    {
     "name": "stdout",
     "output_type": "stream",
     "text": [
      "Best trial info:\n",
      "FrozenTrial(number=14, values=[0.9387128949165344], datetime_start=datetime.datetime(2022, 11, 29, 11, 26, 48, 285783), datetime_complete=datetime.datetime(2022, 11, 29, 11, 40, 2, 11045), params={'first_layer_kernel': 54, 'first_layer_activation': 'sigmoid', 'second_layer_kernel': 40, 'second_layer_activation': 'sigmoid', 'average_pooling_size': 2, 'dense_layer_size': 172, 'dense_layer_activation': 'tanh'}, distributions={'first_layer_kernel': IntDistribution(high=64, log=False, low=48, step=1), 'first_layer_activation': CategoricalDistribution(choices=('relu', 'sigmoid', 'tanh')), 'second_layer_kernel': IntDistribution(high=44, log=False, low=28, step=1), 'second_layer_activation': CategoricalDistribution(choices=('relu', 'sigmoid', 'tanh')), 'average_pooling_size': IntDistribution(high=2, log=False, low=2, step=1), 'dense_layer_size': IntDistribution(high=180, log=False, low=140, step=1), 'dense_layer_activation': CategoricalDistribution(choices=('relu', 'sigmoid', 'tanh'))}, user_attrs={}, system_attrs={}, intermediate_values={}, trial_id=14, state=TrialState.COMPLETE, value=None)\n",
      "\n",
      "Param: first_layer_kernel\tValue: 54\n",
      "Param: first_layer_activation\tValue: sigmoid\n",
      "Param: second_layer_kernel\tValue: 40\n",
      "Param: second_layer_activation\tValue: sigmoid\n",
      "Param: average_pooling_size\tValue: 2\n",
      "Param: dense_layer_size\tValue: 172\n",
      "Param: dense_layer_activation\tValue: tanh\n"
     ]
    }
   ],
   "source": [
    "print(f'Best trial info:\\n{study.best_trial}\\n')\n",
    "for param, value in study.best_params.items():\n",
    "    print(f'Param: {param}\\tValue: {value}')"
   ]
  },
  {
   "cell_type": "markdown",
   "id": "815d101b",
   "metadata": {},
   "source": [
    "## Build the Optuna Model using Optimized Hyperparameters"
   ]
  },
  {
   "cell_type": "code",
   "execution_count": 25,
   "id": "0791487e",
   "metadata": {},
   "outputs": [
    {
     "name": "stdout",
     "output_type": "stream",
     "text": [
      "Model: \"sequential_25\"\n",
      "_________________________________________________________________\n",
      " Layer (type)                Output Shape              Param #   \n",
      "=================================================================\n",
      " sequential_2 (Sequential)   (None, 10, 10, 48)        46512     \n",
      "                                                                 \n",
      " conv2d_51 (Conv2D)          (None, 8, 8, 54)          23382     \n",
      "                                                                 \n",
      " average_pooling2d_25 (Avera  (None, 4, 4, 54)         0         \n",
      " gePooling2D)                                                    \n",
      "                                                                 \n",
      " dropout_25 (Dropout)        (None, 4, 4, 54)          0         \n",
      "                                                                 \n",
      " conv2d_52 (Conv2D)          (None, 2, 2, 40)          19480     \n",
      "                                                                 \n",
      " flatten_25 (Flatten)        (None, 160)               0         \n",
      "                                                                 \n",
      " dense_50 (Dense)            (None, 172)               27692     \n",
      "                                                                 \n",
      " dense_51 (Dense)            (None, 150)               25950     \n",
      "                                                                 \n",
      "=================================================================\n",
      "Total params: 143,016\n",
      "Trainable params: 96,504\n",
      "Non-trainable params: 46,512\n",
      "_________________________________________________________________\n"
     ]
    }
   ],
   "source": [
    "kshape = (28, 28, 1)\n",
    "\n",
    "final_optuna_model = Sequential()\n",
    "final_optuna_model.add(tl_base)\n",
    "final_optuna_model.add(Conv2D(54, (3, 3), activation='sigmoid', input_shape=kshape))\n",
    "final_optuna_model.add(AveragePooling2D((2, 2)))\n",
    "final_optuna_model.add(Dropout(0.2))\n",
    "final_optuna_model.add(Conv2D(40, (3, 3), activation='sigmoid', input_shape=kshape))\n",
    "final_optuna_model.add(Flatten())\n",
    "final_optuna_model.add(Dense(172, activation='tanh'))\n",
    "final_optuna_model.add(Dense(150))\n",
    "\n",
    "final_optuna_model.compile(optimizer='adam',\n",
    "              loss=tf.keras.losses.SparseCategoricalCrossentropy(from_logits=True),\n",
    "              metrics=[tf.keras.metrics.SparseCategoricalCrossentropy(), 'accuracy'])\n",
    "\n",
    "final_optuna_model.summary()"
   ]
  },
  {
   "cell_type": "markdown",
   "id": "c1ce9640",
   "metadata": {},
   "source": [
    "## Run the Optuna Model"
   ]
  },
  {
   "cell_type": "code",
   "execution_count": 27,
   "id": "278ef508",
   "metadata": {},
   "outputs": [
    {
     "name": "stdout",
     "output_type": "stream",
     "text": [
      "Epoch 1/14\n",
      "1545/1545 [==============================] - 93s 59ms/step - loss: 1.8194 - sparse_categorical_crossentropy: 4.7487 - accuracy: 0.6056 - val_loss: 0.7156 - val_sparse_categorical_crossentropy: 4.1314 - val_accuracy: 0.8307\n",
      "Epoch 2/14\n",
      "1545/1545 [==============================] - 104s 67ms/step - loss: 0.6314 - sparse_categorical_crossentropy: 4.1369 - accuracy: 0.8443 - val_loss: 0.4607 - val_sparse_categorical_crossentropy: 4.1359 - val_accuracy: 0.8839\n",
      "Epoch 3/14\n",
      "1545/1545 [==============================] - 102s 66ms/step - loss: 0.4718 - sparse_categorical_crossentropy: 4.1355 - accuracy: 0.8801 - val_loss: 0.3847 - val_sparse_categorical_crossentropy: 4.1453 - val_accuracy: 0.9010\n",
      "Epoch 4/14\n",
      "1545/1545 [==============================] - 102s 66ms/step - loss: 0.3989 - sparse_categorical_crossentropy: 4.1370 - accuracy: 0.8973 - val_loss: 0.3346 - val_sparse_categorical_crossentropy: 4.1475 - val_accuracy: 0.9136\n",
      "Epoch 5/14\n",
      "1545/1545 [==============================] - 104s 67ms/step - loss: 0.3533 - sparse_categorical_crossentropy: 4.1375 - accuracy: 0.9066 - val_loss: 0.3150 - val_sparse_categorical_crossentropy: 4.1495 - val_accuracy: 0.9180\n",
      "Epoch 6/14\n",
      "1545/1545 [==============================] - 104s 68ms/step - loss: 0.3136 - sparse_categorical_crossentropy: 4.1374 - accuracy: 0.9177 - val_loss: 0.2898 - val_sparse_categorical_crossentropy: 4.1450 - val_accuracy: 0.9241\n",
      "Epoch 7/14\n",
      "1545/1545 [==============================] - 103s 66ms/step - loss: 0.2842 - sparse_categorical_crossentropy: 4.1340 - accuracy: 0.9244 - val_loss: 0.2817 - val_sparse_categorical_crossentropy: 4.1409 - val_accuracy: 0.9264\n",
      "Epoch 8/14\n",
      "1545/1545 [==============================] - 104s 68ms/step - loss: 0.2613 - sparse_categorical_crossentropy: 4.1347 - accuracy: 0.9304 - val_loss: 0.2612 - val_sparse_categorical_crossentropy: 4.1432 - val_accuracy: 0.9313\n",
      "Epoch 9/14\n",
      "1545/1545 [==============================] - 103s 67ms/step - loss: 0.2501 - sparse_categorical_crossentropy: 4.1341 - accuracy: 0.9321 - val_loss: 0.2632 - val_sparse_categorical_crossentropy: 4.1504 - val_accuracy: 0.9315\n",
      "Epoch 10/14\n",
      "1545/1545 [==============================] - 103s 67ms/step - loss: 0.2313 - sparse_categorical_crossentropy: 4.1369 - accuracy: 0.9354 - val_loss: 0.2710 - val_sparse_categorical_crossentropy: 4.1479 - val_accuracy: 0.9280\n",
      "Epoch 11/14\n",
      "1545/1545 [==============================] - 103s 67ms/step - loss: 0.2217 - sparse_categorical_crossentropy: 4.1336 - accuracy: 0.9398 - val_loss: 0.2462 - val_sparse_categorical_crossentropy: 4.1536 - val_accuracy: 0.9355\n",
      "Epoch 12/14\n",
      "1545/1545 [==============================] - 102s 66ms/step - loss: 0.2088 - sparse_categorical_crossentropy: 4.1348 - accuracy: 0.9415 - val_loss: 0.2486 - val_sparse_categorical_crossentropy: 4.1469 - val_accuracy: 0.9363\n",
      "Epoch 13/14\n",
      "1545/1545 [==============================] - 102s 66ms/step - loss: 0.1984 - sparse_categorical_crossentropy: 4.1314 - accuracy: 0.9447 - val_loss: 0.2459 - val_sparse_categorical_crossentropy: 4.1446 - val_accuracy: 0.9347\n",
      "Epoch 14/14\n",
      "1545/1545 [==============================] - 103s 66ms/step - loss: 0.1885 - sparse_categorical_crossentropy: 4.1335 - accuracy: 0.9467 - val_loss: 0.2393 - val_sparse_categorical_crossentropy: 4.1496 - val_accuracy: 0.9368\n"
     ]
    }
   ],
   "source": [
    "callback = tf.keras.callbacks.EarlyStopping(monitor='accuracy', patience=3)\n",
    "\n",
    "best_optuna_run_history = final_optuna_model.fit(kanji_train, epochs=14,\n",
    "                            callbacks=callback, validation_data=kanji_val)\n",
    "# final_optuna_model.save('best_optuna_run.h5', save_format='h5')"
   ]
  },
  {
   "cell_type": "code",
   "execution_count": 28,
   "id": "d949f14f",
   "metadata": {},
   "outputs": [],
   "source": [
    "final_optuna_model.save('best_optuna_run.h5', save_format='h5')"
   ]
  },
  {
   "cell_type": "markdown",
   "id": "9ab065d9",
   "metadata": {},
   "source": [
    "# Transfer Learning with Kanji of Size (64, 64)"
   ]
  },
  {
   "cell_type": "markdown",
   "id": "d7ddb4a9",
   "metadata": {},
   "source": [
    "### Convert the .npz to a Directory of Images"
   ]
  },
  {
   "cell_type": "code",
   "execution_count": 13,
   "id": "4a5ddde2",
   "metadata": {},
   "outputs": [],
   "source": [
    "import os\n",
    "from skimage import io, img_as_uint\n",
    "\n",
    "# A .npz file is a numpy compression file. All the images are currently loaded into memory.\n",
    "# This method saves all those images to a directory\n",
    "def convert_npz_to_images(file_path, npz_file):\n",
    "    count = 0\n",
    "    for img in npz_file:\n",
    "        # Generate file path + file name\n",
    "        count += 1\n",
    "        img_name = f\"k49-img-{count}.png\"\n",
    "        write_path = file_path + img_name\n",
    "\n",
    "        # Convert image to supress warnings\n",
    "        cur_img = img_as_uint(img)\n",
    "\n",
    "        # Save image to file path\n",
    "        io.imsave(write_path, cur_img)"
   ]
  },
  {
   "cell_type": "code",
   "execution_count": 12,
   "id": "6e4be7b5",
   "metadata": {
    "scrolled": true
   },
   "outputs": [
    {
     "name": "stderr",
     "output_type": "stream",
     "text": [
      "C:\\Users\\LifeH\\AppData\\Local\\Temp\\ipykernel_6676\\3562458479.py:13: UserWarning: ..\\..\\Datasets\\k49_test_imgs\\k49-img-14954.png is a low contrast image\n",
      "  io.imsave(write_path, cur_img)\n"
     ]
    },
    {
     "name": "stdout",
     "output_type": "stream",
     "text": [
      "Done!\n"
     ]
    }
   ],
   "source": [
    "# Convert the train.npz and test.npz files through the converter\n",
    "\n",
    "# train_filepath = '..\\..\\Datasets\\\\k49_train_imgs\\\\'\n",
    "# test_filepath = '..\\..\\Datasets\\\\k49_test_imgs\\\\'\n",
    "\n",
    "# convert_npz_to_images(train_filepath, k49_train_images)\n",
    "# convert_npz_to_images(test_filepath, k49_test_images)\n",
    "\n",
    "# print(\"Done!\")"
   ]
  },
  {
   "cell_type": "markdown",
   "id": "8a441489",
   "metadata": {},
   "source": [
    "## Place Images in their Respective Class Directories"
   ]
  },
  {
   "cell_type": "code",
   "execution_count": null,
   "id": "356649ed",
   "metadata": {},
   "outputs": [],
   "source": [
    "# ONLY UNCOMMENT THIS CELL IF:\n",
    "# You need to convert a flattened directory of K49 images to a directory where all images are in folders\n",
    "#   of their correct classes\n",
    "\n",
    "# total_images = len(k49_train_labels)\n",
    "\n",
    "# for i in range(total_images):\n",
    "#     cur_label = k49_train_labels[i]\n",
    "#     cur_image = k49_train_images[i]\n",
    "#     cur_image = img_as_uint(cur_image)\n",
    "    \n",
    "#     file_name = f\"K49-image-{i}\"\n",
    "#     save_path = \"..\\..\\Datasets\\\\k49_train_imgs\\\\\" + str(cur_label) + \"\\\\\" + file_name + \".png\"\n",
    "    \n",
    "#     io.imsave(save_path, cur_image)\n",
    "\n",
    "# print(\"Done!\")"
   ]
  },
  {
   "cell_type": "code",
   "execution_count": null,
   "id": "2df4c919",
   "metadata": {},
   "outputs": [],
   "source": [
    "# ONLY UNCOMMENT THIS CELL IF:\n",
    "# You need to convert a flattened directory of K49 images to a directory where all images are in folders\n",
    "#   of their correct classes\n",
    "\n",
    "# total_images = len(k49_test_labels)\n",
    "\n",
    "# for i in range(total_images):\n",
    "#     cur_label = k49_test_labels[i]\n",
    "#     cur_image = k49_test_images[i]\n",
    "#     cur_image = img_as_uint(cur_image)\n",
    "    \n",
    "#     file_name = f\"K49-image-{i}\"\n",
    "#     save_path = \"..\\..\\Datasets\\\\k49_test_imgs\\\\\" + str(cur_label) + \"\\\\\" + file_name + \".png\"\n",
    "    \n",
    "#     io.imsave(save_path, cur_image)\n",
    "\n",
    "# print(\"Done!\")"
   ]
  },
  {
   "cell_type": "markdown",
   "id": "68565d77",
   "metadata": {},
   "source": [
    "## Load the K49 Images"
   ]
  },
  {
   "cell_type": "code",
   "execution_count": 45,
   "id": "b890db70",
   "metadata": {},
   "outputs": [
    {
     "name": "stdout",
     "output_type": "stream",
     "text": [
      "Found 232365 files belonging to 49 classes.\n",
      "Using 162656 files for training.\n",
      "Done loading train!\n",
      "Found 232365 files belonging to 49 classes.\n",
      "Using 69709 files for validation.\n",
      "Done!\n"
     ]
    }
   ],
   "source": [
    "# Load new K49 Data\n",
    "k49_size = (64, 64)\n",
    "data_path = '..\\..\\Datasets\\\\k49_train_imgs'\n",
    "\n",
    "# The image_dataset_from_directory() method loads images using a default interpolation method of bilinear.\n",
    "# Other interpolation methods include bicubic, gaussian, nearest, etc.\n",
    "mod_k49_train = tf.keras.utils.image_dataset_from_directory(data_path, validation_split=0.3, seed=222,\n",
    "                            subset=\"training\", color_mode=\"grayscale\", image_size=k49_size, batch_size=32)\n",
    "print(\"Done loading train!\")\n",
    "mod_k49_val = tf.keras.utils.image_dataset_from_directory(data_path, validation_split=0.3, seed=222,\n",
    "                          subset=\"validation\", color_mode=\"grayscale\", image_size=k49_size, batch_size=32)\n",
    "\n",
    "print(\"Done!\")"
   ]
  },
  {
   "cell_type": "markdown",
   "id": "3cb3727b",
   "metadata": {},
   "source": [
    "# Create New Transfer Learning Model"
   ]
  },
  {
   "cell_type": "markdown",
   "id": "3fed8e63",
   "metadata": {},
   "source": [
    "## Create the New Base"
   ]
  },
  {
   "cell_type": "code",
   "execution_count": 46,
   "id": "9f3ec971",
   "metadata": {},
   "outputs": [
    {
     "name": "stdout",
     "output_type": "stream",
     "text": [
      "Model: \"sequential_2\"\n",
      "_________________________________________________________________\n",
      " Layer (type)                Output Shape              Param #   \n",
      "=================================================================\n",
      " conv2d_4 (Conv2D)           (None, 62, 62, 32)        320       \n",
      "                                                                 \n",
      " conv2d_5 (Conv2D)           (None, 60, 60, 64)        18496     \n",
      "                                                                 \n",
      " dropout_1 (Dropout)         (None, 60, 60, 64)        0         \n",
      "                                                                 \n",
      " average_pooling2d_1 (Averag  (None, 30, 30, 64)       0         \n",
      " ePooling2D)                                                     \n",
      "                                                                 \n",
      " conv2d_6 (Conv2D)           (None, 28, 28, 48)        27696     \n",
      "                                                                 \n",
      " flatten_1 (Flatten)         (None, 37632)             0         \n",
      "                                                                 \n",
      " dense_2 (Dense)             (None, 49)                1844017   \n",
      "                                                                 \n",
      " dense_3 (Dense)             (None, 49)                2450      \n",
      "                                                                 \n",
      "=================================================================\n",
      "Total params: 1,892,979\n",
      "Trainable params: 1,892,979\n",
      "Non-trainable params: 0\n",
      "_________________________________________________________________\n"
     ]
    }
   ],
   "source": [
    "# This new base trains on images of size (64, 64)\n",
    "k49_classes = 49\n",
    "new_k49_shape = (64, 64, 1)\n",
    "\n",
    "mod_k49_base = Sequential()\n",
    "mod_k49_base.add(Conv2D(32, (3, 3), activation='relu', input_shape=new_k49_shape))\n",
    "mod_k49_base.add(Conv2D(64, (3, 3), activation='relu', input_shape=new_k49_shape))\n",
    "mod_k49_base.add(Dropout(0.25))\n",
    "mod_k49_base.add(AveragePooling2D(pool_size=(2, 2), strides=None, padding=\"valid\"))\n",
    "mod_k49_base.add(Conv2D(48, (3, 3), activation='relu', input_shape=new_k49_shape))\n",
    "mod_k49_base.add(Flatten())\n",
    "mod_k49_base.add(Dense(k49_classes, activation='relu'))\n",
    "mod_k49_base.add(Dense(k49_classes))\n",
    "\n",
    "mod_k49_base.compile(loss=tf.keras.losses.SparseCategoricalCrossentropy(from_logits=True),\n",
    "              optimizer=\"adam\",\n",
    "              metrics=[tf.keras.metrics.SparseCategoricalCrossentropy(), 'accuracy'])\n",
    "\n",
    "mod_k49_base.summary()"
   ]
  },
  {
   "cell_type": "markdown",
   "id": "845d8068",
   "metadata": {},
   "source": [
    "## Run the New Base"
   ]
  },
  {
   "cell_type": "code",
   "execution_count": 47,
   "id": "3ade4bb2",
   "metadata": {},
   "outputs": [
    {
     "name": "stdout",
     "output_type": "stream",
     "text": [
      "Epoch 1/12\n",
      "5083/5083 [==============================] - 2270s 446ms/step - loss: 0.8132 - sparse_categorical_crossentropy: 2.5928 - accuracy: 0.7933 - val_loss: 0.4641 - val_sparse_categorical_crossentropy: 2.0869 - val_accuracy: 0.8769\n",
      "Epoch 2/12\n",
      "5083/5083 [==============================] - 2122s 417ms/step - loss: 0.3798 - sparse_categorical_crossentropy: 1.9618 - accuracy: 0.8970 - val_loss: 0.4079 - val_sparse_categorical_crossentropy: 1.9741 - val_accuracy: 0.8951\n",
      "Epoch 3/12\n",
      "5083/5083 [==============================] - 2120s 417ms/step - loss: 0.2623 - sparse_categorical_crossentropy: 1.8129 - accuracy: 0.9253 - val_loss: 0.4706 - val_sparse_categorical_crossentropy: 1.9699 - val_accuracy: 0.8844\n",
      "Epoch 4/12\n",
      "5083/5083 [==============================] - 2008s 395ms/step - loss: 0.1902 - sparse_categorical_crossentropy: 1.7235 - accuracy: 0.9436 - val_loss: 0.5566 - val_sparse_categorical_crossentropy: 1.9848 - val_accuracy: 0.8804\n",
      "Epoch 5/12\n",
      "5083/5083 [==============================] - 2088s 411ms/step - loss: 0.1475 - sparse_categorical_crossentropy: 1.6637 - accuracy: 0.9542 - val_loss: 0.6366 - val_sparse_categorical_crossentropy: 1.9507 - val_accuracy: 0.8785\n",
      "INFO:tensorflow:Assets written to: mod_k49_base\\assets\n"
     ]
    }
   ],
   "source": [
    "epochs = 12\n",
    "callback = tf.keras.callbacks.EarlyStopping(monitor='val_loss', patience=3)\n",
    "\n",
    "mod_k49_base_history = mod_k49_base.fit(mod_k49_train, batch_size=128, epochs=epochs, callbacks=callback, \n",
    "                                        verbose=1, validation_data=mod_k49_val)\n",
    "\n",
    "mod_k49_base.save('mod_k49_base')"
   ]
  },
  {
   "cell_type": "code",
   "execution_count": 65,
   "id": "6d367b14",
   "metadata": {},
   "outputs": [
    {
     "name": "stdout",
     "output_type": "stream",
     "text": [
      "0.9541547894477844\n",
      "0.8785092234611511\n"
     ]
    },
    {
     "data": {
      "image/png": "[encoded data removed]",
      "text/plain": [
       "<Figure size 640x480 with 1 Axes>"
      ]
     },
     "metadata": {},
     "output_type": "display_data"
    }
   ],
   "source": [
    "create_visuals(\"Classification Results of Kuzushiji-49 Base Model\", mod_k49_base_history, 1, 1)"
   ]
  },
  {
   "cell_type": "markdown",
   "id": "725c4295",
   "metadata": {},
   "source": [
    "## Create the New Top"
   ]
  },
  {
   "cell_type": "code",
   "execution_count": 51,
   "id": "99a6455b",
   "metadata": {},
   "outputs": [
    {
     "name": "stdout",
     "output_type": "stream",
     "text": [
      "Model: \"sequential_3\"\n",
      "_________________________________________________________________\n",
      " Layer (type)                Output Shape              Param #   \n",
      "=================================================================\n",
      " sequential_2 (Sequential)   (None, 28, 28, 48)        46512     \n",
      "                                                                 \n",
      " conv2d_7 (Conv2D)           (None, 26, 26, 48)        20784     \n",
      "                                                                 \n",
      " average_pooling2d_2 (Averag  (None, 13, 13, 48)       0         \n",
      " ePooling2D)                                                     \n",
      "                                                                 \n",
      " dropout_2 (Dropout)         (None, 13, 13, 48)        0         \n",
      "                                                                 \n",
      " conv2d_8 (Conv2D)           (None, 11, 11, 32)        13856     \n",
      "                                                                 \n",
      " flatten_2 (Flatten)         (None, 3872)              0         \n",
      "                                                                 \n",
      " dense_4 (Dense)             (None, 150)               580950    \n",
      "                                                                 \n",
      " dense_5 (Dense)             (None, 150)               22650     \n",
      "                                                                 \n",
      "=================================================================\n",
      "Total params: 684,752\n",
      "Trainable params: 638,240\n",
      "Non-trainable params: 46,512\n",
      "_________________________________________________________________\n"
     ]
    }
   ],
   "source": [
    "new_base = load_base_model('mod_k49_base')\n",
    "in_shape = (64, 64, 1)\n",
    "\n",
    "mod_tl_model = Sequential()\n",
    "mod_tl_model.add(new_base)                              # Base..\n",
    "mod_tl_model.add(Conv2D(48, (3, 3), activation='sigmoid', input_shape=in_shape))\n",
    "mod_tl_model.add(AveragePooling2D(pool_size=(2, 2)))\n",
    "mod_tl_model.add(Dropout(0.2))\n",
    "mod_tl_model.add(Conv2D(32, (3, 3), activation='sigmoid'))\n",
    "mod_tl_model.add(Flatten())\n",
    "mod_tl_model.add(Dense(150, activation='relu'))\n",
    "mod_tl_model.add(Dense(150))\n",
    "\n",
    "mod_tl_model.summary()"
   ]
  },
  {
   "cell_type": "markdown",
   "id": "a89bcad3",
   "metadata": {},
   "source": [
    "## Run the New Top"
   ]
  },
  {
   "cell_type": "code",
   "execution_count": 52,
   "id": "557666d2",
   "metadata": {},
   "outputs": [
    {
     "name": "stdout",
     "output_type": "stream",
     "text": [
      "Epoch 1/12\n",
      "5083/5083 [==============================] - 1430s 281ms/step - loss: 0.8718 - sparse_categorical_crossentropy: 3.2459 - accuracy: 0.7724 - val_loss: 0.4229 - val_sparse_categorical_crossentropy: 2.9105 - val_accuracy: 0.8854\n",
      "Epoch 2/12\n",
      "5083/5083 [==============================] - 1396s 275ms/step - loss: 0.3556 - sparse_categorical_crossentropy: 2.7916 - accuracy: 0.9028 - val_loss: 0.3352 - val_sparse_categorical_crossentropy: 2.6682 - val_accuracy: 0.9092\n",
      "Epoch 3/12\n",
      "5083/5083 [==============================] - 1338s 263ms/step - loss: 0.2796 - sparse_categorical_crossentropy: 2.5741 - accuracy: 0.9225 - val_loss: 0.2909 - val_sparse_categorical_crossentropy: 2.4870 - val_accuracy: 0.9221\n",
      "Epoch 4/12\n",
      "5083/5083 [==============================] - 1307s 257ms/step - loss: 0.2359 - sparse_categorical_crossentropy: 2.4209 - accuracy: 0.9338 - val_loss: 0.2828 - val_sparse_categorical_crossentropy: 2.3539 - val_accuracy: 0.9262\n",
      "Epoch 5/12\n",
      "5083/5083 [==============================] - 1320s 260ms/step - loss: 0.2070 - sparse_categorical_crossentropy: 2.2943 - accuracy: 0.9417 - val_loss: 0.2799 - val_sparse_categorical_crossentropy: 2.2548 - val_accuracy: 0.9262\n",
      "Epoch 6/12\n",
      "5083/5083 [==============================] - 1306s 257ms/step - loss: 0.1858 - sparse_categorical_crossentropy: 2.1794 - accuracy: 0.9466 - val_loss: 0.2699 - val_sparse_categorical_crossentropy: 2.1543 - val_accuracy: 0.9313\n",
      "Epoch 7/12\n",
      "5083/5083 [==============================] - 1406s 277ms/step - loss: 0.1671 - sparse_categorical_crossentropy: 2.0596 - accuracy: 0.9516 - val_loss: 0.2731 - val_sparse_categorical_crossentropy: 2.0479 - val_accuracy: 0.9308\n",
      "Epoch 8/12\n",
      "5083/5083 [==============================] - 1259s 248ms/step - loss: 0.1534 - sparse_categorical_crossentropy: 1.9618 - accuracy: 0.9550 - val_loss: 0.2718 - val_sparse_categorical_crossentropy: 1.9631 - val_accuracy: 0.9325\n",
      "Epoch 9/12\n",
      "5083/5083 [==============================] - 1246s 245ms/step - loss: 0.1423 - sparse_categorical_crossentropy: 1.8608 - accuracy: 0.9581 - val_loss: 0.2883 - val_sparse_categorical_crossentropy: 1.8599 - val_accuracy: 0.9314\n"
     ]
    }
   ],
   "source": [
    "callback = tf.keras.callbacks.EarlyStopping(monitor='val_loss', patience=3)\n",
    "\n",
    "mod_tl_model.compile(loss=tf.keras.losses.SparseCategoricalCrossentropy(from_logits=True),\n",
    "                  optimizer=\"adam\",\n",
    "                  metrics=[tf.keras.metrics.SparseCategoricalCrossentropy(), 'accuracy'])\n",
    "\n",
    "mod_tl_model_history = mod_tl_model.fit(kanji_train, batch_size=128, epochs=epochs,\n",
    "                                      callbacks=callback, verbose=1, validation_data=kanji_val)\n",
    "\n",
    "# tl_model.save('tl_model.h5', save_format='h5')"
   ]
  },
  {
   "cell_type": "code",
   "execution_count": 67,
   "id": "c32f055b",
   "metadata": {},
   "outputs": [
    {
     "name": "stdout",
     "output_type": "stream",
     "text": [
      "0.95806485414505\n",
      "0.9313575029373169\n"
     ]
    },
    {
     "data": {
      "image/png": "[encoded data removed]",
      "text/plain": [
       "<Figure size 640x480 with 1 Axes>"
      ]
     },
     "metadata": {},
     "output_type": "display_data"
    }
   ],
   "source": [
    "create_visuals(\"Transfer Kuzushiji-49 Learning to Kanji\", mod_tl_model_history, 1, 1)"
   ]
  },
  {
   "cell_type": "markdown",
   "id": "be19a3d1",
   "metadata": {},
   "source": [
    "## A Better Base Model (Testing Purposes)"
   ]
  },
  {
   "cell_type": "markdown",
   "id": "b4d5c73e",
   "metadata": {},
   "source": [
    "### Create the Base"
   ]
  },
  {
   "cell_type": "code",
   "execution_count": 53,
   "id": "f0281a4f",
   "metadata": {},
   "outputs": [
    {
     "name": "stdout",
     "output_type": "stream",
     "text": [
      "Model: \"sequential_4\"\n",
      "_________________________________________________________________\n",
      " Layer (type)                Output Shape              Param #   \n",
      "=================================================================\n",
      " conv2d_9 (Conv2D)           (None, 62, 62, 32)        320       \n",
      "                                                                 \n",
      " conv2d_10 (Conv2D)          (None, 60, 60, 64)        18496     \n",
      "                                                                 \n",
      " dropout_3 (Dropout)         (None, 60, 60, 64)        0         \n",
      "                                                                 \n",
      " conv2d_11 (Conv2D)          (None, 58, 58, 48)        27696     \n",
      "                                                                 \n",
      " flatten_3 (Flatten)         (None, 161472)            0         \n",
      "                                                                 \n",
      " dense_6 (Dense)             (None, 49)                7912177   \n",
      "                                                                 \n",
      " dense_7 (Dense)             (None, 49)                2450      \n",
      "                                                                 \n",
      "=================================================================\n",
      "Total params: 7,961,139\n",
      "Trainable params: 7,961,139\n",
      "Non-trainable params: 0\n",
      "_________________________________________________________________\n"
     ]
    }
   ],
   "source": [
    "# Also trains on images of size (64, 64)\n",
    "k49_classes = 49\n",
    "new_k49_shape = (64, 64, 1)\n",
    "\n",
    "another_k49_base = Sequential()\n",
    "another_k49_base.add(Conv2D(32, (3, 3), activation='relu', input_shape=new_k49_shape))\n",
    "another_k49_base.add(Conv2D(64, (3, 3), activation='relu', input_shape=new_k49_shape))\n",
    "another_k49_base.add(Dropout(0.25))\n",
    "another_k49_base.add(Conv2D(48, (3, 3), activation='relu', input_shape=new_k49_shape))\n",
    "another_k49_base.add(Flatten())\n",
    "another_k49_base.add(Dense(k49_classes, activation='relu'))\n",
    "another_k49_base.add(Dense(k49_classes))\n",
    "\n",
    "another_k49_base.compile(loss=tf.keras.losses.SparseCategoricalCrossentropy(from_logits=True),\n",
    "              optimizer=\"adam\",\n",
    "              metrics=[tf.keras.metrics.SparseCategoricalCrossentropy(), 'accuracy'])\n",
    "\n",
    "another_k49_base.summary()"
   ]
  },
  {
   "cell_type": "markdown",
   "id": "d3526c5d",
   "metadata": {},
   "source": [
    "### Run the Base"
   ]
  },
  {
   "cell_type": "code",
   "execution_count": 54,
   "id": "44a2c9d9",
   "metadata": {},
   "outputs": [
    {
     "name": "stdout",
     "output_type": "stream",
     "text": [
      "Epoch 1/12\n",
      "5083/5083 [==============================] - 2959s 582ms/step - loss: 1.0432 - sparse_categorical_crossentropy: 2.8283 - accuracy: 0.7539 - val_loss: 0.5537 - val_sparse_categorical_crossentropy: 2.2044 - val_accuracy: 0.8525\n",
      "Epoch 2/12\n",
      "5083/5083 [==============================] - 2943s 579ms/step - loss: 0.4554 - sparse_categorical_crossentropy: 2.1619 - accuracy: 0.8756 - val_loss: 0.5007 - val_sparse_categorical_crossentropy: 2.1245 - val_accuracy: 0.8657\n",
      "Epoch 3/12\n",
      "5083/5083 [==============================] - 2965s 583ms/step - loss: 0.3024 - sparse_categorical_crossentropy: 2.0204 - accuracy: 0.9138 - val_loss: 0.5359 - val_sparse_categorical_crossentropy: 2.1416 - val_accuracy: 0.8601\n",
      "Epoch 4/12\n",
      "5083/5083 [==============================] - 3014s 593ms/step - loss: 0.1960 - sparse_categorical_crossentropy: 1.9171 - accuracy: 0.9410 - val_loss: 0.6180 - val_sparse_categorical_crossentropy: 2.1819 - val_accuracy: 0.8654\n",
      "Epoch 5/12\n",
      "5083/5083 [==============================] - 2994s 589ms/step - loss: 0.1501 - sparse_categorical_crossentropy: 1.8601 - accuracy: 0.9537 - val_loss: 0.6925 - val_sparse_categorical_crossentropy: 2.1641 - val_accuracy: 0.8588\n",
      "INFO:tensorflow:Assets written to: another_k49_base\\assets\n"
     ]
    }
   ],
   "source": [
    "epochs = 12\n",
    "callback = tf.keras.callbacks.EarlyStopping(monitor='val_loss', patience=3)\n",
    "# callback = tf.keras.callbacks.EarlyStopping(monitor='val_accuracy', patience=3)\n",
    "\n",
    "another_k49_base_history = another_k49_base.fit(mod_k49_train, batch_size=128, epochs=epochs, callbacks=callback, \n",
    "                                        verbose=1, validation_data=mod_k49_val)\n",
    "\n",
    "another_k49_base.save('another_k49_base')"
   ]
  },
  {
   "cell_type": "code",
   "execution_count": 70,
   "id": "e276156b",
   "metadata": {},
   "outputs": [
    {
     "name": "stdout",
     "output_type": "stream",
     "text": [
      "0.9536506533622742\n",
      "0.8588130474090576\n"
     ]
    },
    {
     "data": {
      "image/png": "[encoded data removed]",
      "text/plain": [
       "<Figure size 640x480 with 1 Axes>"
      ]
     },
     "metadata": {},
     "output_type": "display_data"
    }
   ],
   "source": [
    "create_visuals(\"Classification Results of Kuzushiji-49 Base Model\", another_k49_base_history, 1, 1)"
   ]
  },
  {
   "cell_type": "markdown",
   "id": "9709dfd5",
   "metadata": {},
   "source": [
    "### Create the Top"
   ]
  },
  {
   "cell_type": "code",
   "execution_count": 55,
   "id": "564df68c",
   "metadata": {},
   "outputs": [
    {
     "name": "stdout",
     "output_type": "stream",
     "text": [
      "Model: \"sequential_5\"\n",
      "_________________________________________________________________\n",
      " Layer (type)                Output Shape              Param #   \n",
      "=================================================================\n",
      " sequential_4 (Sequential)   (None, 58, 58, 48)        46512     \n",
      "                                                                 \n",
      " conv2d_12 (Conv2D)          (None, 56, 56, 48)        20784     \n",
      "                                                                 \n",
      " average_pooling2d_3 (Averag  (None, 28, 28, 48)       0         \n",
      " ePooling2D)                                                     \n",
      "                                                                 \n",
      " conv2d_13 (Conv2D)          (None, 26, 26, 48)        20784     \n",
      "                                                                 \n",
      " dropout_4 (Dropout)         (None, 26, 26, 48)        0         \n",
      "                                                                 \n",
      " conv2d_14 (Conv2D)          (None, 24, 24, 32)        13856     \n",
      "                                                                 \n",
      " average_pooling2d_4 (Averag  (None, 12, 12, 32)       0         \n",
      " ePooling2D)                                                     \n",
      "                                                                 \n",
      " average_pooling2d_5 (Averag  (None, 6, 6, 32)         0         \n",
      " ePooling2D)                                                     \n",
      "                                                                 \n",
      " flatten_4 (Flatten)         (None, 1152)              0         \n",
      "                                                                 \n",
      " dense_8 (Dense)             (None, 150)               172950    \n",
      "                                                                 \n",
      " dense_9 (Dense)             (None, 150)               22650     \n",
      "                                                                 \n",
      "=================================================================\n",
      "Total params: 297,536\n",
      "Trainable params: 251,024\n",
      "Non-trainable params: 46,512\n",
      "_________________________________________________________________\n"
     ]
    }
   ],
   "source": [
    "new_base = load_base_model('another_k49_base')\n",
    "in_shape = (64, 64, 1)\n",
    "\n",
    "another_tl_model = Sequential()\n",
    "another_tl_model.add(new_base)                              # Base..\n",
    "another_tl_model.add(Conv2D(48, (3, 3), activation='sigmoid', input_shape=in_shape))\n",
    "another_tl_model.add(AveragePooling2D(pool_size=(2, 2), strides=None, padding=\"valid\"))\n",
    "another_tl_model.add(Conv2D(48, (3, 3), activation='sigmoid'))\n",
    "another_tl_model.add(Dropout(0.2))\n",
    "another_tl_model.add(Conv2D(32, (3, 3), activation='tanh'))\n",
    "another_tl_model.add(AveragePooling2D(pool_size=(2, 2), strides=None, padding=\"valid\"))\n",
    "another_tl_model.add(AveragePooling2D(pool_size=(2, 2), strides=None, padding=\"valid\"))\n",
    "another_tl_model.add(Flatten())\n",
    "another_tl_model.add(Dense(150, activation='relu'))\n",
    "another_tl_model.add(Dense(150))\n",
    "\n",
    "another_tl_model.summary()"
   ]
  },
  {
   "cell_type": "markdown",
   "id": "8350fade",
   "metadata": {},
   "source": [
    "### Run the Top"
   ]
  },
  {
   "cell_type": "code",
   "execution_count": 56,
   "id": "760b4df9",
   "metadata": {},
   "outputs": [
    {
     "name": "stdout",
     "output_type": "stream",
     "text": [
      "Epoch 1/12\n",
      "5083/5083 [==============================] - 2399s 472ms/step - loss: 0.8783 - sparse_categorical_crossentropy: 2.0633 - accuracy: 0.7699 - val_loss: 0.3582 - val_sparse_categorical_crossentropy: 1.4549 - val_accuracy: 0.9016\n",
      "Epoch 2/12\n",
      "5083/5083 [==============================] - 2577s 507ms/step - loss: 0.2898 - sparse_categorical_crossentropy: 1.2613 - accuracy: 0.9190 - val_loss: 0.2797 - val_sparse_categorical_crossentropy: 1.2469 - val_accuracy: 0.9228\n",
      "Epoch 3/12\n",
      "5083/5083 [==============================] - 2593s 510ms/step - loss: 0.2146 - sparse_categorical_crossentropy: 1.0301 - accuracy: 0.9389 - val_loss: 0.2532 - val_sparse_categorical_crossentropy: 1.0738 - val_accuracy: 0.9316\n",
      "Epoch 4/12\n",
      "5083/5083 [==============================] - 2739s 539ms/step - loss: 0.1732 - sparse_categorical_crossentropy: 0.8690 - accuracy: 0.9501 - val_loss: 0.2499 - val_sparse_categorical_crossentropy: 0.9721 - val_accuracy: 0.9337\n",
      "Epoch 5/12\n",
      "5083/5083 [==============================] - 2654s 522ms/step - loss: 0.1442 - sparse_categorical_crossentropy: 0.7504 - accuracy: 0.9579 - val_loss: 0.2546 - val_sparse_categorical_crossentropy: 0.9339 - val_accuracy: 0.9352\n",
      "Epoch 6/12\n",
      "5083/5083 [==============================] - 2726s 536ms/step - loss: 0.1226 - sparse_categorical_crossentropy: 0.6818 - accuracy: 0.9634 - val_loss: 0.2617 - val_sparse_categorical_crossentropy: 0.8759 - val_accuracy: 0.9375\n",
      "Epoch 7/12\n",
      "5083/5083 [==============================] - 2728s 537ms/step - loss: 0.1081 - sparse_categorical_crossentropy: 0.6486 - accuracy: 0.9672 - val_loss: 0.2845 - val_sparse_categorical_crossentropy: 0.8859 - val_accuracy: 0.9367\n"
     ]
    }
   ],
   "source": [
    "callback = tf.keras.callbacks.EarlyStopping(monitor='val_loss', patience=3)\n",
    "\n",
    "another_tl_model.compile(loss=tf.keras.losses.SparseCategoricalCrossentropy(from_logits=True),\n",
    "                  optimizer=\"adam\",\n",
    "                  metrics=[tf.keras.metrics.SparseCategoricalCrossentropy(), 'accuracy'])\n",
    "\n",
    "another_tl_model_history = another_tl_model.fit(kanji_train, batch_size=128, epochs=epochs,\n",
    "                                      callbacks=callback, verbose=1, validation_data=kanji_val)\n"
   ]
  },
  {
   "cell_type": "code",
   "execution_count": 63,
   "id": "5cc24217",
   "metadata": {},
   "outputs": [],
   "source": [
    "another_tl_model.save('best_tl_model.h5', save_format='h5')"
   ]
  },
  {
   "cell_type": "code",
   "execution_count": 68,
   "id": "750f6f68",
   "metadata": {},
   "outputs": [
    {
     "name": "stdout",
     "output_type": "stream",
     "text": [
      "0.9672499299049377\n",
      "0.9367083311080933\n"
     ]
    },
    {
     "data": {
      "image/png": "[encoded data removed]",
      "text/plain": [
       "<Figure size 640x480 with 1 Axes>"
      ]
     },
     "metadata": {},
     "output_type": "display_data"
    }
   ],
   "source": [
    "create_visuals(\"Transfer Kuzushiji-49 Learning to Kanji\", another_tl_model_history, 1, 1)"
   ]
  }
 ],
 "metadata": {
  "kernelspec": {
   "display_name": "Python 3 (ipykernel)",
   "language": "python",
   "name": "python3"
  },
  "language_info": {
   "codemirror_mode": {
    "name": "ipython",
    "version": 3
   },
   "file_extension": ".py",
   "mimetype": "text/x-python",
   "name": "python",
   "nbconvert_exporter": "python",
   "pygments_lexer": "ipython3",
   "version": "3.9.12"
  }
 },
 "nbformat": 4,
 "nbformat_minor": 5
}
